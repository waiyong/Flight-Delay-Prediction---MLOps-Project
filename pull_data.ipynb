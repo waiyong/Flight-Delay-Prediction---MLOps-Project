{
 "cells": [
  {
   "cell_type": "code",
   "execution_count": 1,
   "id": "e8ff7c3c",
   "metadata": {},
   "outputs": [],
   "source": [
    "from scripts.flight_data_processor import (\n",
    "    fetch_paginated_data, # We might not use this now, but keep for consistency\n",
    "    call_aviationstack,  # Make sure this is imported\n",
    "    process_airlines_data, \n",
    "    process_airports_data, \n",
    "    process_routes_data, \n",
    "    process_flights_data\n",
    ")\n",
    "# Make sure to import the models\n",
    "from scripts.models import Base, Flight, Airline, Airport, Route\n",
    "import pandas as pd\n",
    "import time\n",
    "from datetime import datetime, timedelta \n",
    "\n",
    "# Create a fresh session if you don't have o\n",
    "from sqlalchemy.orm import sessionmaker\n",
    "from sqlalchemy import create_engine,  text\n",
    "\n",
    "import os\n",
    "from dotenv import load_dotenv"
   ]
  },
  {
   "cell_type": "markdown",
   "id": "d2e050b2",
   "metadata": {},
   "source": [
    "### Utilize historical flight data to predict the likelihood of delays for upcoming flights. Features can include departure and arrival airports, scheduled times, airline, and aircraft type. This project involves data preprocessing, model training, and deployment, offering a comprehensive MLOps experience.\n",
    "\n",
    "- Try to pull to postgres from 2024-02-01 to 2024-04-31"
   ]
  },
  {
   "cell_type": "code",
   "execution_count": 6,
   "id": "b36c412e",
   "metadata": {},
   "outputs": [],
   "source": [
    "# Load environment variables\n",
    "load_dotenv()\n",
    "\n",
    "# Database connection settings - adjust these as needed\n",
    "DB_URL = os.getenv(\"DATABASE_URL\")\n",
    "API_KEY = os.getenv(\"AVIATIONSTACK_API_KEY\")\n",
    "\n",
    "\n",
    "# API Configuration\n",
    "BASE_URL = \"https://api.aviationstack.com/v1/\"\n"
   ]
  },
  {
   "cell_type": "code",
   "execution_count": 3,
   "id": "2a30444f",
   "metadata": {},
   "outputs": [],
   "source": [
    "# Create a session\n",
    "engine = create_engine(DB_URL, echo=True) \n",
    "Session = sessionmaker(bind=engine)\n",
    "session = Session()\n"
   ]
  },
  {
   "cell_type": "markdown",
   "id": "bd869df6",
   "metadata": {},
   "source": [
    "## End-to-End Data Processing Test (Limited API Calls)\n",
    "\n",
    "This section tests the complete workflow: Fetch -> Process -> Store.\n",
    "\n",
    "**Crucially, this test makes exactly 3 API calls for EACH endpoint (Airlines, Airports, Routes, Flights) to precisely control API usage during testing.**\n",
    "\n",
    "We use the lower-level `call_aviationstack` function for this control."
   ]
  },
  {
   "cell_type": "code",
   "execution_count": 4,
   "id": "b55c3b1a",
   "metadata": {},
   "outputs": [
    {
     "name": "stdout",
     "output_type": "stream",
     "text": [
      "--- Starting End-to-End Test ---\n",
      "Testing with 3 API calls per endpoint.\n",
      "Fetching 10 results per call.\n",
      "Using TEST_DATE = 2025-05-03 for flights.\n",
      "\n",
      "[AIRLINES] Testing Endpoint...\n",
      "-- Airlines Call 1/3 (Offset: 0) --\n",
      "API call successful. Fetched 10 records.\n",
      "Processing batch...\n",
      "2025-05-05 16:40:03,293 INFO sqlalchemy.engine.Engine select pg_catalog.version()\n"
     ]
    },
    {
     "name": "stderr",
     "output_type": "stream",
     "text": [
      "2025-05-05 16:40:03,293 - sqlalchemy.engine.Engine - INFO - select pg_catalog.version()\n"
     ]
    },
    {
     "name": "stdout",
     "output_type": "stream",
     "text": [
      "2025-05-05 16:40:03,294 INFO sqlalchemy.engine.Engine [raw sql] {}\n"
     ]
    },
    {
     "name": "stderr",
     "output_type": "stream",
     "text": [
      "2025-05-05 16:40:03,294 - sqlalchemy.engine.Engine - INFO - [raw sql] {}\n"
     ]
    },
    {
     "name": "stdout",
     "output_type": "stream",
     "text": [
      "2025-05-05 16:40:03,297 INFO sqlalchemy.engine.Engine select current_schema()\n"
     ]
    },
    {
     "name": "stderr",
     "output_type": "stream",
     "text": [
      "2025-05-05 16:40:03,297 - sqlalchemy.engine.Engine - INFO - select current_schema()\n"
     ]
    },
    {
     "name": "stdout",
     "output_type": "stream",
     "text": [
      "2025-05-05 16:40:03,297 INFO sqlalchemy.engine.Engine [raw sql] {}\n"
     ]
    },
    {
     "name": "stderr",
     "output_type": "stream",
     "text": [
      "2025-05-05 16:40:03,297 - sqlalchemy.engine.Engine - INFO - [raw sql] {}\n"
     ]
    },
    {
     "name": "stdout",
     "output_type": "stream",
     "text": [
      "2025-05-05 16:40:03,299 INFO sqlalchemy.engine.Engine show standard_conforming_strings\n"
     ]
    },
    {
     "name": "stderr",
     "output_type": "stream",
     "text": [
      "2025-05-05 16:40:03,299 - sqlalchemy.engine.Engine - INFO - show standard_conforming_strings\n"
     ]
    },
    {
     "name": "stdout",
     "output_type": "stream",
     "text": [
      "2025-05-05 16:40:03,299 INFO sqlalchemy.engine.Engine [raw sql] {}\n"
     ]
    },
    {
     "name": "stderr",
     "output_type": "stream",
     "text": [
      "2025-05-05 16:40:03,299 - sqlalchemy.engine.Engine - INFO - [raw sql] {}\n"
     ]
    },
    {
     "name": "stdout",
     "output_type": "stream",
     "text": [
      "2025-05-05 16:40:03,301 INFO sqlalchemy.engine.Engine BEGIN (implicit)\n"
     ]
    },
    {
     "name": "stderr",
     "output_type": "stream",
     "text": [
      "2025-05-05 16:40:03,301 - sqlalchemy.engine.Engine - INFO - BEGIN (implicit)\n"
     ]
    },
    {
     "name": "stdout",
     "output_type": "stream",
     "text": [
      "2025-05-05 16:40:03,302 INFO sqlalchemy.engine.Engine INSERT INTO airlines (iata_code, airline_id, id, icao_code, iata_prefix_accounting, airline_name, callsign, country_name, country_iso2, date_founded, hub_code, fleet_size, fleet_average_age, status, type, raw_payload) VALUES (%(iata_code)s, %(airline_id)s, %(id)s, %(icao_code)s, %(iata_prefix_accounting)s, %(airline_name)s, %(callsign)s, %(country_name)s, %(country_iso2)s, %(date_founded)s, %(hub_code)s, %(fleet_size)s, %(fleet_average_age)s, %(status)s, %(type)s, %(raw_payload)s::JSONB) ON CONFLICT (iata_code) DO UPDATE SET iata_code = %(param_1)s, airline_id = %(param_2)s, id = %(param_3)s, icao_code = %(param_4)s, iata_prefix_accounting = %(param_5)s, airline_name = %(param_6)s, callsign = %(param_7)s, country_name = %(param_8)s, country_iso2 = %(param_9)s, date_founded = %(param_10)s, hub_code = %(param_11)s, fleet_size = %(param_12)s, fleet_average_age = %(param_13)s, status = %(param_14)s, type = %(param_15)s, raw_payload = %(param_16)s::JSONB\n"
     ]
    },
    {
     "name": "stderr",
     "output_type": "stream",
     "text": [
      "2025-05-05 16:40:03,302 - sqlalchemy.engine.Engine - INFO - INSERT INTO airlines (iata_code, airline_id, id, icao_code, iata_prefix_accounting, airline_name, callsign, country_name, country_iso2, date_founded, hub_code, fleet_size, fleet_average_age, status, type, raw_payload) VALUES (%(iata_code)s, %(airline_id)s, %(id)s, %(icao_code)s, %(iata_prefix_accounting)s, %(airline_name)s, %(callsign)s, %(country_name)s, %(country_iso2)s, %(date_founded)s, %(hub_code)s, %(fleet_size)s, %(fleet_average_age)s, %(status)s, %(type)s, %(raw_payload)s::JSONB) ON CONFLICT (iata_code) DO UPDATE SET iata_code = %(param_1)s, airline_id = %(param_2)s, id = %(param_3)s, icao_code = %(param_4)s, iata_prefix_accounting = %(param_5)s, airline_name = %(param_6)s, callsign = %(param_7)s, country_name = %(param_8)s, country_iso2 = %(param_9)s, date_founded = %(param_10)s, hub_code = %(param_11)s, fleet_size = %(param_12)s, fleet_average_age = %(param_13)s, status = %(param_14)s, type = %(param_15)s, raw_payload = %(param_16)s::JSONB\n"
     ]
    },
    {
     "name": "stdout",
     "output_type": "stream",
     "text": [
      "2025-05-05 16:40:03,303 INFO sqlalchemy.engine.Engine [no key 0.00107s] {'iata_code': 'AA', 'airline_id': '1', 'id': '4597451', 'icao_code': 'AAL', 'iata_prefix_accounting': '1', 'airline_name': 'American Airlines', 'callsign': 'AMERICAN', 'country_name': 'United States', 'country_iso2': 'US', 'date_founded': '1934', 'hub_code': 'DFW', 'fleet_size': '963', 'fleet_average_age': '10.9', 'status': 'active', 'type': 'scheduled', 'raw_payload': '{\"id\": \"4597451\", \"fleet_average_age\": \"10.9\", \"airline_id\": \"1\", \"callsign\": \"AMERICAN\", \"hub_code\": \"DFW\", \"iata_code\": \"AA\", \"icao_code\": \"AAL\", \" ... (58 characters truncated) ... accounting\": \"1\", \"airline_name\": \"American Airlines\", \"country_name\": \"United States\", \"fleet_size\": \"963\", \"status\": \"active\", \"type\": \"scheduled\"}', 'param_1': 'AA', 'param_2': '1', 'param_3': '4597451', 'param_4': 'AAL', 'param_5': '1', 'param_6': 'American Airlines', 'param_7': 'AMERICAN', 'param_8': 'United States', 'param_9': 'US', 'param_10': '1934', 'param_11': 'DFW', 'param_12': '963', 'param_13': '10.9', 'param_14': 'active', 'param_15': 'scheduled', 'param_16': '{\"id\": \"4597451\", \"fleet_average_age\": \"10.9\", \"airline_id\": \"1\", \"callsign\": \"AMERICAN\", \"hub_code\": \"DFW\", \"iata_code\": \"AA\", \"icao_code\": \"AAL\", \" ... (58 characters truncated) ... accounting\": \"1\", \"airline_name\": \"American Airlines\", \"country_name\": \"United States\", \"fleet_size\": \"963\", \"status\": \"active\", \"type\": \"scheduled\"}'}\n"
     ]
    },
    {
     "name": "stderr",
     "output_type": "stream",
     "text": [
      "2025-05-05 16:40:03,303 - sqlalchemy.engine.Engine - INFO - [no key 0.00107s] {'iata_code': 'AA', 'airline_id': '1', 'id': '4597451', 'icao_code': 'AAL', 'iata_prefix_accounting': '1', 'airline_name': 'American Airlines', 'callsign': 'AMERICAN', 'country_name': 'United States', 'country_iso2': 'US', 'date_founded': '1934', 'hub_code': 'DFW', 'fleet_size': '963', 'fleet_average_age': '10.9', 'status': 'active', 'type': 'scheduled', 'raw_payload': '{\"id\": \"4597451\", \"fleet_average_age\": \"10.9\", \"airline_id\": \"1\", \"callsign\": \"AMERICAN\", \"hub_code\": \"DFW\", \"iata_code\": \"AA\", \"icao_code\": \"AAL\", \" ... (58 characters truncated) ... accounting\": \"1\", \"airline_name\": \"American Airlines\", \"country_name\": \"United States\", \"fleet_size\": \"963\", \"status\": \"active\", \"type\": \"scheduled\"}', 'param_1': 'AA', 'param_2': '1', 'param_3': '4597451', 'param_4': 'AAL', 'param_5': '1', 'param_6': 'American Airlines', 'param_7': 'AMERICAN', 'param_8': 'United States', 'param_9': 'US', 'param_10': '1934', 'param_11': 'DFW', 'param_12': '963', 'param_13': '10.9', 'param_14': 'active', 'param_15': 'scheduled', 'param_16': '{\"id\": \"4597451\", \"fleet_average_age\": \"10.9\", \"airline_id\": \"1\", \"callsign\": \"AMERICAN\", \"hub_code\": \"DFW\", \"iata_code\": \"AA\", \"icao_code\": \"AAL\", \" ... (58 characters truncated) ... accounting\": \"1\", \"airline_name\": \"American Airlines\", \"country_name\": \"United States\", \"fleet_size\": \"963\", \"status\": \"active\", \"type\": \"scheduled\"}'}\n"
     ]
    },
    {
     "name": "stdout",
     "output_type": "stream",
     "text": [
      "2025-05-05 16:40:03,306 INFO sqlalchemy.engine.Engine INSERT INTO airlines (iata_code, airline_id, id, icao_code, iata_prefix_accounting, airline_name, callsign, country_name, country_iso2, date_founded, hub_code, fleet_size, fleet_average_age, status, type, raw_payload) VALUES (%(iata_code)s, %(airline_id)s, %(id)s, %(icao_code)s, %(iata_prefix_accounting)s, %(airline_name)s, %(callsign)s, %(country_name)s, %(country_iso2)s, %(date_founded)s, %(hub_code)s, %(fleet_size)s, %(fleet_average_age)s, %(status)s, %(type)s, %(raw_payload)s::JSONB) ON CONFLICT (iata_code) DO UPDATE SET iata_code = %(param_1)s, airline_id = %(param_2)s, id = %(param_3)s, icao_code = %(param_4)s, iata_prefix_accounting = %(param_5)s, airline_name = %(param_6)s, callsign = %(param_7)s, country_name = %(param_8)s, country_iso2 = %(param_9)s, date_founded = %(param_10)s, hub_code = %(param_11)s, fleet_size = %(param_12)s, fleet_average_age = %(param_13)s, status = %(param_14)s, type = %(param_15)s, raw_payload = %(param_16)s::JSONB\n"
     ]
    },
    {
     "name": "stderr",
     "output_type": "stream",
     "text": [
      "2025-05-05 16:40:03,306 - sqlalchemy.engine.Engine - INFO - INSERT INTO airlines (iata_code, airline_id, id, icao_code, iata_prefix_accounting, airline_name, callsign, country_name, country_iso2, date_founded, hub_code, fleet_size, fleet_average_age, status, type, raw_payload) VALUES (%(iata_code)s, %(airline_id)s, %(id)s, %(icao_code)s, %(iata_prefix_accounting)s, %(airline_name)s, %(callsign)s, %(country_name)s, %(country_iso2)s, %(date_founded)s, %(hub_code)s, %(fleet_size)s, %(fleet_average_age)s, %(status)s, %(type)s, %(raw_payload)s::JSONB) ON CONFLICT (iata_code) DO UPDATE SET iata_code = %(param_1)s, airline_id = %(param_2)s, id = %(param_3)s, icao_code = %(param_4)s, iata_prefix_accounting = %(param_5)s, airline_name = %(param_6)s, callsign = %(param_7)s, country_name = %(param_8)s, country_iso2 = %(param_9)s, date_founded = %(param_10)s, hub_code = %(param_11)s, fleet_size = %(param_12)s, fleet_average_age = %(param_13)s, status = %(param_14)s, type = %(param_15)s, raw_payload = %(param_16)s::JSONB\n"
     ]
    },
    {
     "name": "stdout",
     "output_type": "stream",
     "text": [
      "2025-05-05 16:40:03,307 INFO sqlalchemy.engine.Engine [no key 0.00069s] {'iata_code': 'DL', 'airline_id': '2', 'id': '4597452', 'icao_code': 'DAL', 'iata_prefix_accounting': '6', 'airline_name': 'Delta Air Lines', 'callsign': 'DELTA', 'country_name': 'United States', 'country_iso2': 'US', 'date_founded': '1928', 'hub_code': 'ATL', 'fleet_size': '823', 'fleet_average_age': '17', 'status': 'active', 'type': 'scheduled,division', 'raw_payload': '{\"id\": \"4597452\", \"fleet_average_age\": \"17\", \"airline_id\": \"2\", \"callsign\": \"DELTA\", \"hub_code\": \"ATL\", \"iata_code\": \"DL\", \"icao_code\": \"DAL\", \"count ... (60 characters truncated) ... ing\": \"6\", \"airline_name\": \"Delta Air Lines\", \"country_name\": \"United States\", \"fleet_size\": \"823\", \"status\": \"active\", \"type\": \"scheduled,division\"}', 'param_1': 'DL', 'param_2': '2', 'param_3': '4597452', 'param_4': 'DAL', 'param_5': '6', 'param_6': 'Delta Air Lines', 'param_7': 'DELTA', 'param_8': 'United States', 'param_9': 'US', 'param_10': '1928', 'param_11': 'ATL', 'param_12': '823', 'param_13': '17', 'param_14': 'active', 'param_15': 'scheduled,division', 'param_16': '{\"id\": \"4597452\", \"fleet_average_age\": \"17\", \"airline_id\": \"2\", \"callsign\": \"DELTA\", \"hub_code\": \"ATL\", \"iata_code\": \"DL\", \"icao_code\": \"DAL\", \"count ... (60 characters truncated) ... ing\": \"6\", \"airline_name\": \"Delta Air Lines\", \"country_name\": \"United States\", \"fleet_size\": \"823\", \"status\": \"active\", \"type\": \"scheduled,division\"}'}\n"
     ]
    },
    {
     "name": "stderr",
     "output_type": "stream",
     "text": [
      "2025-05-05 16:40:03,307 - sqlalchemy.engine.Engine - INFO - [no key 0.00069s] {'iata_code': 'DL', 'airline_id': '2', 'id': '4597452', 'icao_code': 'DAL', 'iata_prefix_accounting': '6', 'airline_name': 'Delta Air Lines', 'callsign': 'DELTA', 'country_name': 'United States', 'country_iso2': 'US', 'date_founded': '1928', 'hub_code': 'ATL', 'fleet_size': '823', 'fleet_average_age': '17', 'status': 'active', 'type': 'scheduled,division', 'raw_payload': '{\"id\": \"4597452\", \"fleet_average_age\": \"17\", \"airline_id\": \"2\", \"callsign\": \"DELTA\", \"hub_code\": \"ATL\", \"iata_code\": \"DL\", \"icao_code\": \"DAL\", \"count ... (60 characters truncated) ... ing\": \"6\", \"airline_name\": \"Delta Air Lines\", \"country_name\": \"United States\", \"fleet_size\": \"823\", \"status\": \"active\", \"type\": \"scheduled,division\"}', 'param_1': 'DL', 'param_2': '2', 'param_3': '4597452', 'param_4': 'DAL', 'param_5': '6', 'param_6': 'Delta Air Lines', 'param_7': 'DELTA', 'param_8': 'United States', 'param_9': 'US', 'param_10': '1928', 'param_11': 'ATL', 'param_12': '823', 'param_13': '17', 'param_14': 'active', 'param_15': 'scheduled,division', 'param_16': '{\"id\": \"4597452\", \"fleet_average_age\": \"17\", \"airline_id\": \"2\", \"callsign\": \"DELTA\", \"hub_code\": \"ATL\", \"iata_code\": \"DL\", \"icao_code\": \"DAL\", \"count ... (60 characters truncated) ... ing\": \"6\", \"airline_name\": \"Delta Air Lines\", \"country_name\": \"United States\", \"fleet_size\": \"823\", \"status\": \"active\", \"type\": \"scheduled,division\"}'}\n"
     ]
    },
    {
     "name": "stdout",
     "output_type": "stream",
     "text": [
      "2025-05-05 16:40:03,311 INFO sqlalchemy.engine.Engine INSERT INTO airlines (iata_code, airline_id, id, icao_code, iata_prefix_accounting, airline_name, callsign, country_name, country_iso2, date_founded, hub_code, fleet_size, fleet_average_age, status, type, raw_payload) VALUES (%(iata_code)s, %(airline_id)s, %(id)s, %(icao_code)s, %(iata_prefix_accounting)s, %(airline_name)s, %(callsign)s, %(country_name)s, %(country_iso2)s, %(date_founded)s, %(hub_code)s, %(fleet_size)s, %(fleet_average_age)s, %(status)s, %(type)s, %(raw_payload)s::JSONB) ON CONFLICT (iata_code) DO UPDATE SET iata_code = %(param_1)s, airline_id = %(param_2)s, id = %(param_3)s, icao_code = %(param_4)s, iata_prefix_accounting = %(param_5)s, airline_name = %(param_6)s, callsign = %(param_7)s, country_name = %(param_8)s, country_iso2 = %(param_9)s, date_founded = %(param_10)s, hub_code = %(param_11)s, fleet_size = %(param_12)s, fleet_average_age = %(param_13)s, status = %(param_14)s, type = %(param_15)s, raw_payload = %(param_16)s::JSONB\n"
     ]
    },
    {
     "name": "stderr",
     "output_type": "stream",
     "text": [
      "2025-05-05 16:40:03,311 - sqlalchemy.engine.Engine - INFO - INSERT INTO airlines (iata_code, airline_id, id, icao_code, iata_prefix_accounting, airline_name, callsign, country_name, country_iso2, date_founded, hub_code, fleet_size, fleet_average_age, status, type, raw_payload) VALUES (%(iata_code)s, %(airline_id)s, %(id)s, %(icao_code)s, %(iata_prefix_accounting)s, %(airline_name)s, %(callsign)s, %(country_name)s, %(country_iso2)s, %(date_founded)s, %(hub_code)s, %(fleet_size)s, %(fleet_average_age)s, %(status)s, %(type)s, %(raw_payload)s::JSONB) ON CONFLICT (iata_code) DO UPDATE SET iata_code = %(param_1)s, airline_id = %(param_2)s, id = %(param_3)s, icao_code = %(param_4)s, iata_prefix_accounting = %(param_5)s, airline_name = %(param_6)s, callsign = %(param_7)s, country_name = %(param_8)s, country_iso2 = %(param_9)s, date_founded = %(param_10)s, hub_code = %(param_11)s, fleet_size = %(param_12)s, fleet_average_age = %(param_13)s, status = %(param_14)s, type = %(param_15)s, raw_payload = %(param_16)s::JSONB\n"
     ]
    },
    {
     "name": "stdout",
     "output_type": "stream",
     "text": [
      "2025-05-05 16:40:03,315 INFO sqlalchemy.engine.Engine [no key 0.00479s] {'iata_code': 'UA', 'airline_id': '3', 'id': '4597453', 'icao_code': 'UAL', 'iata_prefix_accounting': '16', 'airline_name': 'United Airlines', 'callsign': 'UNITED', 'country_name': 'United States', 'country_iso2': 'US', 'date_founded': '1931', 'hub_code': 'ORD', 'fleet_size': '715', 'fleet_average_age': '13.8', 'status': 'active', 'type': 'scheduled,division', 'raw_payload': '{\"id\": \"4597453\", \"fleet_average_age\": \"13.8\", \"airline_id\": \"3\", \"callsign\": \"UNITED\", \"hub_code\": \"ORD\", \"iata_code\": \"UA\", \"icao_code\": \"UAL\", \"co ... (64 characters truncated) ... ng\": \"16\", \"airline_name\": \"United Airlines\", \"country_name\": \"United States\", \"fleet_size\": \"715\", \"status\": \"active\", \"type\": \"scheduled,division\"}', 'param_1': 'UA', 'param_2': '3', 'param_3': '4597453', 'param_4': 'UAL', 'param_5': '16', 'param_6': 'United Airlines', 'param_7': 'UNITED', 'param_8': 'United States', 'param_9': 'US', 'param_10': '1931', 'param_11': 'ORD', 'param_12': '715', 'param_13': '13.8', 'param_14': 'active', 'param_15': 'scheduled,division', 'param_16': '{\"id\": \"4597453\", \"fleet_average_age\": \"13.8\", \"airline_id\": \"3\", \"callsign\": \"UNITED\", \"hub_code\": \"ORD\", \"iata_code\": \"UA\", \"icao_code\": \"UAL\", \"co ... (64 characters truncated) ... ng\": \"16\", \"airline_name\": \"United Airlines\", \"country_name\": \"United States\", \"fleet_size\": \"715\", \"status\": \"active\", \"type\": \"scheduled,division\"}'}\n"
     ]
    },
    {
     "name": "stderr",
     "output_type": "stream",
     "text": [
      "2025-05-05 16:40:03,315 - sqlalchemy.engine.Engine - INFO - [no key 0.00479s] {'iata_code': 'UA', 'airline_id': '3', 'id': '4597453', 'icao_code': 'UAL', 'iata_prefix_accounting': '16', 'airline_name': 'United Airlines', 'callsign': 'UNITED', 'country_name': 'United States', 'country_iso2': 'US', 'date_founded': '1931', 'hub_code': 'ORD', 'fleet_size': '715', 'fleet_average_age': '13.8', 'status': 'active', 'type': 'scheduled,division', 'raw_payload': '{\"id\": \"4597453\", \"fleet_average_age\": \"13.8\", \"airline_id\": \"3\", \"callsign\": \"UNITED\", \"hub_code\": \"ORD\", \"iata_code\": \"UA\", \"icao_code\": \"UAL\", \"co ... (64 characters truncated) ... ng\": \"16\", \"airline_name\": \"United Airlines\", \"country_name\": \"United States\", \"fleet_size\": \"715\", \"status\": \"active\", \"type\": \"scheduled,division\"}', 'param_1': 'UA', 'param_2': '3', 'param_3': '4597453', 'param_4': 'UAL', 'param_5': '16', 'param_6': 'United Airlines', 'param_7': 'UNITED', 'param_8': 'United States', 'param_9': 'US', 'param_10': '1931', 'param_11': 'ORD', 'param_12': '715', 'param_13': '13.8', 'param_14': 'active', 'param_15': 'scheduled,division', 'param_16': '{\"id\": \"4597453\", \"fleet_average_age\": \"13.8\", \"airline_id\": \"3\", \"callsign\": \"UNITED\", \"hub_code\": \"ORD\", \"iata_code\": \"UA\", \"icao_code\": \"UAL\", \"co ... (64 characters truncated) ... ng\": \"16\", \"airline_name\": \"United Airlines\", \"country_name\": \"United States\", \"fleet_size\": \"715\", \"status\": \"active\", \"type\": \"scheduled,division\"}'}\n"
     ]
    },
    {
     "name": "stdout",
     "output_type": "stream",
     "text": [
      "2025-05-05 16:40:03,320 INFO sqlalchemy.engine.Engine INSERT INTO airlines (iata_code, airline_id, id, icao_code, iata_prefix_accounting, airline_name, callsign, country_name, country_iso2, date_founded, hub_code, fleet_size, fleet_average_age, status, type, raw_payload) VALUES (%(iata_code)s, %(airline_id)s, %(id)s, %(icao_code)s, %(iata_prefix_accounting)s, %(airline_name)s, %(callsign)s, %(country_name)s, %(country_iso2)s, %(date_founded)s, %(hub_code)s, %(fleet_size)s, %(fleet_average_age)s, %(status)s, %(type)s, %(raw_payload)s::JSONB) ON CONFLICT (iata_code) DO UPDATE SET iata_code = %(param_1)s, airline_id = %(param_2)s, id = %(param_3)s, icao_code = %(param_4)s, iata_prefix_accounting = %(param_5)s, airline_name = %(param_6)s, callsign = %(param_7)s, country_name = %(param_8)s, country_iso2 = %(param_9)s, date_founded = %(param_10)s, hub_code = %(param_11)s, fleet_size = %(param_12)s, fleet_average_age = %(param_13)s, status = %(param_14)s, type = %(param_15)s, raw_payload = %(param_16)s::JSONB\n"
     ]
    },
    {
     "name": "stderr",
     "output_type": "stream",
     "text": [
      "2025-05-05 16:40:03,320 - sqlalchemy.engine.Engine - INFO - INSERT INTO airlines (iata_code, airline_id, id, icao_code, iata_prefix_accounting, airline_name, callsign, country_name, country_iso2, date_founded, hub_code, fleet_size, fleet_average_age, status, type, raw_payload) VALUES (%(iata_code)s, %(airline_id)s, %(id)s, %(icao_code)s, %(iata_prefix_accounting)s, %(airline_name)s, %(callsign)s, %(country_name)s, %(country_iso2)s, %(date_founded)s, %(hub_code)s, %(fleet_size)s, %(fleet_average_age)s, %(status)s, %(type)s, %(raw_payload)s::JSONB) ON CONFLICT (iata_code) DO UPDATE SET iata_code = %(param_1)s, airline_id = %(param_2)s, id = %(param_3)s, icao_code = %(param_4)s, iata_prefix_accounting = %(param_5)s, airline_name = %(param_6)s, callsign = %(param_7)s, country_name = %(param_8)s, country_iso2 = %(param_9)s, date_founded = %(param_10)s, hub_code = %(param_11)s, fleet_size = %(param_12)s, fleet_average_age = %(param_13)s, status = %(param_14)s, type = %(param_15)s, raw_payload = %(param_16)s::JSONB\n"
     ]
    },
    {
     "name": "stdout",
     "output_type": "stream",
     "text": [
      "2025-05-05 16:40:03,320 INFO sqlalchemy.engine.Engine [no key 0.00065s] {'iata_code': 'WN', 'airline_id': '4', 'id': '4597454', 'icao_code': 'SWA', 'iata_prefix_accounting': '526', 'airline_name': 'Southwest Airlines Co.', 'callsign': 'SOUTHWEST', 'country_name': 'United States Minor Outlying Islands', 'country_iso2': 'UM', 'date_founded': '1967', 'hub_code': 'DAL', 'fleet_size': '712', 'fleet_average_age': '12.3', 'status': 'active', 'type': 'scheduled', 'raw_payload': '{\"id\": \"4597454\", \"fleet_average_age\": \"12.3\", \"airline_id\": \"4\", \"callsign\": \"SOUTHWEST\", \"hub_code\": \"DAL\", \"iata_code\": \"WN\", \"icao_code\": \"SWA\",  ... (89 characters truncated) ... ame\": \"Southwest Airlines Co.\", \"country_name\": \"United States Minor Outlying Islands\", \"fleet_size\": \"712\", \"status\": \"active\", \"type\": \"scheduled\"}', 'param_1': 'WN', 'param_2': '4', 'param_3': '4597454', 'param_4': 'SWA', 'param_5': '526', 'param_6': 'Southwest Airlines Co.', 'param_7': 'SOUTHWEST', 'param_8': 'United States Minor Outlying Islands', 'param_9': 'UM', 'param_10': '1967', 'param_11': 'DAL', 'param_12': '712', 'param_13': '12.3', 'param_14': 'active', 'param_15': 'scheduled', 'param_16': '{\"id\": \"4597454\", \"fleet_average_age\": \"12.3\", \"airline_id\": \"4\", \"callsign\": \"SOUTHWEST\", \"hub_code\": \"DAL\", \"iata_code\": \"WN\", \"icao_code\": \"SWA\",  ... (89 characters truncated) ... ame\": \"Southwest Airlines Co.\", \"country_name\": \"United States Minor Outlying Islands\", \"fleet_size\": \"712\", \"status\": \"active\", \"type\": \"scheduled\"}'}\n"
     ]
    },
    {
     "name": "stderr",
     "output_type": "stream",
     "text": [
      "2025-05-05 16:40:03,320 - sqlalchemy.engine.Engine - INFO - [no key 0.00065s] {'iata_code': 'WN', 'airline_id': '4', 'id': '4597454', 'icao_code': 'SWA', 'iata_prefix_accounting': '526', 'airline_name': 'Southwest Airlines Co.', 'callsign': 'SOUTHWEST', 'country_name': 'United States Minor Outlying Islands', 'country_iso2': 'UM', 'date_founded': '1967', 'hub_code': 'DAL', 'fleet_size': '712', 'fleet_average_age': '12.3', 'status': 'active', 'type': 'scheduled', 'raw_payload': '{\"id\": \"4597454\", \"fleet_average_age\": \"12.3\", \"airline_id\": \"4\", \"callsign\": \"SOUTHWEST\", \"hub_code\": \"DAL\", \"iata_code\": \"WN\", \"icao_code\": \"SWA\",  ... (89 characters truncated) ... ame\": \"Southwest Airlines Co.\", \"country_name\": \"United States Minor Outlying Islands\", \"fleet_size\": \"712\", \"status\": \"active\", \"type\": \"scheduled\"}', 'param_1': 'WN', 'param_2': '4', 'param_3': '4597454', 'param_4': 'SWA', 'param_5': '526', 'param_6': 'Southwest Airlines Co.', 'param_7': 'SOUTHWEST', 'param_8': 'United States Minor Outlying Islands', 'param_9': 'UM', 'param_10': '1967', 'param_11': 'DAL', 'param_12': '712', 'param_13': '12.3', 'param_14': 'active', 'param_15': 'scheduled', 'param_16': '{\"id\": \"4597454\", \"fleet_average_age\": \"12.3\", \"airline_id\": \"4\", \"callsign\": \"SOUTHWEST\", \"hub_code\": \"DAL\", \"iata_code\": \"WN\", \"icao_code\": \"SWA\",  ... (89 characters truncated) ... ame\": \"Southwest Airlines Co.\", \"country_name\": \"United States Minor Outlying Islands\", \"fleet_size\": \"712\", \"status\": \"active\", \"type\": \"scheduled\"}'}\n"
     ]
    },
    {
     "name": "stdout",
     "output_type": "stream",
     "text": [
      "2025-05-05 16:40:03,324 INFO sqlalchemy.engine.Engine INSERT INTO airlines (iata_code, airline_id, id, icao_code, iata_prefix_accounting, airline_name, callsign, country_name, country_iso2, date_founded, hub_code, fleet_size, fleet_average_age, status, type, raw_payload) VALUES (%(iata_code)s, %(airline_id)s, %(id)s, %(icao_code)s, %(iata_prefix_accounting)s, %(airline_name)s, %(callsign)s, %(country_name)s, %(country_iso2)s, %(date_founded)s, %(hub_code)s, %(fleet_size)s, %(fleet_average_age)s, %(status)s, %(type)s, %(raw_payload)s::JSONB) ON CONFLICT (iata_code) DO UPDATE SET iata_code = %(param_1)s, airline_id = %(param_2)s, id = %(param_3)s, icao_code = %(param_4)s, iata_prefix_accounting = %(param_5)s, airline_name = %(param_6)s, callsign = %(param_7)s, country_name = %(param_8)s, country_iso2 = %(param_9)s, date_founded = %(param_10)s, hub_code = %(param_11)s, fleet_size = %(param_12)s, fleet_average_age = %(param_13)s, status = %(param_14)s, type = %(param_15)s, raw_payload = %(param_16)s::JSONB\n"
     ]
    },
    {
     "name": "stderr",
     "output_type": "stream",
     "text": [
      "2025-05-05 16:40:03,324 - sqlalchemy.engine.Engine - INFO - INSERT INTO airlines (iata_code, airline_id, id, icao_code, iata_prefix_accounting, airline_name, callsign, country_name, country_iso2, date_founded, hub_code, fleet_size, fleet_average_age, status, type, raw_payload) VALUES (%(iata_code)s, %(airline_id)s, %(id)s, %(icao_code)s, %(iata_prefix_accounting)s, %(airline_name)s, %(callsign)s, %(country_name)s, %(country_iso2)s, %(date_founded)s, %(hub_code)s, %(fleet_size)s, %(fleet_average_age)s, %(status)s, %(type)s, %(raw_payload)s::JSONB) ON CONFLICT (iata_code) DO UPDATE SET iata_code = %(param_1)s, airline_id = %(param_2)s, id = %(param_3)s, icao_code = %(param_4)s, iata_prefix_accounting = %(param_5)s, airline_name = %(param_6)s, callsign = %(param_7)s, country_name = %(param_8)s, country_iso2 = %(param_9)s, date_founded = %(param_10)s, hub_code = %(param_11)s, fleet_size = %(param_12)s, fleet_average_age = %(param_13)s, status = %(param_14)s, type = %(param_15)s, raw_payload = %(param_16)s::JSONB\n"
     ]
    },
    {
     "name": "stdout",
     "output_type": "stream",
     "text": [
      "2025-05-05 16:40:03,325 INFO sqlalchemy.engine.Engine [no key 0.00104s] {'iata_code': 'CZ', 'airline_id': '5', 'id': '4597455', 'icao_code': 'CSN', 'iata_prefix_accounting': '784', 'airline_name': 'China Southern Airlines', 'callsign': 'CHINA SOUTHERN', 'country_name': 'China', 'country_iso2': 'CN', 'date_founded': '2004', 'hub_code': 'CAN', 'fleet_size': '498', 'fleet_average_age': '6.9', 'status': 'active', 'type': 'scheduled', 'raw_payload': '{\"id\": \"4597455\", \"fleet_average_age\": \"6.9\", \"airline_id\": \"5\", \"callsign\": \"CHINA SOUTHERN\", \"hub_code\": \"CAN\", \"iata_code\": \"CZ\", \"icao_code\": \"CS ... (63 characters truncated) ... accounting\": \"784\", \"airline_name\": \"China Southern Airlines\", \"country_name\": \"China\", \"fleet_size\": \"498\", \"status\": \"active\", \"type\": \"scheduled\"}', 'param_1': 'CZ', 'param_2': '5', 'param_3': '4597455', 'param_4': 'CSN', 'param_5': '784', 'param_6': 'China Southern Airlines', 'param_7': 'CHINA SOUTHERN', 'param_8': 'China', 'param_9': 'CN', 'param_10': '2004', 'param_11': 'CAN', 'param_12': '498', 'param_13': '6.9', 'param_14': 'active', 'param_15': 'scheduled', 'param_16': '{\"id\": \"4597455\", \"fleet_average_age\": \"6.9\", \"airline_id\": \"5\", \"callsign\": \"CHINA SOUTHERN\", \"hub_code\": \"CAN\", \"iata_code\": \"CZ\", \"icao_code\": \"CS ... (63 characters truncated) ... accounting\": \"784\", \"airline_name\": \"China Southern Airlines\", \"country_name\": \"China\", \"fleet_size\": \"498\", \"status\": \"active\", \"type\": \"scheduled\"}'}\n"
     ]
    },
    {
     "name": "stderr",
     "output_type": "stream",
     "text": [
      "2025-05-05 16:40:03,325 - sqlalchemy.engine.Engine - INFO - [no key 0.00104s] {'iata_code': 'CZ', 'airline_id': '5', 'id': '4597455', 'icao_code': 'CSN', 'iata_prefix_accounting': '784', 'airline_name': 'China Southern Airlines', 'callsign': 'CHINA SOUTHERN', 'country_name': 'China', 'country_iso2': 'CN', 'date_founded': '2004', 'hub_code': 'CAN', 'fleet_size': '498', 'fleet_average_age': '6.9', 'status': 'active', 'type': 'scheduled', 'raw_payload': '{\"id\": \"4597455\", \"fleet_average_age\": \"6.9\", \"airline_id\": \"5\", \"callsign\": \"CHINA SOUTHERN\", \"hub_code\": \"CAN\", \"iata_code\": \"CZ\", \"icao_code\": \"CS ... (63 characters truncated) ... accounting\": \"784\", \"airline_name\": \"China Southern Airlines\", \"country_name\": \"China\", \"fleet_size\": \"498\", \"status\": \"active\", \"type\": \"scheduled\"}', 'param_1': 'CZ', 'param_2': '5', 'param_3': '4597455', 'param_4': 'CSN', 'param_5': '784', 'param_6': 'China Southern Airlines', 'param_7': 'CHINA SOUTHERN', 'param_8': 'China', 'param_9': 'CN', 'param_10': '2004', 'param_11': 'CAN', 'param_12': '498', 'param_13': '6.9', 'param_14': 'active', 'param_15': 'scheduled', 'param_16': '{\"id\": \"4597455\", \"fleet_average_age\": \"6.9\", \"airline_id\": \"5\", \"callsign\": \"CHINA SOUTHERN\", \"hub_code\": \"CAN\", \"iata_code\": \"CZ\", \"icao_code\": \"CS ... (63 characters truncated) ... accounting\": \"784\", \"airline_name\": \"China Southern Airlines\", \"country_name\": \"China\", \"fleet_size\": \"498\", \"status\": \"active\", \"type\": \"scheduled\"}'}\n"
     ]
    },
    {
     "name": "stdout",
     "output_type": "stream",
     "text": [
      "2025-05-05 16:40:03,327 INFO sqlalchemy.engine.Engine INSERT INTO airlines (iata_code, airline_id, id, icao_code, iata_prefix_accounting, airline_name, callsign, country_name, country_iso2, date_founded, hub_code, fleet_size, fleet_average_age, status, type, raw_payload) VALUES (%(iata_code)s, %(airline_id)s, %(id)s, %(icao_code)s, %(iata_prefix_accounting)s, %(airline_name)s, %(callsign)s, %(country_name)s, %(country_iso2)s, %(date_founded)s, %(hub_code)s, %(fleet_size)s, %(fleet_average_age)s, %(status)s, %(type)s, %(raw_payload)s::JSONB) ON CONFLICT (iata_code) DO UPDATE SET iata_code = %(param_1)s, airline_id = %(param_2)s, id = %(param_3)s, icao_code = %(param_4)s, iata_prefix_accounting = %(param_5)s, airline_name = %(param_6)s, callsign = %(param_7)s, country_name = %(param_8)s, country_iso2 = %(param_9)s, date_founded = %(param_10)s, hub_code = %(param_11)s, fleet_size = %(param_12)s, fleet_average_age = %(param_13)s, status = %(param_14)s, type = %(param_15)s, raw_payload = %(param_16)s::JSONB\n"
     ]
    },
    {
     "name": "stderr",
     "output_type": "stream",
     "text": [
      "2025-05-05 16:40:03,327 - sqlalchemy.engine.Engine - INFO - INSERT INTO airlines (iata_code, airline_id, id, icao_code, iata_prefix_accounting, airline_name, callsign, country_name, country_iso2, date_founded, hub_code, fleet_size, fleet_average_age, status, type, raw_payload) VALUES (%(iata_code)s, %(airline_id)s, %(id)s, %(icao_code)s, %(iata_prefix_accounting)s, %(airline_name)s, %(callsign)s, %(country_name)s, %(country_iso2)s, %(date_founded)s, %(hub_code)s, %(fleet_size)s, %(fleet_average_age)s, %(status)s, %(type)s, %(raw_payload)s::JSONB) ON CONFLICT (iata_code) DO UPDATE SET iata_code = %(param_1)s, airline_id = %(param_2)s, id = %(param_3)s, icao_code = %(param_4)s, iata_prefix_accounting = %(param_5)s, airline_name = %(param_6)s, callsign = %(param_7)s, country_name = %(param_8)s, country_iso2 = %(param_9)s, date_founded = %(param_10)s, hub_code = %(param_11)s, fleet_size = %(param_12)s, fleet_average_age = %(param_13)s, status = %(param_14)s, type = %(param_15)s, raw_payload = %(param_16)s::JSONB\n"
     ]
    },
    {
     "name": "stdout",
     "output_type": "stream",
     "text": [
      "2025-05-05 16:40:03,328 INFO sqlalchemy.engine.Engine [no key 0.00047s] {'iata_code': 'MU', 'airline_id': '6', 'id': '4597456', 'icao_code': 'CES', 'iata_prefix_accounting': '781', 'airline_name': 'China Eastern', 'callsign': 'CHINA EASTERN', 'country_name': 'China', 'country_iso2': 'CN', 'date_founded': '1988', 'hub_code': 'PVG', 'fleet_size': '407', 'fleet_average_age': '8.4', 'status': 'active', 'type': 'scheduled', 'raw_payload': '{\"id\": \"4597456\", \"fleet_average_age\": \"8.4\", \"airline_id\": \"6\", \"callsign\": \"CHINA EASTERN\", \"hub_code\": \"PVG\", \"iata_code\": \"MU\", \"icao_code\": \"CES ... (52 characters truncated) ... ta_prefix_accounting\": \"781\", \"airline_name\": \"China Eastern\", \"country_name\": \"China\", \"fleet_size\": \"407\", \"status\": \"active\", \"type\": \"scheduled\"}', 'param_1': 'MU', 'param_2': '6', 'param_3': '4597456', 'param_4': 'CES', 'param_5': '781', 'param_6': 'China Eastern', 'param_7': 'CHINA EASTERN', 'param_8': 'China', 'param_9': 'CN', 'param_10': '1988', 'param_11': 'PVG', 'param_12': '407', 'param_13': '8.4', 'param_14': 'active', 'param_15': 'scheduled', 'param_16': '{\"id\": \"4597456\", \"fleet_average_age\": \"8.4\", \"airline_id\": \"6\", \"callsign\": \"CHINA EASTERN\", \"hub_code\": \"PVG\", \"iata_code\": \"MU\", \"icao_code\": \"CES ... (52 characters truncated) ... ta_prefix_accounting\": \"781\", \"airline_name\": \"China Eastern\", \"country_name\": \"China\", \"fleet_size\": \"407\", \"status\": \"active\", \"type\": \"scheduled\"}'}\n"
     ]
    },
    {
     "name": "stderr",
     "output_type": "stream",
     "text": [
      "2025-05-05 16:40:03,328 - sqlalchemy.engine.Engine - INFO - [no key 0.00047s] {'iata_code': 'MU', 'airline_id': '6', 'id': '4597456', 'icao_code': 'CES', 'iata_prefix_accounting': '781', 'airline_name': 'China Eastern', 'callsign': 'CHINA EASTERN', 'country_name': 'China', 'country_iso2': 'CN', 'date_founded': '1988', 'hub_code': 'PVG', 'fleet_size': '407', 'fleet_average_age': '8.4', 'status': 'active', 'type': 'scheduled', 'raw_payload': '{\"id\": \"4597456\", \"fleet_average_age\": \"8.4\", \"airline_id\": \"6\", \"callsign\": \"CHINA EASTERN\", \"hub_code\": \"PVG\", \"iata_code\": \"MU\", \"icao_code\": \"CES ... (52 characters truncated) ... ta_prefix_accounting\": \"781\", \"airline_name\": \"China Eastern\", \"country_name\": \"China\", \"fleet_size\": \"407\", \"status\": \"active\", \"type\": \"scheduled\"}', 'param_1': 'MU', 'param_2': '6', 'param_3': '4597456', 'param_4': 'CES', 'param_5': '781', 'param_6': 'China Eastern', 'param_7': 'CHINA EASTERN', 'param_8': 'China', 'param_9': 'CN', 'param_10': '1988', 'param_11': 'PVG', 'param_12': '407', 'param_13': '8.4', 'param_14': 'active', 'param_15': 'scheduled', 'param_16': '{\"id\": \"4597456\", \"fleet_average_age\": \"8.4\", \"airline_id\": \"6\", \"callsign\": \"CHINA EASTERN\", \"hub_code\": \"PVG\", \"iata_code\": \"MU\", \"icao_code\": \"CES ... (52 characters truncated) ... ta_prefix_accounting\": \"781\", \"airline_name\": \"China Eastern\", \"country_name\": \"China\", \"fleet_size\": \"407\", \"status\": \"active\", \"type\": \"scheduled\"}'}\n"
     ]
    },
    {
     "name": "stdout",
     "output_type": "stream",
     "text": [
      "2025-05-05 16:40:03,331 INFO sqlalchemy.engine.Engine INSERT INTO airlines (iata_code, airline_id, id, icao_code, iata_prefix_accounting, airline_name, callsign, country_name, country_iso2, date_founded, hub_code, fleet_size, fleet_average_age, status, type, raw_payload) VALUES (%(iata_code)s, %(airline_id)s, %(id)s, %(icao_code)s, %(iata_prefix_accounting)s, %(airline_name)s, %(callsign)s, %(country_name)s, %(country_iso2)s, %(date_founded)s, %(hub_code)s, %(fleet_size)s, %(fleet_average_age)s, %(status)s, %(type)s, %(raw_payload)s::JSONB) ON CONFLICT (iata_code) DO UPDATE SET iata_code = %(param_1)s, airline_id = %(param_2)s, id = %(param_3)s, icao_code = %(param_4)s, iata_prefix_accounting = %(param_5)s, airline_name = %(param_6)s, callsign = %(param_7)s, country_name = %(param_8)s, country_iso2 = %(param_9)s, date_founded = %(param_10)s, hub_code = %(param_11)s, fleet_size = %(param_12)s, fleet_average_age = %(param_13)s, status = %(param_14)s, type = %(param_15)s, raw_payload = %(param_16)s::JSONB\n"
     ]
    },
    {
     "name": "stderr",
     "output_type": "stream",
     "text": [
      "2025-05-05 16:40:03,331 - sqlalchemy.engine.Engine - INFO - INSERT INTO airlines (iata_code, airline_id, id, icao_code, iata_prefix_accounting, airline_name, callsign, country_name, country_iso2, date_founded, hub_code, fleet_size, fleet_average_age, status, type, raw_payload) VALUES (%(iata_code)s, %(airline_id)s, %(id)s, %(icao_code)s, %(iata_prefix_accounting)s, %(airline_name)s, %(callsign)s, %(country_name)s, %(country_iso2)s, %(date_founded)s, %(hub_code)s, %(fleet_size)s, %(fleet_average_age)s, %(status)s, %(type)s, %(raw_payload)s::JSONB) ON CONFLICT (iata_code) DO UPDATE SET iata_code = %(param_1)s, airline_id = %(param_2)s, id = %(param_3)s, icao_code = %(param_4)s, iata_prefix_accounting = %(param_5)s, airline_name = %(param_6)s, callsign = %(param_7)s, country_name = %(param_8)s, country_iso2 = %(param_9)s, date_founded = %(param_10)s, hub_code = %(param_11)s, fleet_size = %(param_12)s, fleet_average_age = %(param_13)s, status = %(param_14)s, type = %(param_15)s, raw_payload = %(param_16)s::JSONB\n"
     ]
    },
    {
     "name": "stdout",
     "output_type": "stream",
     "text": [
      "2025-05-05 16:40:03,332 INFO sqlalchemy.engine.Engine [no key 0.00148s] {'iata_code': 'OO', 'airline_id': '7', 'id': '4597457', 'icao_code': 'SKW', 'iata_prefix_accounting': '302', 'airline_name': 'SkyWest Airlines', 'callsign': 'SKYWEST', 'country_name': 'United States Minor Outlying Islands', 'country_iso2': 'UM', 'date_founded': '1972', 'hub_code': 'SLC', 'fleet_size': '382', 'fleet_average_age': '11.1', 'status': 'active', 'type': 'scheduled', 'raw_payload': '{\"id\": \"4597457\", \"fleet_average_age\": \"11.1\", \"airline_id\": \"7\", \"callsign\": \"SKYWEST\", \"hub_code\": \"SLC\", \"iata_code\": \"OO\", \"icao_code\": \"SKW\", \"c ... (81 characters truncated) ... line_name\": \"SkyWest Airlines\", \"country_name\": \"United States Minor Outlying Islands\", \"fleet_size\": \"382\", \"status\": \"active\", \"type\": \"scheduled\"}', 'param_1': 'OO', 'param_2': '7', 'param_3': '4597457', 'param_4': 'SKW', 'param_5': '302', 'param_6': 'SkyWest Airlines', 'param_7': 'SKYWEST', 'param_8': 'United States Minor Outlying Islands', 'param_9': 'UM', 'param_10': '1972', 'param_11': 'SLC', 'param_12': '382', 'param_13': '11.1', 'param_14': 'active', 'param_15': 'scheduled', 'param_16': '{\"id\": \"4597457\", \"fleet_average_age\": \"11.1\", \"airline_id\": \"7\", \"callsign\": \"SKYWEST\", \"hub_code\": \"SLC\", \"iata_code\": \"OO\", \"icao_code\": \"SKW\", \"c ... (81 characters truncated) ... line_name\": \"SkyWest Airlines\", \"country_name\": \"United States Minor Outlying Islands\", \"fleet_size\": \"382\", \"status\": \"active\", \"type\": \"scheduled\"}'}\n"
     ]
    },
    {
     "name": "stderr",
     "output_type": "stream",
     "text": [
      "2025-05-05 16:40:03,332 - sqlalchemy.engine.Engine - INFO - [no key 0.00148s] {'iata_code': 'OO', 'airline_id': '7', 'id': '4597457', 'icao_code': 'SKW', 'iata_prefix_accounting': '302', 'airline_name': 'SkyWest Airlines', 'callsign': 'SKYWEST', 'country_name': 'United States Minor Outlying Islands', 'country_iso2': 'UM', 'date_founded': '1972', 'hub_code': 'SLC', 'fleet_size': '382', 'fleet_average_age': '11.1', 'status': 'active', 'type': 'scheduled', 'raw_payload': '{\"id\": \"4597457\", \"fleet_average_age\": \"11.1\", \"airline_id\": \"7\", \"callsign\": \"SKYWEST\", \"hub_code\": \"SLC\", \"iata_code\": \"OO\", \"icao_code\": \"SKW\", \"c ... (81 characters truncated) ... line_name\": \"SkyWest Airlines\", \"country_name\": \"United States Minor Outlying Islands\", \"fleet_size\": \"382\", \"status\": \"active\", \"type\": \"scheduled\"}', 'param_1': 'OO', 'param_2': '7', 'param_3': '4597457', 'param_4': 'SKW', 'param_5': '302', 'param_6': 'SkyWest Airlines', 'param_7': 'SKYWEST', 'param_8': 'United States Minor Outlying Islands', 'param_9': 'UM', 'param_10': '1972', 'param_11': 'SLC', 'param_12': '382', 'param_13': '11.1', 'param_14': 'active', 'param_15': 'scheduled', 'param_16': '{\"id\": \"4597457\", \"fleet_average_age\": \"11.1\", \"airline_id\": \"7\", \"callsign\": \"SKYWEST\", \"hub_code\": \"SLC\", \"iata_code\": \"OO\", \"icao_code\": \"SKW\", \"c ... (81 characters truncated) ... line_name\": \"SkyWest Airlines\", \"country_name\": \"United States Minor Outlying Islands\", \"fleet_size\": \"382\", \"status\": \"active\", \"type\": \"scheduled\"}'}\n"
     ]
    },
    {
     "name": "stdout",
     "output_type": "stream",
     "text": [
      "2025-05-05 16:40:03,338 INFO sqlalchemy.engine.Engine INSERT INTO airlines (iata_code, airline_id, id, icao_code, iata_prefix_accounting, airline_name, callsign, country_name, country_iso2, date_founded, hub_code, fleet_size, fleet_average_age, status, type, raw_payload) VALUES (%(iata_code)s, %(airline_id)s, %(id)s, %(icao_code)s, %(iata_prefix_accounting)s, %(airline_name)s, %(callsign)s, %(country_name)s, %(country_iso2)s, %(date_founded)s, %(hub_code)s, %(fleet_size)s, %(fleet_average_age)s, %(status)s, %(type)s, %(raw_payload)s::JSONB) ON CONFLICT (iata_code) DO UPDATE SET iata_code = %(param_1)s, airline_id = %(param_2)s, id = %(param_3)s, icao_code = %(param_4)s, iata_prefix_accounting = %(param_5)s, airline_name = %(param_6)s, callsign = %(param_7)s, country_name = %(param_8)s, country_iso2 = %(param_9)s, date_founded = %(param_10)s, hub_code = %(param_11)s, fleet_size = %(param_12)s, fleet_average_age = %(param_13)s, status = %(param_14)s, type = %(param_15)s, raw_payload = %(param_16)s::JSONB\n"
     ]
    },
    {
     "name": "stderr",
     "output_type": "stream",
     "text": [
      "2025-05-05 16:40:03,338 - sqlalchemy.engine.Engine - INFO - INSERT INTO airlines (iata_code, airline_id, id, icao_code, iata_prefix_accounting, airline_name, callsign, country_name, country_iso2, date_founded, hub_code, fleet_size, fleet_average_age, status, type, raw_payload) VALUES (%(iata_code)s, %(airline_id)s, %(id)s, %(icao_code)s, %(iata_prefix_accounting)s, %(airline_name)s, %(callsign)s, %(country_name)s, %(country_iso2)s, %(date_founded)s, %(hub_code)s, %(fleet_size)s, %(fleet_average_age)s, %(status)s, %(type)s, %(raw_payload)s::JSONB) ON CONFLICT (iata_code) DO UPDATE SET iata_code = %(param_1)s, airline_id = %(param_2)s, id = %(param_3)s, icao_code = %(param_4)s, iata_prefix_accounting = %(param_5)s, airline_name = %(param_6)s, callsign = %(param_7)s, country_name = %(param_8)s, country_iso2 = %(param_9)s, date_founded = %(param_10)s, hub_code = %(param_11)s, fleet_size = %(param_12)s, fleet_average_age = %(param_13)s, status = %(param_14)s, type = %(param_15)s, raw_payload = %(param_16)s::JSONB\n"
     ]
    },
    {
     "name": "stdout",
     "output_type": "stream",
     "text": [
      "2025-05-05 16:40:03,339 INFO sqlalchemy.engine.Engine [no key 0.00112s] {'iata_code': 'CA', 'airline_id': '8', 'id': '4597458', 'icao_code': 'CCA', 'iata_prefix_accounting': '999', 'airline_name': 'Air China Limited', 'callsign': 'AIR CHINA', 'country_name': 'China', 'country_iso2': 'CN', 'date_founded': '1988', 'hub_code': 'PEK', 'fleet_size': '369', 'fleet_average_age': '6.2', 'status': 'active', 'type': 'scheduled', 'raw_payload': '{\"id\": \"4597458\", \"fleet_average_age\": \"6.2\", \"airline_id\": \"8\", \"callsign\": \"AIR CHINA\", \"hub_code\": \"PEK\", \"iata_code\": \"CA\", \"icao_code\": \"CCA\", \" ... (52 characters truncated) ... refix_accounting\": \"999\", \"airline_name\": \"Air China Limited\", \"country_name\": \"China\", \"fleet_size\": \"369\", \"status\": \"active\", \"type\": \"scheduled\"}', 'param_1': 'CA', 'param_2': '8', 'param_3': '4597458', 'param_4': 'CCA', 'param_5': '999', 'param_6': 'Air China Limited', 'param_7': 'AIR CHINA', 'param_8': 'China', 'param_9': 'CN', 'param_10': '1988', 'param_11': 'PEK', 'param_12': '369', 'param_13': '6.2', 'param_14': 'active', 'param_15': 'scheduled', 'param_16': '{\"id\": \"4597458\", \"fleet_average_age\": \"6.2\", \"airline_id\": \"8\", \"callsign\": \"AIR CHINA\", \"hub_code\": \"PEK\", \"iata_code\": \"CA\", \"icao_code\": \"CCA\", \" ... (52 characters truncated) ... refix_accounting\": \"999\", \"airline_name\": \"Air China Limited\", \"country_name\": \"China\", \"fleet_size\": \"369\", \"status\": \"active\", \"type\": \"scheduled\"}'}\n"
     ]
    },
    {
     "name": "stderr",
     "output_type": "stream",
     "text": [
      "2025-05-05 16:40:03,339 - sqlalchemy.engine.Engine - INFO - [no key 0.00112s] {'iata_code': 'CA', 'airline_id': '8', 'id': '4597458', 'icao_code': 'CCA', 'iata_prefix_accounting': '999', 'airline_name': 'Air China Limited', 'callsign': 'AIR CHINA', 'country_name': 'China', 'country_iso2': 'CN', 'date_founded': '1988', 'hub_code': 'PEK', 'fleet_size': '369', 'fleet_average_age': '6.2', 'status': 'active', 'type': 'scheduled', 'raw_payload': '{\"id\": \"4597458\", \"fleet_average_age\": \"6.2\", \"airline_id\": \"8\", \"callsign\": \"AIR CHINA\", \"hub_code\": \"PEK\", \"iata_code\": \"CA\", \"icao_code\": \"CCA\", \" ... (52 characters truncated) ... refix_accounting\": \"999\", \"airline_name\": \"Air China Limited\", \"country_name\": \"China\", \"fleet_size\": \"369\", \"status\": \"active\", \"type\": \"scheduled\"}', 'param_1': 'CA', 'param_2': '8', 'param_3': '4597458', 'param_4': 'CCA', 'param_5': '999', 'param_6': 'Air China Limited', 'param_7': 'AIR CHINA', 'param_8': 'China', 'param_9': 'CN', 'param_10': '1988', 'param_11': 'PEK', 'param_12': '369', 'param_13': '6.2', 'param_14': 'active', 'param_15': 'scheduled', 'param_16': '{\"id\": \"4597458\", \"fleet_average_age\": \"6.2\", \"airline_id\": \"8\", \"callsign\": \"AIR CHINA\", \"hub_code\": \"PEK\", \"iata_code\": \"CA\", \"icao_code\": \"CCA\", \" ... (52 characters truncated) ... refix_accounting\": \"999\", \"airline_name\": \"Air China Limited\", \"country_name\": \"China\", \"fleet_size\": \"369\", \"status\": \"active\", \"type\": \"scheduled\"}'}\n"
     ]
    },
    {
     "name": "stdout",
     "output_type": "stream",
     "text": [
      "2025-05-05 16:40:03,341 INFO sqlalchemy.engine.Engine INSERT INTO airlines (iata_code, airline_id, id, icao_code, iata_prefix_accounting, airline_name, callsign, country_name, country_iso2, date_founded, hub_code, fleet_size, fleet_average_age, status, type, raw_payload) VALUES (%(iata_code)s, %(airline_id)s, %(id)s, %(icao_code)s, %(iata_prefix_accounting)s, %(airline_name)s, %(callsign)s, %(country_name)s, %(country_iso2)s, %(date_founded)s, %(hub_code)s, %(fleet_size)s, %(fleet_average_age)s, %(status)s, %(type)s, %(raw_payload)s::JSONB) ON CONFLICT (iata_code) DO UPDATE SET iata_code = %(param_1)s, airline_id = %(param_2)s, id = %(param_3)s, icao_code = %(param_4)s, iata_prefix_accounting = %(param_5)s, airline_name = %(param_6)s, callsign = %(param_7)s, country_name = %(param_8)s, country_iso2 = %(param_9)s, date_founded = %(param_10)s, hub_code = %(param_11)s, fleet_size = %(param_12)s, fleet_average_age = %(param_13)s, status = %(param_14)s, type = %(param_15)s, raw_payload = %(param_16)s::JSONB\n"
     ]
    },
    {
     "name": "stderr",
     "output_type": "stream",
     "text": [
      "2025-05-05 16:40:03,341 - sqlalchemy.engine.Engine - INFO - INSERT INTO airlines (iata_code, airline_id, id, icao_code, iata_prefix_accounting, airline_name, callsign, country_name, country_iso2, date_founded, hub_code, fleet_size, fleet_average_age, status, type, raw_payload) VALUES (%(iata_code)s, %(airline_id)s, %(id)s, %(icao_code)s, %(iata_prefix_accounting)s, %(airline_name)s, %(callsign)s, %(country_name)s, %(country_iso2)s, %(date_founded)s, %(hub_code)s, %(fleet_size)s, %(fleet_average_age)s, %(status)s, %(type)s, %(raw_payload)s::JSONB) ON CONFLICT (iata_code) DO UPDATE SET iata_code = %(param_1)s, airline_id = %(param_2)s, id = %(param_3)s, icao_code = %(param_4)s, iata_prefix_accounting = %(param_5)s, airline_name = %(param_6)s, callsign = %(param_7)s, country_name = %(param_8)s, country_iso2 = %(param_9)s, date_founded = %(param_10)s, hub_code = %(param_11)s, fleet_size = %(param_12)s, fleet_average_age = %(param_13)s, status = %(param_14)s, type = %(param_15)s, raw_payload = %(param_16)s::JSONB\n"
     ]
    },
    {
     "name": "stdout",
     "output_type": "stream",
     "text": [
      "2025-05-05 16:40:03,342 INFO sqlalchemy.engine.Engine [no key 0.00137s] {'iata_code': 'FX', 'airline_id': '9', 'id': '4597459', 'icao_code': 'FDX', 'iata_prefix_accounting': '23', 'airline_name': 'Federal Express', 'callsign': 'FEDEX', 'country_name': 'United States', 'country_iso2': 'US', 'date_founded': '1971', 'hub_code': 'MEM', 'fleet_size': '367', 'fleet_average_age': '21.9', 'status': 'active', 'type': 'scheduled,cargo', 'raw_payload': '{\"id\": \"4597459\", \"fleet_average_age\": \"21.9\", \"airline_id\": \"9\", \"callsign\": \"FEDEX\", \"hub_code\": \"MEM\", \"iata_code\": \"FX\", \"icao_code\": \"FDX\", \"cou ... (60 characters truncated) ... nting\": \"23\", \"airline_name\": \"Federal Express\", \"country_name\": \"United States\", \"fleet_size\": \"367\", \"status\": \"active\", \"type\": \"scheduled,cargo\"}', 'param_1': 'FX', 'param_2': '9', 'param_3': '4597459', 'param_4': 'FDX', 'param_5': '23', 'param_6': 'Federal Express', 'param_7': 'FEDEX', 'param_8': 'United States', 'param_9': 'US', 'param_10': '1971', 'param_11': 'MEM', 'param_12': '367', 'param_13': '21.9', 'param_14': 'active', 'param_15': 'scheduled,cargo', 'param_16': '{\"id\": \"4597459\", \"fleet_average_age\": \"21.9\", \"airline_id\": \"9\", \"callsign\": \"FEDEX\", \"hub_code\": \"MEM\", \"iata_code\": \"FX\", \"icao_code\": \"FDX\", \"cou ... (60 characters truncated) ... nting\": \"23\", \"airline_name\": \"Federal Express\", \"country_name\": \"United States\", \"fleet_size\": \"367\", \"status\": \"active\", \"type\": \"scheduled,cargo\"}'}\n"
     ]
    },
    {
     "name": "stderr",
     "output_type": "stream",
     "text": [
      "2025-05-05 16:40:03,342 - sqlalchemy.engine.Engine - INFO - [no key 0.00137s] {'iata_code': 'FX', 'airline_id': '9', 'id': '4597459', 'icao_code': 'FDX', 'iata_prefix_accounting': '23', 'airline_name': 'Federal Express', 'callsign': 'FEDEX', 'country_name': 'United States', 'country_iso2': 'US', 'date_founded': '1971', 'hub_code': 'MEM', 'fleet_size': '367', 'fleet_average_age': '21.9', 'status': 'active', 'type': 'scheduled,cargo', 'raw_payload': '{\"id\": \"4597459\", \"fleet_average_age\": \"21.9\", \"airline_id\": \"9\", \"callsign\": \"FEDEX\", \"hub_code\": \"MEM\", \"iata_code\": \"FX\", \"icao_code\": \"FDX\", \"cou ... (60 characters truncated) ... nting\": \"23\", \"airline_name\": \"Federal Express\", \"country_name\": \"United States\", \"fleet_size\": \"367\", \"status\": \"active\", \"type\": \"scheduled,cargo\"}', 'param_1': 'FX', 'param_2': '9', 'param_3': '4597459', 'param_4': 'FDX', 'param_5': '23', 'param_6': 'Federal Express', 'param_7': 'FEDEX', 'param_8': 'United States', 'param_9': 'US', 'param_10': '1971', 'param_11': 'MEM', 'param_12': '367', 'param_13': '21.9', 'param_14': 'active', 'param_15': 'scheduled,cargo', 'param_16': '{\"id\": \"4597459\", \"fleet_average_age\": \"21.9\", \"airline_id\": \"9\", \"callsign\": \"FEDEX\", \"hub_code\": \"MEM\", \"iata_code\": \"FX\", \"icao_code\": \"FDX\", \"cou ... (60 characters truncated) ... nting\": \"23\", \"airline_name\": \"Federal Express\", \"country_name\": \"United States\", \"fleet_size\": \"367\", \"status\": \"active\", \"type\": \"scheduled,cargo\"}'}\n"
     ]
    },
    {
     "name": "stdout",
     "output_type": "stream",
     "text": [
      "2025-05-05 16:40:03,345 INFO sqlalchemy.engine.Engine INSERT INTO airlines (iata_code, airline_id, id, icao_code, iata_prefix_accounting, airline_name, callsign, country_name, country_iso2, date_founded, hub_code, fleet_size, fleet_average_age, status, type, raw_payload) VALUES (%(iata_code)s, %(airline_id)s, %(id)s, %(icao_code)s, %(iata_prefix_accounting)s, %(airline_name)s, %(callsign)s, %(country_name)s, %(country_iso2)s, %(date_founded)s, %(hub_code)s, %(fleet_size)s, %(fleet_average_age)s, %(status)s, %(type)s, %(raw_payload)s::JSONB) ON CONFLICT (iata_code) DO UPDATE SET iata_code = %(param_1)s, airline_id = %(param_2)s, id = %(param_3)s, icao_code = %(param_4)s, iata_prefix_accounting = %(param_5)s, airline_name = %(param_6)s, callsign = %(param_7)s, country_name = %(param_8)s, country_iso2 = %(param_9)s, date_founded = %(param_10)s, hub_code = %(param_11)s, fleet_size = %(param_12)s, fleet_average_age = %(param_13)s, status = %(param_14)s, type = %(param_15)s, raw_payload = %(param_16)s::JSONB\n"
     ]
    },
    {
     "name": "stderr",
     "output_type": "stream",
     "text": [
      "2025-05-05 16:40:03,345 - sqlalchemy.engine.Engine - INFO - INSERT INTO airlines (iata_code, airline_id, id, icao_code, iata_prefix_accounting, airline_name, callsign, country_name, country_iso2, date_founded, hub_code, fleet_size, fleet_average_age, status, type, raw_payload) VALUES (%(iata_code)s, %(airline_id)s, %(id)s, %(icao_code)s, %(iata_prefix_accounting)s, %(airline_name)s, %(callsign)s, %(country_name)s, %(country_iso2)s, %(date_founded)s, %(hub_code)s, %(fleet_size)s, %(fleet_average_age)s, %(status)s, %(type)s, %(raw_payload)s::JSONB) ON CONFLICT (iata_code) DO UPDATE SET iata_code = %(param_1)s, airline_id = %(param_2)s, id = %(param_3)s, icao_code = %(param_4)s, iata_prefix_accounting = %(param_5)s, airline_name = %(param_6)s, callsign = %(param_7)s, country_name = %(param_8)s, country_iso2 = %(param_9)s, date_founded = %(param_10)s, hub_code = %(param_11)s, fleet_size = %(param_12)s, fleet_average_age = %(param_13)s, status = %(param_14)s, type = %(param_15)s, raw_payload = %(param_16)s::JSONB\n"
     ]
    },
    {
     "name": "stdout",
     "output_type": "stream",
     "text": [
      "2025-05-05 16:40:03,346 INFO sqlalchemy.engine.Engine [no key 0.00120s] {'iata_code': 'FR', 'airline_id': '10', 'id': '4597460', 'icao_code': 'RYR', 'iata_prefix_accounting': '224', 'airline_name': 'Ryanair Ltd.', 'callsign': 'RYANAIR', 'country_name': 'Ireland', 'country_iso2': 'IE', 'date_founded': '1985', 'hub_code': 'STN', 'fleet_size': '353', 'fleet_average_age': '6.4', 'status': 'active', 'type': 'scheduled', 'raw_payload': '{\"id\": \"4597460\", \"fleet_average_age\": \"6.4\", \"airline_id\": \"10\", \"callsign\": \"RYANAIR\", \"hub_code\": \"STN\", \"iata_code\": \"FR\", \"icao_code\": \"RYR\", \"c ... (48 characters truncated) ... a_prefix_accounting\": \"224\", \"airline_name\": \"Ryanair Ltd.\", \"country_name\": \"Ireland\", \"fleet_size\": \"353\", \"status\": \"active\", \"type\": \"scheduled\"}', 'param_1': 'FR', 'param_2': '10', 'param_3': '4597460', 'param_4': 'RYR', 'param_5': '224', 'param_6': 'Ryanair Ltd.', 'param_7': 'RYANAIR', 'param_8': 'Ireland', 'param_9': 'IE', 'param_10': '1985', 'param_11': 'STN', 'param_12': '353', 'param_13': '6.4', 'param_14': 'active', 'param_15': 'scheduled', 'param_16': '{\"id\": \"4597460\", \"fleet_average_age\": \"6.4\", \"airline_id\": \"10\", \"callsign\": \"RYANAIR\", \"hub_code\": \"STN\", \"iata_code\": \"FR\", \"icao_code\": \"RYR\", \"c ... (48 characters truncated) ... a_prefix_accounting\": \"224\", \"airline_name\": \"Ryanair Ltd.\", \"country_name\": \"Ireland\", \"fleet_size\": \"353\", \"status\": \"active\", \"type\": \"scheduled\"}'}\n"
     ]
    },
    {
     "name": "stderr",
     "output_type": "stream",
     "text": [
      "2025-05-05 16:40:03,346 - sqlalchemy.engine.Engine - INFO - [no key 0.00120s] {'iata_code': 'FR', 'airline_id': '10', 'id': '4597460', 'icao_code': 'RYR', 'iata_prefix_accounting': '224', 'airline_name': 'Ryanair Ltd.', 'callsign': 'RYANAIR', 'country_name': 'Ireland', 'country_iso2': 'IE', 'date_founded': '1985', 'hub_code': 'STN', 'fleet_size': '353', 'fleet_average_age': '6.4', 'status': 'active', 'type': 'scheduled', 'raw_payload': '{\"id\": \"4597460\", \"fleet_average_age\": \"6.4\", \"airline_id\": \"10\", \"callsign\": \"RYANAIR\", \"hub_code\": \"STN\", \"iata_code\": \"FR\", \"icao_code\": \"RYR\", \"c ... (48 characters truncated) ... a_prefix_accounting\": \"224\", \"airline_name\": \"Ryanair Ltd.\", \"country_name\": \"Ireland\", \"fleet_size\": \"353\", \"status\": \"active\", \"type\": \"scheduled\"}', 'param_1': 'FR', 'param_2': '10', 'param_3': '4597460', 'param_4': 'RYR', 'param_5': '224', 'param_6': 'Ryanair Ltd.', 'param_7': 'RYANAIR', 'param_8': 'Ireland', 'param_9': 'IE', 'param_10': '1985', 'param_11': 'STN', 'param_12': '353', 'param_13': '6.4', 'param_14': 'active', 'param_15': 'scheduled', 'param_16': '{\"id\": \"4597460\", \"fleet_average_age\": \"6.4\", \"airline_id\": \"10\", \"callsign\": \"RYANAIR\", \"hub_code\": \"STN\", \"iata_code\": \"FR\", \"icao_code\": \"RYR\", \"c ... (48 characters truncated) ... a_prefix_accounting\": \"224\", \"airline_name\": \"Ryanair Ltd.\", \"country_name\": \"Ireland\", \"fleet_size\": \"353\", \"status\": \"active\", \"type\": \"scheduled\"}'}\n"
     ]
    },
    {
     "name": "stdout",
     "output_type": "stream",
     "text": [
      "2025-05-05 16:40:03,348 INFO sqlalchemy.engine.Engine COMMIT\n"
     ]
    },
    {
     "name": "stderr",
     "output_type": "stream",
     "text": [
      "2025-05-05 16:40:03,348 - sqlalchemy.engine.Engine - INFO - COMMIT\n",
      "2025-05-05 16:40:03,351 - scripts.flight_data_processor - INFO - Processed 10 airline records\n"
     ]
    },
    {
     "name": "stdout",
     "output_type": "stream",
     "text": [
      "Batch processed.\n",
      "Waiting before next call...\n",
      "-- Airlines Call 2/3 (Offset: 10) --\n",
      "API call successful. Fetched 10 records.\n",
      "Processing batch...\n",
      "2025-05-05 16:40:05,726 INFO sqlalchemy.engine.Engine BEGIN (implicit)\n"
     ]
    },
    {
     "name": "stderr",
     "output_type": "stream",
     "text": [
      "2025-05-05 16:40:05,726 - sqlalchemy.engine.Engine - INFO - BEGIN (implicit)\n"
     ]
    },
    {
     "name": "stdout",
     "output_type": "stream",
     "text": [
      "2025-05-05 16:40:05,729 INFO sqlalchemy.engine.Engine INSERT INTO airlines (iata_code, airline_id, id, icao_code, iata_prefix_accounting, airline_name, callsign, country_name, country_iso2, date_founded, hub_code, fleet_size, fleet_average_age, status, type, raw_payload) VALUES (%(iata_code)s, %(airline_id)s, %(id)s, %(icao_code)s, %(iata_prefix_accounting)s, %(airline_name)s, %(callsign)s, %(country_name)s, %(country_iso2)s, %(date_founded)s, %(hub_code)s, %(fleet_size)s, %(fleet_average_age)s, %(status)s, %(type)s, %(raw_payload)s::JSONB) ON CONFLICT (iata_code) DO UPDATE SET iata_code = %(param_1)s, airline_id = %(param_2)s, id = %(param_3)s, icao_code = %(param_4)s, iata_prefix_accounting = %(param_5)s, airline_name = %(param_6)s, callsign = %(param_7)s, country_name = %(param_8)s, country_iso2 = %(param_9)s, date_founded = %(param_10)s, hub_code = %(param_11)s, fleet_size = %(param_12)s, fleet_average_age = %(param_13)s, status = %(param_14)s, type = %(param_15)s, raw_payload = %(param_16)s::JSONB\n"
     ]
    },
    {
     "name": "stderr",
     "output_type": "stream",
     "text": [
      "2025-05-05 16:40:05,729 - sqlalchemy.engine.Engine - INFO - INSERT INTO airlines (iata_code, airline_id, id, icao_code, iata_prefix_accounting, airline_name, callsign, country_name, country_iso2, date_founded, hub_code, fleet_size, fleet_average_age, status, type, raw_payload) VALUES (%(iata_code)s, %(airline_id)s, %(id)s, %(icao_code)s, %(iata_prefix_accounting)s, %(airline_name)s, %(callsign)s, %(country_name)s, %(country_iso2)s, %(date_founded)s, %(hub_code)s, %(fleet_size)s, %(fleet_average_age)s, %(status)s, %(type)s, %(raw_payload)s::JSONB) ON CONFLICT (iata_code) DO UPDATE SET iata_code = %(param_1)s, airline_id = %(param_2)s, id = %(param_3)s, icao_code = %(param_4)s, iata_prefix_accounting = %(param_5)s, airline_name = %(param_6)s, callsign = %(param_7)s, country_name = %(param_8)s, country_iso2 = %(param_9)s, date_founded = %(param_10)s, hub_code = %(param_11)s, fleet_size = %(param_12)s, fleet_average_age = %(param_13)s, status = %(param_14)s, type = %(param_15)s, raw_payload = %(param_16)s::JSONB\n"
     ]
    },
    {
     "name": "stdout",
     "output_type": "stream",
     "text": [
      "2025-05-05 16:40:05,730 INFO sqlalchemy.engine.Engine [no key 0.00177s] {'iata_code': 'XE', 'airline_id': '11', 'id': '4597461', 'icao_code': 'BTA', 'iata_prefix_accounting': None, 'airline_name': 'Expressjet', 'callsign': 'JET LINK', 'country_name': 'United States Minor Outlying Islands', 'country_iso2': 'UM', 'date_founded': None, 'hub_code': None, 'fleet_size': '319', 'fleet_average_age': '13.2', 'status': 'active', 'type': None, 'raw_payload': '{\"id\": \"4597461\", \"fleet_average_age\": \"13.2\", \"airline_id\": \"11\", \"callsign\": \"JET LINK\", \"hub_code\": null, \"iata_code\": \"XE\", \"icao_code\": \"BTA\", \" ... (66 characters truncated) ... \": null, \"airline_name\": \"Expressjet\", \"country_name\": \"United States Minor Outlying Islands\", \"fleet_size\": \"319\", \"status\": \"active\", \"type\": null}', 'param_1': 'XE', 'param_2': '11', 'param_3': '4597461', 'param_4': 'BTA', 'param_5': None, 'param_6': 'Expressjet', 'param_7': 'JET LINK', 'param_8': 'United States Minor Outlying Islands', 'param_9': 'UM', 'param_10': None, 'param_11': None, 'param_12': '319', 'param_13': '13.2', 'param_14': 'active', 'param_15': None, 'param_16': '{\"id\": \"4597461\", \"fleet_average_age\": \"13.2\", \"airline_id\": \"11\", \"callsign\": \"JET LINK\", \"hub_code\": null, \"iata_code\": \"XE\", \"icao_code\": \"BTA\", \" ... (66 characters truncated) ... \": null, \"airline_name\": \"Expressjet\", \"country_name\": \"United States Minor Outlying Islands\", \"fleet_size\": \"319\", \"status\": \"active\", \"type\": null}'}\n"
     ]
    },
    {
     "name": "stderr",
     "output_type": "stream",
     "text": [
      "2025-05-05 16:40:05,730 - sqlalchemy.engine.Engine - INFO - [no key 0.00177s] {'iata_code': 'XE', 'airline_id': '11', 'id': '4597461', 'icao_code': 'BTA', 'iata_prefix_accounting': None, 'airline_name': 'Expressjet', 'callsign': 'JET LINK', 'country_name': 'United States Minor Outlying Islands', 'country_iso2': 'UM', 'date_founded': None, 'hub_code': None, 'fleet_size': '319', 'fleet_average_age': '13.2', 'status': 'active', 'type': None, 'raw_payload': '{\"id\": \"4597461\", \"fleet_average_age\": \"13.2\", \"airline_id\": \"11\", \"callsign\": \"JET LINK\", \"hub_code\": null, \"iata_code\": \"XE\", \"icao_code\": \"BTA\", \" ... (66 characters truncated) ... \": null, \"airline_name\": \"Expressjet\", \"country_name\": \"United States Minor Outlying Islands\", \"fleet_size\": \"319\", \"status\": \"active\", \"type\": null}', 'param_1': 'XE', 'param_2': '11', 'param_3': '4597461', 'param_4': 'BTA', 'param_5': None, 'param_6': 'Expressjet', 'param_7': 'JET LINK', 'param_8': 'United States Minor Outlying Islands', 'param_9': 'UM', 'param_10': None, 'param_11': None, 'param_12': '319', 'param_13': '13.2', 'param_14': 'active', 'param_15': None, 'param_16': '{\"id\": \"4597461\", \"fleet_average_age\": \"13.2\", \"airline_id\": \"11\", \"callsign\": \"JET LINK\", \"hub_code\": null, \"iata_code\": \"XE\", \"icao_code\": \"BTA\", \" ... (66 characters truncated) ... \": null, \"airline_name\": \"Expressjet\", \"country_name\": \"United States Minor Outlying Islands\", \"fleet_size\": \"319\", \"status\": \"active\", \"type\": null}'}\n"
     ]
    },
    {
     "name": "stdout",
     "output_type": "stream",
     "text": [
      "2025-05-05 16:40:05,735 INFO sqlalchemy.engine.Engine INSERT INTO airlines (iata_code, airline_id, id, icao_code, iata_prefix_accounting, airline_name, callsign, country_name, country_iso2, date_founded, hub_code, fleet_size, fleet_average_age, status, type, raw_payload) VALUES (%(iata_code)s, %(airline_id)s, %(id)s, %(icao_code)s, %(iata_prefix_accounting)s, %(airline_name)s, %(callsign)s, %(country_name)s, %(country_iso2)s, %(date_founded)s, %(hub_code)s, %(fleet_size)s, %(fleet_average_age)s, %(status)s, %(type)s, %(raw_payload)s::JSONB) ON CONFLICT (iata_code) DO UPDATE SET iata_code = %(param_1)s, airline_id = %(param_2)s, id = %(param_3)s, icao_code = %(param_4)s, iata_prefix_accounting = %(param_5)s, airline_name = %(param_6)s, callsign = %(param_7)s, country_name = %(param_8)s, country_iso2 = %(param_9)s, date_founded = %(param_10)s, hub_code = %(param_11)s, fleet_size = %(param_12)s, fleet_average_age = %(param_13)s, status = %(param_14)s, type = %(param_15)s, raw_payload = %(param_16)s::JSONB\n"
     ]
    },
    {
     "name": "stderr",
     "output_type": "stream",
     "text": [
      "2025-05-05 16:40:05,735 - sqlalchemy.engine.Engine - INFO - INSERT INTO airlines (iata_code, airline_id, id, icao_code, iata_prefix_accounting, airline_name, callsign, country_name, country_iso2, date_founded, hub_code, fleet_size, fleet_average_age, status, type, raw_payload) VALUES (%(iata_code)s, %(airline_id)s, %(id)s, %(icao_code)s, %(iata_prefix_accounting)s, %(airline_name)s, %(callsign)s, %(country_name)s, %(country_iso2)s, %(date_founded)s, %(hub_code)s, %(fleet_size)s, %(fleet_average_age)s, %(status)s, %(type)s, %(raw_payload)s::JSONB) ON CONFLICT (iata_code) DO UPDATE SET iata_code = %(param_1)s, airline_id = %(param_2)s, id = %(param_3)s, icao_code = %(param_4)s, iata_prefix_accounting = %(param_5)s, airline_name = %(param_6)s, callsign = %(param_7)s, country_name = %(param_8)s, country_iso2 = %(param_9)s, date_founded = %(param_10)s, hub_code = %(param_11)s, fleet_size = %(param_12)s, fleet_average_age = %(param_13)s, status = %(param_14)s, type = %(param_15)s, raw_payload = %(param_16)s::JSONB\n"
     ]
    },
    {
     "name": "stdout",
     "output_type": "stream",
     "text": [
      "2025-05-05 16:40:05,736 INFO sqlalchemy.engine.Engine [no key 0.00111s] {'iata_code': 'TK', 'airline_id': '12', 'id': '4597462', 'icao_code': 'THY', 'iata_prefix_accounting': '235', 'airline_name': 'THY - Turkish Airlines', 'callsign': 'TURKISH', 'country_name': 'Turkey', 'country_iso2': 'TR', 'date_founded': '1933', 'hub_code': 'IST', 'fleet_size': '285', 'fleet_average_age': '6.3', 'status': 'active', 'type': 'scheduled', 'raw_payload': '{\"id\": \"4597462\", \"fleet_average_age\": \"6.3\", \"airline_id\": \"12\", \"callsign\": \"TURKISH\", \"hub_code\": \"IST\", \"iata_code\": \"TK\", \"icao_code\": \"THY\", \"c ... (57 characters truncated) ... accounting\": \"235\", \"airline_name\": \"THY - Turkish Airlines\", \"country_name\": \"Turkey\", \"fleet_size\": \"285\", \"status\": \"active\", \"type\": \"scheduled\"}', 'param_1': 'TK', 'param_2': '12', 'param_3': '4597462', 'param_4': 'THY', 'param_5': '235', 'param_6': 'THY - Turkish Airlines', 'param_7': 'TURKISH', 'param_8': 'Turkey', 'param_9': 'TR', 'param_10': '1933', 'param_11': 'IST', 'param_12': '285', 'param_13': '6.3', 'param_14': 'active', 'param_15': 'scheduled', 'param_16': '{\"id\": \"4597462\", \"fleet_average_age\": \"6.3\", \"airline_id\": \"12\", \"callsign\": \"TURKISH\", \"hub_code\": \"IST\", \"iata_code\": \"TK\", \"icao_code\": \"THY\", \"c ... (57 characters truncated) ... accounting\": \"235\", \"airline_name\": \"THY - Turkish Airlines\", \"country_name\": \"Turkey\", \"fleet_size\": \"285\", \"status\": \"active\", \"type\": \"scheduled\"}'}\n"
     ]
    },
    {
     "name": "stderr",
     "output_type": "stream",
     "text": [
      "2025-05-05 16:40:05,736 - sqlalchemy.engine.Engine - INFO - [no key 0.00111s] {'iata_code': 'TK', 'airline_id': '12', 'id': '4597462', 'icao_code': 'THY', 'iata_prefix_accounting': '235', 'airline_name': 'THY - Turkish Airlines', 'callsign': 'TURKISH', 'country_name': 'Turkey', 'country_iso2': 'TR', 'date_founded': '1933', 'hub_code': 'IST', 'fleet_size': '285', 'fleet_average_age': '6.3', 'status': 'active', 'type': 'scheduled', 'raw_payload': '{\"id\": \"4597462\", \"fleet_average_age\": \"6.3\", \"airline_id\": \"12\", \"callsign\": \"TURKISH\", \"hub_code\": \"IST\", \"iata_code\": \"TK\", \"icao_code\": \"THY\", \"c ... (57 characters truncated) ... accounting\": \"235\", \"airline_name\": \"THY - Turkish Airlines\", \"country_name\": \"Turkey\", \"fleet_size\": \"285\", \"status\": \"active\", \"type\": \"scheduled\"}', 'param_1': 'TK', 'param_2': '12', 'param_3': '4597462', 'param_4': 'THY', 'param_5': '235', 'param_6': 'THY - Turkish Airlines', 'param_7': 'TURKISH', 'param_8': 'Turkey', 'param_9': 'TR', 'param_10': '1933', 'param_11': 'IST', 'param_12': '285', 'param_13': '6.3', 'param_14': 'active', 'param_15': 'scheduled', 'param_16': '{\"id\": \"4597462\", \"fleet_average_age\": \"6.3\", \"airline_id\": \"12\", \"callsign\": \"TURKISH\", \"hub_code\": \"IST\", \"iata_code\": \"TK\", \"icao_code\": \"THY\", \"c ... (57 characters truncated) ... accounting\": \"235\", \"airline_name\": \"THY - Turkish Airlines\", \"country_name\": \"Turkey\", \"fleet_size\": \"285\", \"status\": \"active\", \"type\": \"scheduled\"}'}\n"
     ]
    },
    {
     "name": "stdout",
     "output_type": "stream",
     "text": [
      "2025-05-05 16:40:05,739 INFO sqlalchemy.engine.Engine INSERT INTO airlines (iata_code, airline_id, id, icao_code, iata_prefix_accounting, airline_name, callsign, country_name, country_iso2, date_founded, hub_code, fleet_size, fleet_average_age, status, type, raw_payload) VALUES (%(iata_code)s, %(airline_id)s, %(id)s, %(icao_code)s, %(iata_prefix_accounting)s, %(airline_name)s, %(callsign)s, %(country_name)s, %(country_iso2)s, %(date_founded)s, %(hub_code)s, %(fleet_size)s, %(fleet_average_age)s, %(status)s, %(type)s, %(raw_payload)s::JSONB) ON CONFLICT (iata_code) DO UPDATE SET iata_code = %(param_1)s, airline_id = %(param_2)s, id = %(param_3)s, icao_code = %(param_4)s, iata_prefix_accounting = %(param_5)s, airline_name = %(param_6)s, callsign = %(param_7)s, country_name = %(param_8)s, country_iso2 = %(param_9)s, date_founded = %(param_10)s, hub_code = %(param_11)s, fleet_size = %(param_12)s, fleet_average_age = %(param_13)s, status = %(param_14)s, type = %(param_15)s, raw_payload = %(param_16)s::JSONB\n"
     ]
    },
    {
     "name": "stderr",
     "output_type": "stream",
     "text": [
      "2025-05-05 16:40:05,739 - sqlalchemy.engine.Engine - INFO - INSERT INTO airlines (iata_code, airline_id, id, icao_code, iata_prefix_accounting, airline_name, callsign, country_name, country_iso2, date_founded, hub_code, fleet_size, fleet_average_age, status, type, raw_payload) VALUES (%(iata_code)s, %(airline_id)s, %(id)s, %(icao_code)s, %(iata_prefix_accounting)s, %(airline_name)s, %(callsign)s, %(country_name)s, %(country_iso2)s, %(date_founded)s, %(hub_code)s, %(fleet_size)s, %(fleet_average_age)s, %(status)s, %(type)s, %(raw_payload)s::JSONB) ON CONFLICT (iata_code) DO UPDATE SET iata_code = %(param_1)s, airline_id = %(param_2)s, id = %(param_3)s, icao_code = %(param_4)s, iata_prefix_accounting = %(param_5)s, airline_name = %(param_6)s, callsign = %(param_7)s, country_name = %(param_8)s, country_iso2 = %(param_9)s, date_founded = %(param_10)s, hub_code = %(param_11)s, fleet_size = %(param_12)s, fleet_average_age = %(param_13)s, status = %(param_14)s, type = %(param_15)s, raw_payload = %(param_16)s::JSONB\n"
     ]
    },
    {
     "name": "stdout",
     "output_type": "stream",
     "text": [
      "2025-05-05 16:40:05,742 INFO sqlalchemy.engine.Engine [no key 0.00267s] {'iata_code': 'LH', 'airline_id': '13', 'id': '4597463', 'icao_code': 'GEC', 'iata_prefix_accounting': '20', 'airline_name': 'Lufthansa Cargo', 'callsign': 'LUFTHANSA', 'country_name': 'Germany', 'country_iso2': 'DE', 'date_founded': '1994', 'hub_code': 'FRA', 'fleet_size': '276', 'fleet_average_age': '10.9', 'status': 'active', 'type': 'scheduled,cargo', 'raw_payload': '{\"id\": \"4597463\", \"fleet_average_age\": \"10.9\", \"airline_id\": \"13\", \"callsign\": \"LUFTHANSA\", \"hub_code\": \"FRA\", \"iata_code\": \"LH\", \"icao_code\": \"GEC\", ... (59 characters truncated) ... _accounting\": \"20\", \"airline_name\": \"Lufthansa Cargo\", \"country_name\": \"Germany\", \"fleet_size\": \"276\", \"status\": \"active\", \"type\": \"scheduled,cargo\"}', 'param_1': 'LH', 'param_2': '13', 'param_3': '4597463', 'param_4': 'GEC', 'param_5': '20', 'param_6': 'Lufthansa Cargo', 'param_7': 'LUFTHANSA', 'param_8': 'Germany', 'param_9': 'DE', 'param_10': '1994', 'param_11': 'FRA', 'param_12': '276', 'param_13': '10.9', 'param_14': 'active', 'param_15': 'scheduled,cargo', 'param_16': '{\"id\": \"4597463\", \"fleet_average_age\": \"10.9\", \"airline_id\": \"13\", \"callsign\": \"LUFTHANSA\", \"hub_code\": \"FRA\", \"iata_code\": \"LH\", \"icao_code\": \"GEC\", ... (59 characters truncated) ... _accounting\": \"20\", \"airline_name\": \"Lufthansa Cargo\", \"country_name\": \"Germany\", \"fleet_size\": \"276\", \"status\": \"active\", \"type\": \"scheduled,cargo\"}'}\n"
     ]
    },
    {
     "name": "stderr",
     "output_type": "stream",
     "text": [
      "2025-05-05 16:40:05,742 - sqlalchemy.engine.Engine - INFO - [no key 0.00267s] {'iata_code': 'LH', 'airline_id': '13', 'id': '4597463', 'icao_code': 'GEC', 'iata_prefix_accounting': '20', 'airline_name': 'Lufthansa Cargo', 'callsign': 'LUFTHANSA', 'country_name': 'Germany', 'country_iso2': 'DE', 'date_founded': '1994', 'hub_code': 'FRA', 'fleet_size': '276', 'fleet_average_age': '10.9', 'status': 'active', 'type': 'scheduled,cargo', 'raw_payload': '{\"id\": \"4597463\", \"fleet_average_age\": \"10.9\", \"airline_id\": \"13\", \"callsign\": \"LUFTHANSA\", \"hub_code\": \"FRA\", \"iata_code\": \"LH\", \"icao_code\": \"GEC\", ... (59 characters truncated) ... _accounting\": \"20\", \"airline_name\": \"Lufthansa Cargo\", \"country_name\": \"Germany\", \"fleet_size\": \"276\", \"status\": \"active\", \"type\": \"scheduled,cargo\"}', 'param_1': 'LH', 'param_2': '13', 'param_3': '4597463', 'param_4': 'GEC', 'param_5': '20', 'param_6': 'Lufthansa Cargo', 'param_7': 'LUFTHANSA', 'param_8': 'Germany', 'param_9': 'DE', 'param_10': '1994', 'param_11': 'FRA', 'param_12': '276', 'param_13': '10.9', 'param_14': 'active', 'param_15': 'scheduled,cargo', 'param_16': '{\"id\": \"4597463\", \"fleet_average_age\": \"10.9\", \"airline_id\": \"13\", \"callsign\": \"LUFTHANSA\", \"hub_code\": \"FRA\", \"iata_code\": \"LH\", \"icao_code\": \"GEC\", ... (59 characters truncated) ... _accounting\": \"20\", \"airline_name\": \"Lufthansa Cargo\", \"country_name\": \"Germany\", \"fleet_size\": \"276\", \"status\": \"active\", \"type\": \"scheduled,cargo\"}'}\n"
     ]
    },
    {
     "name": "stdout",
     "output_type": "stream",
     "text": [
      "2025-05-05 16:40:05,747 INFO sqlalchemy.engine.Engine INSERT INTO airlines (iata_code, airline_id, id, icao_code, iata_prefix_accounting, airline_name, callsign, country_name, country_iso2, date_founded, hub_code, fleet_size, fleet_average_age, status, type, raw_payload) VALUES (%(iata_code)s, %(airline_id)s, %(id)s, %(icao_code)s, %(iata_prefix_accounting)s, %(airline_name)s, %(callsign)s, %(country_name)s, %(country_iso2)s, %(date_founded)s, %(hub_code)s, %(fleet_size)s, %(fleet_average_age)s, %(status)s, %(type)s, %(raw_payload)s::JSONB) ON CONFLICT (iata_code) DO UPDATE SET iata_code = %(param_1)s, airline_id = %(param_2)s, id = %(param_3)s, icao_code = %(param_4)s, iata_prefix_accounting = %(param_5)s, airline_name = %(param_6)s, callsign = %(param_7)s, country_name = %(param_8)s, country_iso2 = %(param_9)s, date_founded = %(param_10)s, hub_code = %(param_11)s, fleet_size = %(param_12)s, fleet_average_age = %(param_13)s, status = %(param_14)s, type = %(param_15)s, raw_payload = %(param_16)s::JSONB\n"
     ]
    },
    {
     "name": "stderr",
     "output_type": "stream",
     "text": [
      "2025-05-05 16:40:05,747 - sqlalchemy.engine.Engine - INFO - INSERT INTO airlines (iata_code, airline_id, id, icao_code, iata_prefix_accounting, airline_name, callsign, country_name, country_iso2, date_founded, hub_code, fleet_size, fleet_average_age, status, type, raw_payload) VALUES (%(iata_code)s, %(airline_id)s, %(id)s, %(icao_code)s, %(iata_prefix_accounting)s, %(airline_name)s, %(callsign)s, %(country_name)s, %(country_iso2)s, %(date_founded)s, %(hub_code)s, %(fleet_size)s, %(fleet_average_age)s, %(status)s, %(type)s, %(raw_payload)s::JSONB) ON CONFLICT (iata_code) DO UPDATE SET iata_code = %(param_1)s, airline_id = %(param_2)s, id = %(param_3)s, icao_code = %(param_4)s, iata_prefix_accounting = %(param_5)s, airline_name = %(param_6)s, callsign = %(param_7)s, country_name = %(param_8)s, country_iso2 = %(param_9)s, date_founded = %(param_10)s, hub_code = %(param_11)s, fleet_size = %(param_12)s, fleet_average_age = %(param_13)s, status = %(param_14)s, type = %(param_15)s, raw_payload = %(param_16)s::JSONB\n"
     ]
    },
    {
     "name": "stdout",
     "output_type": "stream",
     "text": [
      "2025-05-05 16:40:05,748 INFO sqlalchemy.engine.Engine [no key 0.00138s] {'iata_code': 'BA', 'airline_id': '14', 'id': '4597464', 'icao_code': 'BAW', 'iata_prefix_accounting': '125', 'airline_name': 'British Airways', 'callsign': 'SPEEDBIRD', 'country_name': 'United Kingdom', 'country_iso2': 'GB', 'date_founded': '1974', 'hub_code': 'LHR', 'fleet_size': '265', 'fleet_average_age': '12.7', 'status': 'active', 'type': 'scheduled', 'raw_payload': '{\"id\": \"4597464\", \"fleet_average_age\": \"12.7\", \"airline_id\": \"14\", \"callsign\": \"SPEEDBIRD\", \"hub_code\": \"LHR\", \"iata_code\": \"BA\", \"icao_code\": \"BAW\", ... (61 characters truncated) ... ccounting\": \"125\", \"airline_name\": \"British Airways\", \"country_name\": \"United Kingdom\", \"fleet_size\": \"265\", \"status\": \"active\", \"type\": \"scheduled\"}', 'param_1': 'BA', 'param_2': '14', 'param_3': '4597464', 'param_4': 'BAW', 'param_5': '125', 'param_6': 'British Airways', 'param_7': 'SPEEDBIRD', 'param_8': 'United Kingdom', 'param_9': 'GB', 'param_10': '1974', 'param_11': 'LHR', 'param_12': '265', 'param_13': '12.7', 'param_14': 'active', 'param_15': 'scheduled', 'param_16': '{\"id\": \"4597464\", \"fleet_average_age\": \"12.7\", \"airline_id\": \"14\", \"callsign\": \"SPEEDBIRD\", \"hub_code\": \"LHR\", \"iata_code\": \"BA\", \"icao_code\": \"BAW\", ... (61 characters truncated) ... ccounting\": \"125\", \"airline_name\": \"British Airways\", \"country_name\": \"United Kingdom\", \"fleet_size\": \"265\", \"status\": \"active\", \"type\": \"scheduled\"}'}\n"
     ]
    },
    {
     "name": "stderr",
     "output_type": "stream",
     "text": [
      "2025-05-05 16:40:05,748 - sqlalchemy.engine.Engine - INFO - [no key 0.00138s] {'iata_code': 'BA', 'airline_id': '14', 'id': '4597464', 'icao_code': 'BAW', 'iata_prefix_accounting': '125', 'airline_name': 'British Airways', 'callsign': 'SPEEDBIRD', 'country_name': 'United Kingdom', 'country_iso2': 'GB', 'date_founded': '1974', 'hub_code': 'LHR', 'fleet_size': '265', 'fleet_average_age': '12.7', 'status': 'active', 'type': 'scheduled', 'raw_payload': '{\"id\": \"4597464\", \"fleet_average_age\": \"12.7\", \"airline_id\": \"14\", \"callsign\": \"SPEEDBIRD\", \"hub_code\": \"LHR\", \"iata_code\": \"BA\", \"icao_code\": \"BAW\", ... (61 characters truncated) ... ccounting\": \"125\", \"airline_name\": \"British Airways\", \"country_name\": \"United Kingdom\", \"fleet_size\": \"265\", \"status\": \"active\", \"type\": \"scheduled\"}', 'param_1': 'BA', 'param_2': '14', 'param_3': '4597464', 'param_4': 'BAW', 'param_5': '125', 'param_6': 'British Airways', 'param_7': 'SPEEDBIRD', 'param_8': 'United Kingdom', 'param_9': 'GB', 'param_10': '1974', 'param_11': 'LHR', 'param_12': '265', 'param_13': '12.7', 'param_14': 'active', 'param_15': 'scheduled', 'param_16': '{\"id\": \"4597464\", \"fleet_average_age\": \"12.7\", \"airline_id\": \"14\", \"callsign\": \"SPEEDBIRD\", \"hub_code\": \"LHR\", \"iata_code\": \"BA\", \"icao_code\": \"BAW\", ... (61 characters truncated) ... ccounting\": \"125\", \"airline_name\": \"British Airways\", \"country_name\": \"United Kingdom\", \"fleet_size\": \"265\", \"status\": \"active\", \"type\": \"scheduled\"}'}\n"
     ]
    },
    {
     "name": "stdout",
     "output_type": "stream",
     "text": [
      "2025-05-05 16:40:05,752 INFO sqlalchemy.engine.Engine INSERT INTO airlines (iata_code, airline_id, id, icao_code, iata_prefix_accounting, airline_name, callsign, country_name, country_iso2, date_founded, hub_code, fleet_size, fleet_average_age, status, type, raw_payload) VALUES (%(iata_code)s, %(airline_id)s, %(id)s, %(icao_code)s, %(iata_prefix_accounting)s, %(airline_name)s, %(callsign)s, %(country_name)s, %(country_iso2)s, %(date_founded)s, %(hub_code)s, %(fleet_size)s, %(fleet_average_age)s, %(status)s, %(type)s, %(raw_payload)s::JSONB) ON CONFLICT (iata_code) DO UPDATE SET iata_code = %(param_1)s, airline_id = %(param_2)s, id = %(param_3)s, icao_code = %(param_4)s, iata_prefix_accounting = %(param_5)s, airline_name = %(param_6)s, callsign = %(param_7)s, country_name = %(param_8)s, country_iso2 = %(param_9)s, date_founded = %(param_10)s, hub_code = %(param_11)s, fleet_size = %(param_12)s, fleet_average_age = %(param_13)s, status = %(param_14)s, type = %(param_15)s, raw_payload = %(param_16)s::JSONB\n"
     ]
    },
    {
     "name": "stderr",
     "output_type": "stream",
     "text": [
      "2025-05-05 16:40:05,752 - sqlalchemy.engine.Engine - INFO - INSERT INTO airlines (iata_code, airline_id, id, icao_code, iata_prefix_accounting, airline_name, callsign, country_name, country_iso2, date_founded, hub_code, fleet_size, fleet_average_age, status, type, raw_payload) VALUES (%(iata_code)s, %(airline_id)s, %(id)s, %(icao_code)s, %(iata_prefix_accounting)s, %(airline_name)s, %(callsign)s, %(country_name)s, %(country_iso2)s, %(date_founded)s, %(hub_code)s, %(fleet_size)s, %(fleet_average_age)s, %(status)s, %(type)s, %(raw_payload)s::JSONB) ON CONFLICT (iata_code) DO UPDATE SET iata_code = %(param_1)s, airline_id = %(param_2)s, id = %(param_3)s, icao_code = %(param_4)s, iata_prefix_accounting = %(param_5)s, airline_name = %(param_6)s, callsign = %(param_7)s, country_name = %(param_8)s, country_iso2 = %(param_9)s, date_founded = %(param_10)s, hub_code = %(param_11)s, fleet_size = %(param_12)s, fleet_average_age = %(param_13)s, status = %(param_14)s, type = %(param_15)s, raw_payload = %(param_16)s::JSONB\n"
     ]
    },
    {
     "name": "stdout",
     "output_type": "stream",
     "text": [
      "2025-05-05 16:40:05,752 INFO sqlalchemy.engine.Engine [no key 0.00073s] {'iata_code': 'EK', 'airline_id': '15', 'id': '4597465', 'icao_code': 'UAE', 'iata_prefix_accounting': '176', 'airline_name': 'Emirates', 'callsign': 'EMIRATES', 'country_name': 'United Arab Emirates', 'country_iso2': 'AE', 'date_founded': '1985', 'hub_code': 'DXB', 'fleet_size': '249', 'fleet_average_age': '6.1', 'status': 'active', 'type': 'scheduled', 'raw_payload': '{\"id\": \"4597465\", \"fleet_average_age\": \"6.1\", \"airline_id\": \"15\", \"callsign\": \"EMIRATES\", \"hub_code\": \"DXB\", \"iata_code\": \"EK\", \"icao_code\": \"UAE\", \" ... (58 characters truncated) ... accounting\": \"176\", \"airline_name\": \"Emirates\", \"country_name\": \"United Arab Emirates\", \"fleet_size\": \"249\", \"status\": \"active\", \"type\": \"scheduled\"}', 'param_1': 'EK', 'param_2': '15', 'param_3': '4597465', 'param_4': 'UAE', 'param_5': '176', 'param_6': 'Emirates', 'param_7': 'EMIRATES', 'param_8': 'United Arab Emirates', 'param_9': 'AE', 'param_10': '1985', 'param_11': 'DXB', 'param_12': '249', 'param_13': '6.1', 'param_14': 'active', 'param_15': 'scheduled', 'param_16': '{\"id\": \"4597465\", \"fleet_average_age\": \"6.1\", \"airline_id\": \"15\", \"callsign\": \"EMIRATES\", \"hub_code\": \"DXB\", \"iata_code\": \"EK\", \"icao_code\": \"UAE\", \" ... (58 characters truncated) ... accounting\": \"176\", \"airline_name\": \"Emirates\", \"country_name\": \"United Arab Emirates\", \"fleet_size\": \"249\", \"status\": \"active\", \"type\": \"scheduled\"}'}\n"
     ]
    },
    {
     "name": "stderr",
     "output_type": "stream",
     "text": [
      "2025-05-05 16:40:05,752 - sqlalchemy.engine.Engine - INFO - [no key 0.00073s] {'iata_code': 'EK', 'airline_id': '15', 'id': '4597465', 'icao_code': 'UAE', 'iata_prefix_accounting': '176', 'airline_name': 'Emirates', 'callsign': 'EMIRATES', 'country_name': 'United Arab Emirates', 'country_iso2': 'AE', 'date_founded': '1985', 'hub_code': 'DXB', 'fleet_size': '249', 'fleet_average_age': '6.1', 'status': 'active', 'type': 'scheduled', 'raw_payload': '{\"id\": \"4597465\", \"fleet_average_age\": \"6.1\", \"airline_id\": \"15\", \"callsign\": \"EMIRATES\", \"hub_code\": \"DXB\", \"iata_code\": \"EK\", \"icao_code\": \"UAE\", \" ... (58 characters truncated) ... accounting\": \"176\", \"airline_name\": \"Emirates\", \"country_name\": \"United Arab Emirates\", \"fleet_size\": \"249\", \"status\": \"active\", \"type\": \"scheduled\"}', 'param_1': 'EK', 'param_2': '15', 'param_3': '4597465', 'param_4': 'UAE', 'param_5': '176', 'param_6': 'Emirates', 'param_7': 'EMIRATES', 'param_8': 'United Arab Emirates', 'param_9': 'AE', 'param_10': '1985', 'param_11': 'DXB', 'param_12': '249', 'param_13': '6.1', 'param_14': 'active', 'param_15': 'scheduled', 'param_16': '{\"id\": \"4597465\", \"fleet_average_age\": \"6.1\", \"airline_id\": \"15\", \"callsign\": \"EMIRATES\", \"hub_code\": \"DXB\", \"iata_code\": \"EK\", \"icao_code\": \"UAE\", \" ... (58 characters truncated) ... accounting\": \"176\", \"airline_name\": \"Emirates\", \"country_name\": \"United Arab Emirates\", \"fleet_size\": \"249\", \"status\": \"active\", \"type\": \"scheduled\"}'}\n"
     ]
    },
    {
     "name": "stdout",
     "output_type": "stream",
     "text": [
      "2025-05-05 16:40:05,757 INFO sqlalchemy.engine.Engine INSERT INTO airlines (iata_code, airline_id, id, icao_code, iata_prefix_accounting, airline_name, callsign, country_name, country_iso2, date_founded, hub_code, fleet_size, fleet_average_age, status, type, raw_payload) VALUES (%(iata_code)s, %(airline_id)s, %(id)s, %(icao_code)s, %(iata_prefix_accounting)s, %(airline_name)s, %(callsign)s, %(country_name)s, %(country_iso2)s, %(date_founded)s, %(hub_code)s, %(fleet_size)s, %(fleet_average_age)s, %(status)s, %(type)s, %(raw_payload)s::JSONB) ON CONFLICT (iata_code) DO UPDATE SET iata_code = %(param_1)s, airline_id = %(param_2)s, id = %(param_3)s, icao_code = %(param_4)s, iata_prefix_accounting = %(param_5)s, airline_name = %(param_6)s, callsign = %(param_7)s, country_name = %(param_8)s, country_iso2 = %(param_9)s, date_founded = %(param_10)s, hub_code = %(param_11)s, fleet_size = %(param_12)s, fleet_average_age = %(param_13)s, status = %(param_14)s, type = %(param_15)s, raw_payload = %(param_16)s::JSONB\n"
     ]
    },
    {
     "name": "stderr",
     "output_type": "stream",
     "text": [
      "2025-05-05 16:40:05,757 - sqlalchemy.engine.Engine - INFO - INSERT INTO airlines (iata_code, airline_id, id, icao_code, iata_prefix_accounting, airline_name, callsign, country_name, country_iso2, date_founded, hub_code, fleet_size, fleet_average_age, status, type, raw_payload) VALUES (%(iata_code)s, %(airline_id)s, %(id)s, %(icao_code)s, %(iata_prefix_accounting)s, %(airline_name)s, %(callsign)s, %(country_name)s, %(country_iso2)s, %(date_founded)s, %(hub_code)s, %(fleet_size)s, %(fleet_average_age)s, %(status)s, %(type)s, %(raw_payload)s::JSONB) ON CONFLICT (iata_code) DO UPDATE SET iata_code = %(param_1)s, airline_id = %(param_2)s, id = %(param_3)s, icao_code = %(param_4)s, iata_prefix_accounting = %(param_5)s, airline_name = %(param_6)s, callsign = %(param_7)s, country_name = %(param_8)s, country_iso2 = %(param_9)s, date_founded = %(param_10)s, hub_code = %(param_11)s, fleet_size = %(param_12)s, fleet_average_age = %(param_13)s, status = %(param_14)s, type = %(param_15)s, raw_payload = %(param_16)s::JSONB\n"
     ]
    },
    {
     "name": "stdout",
     "output_type": "stream",
     "text": [
      "2025-05-05 16:40:05,760 INFO sqlalchemy.engine.Engine [no key 0.00293s] {'iata_code': '5X', 'airline_id': '16', 'id': '4597466', 'icao_code': 'UPS', 'iata_prefix_accounting': '406', 'airline_name': 'UPS Airlines', 'callsign': 'UPS', 'country_name': 'United States', 'country_iso2': 'US', 'date_founded': '1907', 'hub_code': 'SDF', 'fleet_size': '237', 'fleet_average_age': '17.5', 'status': 'active', 'type': 'cargo', 'raw_payload': '{\"id\": \"4597466\", \"fleet_average_age\": \"17.5\", \"airline_id\": \"16\", \"callsign\": \"UPS\", \"hub_code\": \"SDF\", \"iata_code\": \"5X\", \"icao_code\": \"UPS\", \"coun ... (47 characters truncated) ... prefix_accounting\": \"406\", \"airline_name\": \"UPS Airlines\", \"country_name\": \"United States\", \"fleet_size\": \"237\", \"status\": \"active\", \"type\": \"cargo\"}', 'param_1': '5X', 'param_2': '16', 'param_3': '4597466', 'param_4': 'UPS', 'param_5': '406', 'param_6': 'UPS Airlines', 'param_7': 'UPS', 'param_8': 'United States', 'param_9': 'US', 'param_10': '1907', 'param_11': 'SDF', 'param_12': '237', 'param_13': '17.5', 'param_14': 'active', 'param_15': 'cargo', 'param_16': '{\"id\": \"4597466\", \"fleet_average_age\": \"17.5\", \"airline_id\": \"16\", \"callsign\": \"UPS\", \"hub_code\": \"SDF\", \"iata_code\": \"5X\", \"icao_code\": \"UPS\", \"coun ... (47 characters truncated) ... prefix_accounting\": \"406\", \"airline_name\": \"UPS Airlines\", \"country_name\": \"United States\", \"fleet_size\": \"237\", \"status\": \"active\", \"type\": \"cargo\"}'}\n"
     ]
    },
    {
     "name": "stderr",
     "output_type": "stream",
     "text": [
      "2025-05-05 16:40:05,760 - sqlalchemy.engine.Engine - INFO - [no key 0.00293s] {'iata_code': '5X', 'airline_id': '16', 'id': '4597466', 'icao_code': 'UPS', 'iata_prefix_accounting': '406', 'airline_name': 'UPS Airlines', 'callsign': 'UPS', 'country_name': 'United States', 'country_iso2': 'US', 'date_founded': '1907', 'hub_code': 'SDF', 'fleet_size': '237', 'fleet_average_age': '17.5', 'status': 'active', 'type': 'cargo', 'raw_payload': '{\"id\": \"4597466\", \"fleet_average_age\": \"17.5\", \"airline_id\": \"16\", \"callsign\": \"UPS\", \"hub_code\": \"SDF\", \"iata_code\": \"5X\", \"icao_code\": \"UPS\", \"coun ... (47 characters truncated) ... prefix_accounting\": \"406\", \"airline_name\": \"UPS Airlines\", \"country_name\": \"United States\", \"fleet_size\": \"237\", \"status\": \"active\", \"type\": \"cargo\"}', 'param_1': '5X', 'param_2': '16', 'param_3': '4597466', 'param_4': 'UPS', 'param_5': '406', 'param_6': 'UPS Airlines', 'param_7': 'UPS', 'param_8': 'United States', 'param_9': 'US', 'param_10': '1907', 'param_11': 'SDF', 'param_12': '237', 'param_13': '17.5', 'param_14': 'active', 'param_15': 'cargo', 'param_16': '{\"id\": \"4597466\", \"fleet_average_age\": \"17.5\", \"airline_id\": \"16\", \"callsign\": \"UPS\", \"hub_code\": \"SDF\", \"iata_code\": \"5X\", \"icao_code\": \"UPS\", \"coun ... (47 characters truncated) ... prefix_accounting\": \"406\", \"airline_name\": \"UPS Airlines\", \"country_name\": \"United States\", \"fleet_size\": \"237\", \"status\": \"active\", \"type\": \"cargo\"}'}\n"
     ]
    },
    {
     "name": "stdout",
     "output_type": "stream",
     "text": [
      "2025-05-05 16:40:05,765 INFO sqlalchemy.engine.Engine INSERT INTO airlines (iata_code, airline_id, id, icao_code, iata_prefix_accounting, airline_name, callsign, country_name, country_iso2, date_founded, hub_code, fleet_size, fleet_average_age, status, type, raw_payload) VALUES (%(iata_code)s, %(airline_id)s, %(id)s, %(icao_code)s, %(iata_prefix_accounting)s, %(airline_name)s, %(callsign)s, %(country_name)s, %(country_iso2)s, %(date_founded)s, %(hub_code)s, %(fleet_size)s, %(fleet_average_age)s, %(status)s, %(type)s, %(raw_payload)s::JSONB) ON CONFLICT (iata_code) DO UPDATE SET iata_code = %(param_1)s, airline_id = %(param_2)s, id = %(param_3)s, icao_code = %(param_4)s, iata_prefix_accounting = %(param_5)s, airline_name = %(param_6)s, callsign = %(param_7)s, country_name = %(param_8)s, country_iso2 = %(param_9)s, date_founded = %(param_10)s, hub_code = %(param_11)s, fleet_size = %(param_12)s, fleet_average_age = %(param_13)s, status = %(param_14)s, type = %(param_15)s, raw_payload = %(param_16)s::JSONB\n"
     ]
    },
    {
     "name": "stderr",
     "output_type": "stream",
     "text": [
      "2025-05-05 16:40:05,765 - sqlalchemy.engine.Engine - INFO - INSERT INTO airlines (iata_code, airline_id, id, icao_code, iata_prefix_accounting, airline_name, callsign, country_name, country_iso2, date_founded, hub_code, fleet_size, fleet_average_age, status, type, raw_payload) VALUES (%(iata_code)s, %(airline_id)s, %(id)s, %(icao_code)s, %(iata_prefix_accounting)s, %(airline_name)s, %(callsign)s, %(country_name)s, %(country_iso2)s, %(date_founded)s, %(hub_code)s, %(fleet_size)s, %(fleet_average_age)s, %(status)s, %(type)s, %(raw_payload)s::JSONB) ON CONFLICT (iata_code) DO UPDATE SET iata_code = %(param_1)s, airline_id = %(param_2)s, id = %(param_3)s, icao_code = %(param_4)s, iata_prefix_accounting = %(param_5)s, airline_name = %(param_6)s, callsign = %(param_7)s, country_name = %(param_8)s, country_iso2 = %(param_9)s, date_founded = %(param_10)s, hub_code = %(param_11)s, fleet_size = %(param_12)s, fleet_average_age = %(param_13)s, status = %(param_14)s, type = %(param_15)s, raw_payload = %(param_16)s::JSONB\n"
     ]
    },
    {
     "name": "stdout",
     "output_type": "stream",
     "text": [
      "2025-05-05 16:40:05,767 INFO sqlalchemy.engine.Engine [no key 0.00222s] {'iata_code': 'U2', 'airline_id': '17', 'id': '4597467', 'icao_code': 'EZY', 'iata_prefix_accounting': None, 'airline_name': 'Easyjet Airline Company Limited', 'callsign': 'EASY', 'country_name': 'United Kingdom', 'country_iso2': 'GB', 'date_founded': '1995', 'hub_code': 'LGW', 'fleet_size': '228', 'fleet_average_age': '6.6', 'status': 'active', 'type': 'scheduled', 'raw_payload': '{\"id\": \"4597467\", \"fleet_average_age\": \"6.6\", \"airline_id\": \"17\", \"callsign\": \"EASY\", \"hub_code\": \"LGW\", \"iata_code\": \"U2\", \"icao_code\": \"EZY\", \"coun ... (70 characters truncated) ... l, \"airline_name\": \"Easyjet Airline Company Limited\", \"country_name\": \"United Kingdom\", \"fleet_size\": \"228\", \"status\": \"active\", \"type\": \"scheduled\"}', 'param_1': 'U2', 'param_2': '17', 'param_3': '4597467', 'param_4': 'EZY', 'param_5': None, 'param_6': 'Easyjet Airline Company Limited', 'param_7': 'EASY', 'param_8': 'United Kingdom', 'param_9': 'GB', 'param_10': '1995', 'param_11': 'LGW', 'param_12': '228', 'param_13': '6.6', 'param_14': 'active', 'param_15': 'scheduled', 'param_16': '{\"id\": \"4597467\", \"fleet_average_age\": \"6.6\", \"airline_id\": \"17\", \"callsign\": \"EASY\", \"hub_code\": \"LGW\", \"iata_code\": \"U2\", \"icao_code\": \"EZY\", \"coun ... (70 characters truncated) ... l, \"airline_name\": \"Easyjet Airline Company Limited\", \"country_name\": \"United Kingdom\", \"fleet_size\": \"228\", \"status\": \"active\", \"type\": \"scheduled\"}'}\n"
     ]
    },
    {
     "name": "stderr",
     "output_type": "stream",
     "text": [
      "2025-05-05 16:40:05,767 - sqlalchemy.engine.Engine - INFO - [no key 0.00222s] {'iata_code': 'U2', 'airline_id': '17', 'id': '4597467', 'icao_code': 'EZY', 'iata_prefix_accounting': None, 'airline_name': 'Easyjet Airline Company Limited', 'callsign': 'EASY', 'country_name': 'United Kingdom', 'country_iso2': 'GB', 'date_founded': '1995', 'hub_code': 'LGW', 'fleet_size': '228', 'fleet_average_age': '6.6', 'status': 'active', 'type': 'scheduled', 'raw_payload': '{\"id\": \"4597467\", \"fleet_average_age\": \"6.6\", \"airline_id\": \"17\", \"callsign\": \"EASY\", \"hub_code\": \"LGW\", \"iata_code\": \"U2\", \"icao_code\": \"EZY\", \"coun ... (70 characters truncated) ... l, \"airline_name\": \"Easyjet Airline Company Limited\", \"country_name\": \"United Kingdom\", \"fleet_size\": \"228\", \"status\": \"active\", \"type\": \"scheduled\"}', 'param_1': 'U2', 'param_2': '17', 'param_3': '4597467', 'param_4': 'EZY', 'param_5': None, 'param_6': 'Easyjet Airline Company Limited', 'param_7': 'EASY', 'param_8': 'United Kingdom', 'param_9': 'GB', 'param_10': '1995', 'param_11': 'LGW', 'param_12': '228', 'param_13': '6.6', 'param_14': 'active', 'param_15': 'scheduled', 'param_16': '{\"id\": \"4597467\", \"fleet_average_age\": \"6.6\", \"airline_id\": \"17\", \"callsign\": \"EASY\", \"hub_code\": \"LGW\", \"iata_code\": \"U2\", \"icao_code\": \"EZY\", \"coun ... (70 characters truncated) ... l, \"airline_name\": \"Easyjet Airline Company Limited\", \"country_name\": \"United Kingdom\", \"fleet_size\": \"228\", \"status\": \"active\", \"type\": \"scheduled\"}'}\n"
     ]
    },
    {
     "name": "stdout",
     "output_type": "stream",
     "text": [
      "2025-05-05 16:40:05,853 INFO sqlalchemy.engine.Engine INSERT INTO airlines (iata_code, airline_id, id, icao_code, iata_prefix_accounting, airline_name, callsign, country_name, country_iso2, date_founded, hub_code, fleet_size, fleet_average_age, status, type, raw_payload) VALUES (%(iata_code)s, %(airline_id)s, %(id)s, %(icao_code)s, %(iata_prefix_accounting)s, %(airline_name)s, %(callsign)s, %(country_name)s, %(country_iso2)s, %(date_founded)s, %(hub_code)s, %(fleet_size)s, %(fleet_average_age)s, %(status)s, %(type)s, %(raw_payload)s::JSONB) ON CONFLICT (iata_code) DO UPDATE SET iata_code = %(param_1)s, airline_id = %(param_2)s, id = %(param_3)s, icao_code = %(param_4)s, iata_prefix_accounting = %(param_5)s, airline_name = %(param_6)s, callsign = %(param_7)s, country_name = %(param_8)s, country_iso2 = %(param_9)s, date_founded = %(param_10)s, hub_code = %(param_11)s, fleet_size = %(param_12)s, fleet_average_age = %(param_13)s, status = %(param_14)s, type = %(param_15)s, raw_payload = %(param_16)s::JSONB\n"
     ]
    },
    {
     "name": "stderr",
     "output_type": "stream",
     "text": [
      "2025-05-05 16:40:05,853 - sqlalchemy.engine.Engine - INFO - INSERT INTO airlines (iata_code, airline_id, id, icao_code, iata_prefix_accounting, airline_name, callsign, country_name, country_iso2, date_founded, hub_code, fleet_size, fleet_average_age, status, type, raw_payload) VALUES (%(iata_code)s, %(airline_id)s, %(id)s, %(icao_code)s, %(iata_prefix_accounting)s, %(airline_name)s, %(callsign)s, %(country_name)s, %(country_iso2)s, %(date_founded)s, %(hub_code)s, %(fleet_size)s, %(fleet_average_age)s, %(status)s, %(type)s, %(raw_payload)s::JSONB) ON CONFLICT (iata_code) DO UPDATE SET iata_code = %(param_1)s, airline_id = %(param_2)s, id = %(param_3)s, icao_code = %(param_4)s, iata_prefix_accounting = %(param_5)s, airline_name = %(param_6)s, callsign = %(param_7)s, country_name = %(param_8)s, country_iso2 = %(param_9)s, date_founded = %(param_10)s, hub_code = %(param_11)s, fleet_size = %(param_12)s, fleet_average_age = %(param_13)s, status = %(param_14)s, type = %(param_15)s, raw_payload = %(param_16)s::JSONB\n"
     ]
    },
    {
     "name": "stdout",
     "output_type": "stream",
     "text": [
      "2025-05-05 16:40:05,854 INFO sqlalchemy.engine.Engine [no key 0.00086s] {'iata_code': 'AF', 'airline_id': '18', 'id': '4597468', 'icao_code': 'AFR', 'iata_prefix_accounting': '57', 'airline_name': 'Air France', 'callsign': 'AIRFRANS', 'country_name': 'France', 'country_iso2': 'FR', 'date_founded': '1933', 'hub_code': 'CDG', 'fleet_size': '226', 'fleet_average_age': '11.7', 'status': 'active', 'type': 'scheduled', 'raw_payload': '{\"id\": \"4597468\", \"fleet_average_age\": \"11.7\", \"airline_id\": \"18\", \"callsign\": \"AIRFRANS\", \"hub_code\": \"CDG\", \"iata_code\": \"AF\", \"icao_code\": \"AFR\",  ... (46 characters truncated) ... \"iata_prefix_accounting\": \"57\", \"airline_name\": \"Air France\", \"country_name\": \"France\", \"fleet_size\": \"226\", \"status\": \"active\", \"type\": \"scheduled\"}', 'param_1': 'AF', 'param_2': '18', 'param_3': '4597468', 'param_4': 'AFR', 'param_5': '57', 'param_6': 'Air France', 'param_7': 'AIRFRANS', 'param_8': 'France', 'param_9': 'FR', 'param_10': '1933', 'param_11': 'CDG', 'param_12': '226', 'param_13': '11.7', 'param_14': 'active', 'param_15': 'scheduled', 'param_16': '{\"id\": \"4597468\", \"fleet_average_age\": \"11.7\", \"airline_id\": \"18\", \"callsign\": \"AIRFRANS\", \"hub_code\": \"CDG\", \"iata_code\": \"AF\", \"icao_code\": \"AFR\",  ... (46 characters truncated) ... \"iata_prefix_accounting\": \"57\", \"airline_name\": \"Air France\", \"country_name\": \"France\", \"fleet_size\": \"226\", \"status\": \"active\", \"type\": \"scheduled\"}'}\n"
     ]
    },
    {
     "name": "stderr",
     "output_type": "stream",
     "text": [
      "2025-05-05 16:40:05,854 - sqlalchemy.engine.Engine - INFO - [no key 0.00086s] {'iata_code': 'AF', 'airline_id': '18', 'id': '4597468', 'icao_code': 'AFR', 'iata_prefix_accounting': '57', 'airline_name': 'Air France', 'callsign': 'AIRFRANS', 'country_name': 'France', 'country_iso2': 'FR', 'date_founded': '1933', 'hub_code': 'CDG', 'fleet_size': '226', 'fleet_average_age': '11.7', 'status': 'active', 'type': 'scheduled', 'raw_payload': '{\"id\": \"4597468\", \"fleet_average_age\": \"11.7\", \"airline_id\": \"18\", \"callsign\": \"AIRFRANS\", \"hub_code\": \"CDG\", \"iata_code\": \"AF\", \"icao_code\": \"AFR\",  ... (46 characters truncated) ... \"iata_prefix_accounting\": \"57\", \"airline_name\": \"Air France\", \"country_name\": \"France\", \"fleet_size\": \"226\", \"status\": \"active\", \"type\": \"scheduled\"}', 'param_1': 'AF', 'param_2': '18', 'param_3': '4597468', 'param_4': 'AFR', 'param_5': '57', 'param_6': 'Air France', 'param_7': 'AIRFRANS', 'param_8': 'France', 'param_9': 'FR', 'param_10': '1933', 'param_11': 'CDG', 'param_12': '226', 'param_13': '11.7', 'param_14': 'active', 'param_15': 'scheduled', 'param_16': '{\"id\": \"4597468\", \"fleet_average_age\": \"11.7\", \"airline_id\": \"18\", \"callsign\": \"AIRFRANS\", \"hub_code\": \"CDG\", \"iata_code\": \"AF\", \"icao_code\": \"AFR\",  ... (46 characters truncated) ... \"iata_prefix_accounting\": \"57\", \"airline_name\": \"Air France\", \"country_name\": \"France\", \"fleet_size\": \"226\", \"status\": \"active\", \"type\": \"scheduled\"}'}\n"
     ]
    },
    {
     "name": "stdout",
     "output_type": "stream",
     "text": [
      "2025-05-05 16:40:05,856 INFO sqlalchemy.engine.Engine INSERT INTO airlines (iata_code, airline_id, id, icao_code, iata_prefix_accounting, airline_name, callsign, country_name, country_iso2, date_founded, hub_code, fleet_size, fleet_average_age, status, type, raw_payload) VALUES (%(iata_code)s, %(airline_id)s, %(id)s, %(icao_code)s, %(iata_prefix_accounting)s, %(airline_name)s, %(callsign)s, %(country_name)s, %(country_iso2)s, %(date_founded)s, %(hub_code)s, %(fleet_size)s, %(fleet_average_age)s, %(status)s, %(type)s, %(raw_payload)s::JSONB) ON CONFLICT (iata_code) DO UPDATE SET iata_code = %(param_1)s, airline_id = %(param_2)s, id = %(param_3)s, icao_code = %(param_4)s, iata_prefix_accounting = %(param_5)s, airline_name = %(param_6)s, callsign = %(param_7)s, country_name = %(param_8)s, country_iso2 = %(param_9)s, date_founded = %(param_10)s, hub_code = %(param_11)s, fleet_size = %(param_12)s, fleet_average_age = %(param_13)s, status = %(param_14)s, type = %(param_15)s, raw_payload = %(param_16)s::JSONB\n"
     ]
    },
    {
     "name": "stderr",
     "output_type": "stream",
     "text": [
      "2025-05-05 16:40:05,856 - sqlalchemy.engine.Engine - INFO - INSERT INTO airlines (iata_code, airline_id, id, icao_code, iata_prefix_accounting, airline_name, callsign, country_name, country_iso2, date_founded, hub_code, fleet_size, fleet_average_age, status, type, raw_payload) VALUES (%(iata_code)s, %(airline_id)s, %(id)s, %(icao_code)s, %(iata_prefix_accounting)s, %(airline_name)s, %(callsign)s, %(country_name)s, %(country_iso2)s, %(date_founded)s, %(hub_code)s, %(fleet_size)s, %(fleet_average_age)s, %(status)s, %(type)s, %(raw_payload)s::JSONB) ON CONFLICT (iata_code) DO UPDATE SET iata_code = %(param_1)s, airline_id = %(param_2)s, id = %(param_3)s, icao_code = %(param_4)s, iata_prefix_accounting = %(param_5)s, airline_name = %(param_6)s, callsign = %(param_7)s, country_name = %(param_8)s, country_iso2 = %(param_9)s, date_founded = %(param_10)s, hub_code = %(param_11)s, fleet_size = %(param_12)s, fleet_average_age = %(param_13)s, status = %(param_14)s, type = %(param_15)s, raw_payload = %(param_16)s::JSONB\n"
     ]
    },
    {
     "name": "stdout",
     "output_type": "stream",
     "text": [
      "2025-05-05 16:40:05,857 INFO sqlalchemy.engine.Engine [no key 0.00064s] {'iata_code': 'B6', 'airline_id': '19', 'id': '4597469', 'icao_code': 'JBU', 'iata_prefix_accounting': '279', 'airline_name': 'JetBlue', 'callsign': 'JETBLUE', 'country_name': 'United States', 'country_iso2': 'US', 'date_founded': '2000', 'hub_code': 'JFK', 'fleet_size': '218', 'fleet_average_age': '8.7', 'status': 'active', 'type': 'scheduled', 'raw_payload': '{\"id\": \"4597469\", \"fleet_average_age\": \"8.7\", \"airline_id\": \"19\", \"callsign\": \"JETBLUE\", \"hub_code\": \"JFK\", \"iata_code\": \"B6\", \"icao_code\": \"JBU\", \"c ... (49 characters truncated) ... _prefix_accounting\": \"279\", \"airline_name\": \"JetBlue\", \"country_name\": \"United States\", \"fleet_size\": \"218\", \"status\": \"active\", \"type\": \"scheduled\"}', 'param_1': 'B6', 'param_2': '19', 'param_3': '4597469', 'param_4': 'JBU', 'param_5': '279', 'param_6': 'JetBlue', 'param_7': 'JETBLUE', 'param_8': 'United States', 'param_9': 'US', 'param_10': '2000', 'param_11': 'JFK', 'param_12': '218', 'param_13': '8.7', 'param_14': 'active', 'param_15': 'scheduled', 'param_16': '{\"id\": \"4597469\", \"fleet_average_age\": \"8.7\", \"airline_id\": \"19\", \"callsign\": \"JETBLUE\", \"hub_code\": \"JFK\", \"iata_code\": \"B6\", \"icao_code\": \"JBU\", \"c ... (49 characters truncated) ... _prefix_accounting\": \"279\", \"airline_name\": \"JetBlue\", \"country_name\": \"United States\", \"fleet_size\": \"218\", \"status\": \"active\", \"type\": \"scheduled\"}'}\n"
     ]
    },
    {
     "name": "stderr",
     "output_type": "stream",
     "text": [
      "2025-05-05 16:40:05,857 - sqlalchemy.engine.Engine - INFO - [no key 0.00064s] {'iata_code': 'B6', 'airline_id': '19', 'id': '4597469', 'icao_code': 'JBU', 'iata_prefix_accounting': '279', 'airline_name': 'JetBlue', 'callsign': 'JETBLUE', 'country_name': 'United States', 'country_iso2': 'US', 'date_founded': '2000', 'hub_code': 'JFK', 'fleet_size': '218', 'fleet_average_age': '8.7', 'status': 'active', 'type': 'scheduled', 'raw_payload': '{\"id\": \"4597469\", \"fleet_average_age\": \"8.7\", \"airline_id\": \"19\", \"callsign\": \"JETBLUE\", \"hub_code\": \"JFK\", \"iata_code\": \"B6\", \"icao_code\": \"JBU\", \"c ... (49 characters truncated) ... _prefix_accounting\": \"279\", \"airline_name\": \"JetBlue\", \"country_name\": \"United States\", \"fleet_size\": \"218\", \"status\": \"active\", \"type\": \"scheduled\"}', 'param_1': 'B6', 'param_2': '19', 'param_3': '4597469', 'param_4': 'JBU', 'param_5': '279', 'param_6': 'JetBlue', 'param_7': 'JETBLUE', 'param_8': 'United States', 'param_9': 'US', 'param_10': '2000', 'param_11': 'JFK', 'param_12': '218', 'param_13': '8.7', 'param_14': 'active', 'param_15': 'scheduled', 'param_16': '{\"id\": \"4597469\", \"fleet_average_age\": \"8.7\", \"airline_id\": \"19\", \"callsign\": \"JETBLUE\", \"hub_code\": \"JFK\", \"iata_code\": \"B6\", \"icao_code\": \"JBU\", \"c ... (49 characters truncated) ... _prefix_accounting\": \"279\", \"airline_name\": \"JetBlue\", \"country_name\": \"United States\", \"fleet_size\": \"218\", \"status\": \"active\", \"type\": \"scheduled\"}'}\n"
     ]
    },
    {
     "name": "stdout",
     "output_type": "stream",
     "text": [
      "2025-05-05 16:40:05,859 INFO sqlalchemy.engine.Engine INSERT INTO airlines (iata_code, airline_id, id, icao_code, iata_prefix_accounting, airline_name, callsign, country_name, country_iso2, date_founded, hub_code, fleet_size, fleet_average_age, status, type, raw_payload) VALUES (%(iata_code)s, %(airline_id)s, %(id)s, %(icao_code)s, %(iata_prefix_accounting)s, %(airline_name)s, %(callsign)s, %(country_name)s, %(country_iso2)s, %(date_founded)s, %(hub_code)s, %(fleet_size)s, %(fleet_average_age)s, %(status)s, %(type)s, %(raw_payload)s::JSONB) ON CONFLICT (iata_code) DO UPDATE SET iata_code = %(param_1)s, airline_id = %(param_2)s, id = %(param_3)s, icao_code = %(param_4)s, iata_prefix_accounting = %(param_5)s, airline_name = %(param_6)s, callsign = %(param_7)s, country_name = %(param_8)s, country_iso2 = %(param_9)s, date_founded = %(param_10)s, hub_code = %(param_11)s, fleet_size = %(param_12)s, fleet_average_age = %(param_13)s, status = %(param_14)s, type = %(param_15)s, raw_payload = %(param_16)s::JSONB\n"
     ]
    },
    {
     "name": "stderr",
     "output_type": "stream",
     "text": [
      "2025-05-05 16:40:05,859 - sqlalchemy.engine.Engine - INFO - INSERT INTO airlines (iata_code, airline_id, id, icao_code, iata_prefix_accounting, airline_name, callsign, country_name, country_iso2, date_founded, hub_code, fleet_size, fleet_average_age, status, type, raw_payload) VALUES (%(iata_code)s, %(airline_id)s, %(id)s, %(icao_code)s, %(iata_prefix_accounting)s, %(airline_name)s, %(callsign)s, %(country_name)s, %(country_iso2)s, %(date_founded)s, %(hub_code)s, %(fleet_size)s, %(fleet_average_age)s, %(status)s, %(type)s, %(raw_payload)s::JSONB) ON CONFLICT (iata_code) DO UPDATE SET iata_code = %(param_1)s, airline_id = %(param_2)s, id = %(param_3)s, icao_code = %(param_4)s, iata_prefix_accounting = %(param_5)s, airline_name = %(param_6)s, callsign = %(param_7)s, country_name = %(param_8)s, country_iso2 = %(param_9)s, date_founded = %(param_10)s, hub_code = %(param_11)s, fleet_size = %(param_12)s, fleet_average_age = %(param_13)s, status = %(param_14)s, type = %(param_15)s, raw_payload = %(param_16)s::JSONB\n"
     ]
    },
    {
     "name": "stdout",
     "output_type": "stream",
     "text": [
      "2025-05-05 16:40:05,860 INFO sqlalchemy.engine.Engine [no key 0.00161s] {'iata_code': 'NH', 'airline_id': '20', 'id': '4597470', 'icao_code': 'ANA', 'iata_prefix_accounting': '205', 'airline_name': 'All Nippon Airways', 'callsign': 'ALL NIPPON', 'country_name': 'Japan', 'country_iso2': 'JP', 'date_founded': '1952', 'hub_code': 'HND', 'fleet_size': '206', 'fleet_average_age': '9.5', 'status': 'active', 'type': 'scheduled', 'raw_payload': '{\"id\": \"4597470\", \"fleet_average_age\": \"9.5\", \"airline_id\": \"20\", \"callsign\": \"ALL NIPPON\", \"hub_code\": \"HND\", \"iata_code\": \"NH\", \"icao_code\": \"ANA\", ... (55 characters truncated) ... efix_accounting\": \"205\", \"airline_name\": \"All Nippon Airways\", \"country_name\": \"Japan\", \"fleet_size\": \"206\", \"status\": \"active\", \"type\": \"scheduled\"}', 'param_1': 'NH', 'param_2': '20', 'param_3': '4597470', 'param_4': 'ANA', 'param_5': '205', 'param_6': 'All Nippon Airways', 'param_7': 'ALL NIPPON', 'param_8': 'Japan', 'param_9': 'JP', 'param_10': '1952', 'param_11': 'HND', 'param_12': '206', 'param_13': '9.5', 'param_14': 'active', 'param_15': 'scheduled', 'param_16': '{\"id\": \"4597470\", \"fleet_average_age\": \"9.5\", \"airline_id\": \"20\", \"callsign\": \"ALL NIPPON\", \"hub_code\": \"HND\", \"iata_code\": \"NH\", \"icao_code\": \"ANA\", ... (55 characters truncated) ... efix_accounting\": \"205\", \"airline_name\": \"All Nippon Airways\", \"country_name\": \"Japan\", \"fleet_size\": \"206\", \"status\": \"active\", \"type\": \"scheduled\"}'}\n"
     ]
    },
    {
     "name": "stderr",
     "output_type": "stream",
     "text": [
      "2025-05-05 16:40:05,860 - sqlalchemy.engine.Engine - INFO - [no key 0.00161s] {'iata_code': 'NH', 'airline_id': '20', 'id': '4597470', 'icao_code': 'ANA', 'iata_prefix_accounting': '205', 'airline_name': 'All Nippon Airways', 'callsign': 'ALL NIPPON', 'country_name': 'Japan', 'country_iso2': 'JP', 'date_founded': '1952', 'hub_code': 'HND', 'fleet_size': '206', 'fleet_average_age': '9.5', 'status': 'active', 'type': 'scheduled', 'raw_payload': '{\"id\": \"4597470\", \"fleet_average_age\": \"9.5\", \"airline_id\": \"20\", \"callsign\": \"ALL NIPPON\", \"hub_code\": \"HND\", \"iata_code\": \"NH\", \"icao_code\": \"ANA\", ... (55 characters truncated) ... efix_accounting\": \"205\", \"airline_name\": \"All Nippon Airways\", \"country_name\": \"Japan\", \"fleet_size\": \"206\", \"status\": \"active\", \"type\": \"scheduled\"}', 'param_1': 'NH', 'param_2': '20', 'param_3': '4597470', 'param_4': 'ANA', 'param_5': '205', 'param_6': 'All Nippon Airways', 'param_7': 'ALL NIPPON', 'param_8': 'Japan', 'param_9': 'JP', 'param_10': '1952', 'param_11': 'HND', 'param_12': '206', 'param_13': '9.5', 'param_14': 'active', 'param_15': 'scheduled', 'param_16': '{\"id\": \"4597470\", \"fleet_average_age\": \"9.5\", \"airline_id\": \"20\", \"callsign\": \"ALL NIPPON\", \"hub_code\": \"HND\", \"iata_code\": \"NH\", \"icao_code\": \"ANA\", ... (55 characters truncated) ... efix_accounting\": \"205\", \"airline_name\": \"All Nippon Airways\", \"country_name\": \"Japan\", \"fleet_size\": \"206\", \"status\": \"active\", \"type\": \"scheduled\"}'}\n"
     ]
    },
    {
     "name": "stdout",
     "output_type": "stream",
     "text": [
      "2025-05-05 16:40:05,863 INFO sqlalchemy.engine.Engine COMMIT\n"
     ]
    },
    {
     "name": "stderr",
     "output_type": "stream",
     "text": [
      "2025-05-05 16:40:05,863 - sqlalchemy.engine.Engine - INFO - COMMIT\n",
      "2025-05-05 16:40:05,866 - scripts.flight_data_processor - INFO - Processed 10 airline records\n"
     ]
    },
    {
     "name": "stdout",
     "output_type": "stream",
     "text": [
      "Batch processed.\n",
      "Waiting before next call...\n",
      "-- Airlines Call 3/3 (Offset: 20) --\n",
      "API call successful. Fetched 10 records.\n",
      "Processing batch...\n",
      "2025-05-05 16:40:08,285 INFO sqlalchemy.engine.Engine BEGIN (implicit)\n"
     ]
    },
    {
     "name": "stderr",
     "output_type": "stream",
     "text": [
      "2025-05-05 16:40:08,285 - sqlalchemy.engine.Engine - INFO - BEGIN (implicit)\n"
     ]
    },
    {
     "name": "stdout",
     "output_type": "stream",
     "text": [
      "2025-05-05 16:40:08,287 INFO sqlalchemy.engine.Engine INSERT INTO airlines (iata_code, airline_id, id, icao_code, iata_prefix_accounting, airline_name, callsign, country_name, country_iso2, date_founded, hub_code, fleet_size, fleet_average_age, status, type, raw_payload) VALUES (%(iata_code)s, %(airline_id)s, %(id)s, %(icao_code)s, %(iata_prefix_accounting)s, %(airline_name)s, %(callsign)s, %(country_name)s, %(country_iso2)s, %(date_founded)s, %(hub_code)s, %(fleet_size)s, %(fleet_average_age)s, %(status)s, %(type)s, %(raw_payload)s::JSONB) ON CONFLICT (iata_code) DO UPDATE SET iata_code = %(param_1)s, airline_id = %(param_2)s, id = %(param_3)s, icao_code = %(param_4)s, iata_prefix_accounting = %(param_5)s, airline_name = %(param_6)s, callsign = %(param_7)s, country_name = %(param_8)s, country_iso2 = %(param_9)s, date_founded = %(param_10)s, hub_code = %(param_11)s, fleet_size = %(param_12)s, fleet_average_age = %(param_13)s, status = %(param_14)s, type = %(param_15)s, raw_payload = %(param_16)s::JSONB\n"
     ]
    },
    {
     "name": "stderr",
     "output_type": "stream",
     "text": [
      "2025-05-05 16:40:08,287 - sqlalchemy.engine.Engine - INFO - INSERT INTO airlines (iata_code, airline_id, id, icao_code, iata_prefix_accounting, airline_name, callsign, country_name, country_iso2, date_founded, hub_code, fleet_size, fleet_average_age, status, type, raw_payload) VALUES (%(iata_code)s, %(airline_id)s, %(id)s, %(icao_code)s, %(iata_prefix_accounting)s, %(airline_name)s, %(callsign)s, %(country_name)s, %(country_iso2)s, %(date_founded)s, %(hub_code)s, %(fleet_size)s, %(fleet_average_age)s, %(status)s, %(type)s, %(raw_payload)s::JSONB) ON CONFLICT (iata_code) DO UPDATE SET iata_code = %(param_1)s, airline_id = %(param_2)s, id = %(param_3)s, icao_code = %(param_4)s, iata_prefix_accounting = %(param_5)s, airline_name = %(param_6)s, callsign = %(param_7)s, country_name = %(param_8)s, country_iso2 = %(param_9)s, date_founded = %(param_10)s, hub_code = %(param_11)s, fleet_size = %(param_12)s, fleet_average_age = %(param_13)s, status = %(param_14)s, type = %(param_15)s, raw_payload = %(param_16)s::JSONB\n"
     ]
    },
    {
     "name": "stdout",
     "output_type": "stream",
     "text": [
      "2025-05-05 16:40:08,288 INFO sqlalchemy.engine.Engine [no key 0.00100s] {'iata_code': 'QR', 'airline_id': '21', 'id': '4597471', 'icao_code': 'QTR', 'iata_prefix_accounting': '157', 'airline_name': 'Qatar Airways', 'callsign': 'QATARI', 'country_name': 'Qatar', 'country_iso2': 'QA', 'date_founded': '1994', 'hub_code': 'DOH', 'fleet_size': '176', 'fleet_average_age': '5.7', 'status': 'active', 'type': 'scheduled', 'raw_payload': '{\"id\": \"4597471\", \"fleet_average_age\": \"5.7\", \"airline_id\": \"21\", \"callsign\": \"QATARI\", \"hub_code\": \"DOH\", \"iata_code\": \"QR\", \"icao_code\": \"QTR\", \"co ... (46 characters truncated) ... ta_prefix_accounting\": \"157\", \"airline_name\": \"Qatar Airways\", \"country_name\": \"Qatar\", \"fleet_size\": \"176\", \"status\": \"active\", \"type\": \"scheduled\"}', 'param_1': 'QR', 'param_2': '21', 'param_3': '4597471', 'param_4': 'QTR', 'param_5': '157', 'param_6': 'Qatar Airways', 'param_7': 'QATARI', 'param_8': 'Qatar', 'param_9': 'QA', 'param_10': '1994', 'param_11': 'DOH', 'param_12': '176', 'param_13': '5.7', 'param_14': 'active', 'param_15': 'scheduled', 'param_16': '{\"id\": \"4597471\", \"fleet_average_age\": \"5.7\", \"airline_id\": \"21\", \"callsign\": \"QATARI\", \"hub_code\": \"DOH\", \"iata_code\": \"QR\", \"icao_code\": \"QTR\", \"co ... (46 characters truncated) ... ta_prefix_accounting\": \"157\", \"airline_name\": \"Qatar Airways\", \"country_name\": \"Qatar\", \"fleet_size\": \"176\", \"status\": \"active\", \"type\": \"scheduled\"}'}\n"
     ]
    },
    {
     "name": "stderr",
     "output_type": "stream",
     "text": [
      "2025-05-05 16:40:08,288 - sqlalchemy.engine.Engine - INFO - [no key 0.00100s] {'iata_code': 'QR', 'airline_id': '21', 'id': '4597471', 'icao_code': 'QTR', 'iata_prefix_accounting': '157', 'airline_name': 'Qatar Airways', 'callsign': 'QATARI', 'country_name': 'Qatar', 'country_iso2': 'QA', 'date_founded': '1994', 'hub_code': 'DOH', 'fleet_size': '176', 'fleet_average_age': '5.7', 'status': 'active', 'type': 'scheduled', 'raw_payload': '{\"id\": \"4597471\", \"fleet_average_age\": \"5.7\", \"airline_id\": \"21\", \"callsign\": \"QATARI\", \"hub_code\": \"DOH\", \"iata_code\": \"QR\", \"icao_code\": \"QTR\", \"co ... (46 characters truncated) ... ta_prefix_accounting\": \"157\", \"airline_name\": \"Qatar Airways\", \"country_name\": \"Qatar\", \"fleet_size\": \"176\", \"status\": \"active\", \"type\": \"scheduled\"}', 'param_1': 'QR', 'param_2': '21', 'param_3': '4597471', 'param_4': 'QTR', 'param_5': '157', 'param_6': 'Qatar Airways', 'param_7': 'QATARI', 'param_8': 'Qatar', 'param_9': 'QA', 'param_10': '1994', 'param_11': 'DOH', 'param_12': '176', 'param_13': '5.7', 'param_14': 'active', 'param_15': 'scheduled', 'param_16': '{\"id\": \"4597471\", \"fleet_average_age\": \"5.7\", \"airline_id\": \"21\", \"callsign\": \"QATARI\", \"hub_code\": \"DOH\", \"iata_code\": \"QR\", \"icao_code\": \"QTR\", \"co ... (46 characters truncated) ... ta_prefix_accounting\": \"157\", \"airline_name\": \"Qatar Airways\", \"country_name\": \"Qatar\", \"fleet_size\": \"176\", \"status\": \"active\", \"type\": \"scheduled\"}'}\n"
     ]
    },
    {
     "name": "stdout",
     "output_type": "stream",
     "text": [
      "2025-05-05 16:40:08,291 INFO sqlalchemy.engine.Engine INSERT INTO airlines (iata_code, airline_id, id, icao_code, iata_prefix_accounting, airline_name, callsign, country_name, country_iso2, date_founded, hub_code, fleet_size, fleet_average_age, status, type, raw_payload) VALUES (%(iata_code)s, %(airline_id)s, %(id)s, %(icao_code)s, %(iata_prefix_accounting)s, %(airline_name)s, %(callsign)s, %(country_name)s, %(country_iso2)s, %(date_founded)s, %(hub_code)s, %(fleet_size)s, %(fleet_average_age)s, %(status)s, %(type)s, %(raw_payload)s::JSONB) ON CONFLICT (iata_code) DO UPDATE SET iata_code = %(param_1)s, airline_id = %(param_2)s, id = %(param_3)s, icao_code = %(param_4)s, iata_prefix_accounting = %(param_5)s, airline_name = %(param_6)s, callsign = %(param_7)s, country_name = %(param_8)s, country_iso2 = %(param_9)s, date_founded = %(param_10)s, hub_code = %(param_11)s, fleet_size = %(param_12)s, fleet_average_age = %(param_13)s, status = %(param_14)s, type = %(param_15)s, raw_payload = %(param_16)s::JSONB\n"
     ]
    },
    {
     "name": "stderr",
     "output_type": "stream",
     "text": [
      "2025-05-05 16:40:08,291 - sqlalchemy.engine.Engine - INFO - INSERT INTO airlines (iata_code, airline_id, id, icao_code, iata_prefix_accounting, airline_name, callsign, country_name, country_iso2, date_founded, hub_code, fleet_size, fleet_average_age, status, type, raw_payload) VALUES (%(iata_code)s, %(airline_id)s, %(id)s, %(icao_code)s, %(iata_prefix_accounting)s, %(airline_name)s, %(callsign)s, %(country_name)s, %(country_iso2)s, %(date_founded)s, %(hub_code)s, %(fleet_size)s, %(fleet_average_age)s, %(status)s, %(type)s, %(raw_payload)s::JSONB) ON CONFLICT (iata_code) DO UPDATE SET iata_code = %(param_1)s, airline_id = %(param_2)s, id = %(param_3)s, icao_code = %(param_4)s, iata_prefix_accounting = %(param_5)s, airline_name = %(param_6)s, callsign = %(param_7)s, country_name = %(param_8)s, country_iso2 = %(param_9)s, date_founded = %(param_10)s, hub_code = %(param_11)s, fleet_size = %(param_12)s, fleet_average_age = %(param_13)s, status = %(param_14)s, type = %(param_15)s, raw_payload = %(param_16)s::JSONB\n"
     ]
    },
    {
     "name": "stdout",
     "output_type": "stream",
     "text": [
      "2025-05-05 16:40:08,292 INFO sqlalchemy.engine.Engine [no key 0.00154s] {'iata_code': 'MQ', 'airline_id': '22', 'id': '4597472', 'icao_code': 'ENY', 'iata_prefix_accounting': '93', 'airline_name': 'Envoy Air Inc.', 'callsign': 'ENVOY', 'country_name': 'United States Minor Outlying Islands', 'country_iso2': 'UM', 'date_founded': '2014', 'hub_code': 'DFW', 'fleet_size': '171', 'fleet_average_age': '11.6', 'status': 'active', 'type': 'scheduled', 'raw_payload': '{\"id\": \"4597472\", \"fleet_average_age\": \"11.6\", \"airline_id\": \"22\", \"callsign\": \"ENVOY\", \"hub_code\": \"DFW\", \"iata_code\": \"MQ\", \"icao_code\": \"ENY\", \"co ... (77 characters truncated) ... irline_name\": \"Envoy Air Inc.\", \"country_name\": \"United States Minor Outlying Islands\", \"fleet_size\": \"171\", \"status\": \"active\", \"type\": \"scheduled\"}', 'param_1': 'MQ', 'param_2': '22', 'param_3': '4597472', 'param_4': 'ENY', 'param_5': '93', 'param_6': 'Envoy Air Inc.', 'param_7': 'ENVOY', 'param_8': 'United States Minor Outlying Islands', 'param_9': 'UM', 'param_10': '2014', 'param_11': 'DFW', 'param_12': '171', 'param_13': '11.6', 'param_14': 'active', 'param_15': 'scheduled', 'param_16': '{\"id\": \"4597472\", \"fleet_average_age\": \"11.6\", \"airline_id\": \"22\", \"callsign\": \"ENVOY\", \"hub_code\": \"DFW\", \"iata_code\": \"MQ\", \"icao_code\": \"ENY\", \"co ... (77 characters truncated) ... irline_name\": \"Envoy Air Inc.\", \"country_name\": \"United States Minor Outlying Islands\", \"fleet_size\": \"171\", \"status\": \"active\", \"type\": \"scheduled\"}'}\n"
     ]
    },
    {
     "name": "stderr",
     "output_type": "stream",
     "text": [
      "2025-05-05 16:40:08,292 - sqlalchemy.engine.Engine - INFO - [no key 0.00154s] {'iata_code': 'MQ', 'airline_id': '22', 'id': '4597472', 'icao_code': 'ENY', 'iata_prefix_accounting': '93', 'airline_name': 'Envoy Air Inc.', 'callsign': 'ENVOY', 'country_name': 'United States Minor Outlying Islands', 'country_iso2': 'UM', 'date_founded': '2014', 'hub_code': 'DFW', 'fleet_size': '171', 'fleet_average_age': '11.6', 'status': 'active', 'type': 'scheduled', 'raw_payload': '{\"id\": \"4597472\", \"fleet_average_age\": \"11.6\", \"airline_id\": \"22\", \"callsign\": \"ENVOY\", \"hub_code\": \"DFW\", \"iata_code\": \"MQ\", \"icao_code\": \"ENY\", \"co ... (77 characters truncated) ... irline_name\": \"Envoy Air Inc.\", \"country_name\": \"United States Minor Outlying Islands\", \"fleet_size\": \"171\", \"status\": \"active\", \"type\": \"scheduled\"}', 'param_1': 'MQ', 'param_2': '22', 'param_3': '4597472', 'param_4': 'ENY', 'param_5': '93', 'param_6': 'Envoy Air Inc.', 'param_7': 'ENVOY', 'param_8': 'United States Minor Outlying Islands', 'param_9': 'UM', 'param_10': '2014', 'param_11': 'DFW', 'param_12': '171', 'param_13': '11.6', 'param_14': 'active', 'param_15': 'scheduled', 'param_16': '{\"id\": \"4597472\", \"fleet_average_age\": \"11.6\", \"airline_id\": \"22\", \"callsign\": \"ENVOY\", \"hub_code\": \"DFW\", \"iata_code\": \"MQ\", \"icao_code\": \"ENY\", \"co ... (77 characters truncated) ... irline_name\": \"Envoy Air Inc.\", \"country_name\": \"United States Minor Outlying Islands\", \"fleet_size\": \"171\", \"status\": \"active\", \"type\": \"scheduled\"}'}\n"
     ]
    },
    {
     "name": "stdout",
     "output_type": "stream",
     "text": [
      "2025-05-05 16:40:08,295 INFO sqlalchemy.engine.Engine INSERT INTO airlines (iata_code, airline_id, id, icao_code, iata_prefix_accounting, airline_name, callsign, country_name, country_iso2, date_founded, hub_code, fleet_size, fleet_average_age, status, type, raw_payload) VALUES (%(iata_code)s, %(airline_id)s, %(id)s, %(icao_code)s, %(iata_prefix_accounting)s, %(airline_name)s, %(callsign)s, %(country_name)s, %(country_iso2)s, %(date_founded)s, %(hub_code)s, %(fleet_size)s, %(fleet_average_age)s, %(status)s, %(type)s, %(raw_payload)s::JSONB) ON CONFLICT (iata_code) DO UPDATE SET iata_code = %(param_1)s, airline_id = %(param_2)s, id = %(param_3)s, icao_code = %(param_4)s, iata_prefix_accounting = %(param_5)s, airline_name = %(param_6)s, callsign = %(param_7)s, country_name = %(param_8)s, country_iso2 = %(param_9)s, date_founded = %(param_10)s, hub_code = %(param_11)s, fleet_size = %(param_12)s, fleet_average_age = %(param_13)s, status = %(param_14)s, type = %(param_15)s, raw_payload = %(param_16)s::JSONB\n"
     ]
    },
    {
     "name": "stderr",
     "output_type": "stream",
     "text": [
      "2025-05-05 16:40:08,295 - sqlalchemy.engine.Engine - INFO - INSERT INTO airlines (iata_code, airline_id, id, icao_code, iata_prefix_accounting, airline_name, callsign, country_name, country_iso2, date_founded, hub_code, fleet_size, fleet_average_age, status, type, raw_payload) VALUES (%(iata_code)s, %(airline_id)s, %(id)s, %(icao_code)s, %(iata_prefix_accounting)s, %(airline_name)s, %(callsign)s, %(country_name)s, %(country_iso2)s, %(date_founded)s, %(hub_code)s, %(fleet_size)s, %(fleet_average_age)s, %(status)s, %(type)s, %(raw_payload)s::JSONB) ON CONFLICT (iata_code) DO UPDATE SET iata_code = %(param_1)s, airline_id = %(param_2)s, id = %(param_3)s, icao_code = %(param_4)s, iata_prefix_accounting = %(param_5)s, airline_name = %(param_6)s, callsign = %(param_7)s, country_name = %(param_8)s, country_iso2 = %(param_9)s, date_founded = %(param_10)s, hub_code = %(param_11)s, fleet_size = %(param_12)s, fleet_average_age = %(param_13)s, status = %(param_14)s, type = %(param_15)s, raw_payload = %(param_16)s::JSONB\n"
     ]
    },
    {
     "name": "stdout",
     "output_type": "stream",
     "text": [
      "2025-05-05 16:40:08,296 INFO sqlalchemy.engine.Engine [no key 0.00076s] {'iata_code': 'SU', 'airline_id': '23', 'id': '4597473', 'icao_code': 'AFL', 'iata_prefix_accounting': '555', 'airline_name': 'Aeroflot', 'callsign': 'AEROFLOT', 'country_name': 'Russia', 'country_iso2': 'RU', 'date_founded': '1923', 'hub_code': 'SVO', 'fleet_size': '168', 'fleet_average_age': '4.3', 'status': 'active', 'type': 'scheduled', 'raw_payload': '{\"id\": \"4597473\", \"fleet_average_age\": \"4.3\", \"airline_id\": \"23\", \"callsign\": \"AEROFLOT\", \"hub_code\": \"SVO\", \"iata_code\": \"SU\", \"icao_code\": \"AFL\", \" ... (44 characters truncated) ...  \"iata_prefix_accounting\": \"555\", \"airline_name\": \"Aeroflot\", \"country_name\": \"Russia\", \"fleet_size\": \"168\", \"status\": \"active\", \"type\": \"scheduled\"}', 'param_1': 'SU', 'param_2': '23', 'param_3': '4597473', 'param_4': 'AFL', 'param_5': '555', 'param_6': 'Aeroflot', 'param_7': 'AEROFLOT', 'param_8': 'Russia', 'param_9': 'RU', 'param_10': '1923', 'param_11': 'SVO', 'param_12': '168', 'param_13': '4.3', 'param_14': 'active', 'param_15': 'scheduled', 'param_16': '{\"id\": \"4597473\", \"fleet_average_age\": \"4.3\", \"airline_id\": \"23\", \"callsign\": \"AEROFLOT\", \"hub_code\": \"SVO\", \"iata_code\": \"SU\", \"icao_code\": \"AFL\", \" ... (44 characters truncated) ...  \"iata_prefix_accounting\": \"555\", \"airline_name\": \"Aeroflot\", \"country_name\": \"Russia\", \"fleet_size\": \"168\", \"status\": \"active\", \"type\": \"scheduled\"}'}\n"
     ]
    },
    {
     "name": "stderr",
     "output_type": "stream",
     "text": [
      "2025-05-05 16:40:08,296 - sqlalchemy.engine.Engine - INFO - [no key 0.00076s] {'iata_code': 'SU', 'airline_id': '23', 'id': '4597473', 'icao_code': 'AFL', 'iata_prefix_accounting': '555', 'airline_name': 'Aeroflot', 'callsign': 'AEROFLOT', 'country_name': 'Russia', 'country_iso2': 'RU', 'date_founded': '1923', 'hub_code': 'SVO', 'fleet_size': '168', 'fleet_average_age': '4.3', 'status': 'active', 'type': 'scheduled', 'raw_payload': '{\"id\": \"4597473\", \"fleet_average_age\": \"4.3\", \"airline_id\": \"23\", \"callsign\": \"AEROFLOT\", \"hub_code\": \"SVO\", \"iata_code\": \"SU\", \"icao_code\": \"AFL\", \" ... (44 characters truncated) ...  \"iata_prefix_accounting\": \"555\", \"airline_name\": \"Aeroflot\", \"country_name\": \"Russia\", \"fleet_size\": \"168\", \"status\": \"active\", \"type\": \"scheduled\"}', 'param_1': 'SU', 'param_2': '23', 'param_3': '4597473', 'param_4': 'AFL', 'param_5': '555', 'param_6': 'Aeroflot', 'param_7': 'AEROFLOT', 'param_8': 'Russia', 'param_9': 'RU', 'param_10': '1923', 'param_11': 'SVO', 'param_12': '168', 'param_13': '4.3', 'param_14': 'active', 'param_15': 'scheduled', 'param_16': '{\"id\": \"4597473\", \"fleet_average_age\": \"4.3\", \"airline_id\": \"23\", \"callsign\": \"AEROFLOT\", \"hub_code\": \"SVO\", \"iata_code\": \"SU\", \"icao_code\": \"AFL\", \" ... (44 characters truncated) ...  \"iata_prefix_accounting\": \"555\", \"airline_name\": \"Aeroflot\", \"country_name\": \"Russia\", \"fleet_size\": \"168\", \"status\": \"active\", \"type\": \"scheduled\"}'}\n"
     ]
    },
    {
     "name": "stdout",
     "output_type": "stream",
     "text": [
      "2025-05-05 16:40:08,297 INFO sqlalchemy.engine.Engine INSERT INTO airlines (iata_code, airline_id, id, icao_code, iata_prefix_accounting, airline_name, callsign, country_name, country_iso2, date_founded, hub_code, fleet_size, fleet_average_age, status, type, raw_payload) VALUES (%(iata_code)s, %(airline_id)s, %(id)s, %(icao_code)s, %(iata_prefix_accounting)s, %(airline_name)s, %(callsign)s, %(country_name)s, %(country_iso2)s, %(date_founded)s, %(hub_code)s, %(fleet_size)s, %(fleet_average_age)s, %(status)s, %(type)s, %(raw_payload)s::JSONB) ON CONFLICT (iata_code) DO UPDATE SET iata_code = %(param_1)s, airline_id = %(param_2)s, id = %(param_3)s, icao_code = %(param_4)s, iata_prefix_accounting = %(param_5)s, airline_name = %(param_6)s, callsign = %(param_7)s, country_name = %(param_8)s, country_iso2 = %(param_9)s, date_founded = %(param_10)s, hub_code = %(param_11)s, fleet_size = %(param_12)s, fleet_average_age = %(param_13)s, status = %(param_14)s, type = %(param_15)s, raw_payload = %(param_16)s::JSONB\n"
     ]
    },
    {
     "name": "stderr",
     "output_type": "stream",
     "text": [
      "2025-05-05 16:40:08,297 - sqlalchemy.engine.Engine - INFO - INSERT INTO airlines (iata_code, airline_id, id, icao_code, iata_prefix_accounting, airline_name, callsign, country_name, country_iso2, date_founded, hub_code, fleet_size, fleet_average_age, status, type, raw_payload) VALUES (%(iata_code)s, %(airline_id)s, %(id)s, %(icao_code)s, %(iata_prefix_accounting)s, %(airline_name)s, %(callsign)s, %(country_name)s, %(country_iso2)s, %(date_founded)s, %(hub_code)s, %(fleet_size)s, %(fleet_average_age)s, %(status)s, %(type)s, %(raw_payload)s::JSONB) ON CONFLICT (iata_code) DO UPDATE SET iata_code = %(param_1)s, airline_id = %(param_2)s, id = %(param_3)s, icao_code = %(param_4)s, iata_prefix_accounting = %(param_5)s, airline_name = %(param_6)s, callsign = %(param_7)s, country_name = %(param_8)s, country_iso2 = %(param_9)s, date_founded = %(param_10)s, hub_code = %(param_11)s, fleet_size = %(param_12)s, fleet_average_age = %(param_13)s, status = %(param_14)s, type = %(param_15)s, raw_payload = %(param_16)s::JSONB\n"
     ]
    },
    {
     "name": "stdout",
     "output_type": "stream",
     "text": [
      "2025-05-05 16:40:08,298 INFO sqlalchemy.engine.Engine [no key 0.00061s] {'iata_code': 'ZH', 'airline_id': '24', 'id': '4597474', 'icao_code': 'CSZ', 'iata_prefix_accounting': '479', 'airline_name': 'Shenzhen Airlines', 'callsign': 'SHENZHEN AIR', 'country_name': 'China', 'country_iso2': 'CN', 'date_founded': '1992', 'hub_code': 'SZX', 'fleet_size': '165', 'fleet_average_age': '5.8', 'status': 'active', 'type': 'scheduled', 'raw_payload': '{\"id\": \"4597474\", \"fleet_average_age\": \"5.8\", \"airline_id\": \"24\", \"callsign\": \"SHENZHEN AIR\", \"hub_code\": \"SZX\", \"iata_code\": \"ZH\", \"icao_code\": \"CSZ ... (56 characters truncated) ... refix_accounting\": \"479\", \"airline_name\": \"Shenzhen Airlines\", \"country_name\": \"China\", \"fleet_size\": \"165\", \"status\": \"active\", \"type\": \"scheduled\"}', 'param_1': 'ZH', 'param_2': '24', 'param_3': '4597474', 'param_4': 'CSZ', 'param_5': '479', 'param_6': 'Shenzhen Airlines', 'param_7': 'SHENZHEN AIR', 'param_8': 'China', 'param_9': 'CN', 'param_10': '1992', 'param_11': 'SZX', 'param_12': '165', 'param_13': '5.8', 'param_14': 'active', 'param_15': 'scheduled', 'param_16': '{\"id\": \"4597474\", \"fleet_average_age\": \"5.8\", \"airline_id\": \"24\", \"callsign\": \"SHENZHEN AIR\", \"hub_code\": \"SZX\", \"iata_code\": \"ZH\", \"icao_code\": \"CSZ ... (56 characters truncated) ... refix_accounting\": \"479\", \"airline_name\": \"Shenzhen Airlines\", \"country_name\": \"China\", \"fleet_size\": \"165\", \"status\": \"active\", \"type\": \"scheduled\"}'}\n"
     ]
    },
    {
     "name": "stderr",
     "output_type": "stream",
     "text": [
      "2025-05-05 16:40:08,298 - sqlalchemy.engine.Engine - INFO - [no key 0.00061s] {'iata_code': 'ZH', 'airline_id': '24', 'id': '4597474', 'icao_code': 'CSZ', 'iata_prefix_accounting': '479', 'airline_name': 'Shenzhen Airlines', 'callsign': 'SHENZHEN AIR', 'country_name': 'China', 'country_iso2': 'CN', 'date_founded': '1992', 'hub_code': 'SZX', 'fleet_size': '165', 'fleet_average_age': '5.8', 'status': 'active', 'type': 'scheduled', 'raw_payload': '{\"id\": \"4597474\", \"fleet_average_age\": \"5.8\", \"airline_id\": \"24\", \"callsign\": \"SHENZHEN AIR\", \"hub_code\": \"SZX\", \"iata_code\": \"ZH\", \"icao_code\": \"CSZ ... (56 characters truncated) ... refix_accounting\": \"479\", \"airline_name\": \"Shenzhen Airlines\", \"country_name\": \"China\", \"fleet_size\": \"165\", \"status\": \"active\", \"type\": \"scheduled\"}', 'param_1': 'ZH', 'param_2': '24', 'param_3': '4597474', 'param_4': 'CSZ', 'param_5': '479', 'param_6': 'Shenzhen Airlines', 'param_7': 'SHENZHEN AIR', 'param_8': 'China', 'param_9': 'CN', 'param_10': '1992', 'param_11': 'SZX', 'param_12': '165', 'param_13': '5.8', 'param_14': 'active', 'param_15': 'scheduled', 'param_16': '{\"id\": \"4597474\", \"fleet_average_age\": \"5.8\", \"airline_id\": \"24\", \"callsign\": \"SHENZHEN AIR\", \"hub_code\": \"SZX\", \"iata_code\": \"ZH\", \"icao_code\": \"CSZ ... (56 characters truncated) ... refix_accounting\": \"479\", \"airline_name\": \"Shenzhen Airlines\", \"country_name\": \"China\", \"fleet_size\": \"165\", \"status\": \"active\", \"type\": \"scheduled\"}'}\n"
     ]
    },
    {
     "name": "stdout",
     "output_type": "stream",
     "text": [
      "2025-05-05 16:40:08,300 INFO sqlalchemy.engine.Engine INSERT INTO airlines (iata_code, airline_id, id, icao_code, iata_prefix_accounting, airline_name, callsign, country_name, country_iso2, date_founded, hub_code, fleet_size, fleet_average_age, status, type, raw_payload) VALUES (%(iata_code)s, %(airline_id)s, %(id)s, %(icao_code)s, %(iata_prefix_accounting)s, %(airline_name)s, %(callsign)s, %(country_name)s, %(country_iso2)s, %(date_founded)s, %(hub_code)s, %(fleet_size)s, %(fleet_average_age)s, %(status)s, %(type)s, %(raw_payload)s::JSONB) ON CONFLICT (iata_code) DO UPDATE SET iata_code = %(param_1)s, airline_id = %(param_2)s, id = %(param_3)s, icao_code = %(param_4)s, iata_prefix_accounting = %(param_5)s, airline_name = %(param_6)s, callsign = %(param_7)s, country_name = %(param_8)s, country_iso2 = %(param_9)s, date_founded = %(param_10)s, hub_code = %(param_11)s, fleet_size = %(param_12)s, fleet_average_age = %(param_13)s, status = %(param_14)s, type = %(param_15)s, raw_payload = %(param_16)s::JSONB\n"
     ]
    },
    {
     "name": "stderr",
     "output_type": "stream",
     "text": [
      "2025-05-05 16:40:08,300 - sqlalchemy.engine.Engine - INFO - INSERT INTO airlines (iata_code, airline_id, id, icao_code, iata_prefix_accounting, airline_name, callsign, country_name, country_iso2, date_founded, hub_code, fleet_size, fleet_average_age, status, type, raw_payload) VALUES (%(iata_code)s, %(airline_id)s, %(id)s, %(icao_code)s, %(iata_prefix_accounting)s, %(airline_name)s, %(callsign)s, %(country_name)s, %(country_iso2)s, %(date_founded)s, %(hub_code)s, %(fleet_size)s, %(fleet_average_age)s, %(status)s, %(type)s, %(raw_payload)s::JSONB) ON CONFLICT (iata_code) DO UPDATE SET iata_code = %(param_1)s, airline_id = %(param_2)s, id = %(param_3)s, icao_code = %(param_4)s, iata_prefix_accounting = %(param_5)s, airline_name = %(param_6)s, callsign = %(param_7)s, country_name = %(param_8)s, country_iso2 = %(param_9)s, date_founded = %(param_10)s, hub_code = %(param_11)s, fleet_size = %(param_12)s, fleet_average_age = %(param_13)s, status = %(param_14)s, type = %(param_15)s, raw_payload = %(param_16)s::JSONB\n"
     ]
    },
    {
     "name": "stdout",
     "output_type": "stream",
     "text": [
      "2025-05-05 16:40:08,302 INFO sqlalchemy.engine.Engine [no key 0.00180s] {'iata_code': 'AC', 'airline_id': '25', 'id': '4597475', 'icao_code': 'ACA', 'iata_prefix_accounting': '14', 'airline_name': 'Air Canada', 'callsign': 'AIR CANADA', 'country_name': 'Canada', 'country_iso2': 'CA', 'date_founded': '2001', 'hub_code': 'YYZ', 'fleet_size': '164', 'fleet_average_age': '25', 'status': 'active', 'type': 'scheduled', 'raw_payload': '{\"id\": \"4597475\", \"fleet_average_age\": \"25\", \"airline_id\": \"25\", \"callsign\": \"AIR CANADA\", \"hub_code\": \"YYZ\", \"iata_code\": \"AC\", \"icao_code\": \"ACA\",  ... (46 characters truncated) ... \"iata_prefix_accounting\": \"14\", \"airline_name\": \"Air Canada\", \"country_name\": \"Canada\", \"fleet_size\": \"164\", \"status\": \"active\", \"type\": \"scheduled\"}', 'param_1': 'AC', 'param_2': '25', 'param_3': '4597475', 'param_4': 'ACA', 'param_5': '14', 'param_6': 'Air Canada', 'param_7': 'AIR CANADA', 'param_8': 'Canada', 'param_9': 'CA', 'param_10': '2001', 'param_11': 'YYZ', 'param_12': '164', 'param_13': '25', 'param_14': 'active', 'param_15': 'scheduled', 'param_16': '{\"id\": \"4597475\", \"fleet_average_age\": \"25\", \"airline_id\": \"25\", \"callsign\": \"AIR CANADA\", \"hub_code\": \"YYZ\", \"iata_code\": \"AC\", \"icao_code\": \"ACA\",  ... (46 characters truncated) ... \"iata_prefix_accounting\": \"14\", \"airline_name\": \"Air Canada\", \"country_name\": \"Canada\", \"fleet_size\": \"164\", \"status\": \"active\", \"type\": \"scheduled\"}'}\n"
     ]
    },
    {
     "name": "stderr",
     "output_type": "stream",
     "text": [
      "2025-05-05 16:40:08,302 - sqlalchemy.engine.Engine - INFO - [no key 0.00180s] {'iata_code': 'AC', 'airline_id': '25', 'id': '4597475', 'icao_code': 'ACA', 'iata_prefix_accounting': '14', 'airline_name': 'Air Canada', 'callsign': 'AIR CANADA', 'country_name': 'Canada', 'country_iso2': 'CA', 'date_founded': '2001', 'hub_code': 'YYZ', 'fleet_size': '164', 'fleet_average_age': '25', 'status': 'active', 'type': 'scheduled', 'raw_payload': '{\"id\": \"4597475\", \"fleet_average_age\": \"25\", \"airline_id\": \"25\", \"callsign\": \"AIR CANADA\", \"hub_code\": \"YYZ\", \"iata_code\": \"AC\", \"icao_code\": \"ACA\",  ... (46 characters truncated) ... \"iata_prefix_accounting\": \"14\", \"airline_name\": \"Air Canada\", \"country_name\": \"Canada\", \"fleet_size\": \"164\", \"status\": \"active\", \"type\": \"scheduled\"}', 'param_1': 'AC', 'param_2': '25', 'param_3': '4597475', 'param_4': 'ACA', 'param_5': '14', 'param_6': 'Air Canada', 'param_7': 'AIR CANADA', 'param_8': 'Canada', 'param_9': 'CA', 'param_10': '2001', 'param_11': 'YYZ', 'param_12': '164', 'param_13': '25', 'param_14': 'active', 'param_15': 'scheduled', 'param_16': '{\"id\": \"4597475\", \"fleet_average_age\": \"25\", \"airline_id\": \"25\", \"callsign\": \"AIR CANADA\", \"hub_code\": \"YYZ\", \"iata_code\": \"AC\", \"icao_code\": \"ACA\",  ... (46 characters truncated) ... \"iata_prefix_accounting\": \"14\", \"airline_name\": \"Air Canada\", \"country_name\": \"Canada\", \"fleet_size\": \"164\", \"status\": \"active\", \"type\": \"scheduled\"}'}\n"
     ]
    },
    {
     "name": "stdout",
     "output_type": "stream",
     "text": [
      "2025-05-05 16:40:08,310 INFO sqlalchemy.engine.Engine INSERT INTO airlines (iata_code, airline_id, id, icao_code, iata_prefix_accounting, airline_name, callsign, country_name, country_iso2, date_founded, hub_code, fleet_size, fleet_average_age, status, type, raw_payload) VALUES (%(iata_code)s, %(airline_id)s, %(id)s, %(icao_code)s, %(iata_prefix_accounting)s, %(airline_name)s, %(callsign)s, %(country_name)s, %(country_iso2)s, %(date_founded)s, %(hub_code)s, %(fleet_size)s, %(fleet_average_age)s, %(status)s, %(type)s, %(raw_payload)s::JSONB) ON CONFLICT (iata_code) DO UPDATE SET iata_code = %(param_1)s, airline_id = %(param_2)s, id = %(param_3)s, icao_code = %(param_4)s, iata_prefix_accounting = %(param_5)s, airline_name = %(param_6)s, callsign = %(param_7)s, country_name = %(param_8)s, country_iso2 = %(param_9)s, date_founded = %(param_10)s, hub_code = %(param_11)s, fleet_size = %(param_12)s, fleet_average_age = %(param_13)s, status = %(param_14)s, type = %(param_15)s, raw_payload = %(param_16)s::JSONB\n"
     ]
    },
    {
     "name": "stderr",
     "output_type": "stream",
     "text": [
      "2025-05-05 16:40:08,310 - sqlalchemy.engine.Engine - INFO - INSERT INTO airlines (iata_code, airline_id, id, icao_code, iata_prefix_accounting, airline_name, callsign, country_name, country_iso2, date_founded, hub_code, fleet_size, fleet_average_age, status, type, raw_payload) VALUES (%(iata_code)s, %(airline_id)s, %(id)s, %(icao_code)s, %(iata_prefix_accounting)s, %(airline_name)s, %(callsign)s, %(country_name)s, %(country_iso2)s, %(date_founded)s, %(hub_code)s, %(fleet_size)s, %(fleet_average_age)s, %(status)s, %(type)s, %(raw_payload)s::JSONB) ON CONFLICT (iata_code) DO UPDATE SET iata_code = %(param_1)s, airline_id = %(param_2)s, id = %(param_3)s, icao_code = %(param_4)s, iata_prefix_accounting = %(param_5)s, airline_name = %(param_6)s, callsign = %(param_7)s, country_name = %(param_8)s, country_iso2 = %(param_9)s, date_founded = %(param_10)s, hub_code = %(param_11)s, fleet_size = %(param_12)s, fleet_average_age = %(param_13)s, status = %(param_14)s, type = %(param_15)s, raw_payload = %(param_16)s::JSONB\n"
     ]
    },
    {
     "name": "stdout",
     "output_type": "stream",
     "text": [
      "2025-05-05 16:40:08,310 INFO sqlalchemy.engine.Engine [no key 0.00076s] {'iata_code': 'JJ', 'airline_id': '26', 'id': '4597476', 'icao_code': 'TAM', 'iata_prefix_accounting': '957', 'airline_name': 'TAM Linhas Aereas', 'callsign': 'TAM', 'country_name': 'Brazil', 'country_iso2': 'BR', 'date_founded': '1976', 'hub_code': 'CGH', 'fleet_size': '163', 'fleet_average_age': '7.4', 'status': 'active', 'type': 'scheduled', 'raw_payload': '{\"id\": \"4597476\", \"fleet_average_age\": \"7.4\", \"airline_id\": \"26\", \"callsign\": \"TAM\", \"hub_code\": \"CGH\", \"iata_code\": \"JJ\", \"icao_code\": \"TAM\", \"count ... (48 characters truncated) ... efix_accounting\": \"957\", \"airline_name\": \"TAM Linhas Aereas\", \"country_name\": \"Brazil\", \"fleet_size\": \"163\", \"status\": \"active\", \"type\": \"scheduled\"}', 'param_1': 'JJ', 'param_2': '26', 'param_3': '4597476', 'param_4': 'TAM', 'param_5': '957', 'param_6': 'TAM Linhas Aereas', 'param_7': 'TAM', 'param_8': 'Brazil', 'param_9': 'BR', 'param_10': '1976', 'param_11': 'CGH', 'param_12': '163', 'param_13': '7.4', 'param_14': 'active', 'param_15': 'scheduled', 'param_16': '{\"id\": \"4597476\", \"fleet_average_age\": \"7.4\", \"airline_id\": \"26\", \"callsign\": \"TAM\", \"hub_code\": \"CGH\", \"iata_code\": \"JJ\", \"icao_code\": \"TAM\", \"count ... (48 characters truncated) ... efix_accounting\": \"957\", \"airline_name\": \"TAM Linhas Aereas\", \"country_name\": \"Brazil\", \"fleet_size\": \"163\", \"status\": \"active\", \"type\": \"scheduled\"}'}\n"
     ]
    },
    {
     "name": "stderr",
     "output_type": "stream",
     "text": [
      "2025-05-05 16:40:08,310 - sqlalchemy.engine.Engine - INFO - [no key 0.00076s] {'iata_code': 'JJ', 'airline_id': '26', 'id': '4597476', 'icao_code': 'TAM', 'iata_prefix_accounting': '957', 'airline_name': 'TAM Linhas Aereas', 'callsign': 'TAM', 'country_name': 'Brazil', 'country_iso2': 'BR', 'date_founded': '1976', 'hub_code': 'CGH', 'fleet_size': '163', 'fleet_average_age': '7.4', 'status': 'active', 'type': 'scheduled', 'raw_payload': '{\"id\": \"4597476\", \"fleet_average_age\": \"7.4\", \"airline_id\": \"26\", \"callsign\": \"TAM\", \"hub_code\": \"CGH\", \"iata_code\": \"JJ\", \"icao_code\": \"TAM\", \"count ... (48 characters truncated) ... efix_accounting\": \"957\", \"airline_name\": \"TAM Linhas Aereas\", \"country_name\": \"Brazil\", \"fleet_size\": \"163\", \"status\": \"active\", \"type\": \"scheduled\"}', 'param_1': 'JJ', 'param_2': '26', 'param_3': '4597476', 'param_4': 'TAM', 'param_5': '957', 'param_6': 'TAM Linhas Aereas', 'param_7': 'TAM', 'param_8': 'Brazil', 'param_9': 'BR', 'param_10': '1976', 'param_11': 'CGH', 'param_12': '163', 'param_13': '7.4', 'param_14': 'active', 'param_15': 'scheduled', 'param_16': '{\"id\": \"4597476\", \"fleet_average_age\": \"7.4\", \"airline_id\": \"26\", \"callsign\": \"TAM\", \"hub_code\": \"CGH\", \"iata_code\": \"JJ\", \"icao_code\": \"TAM\", \"count ... (48 characters truncated) ... efix_accounting\": \"957\", \"airline_name\": \"TAM Linhas Aereas\", \"country_name\": \"Brazil\", \"fleet_size\": \"163\", \"status\": \"active\", \"type\": \"scheduled\"}'}\n"
     ]
    },
    {
     "name": "stdout",
     "output_type": "stream",
     "text": [
      "2025-05-05 16:40:08,315 INFO sqlalchemy.engine.Engine INSERT INTO airlines (iata_code, airline_id, id, icao_code, iata_prefix_accounting, airline_name, callsign, country_name, country_iso2, date_founded, hub_code, fleet_size, fleet_average_age, status, type, raw_payload) VALUES (%(iata_code)s, %(airline_id)s, %(id)s, %(icao_code)s, %(iata_prefix_accounting)s, %(airline_name)s, %(callsign)s, %(country_name)s, %(country_iso2)s, %(date_founded)s, %(hub_code)s, %(fleet_size)s, %(fleet_average_age)s, %(status)s, %(type)s, %(raw_payload)s::JSONB) ON CONFLICT (iata_code) DO UPDATE SET iata_code = %(param_1)s, airline_id = %(param_2)s, id = %(param_3)s, icao_code = %(param_4)s, iata_prefix_accounting = %(param_5)s, airline_name = %(param_6)s, callsign = %(param_7)s, country_name = %(param_8)s, country_iso2 = %(param_9)s, date_founded = %(param_10)s, hub_code = %(param_11)s, fleet_size = %(param_12)s, fleet_average_age = %(param_13)s, status = %(param_14)s, type = %(param_15)s, raw_payload = %(param_16)s::JSONB\n"
     ]
    },
    {
     "name": "stderr",
     "output_type": "stream",
     "text": [
      "2025-05-05 16:40:08,315 - sqlalchemy.engine.Engine - INFO - INSERT INTO airlines (iata_code, airline_id, id, icao_code, iata_prefix_accounting, airline_name, callsign, country_name, country_iso2, date_founded, hub_code, fleet_size, fleet_average_age, status, type, raw_payload) VALUES (%(iata_code)s, %(airline_id)s, %(id)s, %(icao_code)s, %(iata_prefix_accounting)s, %(airline_name)s, %(callsign)s, %(country_name)s, %(country_iso2)s, %(date_founded)s, %(hub_code)s, %(fleet_size)s, %(fleet_average_age)s, %(status)s, %(type)s, %(raw_payload)s::JSONB) ON CONFLICT (iata_code) DO UPDATE SET iata_code = %(param_1)s, airline_id = %(param_2)s, id = %(param_3)s, icao_code = %(param_4)s, iata_prefix_accounting = %(param_5)s, airline_name = %(param_6)s, callsign = %(param_7)s, country_name = %(param_8)s, country_iso2 = %(param_9)s, date_founded = %(param_10)s, hub_code = %(param_11)s, fleet_size = %(param_12)s, fleet_average_age = %(param_13)s, status = %(param_14)s, type = %(param_15)s, raw_payload = %(param_16)s::JSONB\n"
     ]
    },
    {
     "name": "stdout",
     "output_type": "stream",
     "text": [
      "2025-05-05 16:40:08,316 INFO sqlalchemy.engine.Engine [no key 0.00108s] {'iata_code': 'JL', 'airline_id': '27', 'id': '4597477', 'icao_code': 'JAL', 'iata_prefix_accounting': '131', 'airline_name': 'Japan Airlines', 'callsign': 'JAPANAIR', 'country_name': 'Japan', 'country_iso2': 'JP', 'date_founded': '1951', 'hub_code': 'HND', 'fleet_size': '163', 'fleet_average_age': '9', 'status': 'active', 'type': 'scheduled', 'raw_payload': '{\"id\": \"4597477\", \"fleet_average_age\": \"9\", \"airline_id\": \"27\", \"callsign\": \"JAPANAIR\", \"hub_code\": \"HND\", \"iata_code\": \"JL\", \"icao_code\": \"JAL\", \"co ... (47 characters truncated) ... a_prefix_accounting\": \"131\", \"airline_name\": \"Japan Airlines\", \"country_name\": \"Japan\", \"fleet_size\": \"163\", \"status\": \"active\", \"type\": \"scheduled\"}', 'param_1': 'JL', 'param_2': '27', 'param_3': '4597477', 'param_4': 'JAL', 'param_5': '131', 'param_6': 'Japan Airlines', 'param_7': 'JAPANAIR', 'param_8': 'Japan', 'param_9': 'JP', 'param_10': '1951', 'param_11': 'HND', 'param_12': '163', 'param_13': '9', 'param_14': 'active', 'param_15': 'scheduled', 'param_16': '{\"id\": \"4597477\", \"fleet_average_age\": \"9\", \"airline_id\": \"27\", \"callsign\": \"JAPANAIR\", \"hub_code\": \"HND\", \"iata_code\": \"JL\", \"icao_code\": \"JAL\", \"co ... (47 characters truncated) ... a_prefix_accounting\": \"131\", \"airline_name\": \"Japan Airlines\", \"country_name\": \"Japan\", \"fleet_size\": \"163\", \"status\": \"active\", \"type\": \"scheduled\"}'}\n"
     ]
    },
    {
     "name": "stderr",
     "output_type": "stream",
     "text": [
      "2025-05-05 16:40:08,316 - sqlalchemy.engine.Engine - INFO - [no key 0.00108s] {'iata_code': 'JL', 'airline_id': '27', 'id': '4597477', 'icao_code': 'JAL', 'iata_prefix_accounting': '131', 'airline_name': 'Japan Airlines', 'callsign': 'JAPANAIR', 'country_name': 'Japan', 'country_iso2': 'JP', 'date_founded': '1951', 'hub_code': 'HND', 'fleet_size': '163', 'fleet_average_age': '9', 'status': 'active', 'type': 'scheduled', 'raw_payload': '{\"id\": \"4597477\", \"fleet_average_age\": \"9\", \"airline_id\": \"27\", \"callsign\": \"JAPANAIR\", \"hub_code\": \"HND\", \"iata_code\": \"JL\", \"icao_code\": \"JAL\", \"co ... (47 characters truncated) ... a_prefix_accounting\": \"131\", \"airline_name\": \"Japan Airlines\", \"country_name\": \"Japan\", \"fleet_size\": \"163\", \"status\": \"active\", \"type\": \"scheduled\"}', 'param_1': 'JL', 'param_2': '27', 'param_3': '4597477', 'param_4': 'JAL', 'param_5': '131', 'param_6': 'Japan Airlines', 'param_7': 'JAPANAIR', 'param_8': 'Japan', 'param_9': 'JP', 'param_10': '1951', 'param_11': 'HND', 'param_12': '163', 'param_13': '9', 'param_14': 'active', 'param_15': 'scheduled', 'param_16': '{\"id\": \"4597477\", \"fleet_average_age\": \"9\", \"airline_id\": \"27\", \"callsign\": \"JAPANAIR\", \"hub_code\": \"HND\", \"iata_code\": \"JL\", \"icao_code\": \"JAL\", \"co ... (47 characters truncated) ... a_prefix_accounting\": \"131\", \"airline_name\": \"Japan Airlines\", \"country_name\": \"Japan\", \"fleet_size\": \"163\", \"status\": \"active\", \"type\": \"scheduled\"}'}\n"
     ]
    },
    {
     "name": "stdout",
     "output_type": "stream",
     "text": [
      "2025-05-05 16:40:08,318 INFO sqlalchemy.engine.Engine INSERT INTO airlines (iata_code, airline_id, id, icao_code, iata_prefix_accounting, airline_name, callsign, country_name, country_iso2, date_founded, hub_code, fleet_size, fleet_average_age, status, type, raw_payload) VALUES (%(iata_code)s, %(airline_id)s, %(id)s, %(icao_code)s, %(iata_prefix_accounting)s, %(airline_name)s, %(callsign)s, %(country_name)s, %(country_iso2)s, %(date_founded)s, %(hub_code)s, %(fleet_size)s, %(fleet_average_age)s, %(status)s, %(type)s, %(raw_payload)s::JSONB) ON CONFLICT (iata_code) DO UPDATE SET iata_code = %(param_1)s, airline_id = %(param_2)s, id = %(param_3)s, icao_code = %(param_4)s, iata_prefix_accounting = %(param_5)s, airline_name = %(param_6)s, callsign = %(param_7)s, country_name = %(param_8)s, country_iso2 = %(param_9)s, date_founded = %(param_10)s, hub_code = %(param_11)s, fleet_size = %(param_12)s, fleet_average_age = %(param_13)s, status = %(param_14)s, type = %(param_15)s, raw_payload = %(param_16)s::JSONB\n"
     ]
    },
    {
     "name": "stderr",
     "output_type": "stream",
     "text": [
      "2025-05-05 16:40:08,318 - sqlalchemy.engine.Engine - INFO - INSERT INTO airlines (iata_code, airline_id, id, icao_code, iata_prefix_accounting, airline_name, callsign, country_name, country_iso2, date_founded, hub_code, fleet_size, fleet_average_age, status, type, raw_payload) VALUES (%(iata_code)s, %(airline_id)s, %(id)s, %(icao_code)s, %(iata_prefix_accounting)s, %(airline_name)s, %(callsign)s, %(country_name)s, %(country_iso2)s, %(date_founded)s, %(hub_code)s, %(fleet_size)s, %(fleet_average_age)s, %(status)s, %(type)s, %(raw_payload)s::JSONB) ON CONFLICT (iata_code) DO UPDATE SET iata_code = %(param_1)s, airline_id = %(param_2)s, id = %(param_3)s, icao_code = %(param_4)s, iata_prefix_accounting = %(param_5)s, airline_name = %(param_6)s, callsign = %(param_7)s, country_name = %(param_8)s, country_iso2 = %(param_9)s, date_founded = %(param_10)s, hub_code = %(param_11)s, fleet_size = %(param_12)s, fleet_average_age = %(param_13)s, status = %(param_14)s, type = %(param_15)s, raw_payload = %(param_16)s::JSONB\n"
     ]
    },
    {
     "name": "stdout",
     "output_type": "stream",
     "text": [
      "2025-05-05 16:40:08,319 INFO sqlalchemy.engine.Engine [no key 0.00067s] {'iata_code': 'KE', 'airline_id': '28', 'id': '4597478', 'icao_code': 'KAL', 'iata_prefix_accounting': '180', 'airline_name': 'Korean Air', 'callsign': 'KOREANAIR', 'country_name': 'South Korea', 'country_iso2': 'KR', 'date_founded': '1962', 'hub_code': 'ICN', 'fleet_size': '159', 'fleet_average_age': '9.5', 'status': 'active', 'type': 'scheduled', 'raw_payload': '{\"id\": \"4597478\", \"fleet_average_age\": \"9.5\", \"airline_id\": \"28\", \"callsign\": \"KOREANAIR\", \"hub_code\": \"ICN\", \"iata_code\": \"KE\", \"icao_code\": \"KAL\",  ... (52 characters truncated) ... prefix_accounting\": \"180\", \"airline_name\": \"Korean Air\", \"country_name\": \"South Korea\", \"fleet_size\": \"159\", \"status\": \"active\", \"type\": \"scheduled\"}', 'param_1': 'KE', 'param_2': '28', 'param_3': '4597478', 'param_4': 'KAL', 'param_5': '180', 'param_6': 'Korean Air', 'param_7': 'KOREANAIR', 'param_8': 'South Korea', 'param_9': 'KR', 'param_10': '1962', 'param_11': 'ICN', 'param_12': '159', 'param_13': '9.5', 'param_14': 'active', 'param_15': 'scheduled', 'param_16': '{\"id\": \"4597478\", \"fleet_average_age\": \"9.5\", \"airline_id\": \"28\", \"callsign\": \"KOREANAIR\", \"hub_code\": \"ICN\", \"iata_code\": \"KE\", \"icao_code\": \"KAL\",  ... (52 characters truncated) ... prefix_accounting\": \"180\", \"airline_name\": \"Korean Air\", \"country_name\": \"South Korea\", \"fleet_size\": \"159\", \"status\": \"active\", \"type\": \"scheduled\"}'}\n"
     ]
    },
    {
     "name": "stderr",
     "output_type": "stream",
     "text": [
      "2025-05-05 16:40:08,319 - sqlalchemy.engine.Engine - INFO - [no key 0.00067s] {'iata_code': 'KE', 'airline_id': '28', 'id': '4597478', 'icao_code': 'KAL', 'iata_prefix_accounting': '180', 'airline_name': 'Korean Air', 'callsign': 'KOREANAIR', 'country_name': 'South Korea', 'country_iso2': 'KR', 'date_founded': '1962', 'hub_code': 'ICN', 'fleet_size': '159', 'fleet_average_age': '9.5', 'status': 'active', 'type': 'scheduled', 'raw_payload': '{\"id\": \"4597478\", \"fleet_average_age\": \"9.5\", \"airline_id\": \"28\", \"callsign\": \"KOREANAIR\", \"hub_code\": \"ICN\", \"iata_code\": \"KE\", \"icao_code\": \"KAL\",  ... (52 characters truncated) ... prefix_accounting\": \"180\", \"airline_name\": \"Korean Air\", \"country_name\": \"South Korea\", \"fleet_size\": \"159\", \"status\": \"active\", \"type\": \"scheduled\"}', 'param_1': 'KE', 'param_2': '28', 'param_3': '4597478', 'param_4': 'KAL', 'param_5': '180', 'param_6': 'Korean Air', 'param_7': 'KOREANAIR', 'param_8': 'South Korea', 'param_9': 'KR', 'param_10': '1962', 'param_11': 'ICN', 'param_12': '159', 'param_13': '9.5', 'param_14': 'active', 'param_15': 'scheduled', 'param_16': '{\"id\": \"4597478\", \"fleet_average_age\": \"9.5\", \"airline_id\": \"28\", \"callsign\": \"KOREANAIR\", \"hub_code\": \"ICN\", \"iata_code\": \"KE\", \"icao_code\": \"KAL\",  ... (52 characters truncated) ... prefix_accounting\": \"180\", \"airline_name\": \"Korean Air\", \"country_name\": \"South Korea\", \"fleet_size\": \"159\", \"status\": \"active\", \"type\": \"scheduled\"}'}\n"
     ]
    },
    {
     "name": "stdout",
     "output_type": "stream",
     "text": [
      "2025-05-05 16:40:08,321 INFO sqlalchemy.engine.Engine INSERT INTO airlines (iata_code, airline_id, id, icao_code, iata_prefix_accounting, airline_name, callsign, country_name, country_iso2, date_founded, hub_code, fleet_size, fleet_average_age, status, type, raw_payload) VALUES (%(iata_code)s, %(airline_id)s, %(id)s, %(icao_code)s, %(iata_prefix_accounting)s, %(airline_name)s, %(callsign)s, %(country_name)s, %(country_iso2)s, %(date_founded)s, %(hub_code)s, %(fleet_size)s, %(fleet_average_age)s, %(status)s, %(type)s, %(raw_payload)s::JSONB) ON CONFLICT (iata_code) DO UPDATE SET iata_code = %(param_1)s, airline_id = %(param_2)s, id = %(param_3)s, icao_code = %(param_4)s, iata_prefix_accounting = %(param_5)s, airline_name = %(param_6)s, callsign = %(param_7)s, country_name = %(param_8)s, country_iso2 = %(param_9)s, date_founded = %(param_10)s, hub_code = %(param_11)s, fleet_size = %(param_12)s, fleet_average_age = %(param_13)s, status = %(param_14)s, type = %(param_15)s, raw_payload = %(param_16)s::JSONB\n"
     ]
    },
    {
     "name": "stderr",
     "output_type": "stream",
     "text": [
      "2025-05-05 16:40:08,321 - sqlalchemy.engine.Engine - INFO - INSERT INTO airlines (iata_code, airline_id, id, icao_code, iata_prefix_accounting, airline_name, callsign, country_name, country_iso2, date_founded, hub_code, fleet_size, fleet_average_age, status, type, raw_payload) VALUES (%(iata_code)s, %(airline_id)s, %(id)s, %(icao_code)s, %(iata_prefix_accounting)s, %(airline_name)s, %(callsign)s, %(country_name)s, %(country_iso2)s, %(date_founded)s, %(hub_code)s, %(fleet_size)s, %(fleet_average_age)s, %(status)s, %(type)s, %(raw_payload)s::JSONB) ON CONFLICT (iata_code) DO UPDATE SET iata_code = %(param_1)s, airline_id = %(param_2)s, id = %(param_3)s, icao_code = %(param_4)s, iata_prefix_accounting = %(param_5)s, airline_name = %(param_6)s, callsign = %(param_7)s, country_name = %(param_8)s, country_iso2 = %(param_9)s, date_founded = %(param_10)s, hub_code = %(param_11)s, fleet_size = %(param_12)s, fleet_average_age = %(param_13)s, status = %(param_14)s, type = %(param_15)s, raw_payload = %(param_16)s::JSONB\n"
     ]
    },
    {
     "name": "stdout",
     "output_type": "stream",
     "text": [
      "2025-05-05 16:40:08,323 INFO sqlalchemy.engine.Engine [no key 0.00146s] {'iata_code': 'AS', 'airline_id': '29', 'id': '4597479', 'icao_code': 'ASA', 'iata_prefix_accounting': '27', 'airline_name': 'Alaska Airlines', 'callsign': 'ALASKA', 'country_name': 'United States', 'country_iso2': 'US', 'date_founded': '1932', 'hub_code': 'SEA', 'fleet_size': '156', 'fleet_average_age': '9.5', 'status': 'active', 'type': 'scheduled', 'raw_payload': '{\"id\": \"4597479\", \"fleet_average_age\": \"9.5\", \"airline_id\": \"29\", \"callsign\": \"ALASKA\", \"hub_code\": \"SEA\", \"iata_code\": \"AS\", \"icao_code\": \"ASA\", \"co ... (55 characters truncated) ... _accounting\": \"27\", \"airline_name\": \"Alaska Airlines\", \"country_name\": \"United States\", \"fleet_size\": \"156\", \"status\": \"active\", \"type\": \"scheduled\"}', 'param_1': 'AS', 'param_2': '29', 'param_3': '4597479', 'param_4': 'ASA', 'param_5': '27', 'param_6': 'Alaska Airlines', 'param_7': 'ALASKA', 'param_8': 'United States', 'param_9': 'US', 'param_10': '1932', 'param_11': 'SEA', 'param_12': '156', 'param_13': '9.5', 'param_14': 'active', 'param_15': 'scheduled', 'param_16': '{\"id\": \"4597479\", \"fleet_average_age\": \"9.5\", \"airline_id\": \"29\", \"callsign\": \"ALASKA\", \"hub_code\": \"SEA\", \"iata_code\": \"AS\", \"icao_code\": \"ASA\", \"co ... (55 characters truncated) ... _accounting\": \"27\", \"airline_name\": \"Alaska Airlines\", \"country_name\": \"United States\", \"fleet_size\": \"156\", \"status\": \"active\", \"type\": \"scheduled\"}'}\n"
     ]
    },
    {
     "name": "stderr",
     "output_type": "stream",
     "text": [
      "2025-05-05 16:40:08,323 - sqlalchemy.engine.Engine - INFO - [no key 0.00146s] {'iata_code': 'AS', 'airline_id': '29', 'id': '4597479', 'icao_code': 'ASA', 'iata_prefix_accounting': '27', 'airline_name': 'Alaska Airlines', 'callsign': 'ALASKA', 'country_name': 'United States', 'country_iso2': 'US', 'date_founded': '1932', 'hub_code': 'SEA', 'fleet_size': '156', 'fleet_average_age': '9.5', 'status': 'active', 'type': 'scheduled', 'raw_payload': '{\"id\": \"4597479\", \"fleet_average_age\": \"9.5\", \"airline_id\": \"29\", \"callsign\": \"ALASKA\", \"hub_code\": \"SEA\", \"iata_code\": \"AS\", \"icao_code\": \"ASA\", \"co ... (55 characters truncated) ... _accounting\": \"27\", \"airline_name\": \"Alaska Airlines\", \"country_name\": \"United States\", \"fleet_size\": \"156\", \"status\": \"active\", \"type\": \"scheduled\"}', 'param_1': 'AS', 'param_2': '29', 'param_3': '4597479', 'param_4': 'ASA', 'param_5': '27', 'param_6': 'Alaska Airlines', 'param_7': 'ALASKA', 'param_8': 'United States', 'param_9': 'US', 'param_10': '1932', 'param_11': 'SEA', 'param_12': '156', 'param_13': '9.5', 'param_14': 'active', 'param_15': 'scheduled', 'param_16': '{\"id\": \"4597479\", \"fleet_average_age\": \"9.5\", \"airline_id\": \"29\", \"callsign\": \"ALASKA\", \"hub_code\": \"SEA\", \"iata_code\": \"AS\", \"icao_code\": \"ASA\", \"co ... (55 characters truncated) ... _accounting\": \"27\", \"airline_name\": \"Alaska Airlines\", \"country_name\": \"United States\", \"fleet_size\": \"156\", \"status\": \"active\", \"type\": \"scheduled\"}'}\n"
     ]
    },
    {
     "name": "stdout",
     "output_type": "stream",
     "text": [
      "2025-05-05 16:40:08,339 INFO sqlalchemy.engine.Engine INSERT INTO airlines (iata_code, airline_id, id, icao_code, iata_prefix_accounting, airline_name, callsign, country_name, country_iso2, date_founded, hub_code, fleet_size, fleet_average_age, status, type, raw_payload) VALUES (%(iata_code)s, %(airline_id)s, %(id)s, %(icao_code)s, %(iata_prefix_accounting)s, %(airline_name)s, %(callsign)s, %(country_name)s, %(country_iso2)s, %(date_founded)s, %(hub_code)s, %(fleet_size)s, %(fleet_average_age)s, %(status)s, %(type)s, %(raw_payload)s::JSONB) ON CONFLICT (iata_code) DO UPDATE SET iata_code = %(param_1)s, airline_id = %(param_2)s, id = %(param_3)s, icao_code = %(param_4)s, iata_prefix_accounting = %(param_5)s, airline_name = %(param_6)s, callsign = %(param_7)s, country_name = %(param_8)s, country_iso2 = %(param_9)s, date_founded = %(param_10)s, hub_code = %(param_11)s, fleet_size = %(param_12)s, fleet_average_age = %(param_13)s, status = %(param_14)s, type = %(param_15)s, raw_payload = %(param_16)s::JSONB\n"
     ]
    },
    {
     "name": "stderr",
     "output_type": "stream",
     "text": [
      "2025-05-05 16:40:08,339 - sqlalchemy.engine.Engine - INFO - INSERT INTO airlines (iata_code, airline_id, id, icao_code, iata_prefix_accounting, airline_name, callsign, country_name, country_iso2, date_founded, hub_code, fleet_size, fleet_average_age, status, type, raw_payload) VALUES (%(iata_code)s, %(airline_id)s, %(id)s, %(icao_code)s, %(iata_prefix_accounting)s, %(airline_name)s, %(callsign)s, %(country_name)s, %(country_iso2)s, %(date_founded)s, %(hub_code)s, %(fleet_size)s, %(fleet_average_age)s, %(status)s, %(type)s, %(raw_payload)s::JSONB) ON CONFLICT (iata_code) DO UPDATE SET iata_code = %(param_1)s, airline_id = %(param_2)s, id = %(param_3)s, icao_code = %(param_4)s, iata_prefix_accounting = %(param_5)s, airline_name = %(param_6)s, callsign = %(param_7)s, country_name = %(param_8)s, country_iso2 = %(param_9)s, date_founded = %(param_10)s, hub_code = %(param_11)s, fleet_size = %(param_12)s, fleet_average_age = %(param_13)s, status = %(param_14)s, type = %(param_15)s, raw_payload = %(param_16)s::JSONB\n"
     ]
    },
    {
     "name": "stdout",
     "output_type": "stream",
     "text": [
      "2025-05-05 16:40:08,341 INFO sqlalchemy.engine.Engine [no key 0.00252s] {'iata_code': 'HU', 'airline_id': '30', 'id': '4597480', 'icao_code': 'CHH', 'iata_prefix_accounting': '880', 'airline_name': 'Hainan Airlines', 'callsign': 'HAINAN', 'country_name': 'China', 'country_iso2': 'CN', 'date_founded': '1989', 'hub_code': 'HAK', 'fleet_size': '155', 'fleet_average_age': '4.9', 'status': 'active', 'type': 'scheduled', 'raw_payload': '{\"id\": \"4597480\", \"fleet_average_age\": \"4.9\", \"airline_id\": \"30\", \"callsign\": \"HAINAN\", \"hub_code\": \"HAK\", \"iata_code\": \"HU\", \"icao_code\": \"CHH\", \"co ... (48 characters truncated) ... _prefix_accounting\": \"880\", \"airline_name\": \"Hainan Airlines\", \"country_name\": \"China\", \"fleet_size\": \"155\", \"status\": \"active\", \"type\": \"scheduled\"}', 'param_1': 'HU', 'param_2': '30', 'param_3': '4597480', 'param_4': 'CHH', 'param_5': '880', 'param_6': 'Hainan Airlines', 'param_7': 'HAINAN', 'param_8': 'China', 'param_9': 'CN', 'param_10': '1989', 'param_11': 'HAK', 'param_12': '155', 'param_13': '4.9', 'param_14': 'active', 'param_15': 'scheduled', 'param_16': '{\"id\": \"4597480\", \"fleet_average_age\": \"4.9\", \"airline_id\": \"30\", \"callsign\": \"HAINAN\", \"hub_code\": \"HAK\", \"iata_code\": \"HU\", \"icao_code\": \"CHH\", \"co ... (48 characters truncated) ... _prefix_accounting\": \"880\", \"airline_name\": \"Hainan Airlines\", \"country_name\": \"China\", \"fleet_size\": \"155\", \"status\": \"active\", \"type\": \"scheduled\"}'}\n"
     ]
    },
    {
     "name": "stderr",
     "output_type": "stream",
     "text": [
      "2025-05-05 16:40:08,341 - sqlalchemy.engine.Engine - INFO - [no key 0.00252s] {'iata_code': 'HU', 'airline_id': '30', 'id': '4597480', 'icao_code': 'CHH', 'iata_prefix_accounting': '880', 'airline_name': 'Hainan Airlines', 'callsign': 'HAINAN', 'country_name': 'China', 'country_iso2': 'CN', 'date_founded': '1989', 'hub_code': 'HAK', 'fleet_size': '155', 'fleet_average_age': '4.9', 'status': 'active', 'type': 'scheduled', 'raw_payload': '{\"id\": \"4597480\", \"fleet_average_age\": \"4.9\", \"airline_id\": \"30\", \"callsign\": \"HAINAN\", \"hub_code\": \"HAK\", \"iata_code\": \"HU\", \"icao_code\": \"CHH\", \"co ... (48 characters truncated) ... _prefix_accounting\": \"880\", \"airline_name\": \"Hainan Airlines\", \"country_name\": \"China\", \"fleet_size\": \"155\", \"status\": \"active\", \"type\": \"scheduled\"}', 'param_1': 'HU', 'param_2': '30', 'param_3': '4597480', 'param_4': 'CHH', 'param_5': '880', 'param_6': 'Hainan Airlines', 'param_7': 'HAINAN', 'param_8': 'China', 'param_9': 'CN', 'param_10': '1989', 'param_11': 'HAK', 'param_12': '155', 'param_13': '4.9', 'param_14': 'active', 'param_15': 'scheduled', 'param_16': '{\"id\": \"4597480\", \"fleet_average_age\": \"4.9\", \"airline_id\": \"30\", \"callsign\": \"HAINAN\", \"hub_code\": \"HAK\", \"iata_code\": \"HU\", \"icao_code\": \"CHH\", \"co ... (48 characters truncated) ... _prefix_accounting\": \"880\", \"airline_name\": \"Hainan Airlines\", \"country_name\": \"China\", \"fleet_size\": \"155\", \"status\": \"active\", \"type\": \"scheduled\"}'}\n"
     ]
    },
    {
     "name": "stdout",
     "output_type": "stream",
     "text": [
      "2025-05-05 16:40:08,343 INFO sqlalchemy.engine.Engine COMMIT\n"
     ]
    },
    {
     "name": "stderr",
     "output_type": "stream",
     "text": [
      "2025-05-05 16:40:08,343 - sqlalchemy.engine.Engine - INFO - COMMIT\n",
      "2025-05-05 16:40:08,346 - scripts.flight_data_processor - INFO - Processed 10 airline records\n"
     ]
    },
    {
     "name": "stdout",
     "output_type": "stream",
     "text": [
      "Batch processed.\n",
      "Waiting before next call...\n",
      "[AIRLINES] Finished testing. Fetched approx 30 records, processed approx 30.\n",
      "\n",
      "[AIRPORTS] Testing Endpoint...\n",
      "-- Airports Call 1/3 (Offset: 0) --\n",
      "API call successful. Fetched 10 records.\n",
      "Processing batch...\n",
      "2025-05-05 16:40:10,757 INFO sqlalchemy.engine.Engine BEGIN (implicit)\n"
     ]
    },
    {
     "name": "stderr",
     "output_type": "stream",
     "text": [
      "2025-05-05 16:40:10,757 - sqlalchemy.engine.Engine - INFO - BEGIN (implicit)\n"
     ]
    },
    {
     "name": "stdout",
     "output_type": "stream",
     "text": [
      "2025-05-05 16:40:10,758 INFO sqlalchemy.engine.Engine INSERT INTO airports (iata_code, airport_name, icao_code, latitude, longitude, geoname_id, city_iata_code, country_name, country_iso2, timezone, gmt, phone_number, raw_payload) VALUES (%(iata_code)s, %(airport_name)s, %(icao_code)s, %(latitude)s, %(longitude)s, %(geoname_id)s, %(city_iata_code)s, %(country_name)s, %(country_iso2)s, %(timezone)s, %(gmt)s, %(phone_number)s, %(raw_payload)s::JSONB) ON CONFLICT (iata_code) DO UPDATE SET iata_code = %(param_1)s, airport_name = %(param_2)s, icao_code = %(param_3)s, latitude = %(param_4)s, longitude = %(param_5)s, geoname_id = %(param_6)s, city_iata_code = %(param_7)s, country_name = %(param_8)s, country_iso2 = %(param_9)s, timezone = %(param_10)s, gmt = %(param_11)s, phone_number = %(param_12)s, raw_payload = %(param_13)s::JSONB\n"
     ]
    },
    {
     "name": "stderr",
     "output_type": "stream",
     "text": [
      "2025-05-05 16:40:10,758 - sqlalchemy.engine.Engine - INFO - INSERT INTO airports (iata_code, airport_name, icao_code, latitude, longitude, geoname_id, city_iata_code, country_name, country_iso2, timezone, gmt, phone_number, raw_payload) VALUES (%(iata_code)s, %(airport_name)s, %(icao_code)s, %(latitude)s, %(longitude)s, %(geoname_id)s, %(city_iata_code)s, %(country_name)s, %(country_iso2)s, %(timezone)s, %(gmt)s, %(phone_number)s, %(raw_payload)s::JSONB) ON CONFLICT (iata_code) DO UPDATE SET iata_code = %(param_1)s, airport_name = %(param_2)s, icao_code = %(param_3)s, latitude = %(param_4)s, longitude = %(param_5)s, geoname_id = %(param_6)s, city_iata_code = %(param_7)s, country_name = %(param_8)s, country_iso2 = %(param_9)s, timezone = %(param_10)s, gmt = %(param_11)s, phone_number = %(param_12)s, raw_payload = %(param_13)s::JSONB\n"
     ]
    },
    {
     "name": "stdout",
     "output_type": "stream",
     "text": [
      "2025-05-05 16:40:10,760 INFO sqlalchemy.engine.Engine [no key 0.00157s] {'iata_code': 'AAA', 'airport_name': 'Anaa', 'icao_code': 'NTGA', 'latitude': '-17.05', 'longitude': '-145.41667', 'geoname_id': '6947726', 'city_iata_code': 'AAA', 'country_name': 'French Polynesia', 'country_iso2': 'PF', 'timezone': 'Pacific/Tahiti', 'gmt': '-10', 'phone_number': None, 'raw_payload': '{\"id\": \"3610983\", \"gmt\": \"-10\", \"airport_id\": \"1\", \"iata_code\": \"AAA\", \"city_iata_code\": \"AAA\", \"icao_code\": \"NTGA\", \"country_iso2\": \"PF\", \"geoname_i ... (26 characters truncated) ...  \"-17.05\", \"longitude\": \"-145.41667\", \"airport_name\": \"Anaa\", \"country_name\": \"French Polynesia\", \"phone_number\": null, \"timezone\": \"Pacific/Tahiti\"}', 'param_1': 'AAA', 'param_2': 'Anaa', 'param_3': 'NTGA', 'param_4': '-17.05', 'param_5': '-145.41667', 'param_6': '6947726', 'param_7': 'AAA', 'param_8': 'French Polynesia', 'param_9': 'PF', 'param_10': 'Pacific/Tahiti', 'param_11': '-10', 'param_12': None, 'param_13': '{\"id\": \"3610983\", \"gmt\": \"-10\", \"airport_id\": \"1\", \"iata_code\": \"AAA\", \"city_iata_code\": \"AAA\", \"icao_code\": \"NTGA\", \"country_iso2\": \"PF\", \"geoname_i ... (26 characters truncated) ...  \"-17.05\", \"longitude\": \"-145.41667\", \"airport_name\": \"Anaa\", \"country_name\": \"French Polynesia\", \"phone_number\": null, \"timezone\": \"Pacific/Tahiti\"}'}\n"
     ]
    },
    {
     "name": "stderr",
     "output_type": "stream",
     "text": [
      "2025-05-05 16:40:10,760 - sqlalchemy.engine.Engine - INFO - [no key 0.00157s] {'iata_code': 'AAA', 'airport_name': 'Anaa', 'icao_code': 'NTGA', 'latitude': '-17.05', 'longitude': '-145.41667', 'geoname_id': '6947726', 'city_iata_code': 'AAA', 'country_name': 'French Polynesia', 'country_iso2': 'PF', 'timezone': 'Pacific/Tahiti', 'gmt': '-10', 'phone_number': None, 'raw_payload': '{\"id\": \"3610983\", \"gmt\": \"-10\", \"airport_id\": \"1\", \"iata_code\": \"AAA\", \"city_iata_code\": \"AAA\", \"icao_code\": \"NTGA\", \"country_iso2\": \"PF\", \"geoname_i ... (26 characters truncated) ...  \"-17.05\", \"longitude\": \"-145.41667\", \"airport_name\": \"Anaa\", \"country_name\": \"French Polynesia\", \"phone_number\": null, \"timezone\": \"Pacific/Tahiti\"}', 'param_1': 'AAA', 'param_2': 'Anaa', 'param_3': 'NTGA', 'param_4': '-17.05', 'param_5': '-145.41667', 'param_6': '6947726', 'param_7': 'AAA', 'param_8': 'French Polynesia', 'param_9': 'PF', 'param_10': 'Pacific/Tahiti', 'param_11': '-10', 'param_12': None, 'param_13': '{\"id\": \"3610983\", \"gmt\": \"-10\", \"airport_id\": \"1\", \"iata_code\": \"AAA\", \"city_iata_code\": \"AAA\", \"icao_code\": \"NTGA\", \"country_iso2\": \"PF\", \"geoname_i ... (26 characters truncated) ...  \"-17.05\", \"longitude\": \"-145.41667\", \"airport_name\": \"Anaa\", \"country_name\": \"French Polynesia\", \"phone_number\": null, \"timezone\": \"Pacific/Tahiti\"}'}\n"
     ]
    },
    {
     "name": "stdout",
     "output_type": "stream",
     "text": [
      "2025-05-05 16:40:10,764 INFO sqlalchemy.engine.Engine INSERT INTO airports (iata_code, airport_name, icao_code, latitude, longitude, geoname_id, city_iata_code, country_name, country_iso2, timezone, gmt, phone_number, raw_payload) VALUES (%(iata_code)s, %(airport_name)s, %(icao_code)s, %(latitude)s, %(longitude)s, %(geoname_id)s, %(city_iata_code)s, %(country_name)s, %(country_iso2)s, %(timezone)s, %(gmt)s, %(phone_number)s, %(raw_payload)s::JSONB) ON CONFLICT (iata_code) DO UPDATE SET iata_code = %(param_1)s, airport_name = %(param_2)s, icao_code = %(param_3)s, latitude = %(param_4)s, longitude = %(param_5)s, geoname_id = %(param_6)s, city_iata_code = %(param_7)s, country_name = %(param_8)s, country_iso2 = %(param_9)s, timezone = %(param_10)s, gmt = %(param_11)s, phone_number = %(param_12)s, raw_payload = %(param_13)s::JSONB\n"
     ]
    },
    {
     "name": "stderr",
     "output_type": "stream",
     "text": [
      "2025-05-05 16:40:10,764 - sqlalchemy.engine.Engine - INFO - INSERT INTO airports (iata_code, airport_name, icao_code, latitude, longitude, geoname_id, city_iata_code, country_name, country_iso2, timezone, gmt, phone_number, raw_payload) VALUES (%(iata_code)s, %(airport_name)s, %(icao_code)s, %(latitude)s, %(longitude)s, %(geoname_id)s, %(city_iata_code)s, %(country_name)s, %(country_iso2)s, %(timezone)s, %(gmt)s, %(phone_number)s, %(raw_payload)s::JSONB) ON CONFLICT (iata_code) DO UPDATE SET iata_code = %(param_1)s, airport_name = %(param_2)s, icao_code = %(param_3)s, latitude = %(param_4)s, longitude = %(param_5)s, geoname_id = %(param_6)s, city_iata_code = %(param_7)s, country_name = %(param_8)s, country_iso2 = %(param_9)s, timezone = %(param_10)s, gmt = %(param_11)s, phone_number = %(param_12)s, raw_payload = %(param_13)s::JSONB\n"
     ]
    },
    {
     "name": "stdout",
     "output_type": "stream",
     "text": [
      "2025-05-05 16:40:10,764 INFO sqlalchemy.engine.Engine [no key 0.00083s] {'iata_code': 'AAB', 'airport_name': 'Arrabury', 'icao_code': 'YARY', 'latitude': '-26.7', 'longitude': '141.04167', 'geoname_id': '7730796', 'city_iata_code': 'AAB', 'country_name': 'Australia', 'country_iso2': 'AU', 'timezone': 'Australia/Brisbane', 'gmt': '10', 'phone_number': None, 'raw_payload': '{\"id\": \"3610984\", \"gmt\": \"10\", \"airport_id\": \"2\", \"iata_code\": \"AAB\", \"city_iata_code\": \"AAB\", \"icao_code\": \"YARY\", \"country_iso2\": \"AU\", \"geoname_id ... (24 characters truncated) ... : \"-26.7\", \"longitude\": \"141.04167\", \"airport_name\": \"Arrabury\", \"country_name\": \"Australia\", \"phone_number\": null, \"timezone\": \"Australia/Brisbane\"}', 'param_1': 'AAB', 'param_2': 'Arrabury', 'param_3': 'YARY', 'param_4': '-26.7', 'param_5': '141.04167', 'param_6': '7730796', 'param_7': 'AAB', 'param_8': 'Australia', 'param_9': 'AU', 'param_10': 'Australia/Brisbane', 'param_11': '10', 'param_12': None, 'param_13': '{\"id\": \"3610984\", \"gmt\": \"10\", \"airport_id\": \"2\", \"iata_code\": \"AAB\", \"city_iata_code\": \"AAB\", \"icao_code\": \"YARY\", \"country_iso2\": \"AU\", \"geoname_id ... (24 characters truncated) ... : \"-26.7\", \"longitude\": \"141.04167\", \"airport_name\": \"Arrabury\", \"country_name\": \"Australia\", \"phone_number\": null, \"timezone\": \"Australia/Brisbane\"}'}\n"
     ]
    },
    {
     "name": "stderr",
     "output_type": "stream",
     "text": [
      "2025-05-05 16:40:10,764 - sqlalchemy.engine.Engine - INFO - [no key 0.00083s] {'iata_code': 'AAB', 'airport_name': 'Arrabury', 'icao_code': 'YARY', 'latitude': '-26.7', 'longitude': '141.04167', 'geoname_id': '7730796', 'city_iata_code': 'AAB', 'country_name': 'Australia', 'country_iso2': 'AU', 'timezone': 'Australia/Brisbane', 'gmt': '10', 'phone_number': None, 'raw_payload': '{\"id\": \"3610984\", \"gmt\": \"10\", \"airport_id\": \"2\", \"iata_code\": \"AAB\", \"city_iata_code\": \"AAB\", \"icao_code\": \"YARY\", \"country_iso2\": \"AU\", \"geoname_id ... (24 characters truncated) ... : \"-26.7\", \"longitude\": \"141.04167\", \"airport_name\": \"Arrabury\", \"country_name\": \"Australia\", \"phone_number\": null, \"timezone\": \"Australia/Brisbane\"}', 'param_1': 'AAB', 'param_2': 'Arrabury', 'param_3': 'YARY', 'param_4': '-26.7', 'param_5': '141.04167', 'param_6': '7730796', 'param_7': 'AAB', 'param_8': 'Australia', 'param_9': 'AU', 'param_10': 'Australia/Brisbane', 'param_11': '10', 'param_12': None, 'param_13': '{\"id\": \"3610984\", \"gmt\": \"10\", \"airport_id\": \"2\", \"iata_code\": \"AAB\", \"city_iata_code\": \"AAB\", \"icao_code\": \"YARY\", \"country_iso2\": \"AU\", \"geoname_id ... (24 characters truncated) ... : \"-26.7\", \"longitude\": \"141.04167\", \"airport_name\": \"Arrabury\", \"country_name\": \"Australia\", \"phone_number\": null, \"timezone\": \"Australia/Brisbane\"}'}\n"
     ]
    },
    {
     "name": "stdout",
     "output_type": "stream",
     "text": [
      "2025-05-05 16:40:10,767 INFO sqlalchemy.engine.Engine INSERT INTO airports (iata_code, airport_name, icao_code, latitude, longitude, geoname_id, city_iata_code, country_name, country_iso2, timezone, gmt, phone_number, raw_payload) VALUES (%(iata_code)s, %(airport_name)s, %(icao_code)s, %(latitude)s, %(longitude)s, %(geoname_id)s, %(city_iata_code)s, %(country_name)s, %(country_iso2)s, %(timezone)s, %(gmt)s, %(phone_number)s, %(raw_payload)s::JSONB) ON CONFLICT (iata_code) DO UPDATE SET iata_code = %(param_1)s, airport_name = %(param_2)s, icao_code = %(param_3)s, latitude = %(param_4)s, longitude = %(param_5)s, geoname_id = %(param_6)s, city_iata_code = %(param_7)s, country_name = %(param_8)s, country_iso2 = %(param_9)s, timezone = %(param_10)s, gmt = %(param_11)s, phone_number = %(param_12)s, raw_payload = %(param_13)s::JSONB\n"
     ]
    },
    {
     "name": "stderr",
     "output_type": "stream",
     "text": [
      "2025-05-05 16:40:10,767 - sqlalchemy.engine.Engine - INFO - INSERT INTO airports (iata_code, airport_name, icao_code, latitude, longitude, geoname_id, city_iata_code, country_name, country_iso2, timezone, gmt, phone_number, raw_payload) VALUES (%(iata_code)s, %(airport_name)s, %(icao_code)s, %(latitude)s, %(longitude)s, %(geoname_id)s, %(city_iata_code)s, %(country_name)s, %(country_iso2)s, %(timezone)s, %(gmt)s, %(phone_number)s, %(raw_payload)s::JSONB) ON CONFLICT (iata_code) DO UPDATE SET iata_code = %(param_1)s, airport_name = %(param_2)s, icao_code = %(param_3)s, latitude = %(param_4)s, longitude = %(param_5)s, geoname_id = %(param_6)s, city_iata_code = %(param_7)s, country_name = %(param_8)s, country_iso2 = %(param_9)s, timezone = %(param_10)s, gmt = %(param_11)s, phone_number = %(param_12)s, raw_payload = %(param_13)s::JSONB\n"
     ]
    },
    {
     "name": "stdout",
     "output_type": "stream",
     "text": [
      "2025-05-05 16:40:10,768 INFO sqlalchemy.engine.Engine [no key 0.00081s] {'iata_code': 'AAC', 'airport_name': 'El Arish International Airport', 'icao_code': 'HEAR', 'latitude': '31.133333', 'longitude': '33.75', 'geoname_id': '6297289', 'city_iata_code': 'AAC', 'country_name': 'Egypt', 'country_iso2': 'EG', 'timezone': 'Africa/Cairo', 'gmt': '2', 'phone_number': None, 'raw_payload': '{\"id\": \"3610985\", \"gmt\": \"2\", \"airport_id\": \"3\", \"iata_code\": \"AAC\", \"city_iata_code\": \"AAC\", \"icao_code\": \"HEAR\", \"country_iso2\": \"EG\", \"geoname_id\" ... (35 characters truncated) ... \", \"longitude\": \"33.75\", \"airport_name\": \"El Arish International Airport\", \"country_name\": \"Egypt\", \"phone_number\": null, \"timezone\": \"Africa/Cairo\"}', 'param_1': 'AAC', 'param_2': 'El Arish International Airport', 'param_3': 'HEAR', 'param_4': '31.133333', 'param_5': '33.75', 'param_6': '6297289', 'param_7': 'AAC', 'param_8': 'Egypt', 'param_9': 'EG', 'param_10': 'Africa/Cairo', 'param_11': '2', 'param_12': None, 'param_13': '{\"id\": \"3610985\", \"gmt\": \"2\", \"airport_id\": \"3\", \"iata_code\": \"AAC\", \"city_iata_code\": \"AAC\", \"icao_code\": \"HEAR\", \"country_iso2\": \"EG\", \"geoname_id\" ... (35 characters truncated) ... \", \"longitude\": \"33.75\", \"airport_name\": \"El Arish International Airport\", \"country_name\": \"Egypt\", \"phone_number\": null, \"timezone\": \"Africa/Cairo\"}'}\n"
     ]
    },
    {
     "name": "stderr",
     "output_type": "stream",
     "text": [
      "2025-05-05 16:40:10,768 - sqlalchemy.engine.Engine - INFO - [no key 0.00081s] {'iata_code': 'AAC', 'airport_name': 'El Arish International Airport', 'icao_code': 'HEAR', 'latitude': '31.133333', 'longitude': '33.75', 'geoname_id': '6297289', 'city_iata_code': 'AAC', 'country_name': 'Egypt', 'country_iso2': 'EG', 'timezone': 'Africa/Cairo', 'gmt': '2', 'phone_number': None, 'raw_payload': '{\"id\": \"3610985\", \"gmt\": \"2\", \"airport_id\": \"3\", \"iata_code\": \"AAC\", \"city_iata_code\": \"AAC\", \"icao_code\": \"HEAR\", \"country_iso2\": \"EG\", \"geoname_id\" ... (35 characters truncated) ... \", \"longitude\": \"33.75\", \"airport_name\": \"El Arish International Airport\", \"country_name\": \"Egypt\", \"phone_number\": null, \"timezone\": \"Africa/Cairo\"}', 'param_1': 'AAC', 'param_2': 'El Arish International Airport', 'param_3': 'HEAR', 'param_4': '31.133333', 'param_5': '33.75', 'param_6': '6297289', 'param_7': 'AAC', 'param_8': 'Egypt', 'param_9': 'EG', 'param_10': 'Africa/Cairo', 'param_11': '2', 'param_12': None, 'param_13': '{\"id\": \"3610985\", \"gmt\": \"2\", \"airport_id\": \"3\", \"iata_code\": \"AAC\", \"city_iata_code\": \"AAC\", \"icao_code\": \"HEAR\", \"country_iso2\": \"EG\", \"geoname_id\" ... (35 characters truncated) ... \", \"longitude\": \"33.75\", \"airport_name\": \"El Arish International Airport\", \"country_name\": \"Egypt\", \"phone_number\": null, \"timezone\": \"Africa/Cairo\"}'}\n"
     ]
    },
    {
     "name": "stdout",
     "output_type": "stream",
     "text": [
      "2025-05-05 16:40:10,772 INFO sqlalchemy.engine.Engine INSERT INTO airports (iata_code, airport_name, icao_code, latitude, longitude, geoname_id, city_iata_code, country_name, country_iso2, timezone, gmt, phone_number, raw_payload) VALUES (%(iata_code)s, %(airport_name)s, %(icao_code)s, %(latitude)s, %(longitude)s, %(geoname_id)s, %(city_iata_code)s, %(country_name)s, %(country_iso2)s, %(timezone)s, %(gmt)s, %(phone_number)s, %(raw_payload)s::JSONB) ON CONFLICT (iata_code) DO UPDATE SET iata_code = %(param_1)s, airport_name = %(param_2)s, icao_code = %(param_3)s, latitude = %(param_4)s, longitude = %(param_5)s, geoname_id = %(param_6)s, city_iata_code = %(param_7)s, country_name = %(param_8)s, country_iso2 = %(param_9)s, timezone = %(param_10)s, gmt = %(param_11)s, phone_number = %(param_12)s, raw_payload = %(param_13)s::JSONB\n"
     ]
    },
    {
     "name": "stderr",
     "output_type": "stream",
     "text": [
      "2025-05-05 16:40:10,772 - sqlalchemy.engine.Engine - INFO - INSERT INTO airports (iata_code, airport_name, icao_code, latitude, longitude, geoname_id, city_iata_code, country_name, country_iso2, timezone, gmt, phone_number, raw_payload) VALUES (%(iata_code)s, %(airport_name)s, %(icao_code)s, %(latitude)s, %(longitude)s, %(geoname_id)s, %(city_iata_code)s, %(country_name)s, %(country_iso2)s, %(timezone)s, %(gmt)s, %(phone_number)s, %(raw_payload)s::JSONB) ON CONFLICT (iata_code) DO UPDATE SET iata_code = %(param_1)s, airport_name = %(param_2)s, icao_code = %(param_3)s, latitude = %(param_4)s, longitude = %(param_5)s, geoname_id = %(param_6)s, city_iata_code = %(param_7)s, country_name = %(param_8)s, country_iso2 = %(param_9)s, timezone = %(param_10)s, gmt = %(param_11)s, phone_number = %(param_12)s, raw_payload = %(param_13)s::JSONB\n"
     ]
    },
    {
     "name": "stdout",
     "output_type": "stream",
     "text": [
      "2025-05-05 16:40:10,772 INFO sqlalchemy.engine.Engine [no key 0.00099s] {'iata_code': 'AAE', 'airport_name': 'Les Salines', 'icao_code': 'DABB', 'latitude': '36.821392', 'longitude': '7.811857', 'geoname_id': '2570559', 'city_iata_code': 'AAE', 'country_name': None, 'country_iso2': 'DZ', 'timezone': 'Africa/Algiers', 'gmt': '1', 'phone_number': None, 'raw_payload': '{\"id\": \"3610986\", \"gmt\": \"1\", \"airport_id\": \"4\", \"iata_code\": \"AAE\", \"city_iata_code\": \"AAE\", \"icao_code\": \"DABB\", \"country_iso2\": \"DZ\", \"geoname_id\" ... (18 characters truncated) ... tude\": \"36.821392\", \"longitude\": \"7.811857\", \"airport_name\": \"Les Salines\", \"country_name\": null, \"phone_number\": null, \"timezone\": \"Africa/Algiers\"}', 'param_1': 'AAE', 'param_2': 'Les Salines', 'param_3': 'DABB', 'param_4': '36.821392', 'param_5': '7.811857', 'param_6': '2570559', 'param_7': 'AAE', 'param_8': None, 'param_9': 'DZ', 'param_10': 'Africa/Algiers', 'param_11': '1', 'param_12': None, 'param_13': '{\"id\": \"3610986\", \"gmt\": \"1\", \"airport_id\": \"4\", \"iata_code\": \"AAE\", \"city_iata_code\": \"AAE\", \"icao_code\": \"DABB\", \"country_iso2\": \"DZ\", \"geoname_id\" ... (18 characters truncated) ... tude\": \"36.821392\", \"longitude\": \"7.811857\", \"airport_name\": \"Les Salines\", \"country_name\": null, \"phone_number\": null, \"timezone\": \"Africa/Algiers\"}'}\n"
     ]
    },
    {
     "name": "stderr",
     "output_type": "stream",
     "text": [
      "2025-05-05 16:40:10,772 - sqlalchemy.engine.Engine - INFO - [no key 0.00099s] {'iata_code': 'AAE', 'airport_name': 'Les Salines', 'icao_code': 'DABB', 'latitude': '36.821392', 'longitude': '7.811857', 'geoname_id': '2570559', 'city_iata_code': 'AAE', 'country_name': None, 'country_iso2': 'DZ', 'timezone': 'Africa/Algiers', 'gmt': '1', 'phone_number': None, 'raw_payload': '{\"id\": \"3610986\", \"gmt\": \"1\", \"airport_id\": \"4\", \"iata_code\": \"AAE\", \"city_iata_code\": \"AAE\", \"icao_code\": \"DABB\", \"country_iso2\": \"DZ\", \"geoname_id\" ... (18 characters truncated) ... tude\": \"36.821392\", \"longitude\": \"7.811857\", \"airport_name\": \"Les Salines\", \"country_name\": null, \"phone_number\": null, \"timezone\": \"Africa/Algiers\"}', 'param_1': 'AAE', 'param_2': 'Les Salines', 'param_3': 'DABB', 'param_4': '36.821392', 'param_5': '7.811857', 'param_6': '2570559', 'param_7': 'AAE', 'param_8': None, 'param_9': 'DZ', 'param_10': 'Africa/Algiers', 'param_11': '1', 'param_12': None, 'param_13': '{\"id\": \"3610986\", \"gmt\": \"1\", \"airport_id\": \"4\", \"iata_code\": \"AAE\", \"city_iata_code\": \"AAE\", \"icao_code\": \"DABB\", \"country_iso2\": \"DZ\", \"geoname_id\" ... (18 characters truncated) ... tude\": \"36.821392\", \"longitude\": \"7.811857\", \"airport_name\": \"Les Salines\", \"country_name\": null, \"phone_number\": null, \"timezone\": \"Africa/Algiers\"}'}\n"
     ]
    },
    {
     "name": "stdout",
     "output_type": "stream",
     "text": [
      "2025-05-05 16:40:10,777 INFO sqlalchemy.engine.Engine INSERT INTO airports (iata_code, airport_name, icao_code, latitude, longitude, geoname_id, city_iata_code, country_name, country_iso2, timezone, gmt, phone_number, raw_payload) VALUES (%(iata_code)s, %(airport_name)s, %(icao_code)s, %(latitude)s, %(longitude)s, %(geoname_id)s, %(city_iata_code)s, %(country_name)s, %(country_iso2)s, %(timezone)s, %(gmt)s, %(phone_number)s, %(raw_payload)s::JSONB) ON CONFLICT (iata_code) DO UPDATE SET iata_code = %(param_1)s, airport_name = %(param_2)s, icao_code = %(param_3)s, latitude = %(param_4)s, longitude = %(param_5)s, geoname_id = %(param_6)s, city_iata_code = %(param_7)s, country_name = %(param_8)s, country_iso2 = %(param_9)s, timezone = %(param_10)s, gmt = %(param_11)s, phone_number = %(param_12)s, raw_payload = %(param_13)s::JSONB\n"
     ]
    },
    {
     "name": "stderr",
     "output_type": "stream",
     "text": [
      "2025-05-05 16:40:10,777 - sqlalchemy.engine.Engine - INFO - INSERT INTO airports (iata_code, airport_name, icao_code, latitude, longitude, geoname_id, city_iata_code, country_name, country_iso2, timezone, gmt, phone_number, raw_payload) VALUES (%(iata_code)s, %(airport_name)s, %(icao_code)s, %(latitude)s, %(longitude)s, %(geoname_id)s, %(city_iata_code)s, %(country_name)s, %(country_iso2)s, %(timezone)s, %(gmt)s, %(phone_number)s, %(raw_payload)s::JSONB) ON CONFLICT (iata_code) DO UPDATE SET iata_code = %(param_1)s, airport_name = %(param_2)s, icao_code = %(param_3)s, latitude = %(param_4)s, longitude = %(param_5)s, geoname_id = %(param_6)s, city_iata_code = %(param_7)s, country_name = %(param_8)s, country_iso2 = %(param_9)s, timezone = %(param_10)s, gmt = %(param_11)s, phone_number = %(param_12)s, raw_payload = %(param_13)s::JSONB\n"
     ]
    },
    {
     "name": "stdout",
     "output_type": "stream",
     "text": [
      "2025-05-05 16:40:10,778 INFO sqlalchemy.engine.Engine [no key 0.00180s] {'iata_code': 'AAF', 'airport_name': 'Apalachicola Regional', 'icao_code': 'KAAF', 'latitude': '29.733334', 'longitude': '-84.98333', 'geoname_id': '4146153', 'city_iata_code': 'AAF', 'country_name': 'United States', 'country_iso2': 'US', 'timezone': 'America/New_York', 'gmt': '-5', 'phone_number': None, 'raw_payload': '{\"id\": \"3610987\", \"gmt\": \"-5\", \"airport_id\": \"5\", \"iata_code\": \"AAF\", \"city_iata_code\": \"AAF\", \"icao_code\": \"KAAF\", \"country_iso2\": \"US\", \"geoname_id ... (43 characters truncated) ... gitude\": \"-84.98333\", \"airport_name\": \"Apalachicola Regional\", \"country_name\": \"United States\", \"phone_number\": null, \"timezone\": \"America/New_York\"}', 'param_1': 'AAF', 'param_2': 'Apalachicola Regional', 'param_3': 'KAAF', 'param_4': '29.733334', 'param_5': '-84.98333', 'param_6': '4146153', 'param_7': 'AAF', 'param_8': 'United States', 'param_9': 'US', 'param_10': 'America/New_York', 'param_11': '-5', 'param_12': None, 'param_13': '{\"id\": \"3610987\", \"gmt\": \"-5\", \"airport_id\": \"5\", \"iata_code\": \"AAF\", \"city_iata_code\": \"AAF\", \"icao_code\": \"KAAF\", \"country_iso2\": \"US\", \"geoname_id ... (43 characters truncated) ... gitude\": \"-84.98333\", \"airport_name\": \"Apalachicola Regional\", \"country_name\": \"United States\", \"phone_number\": null, \"timezone\": \"America/New_York\"}'}\n"
     ]
    },
    {
     "name": "stderr",
     "output_type": "stream",
     "text": [
      "2025-05-05 16:40:10,778 - sqlalchemy.engine.Engine - INFO - [no key 0.00180s] {'iata_code': 'AAF', 'airport_name': 'Apalachicola Regional', 'icao_code': 'KAAF', 'latitude': '29.733334', 'longitude': '-84.98333', 'geoname_id': '4146153', 'city_iata_code': 'AAF', 'country_name': 'United States', 'country_iso2': 'US', 'timezone': 'America/New_York', 'gmt': '-5', 'phone_number': None, 'raw_payload': '{\"id\": \"3610987\", \"gmt\": \"-5\", \"airport_id\": \"5\", \"iata_code\": \"AAF\", \"city_iata_code\": \"AAF\", \"icao_code\": \"KAAF\", \"country_iso2\": \"US\", \"geoname_id ... (43 characters truncated) ... gitude\": \"-84.98333\", \"airport_name\": \"Apalachicola Regional\", \"country_name\": \"United States\", \"phone_number\": null, \"timezone\": \"America/New_York\"}', 'param_1': 'AAF', 'param_2': 'Apalachicola Regional', 'param_3': 'KAAF', 'param_4': '29.733334', 'param_5': '-84.98333', 'param_6': '4146153', 'param_7': 'AAF', 'param_8': 'United States', 'param_9': 'US', 'param_10': 'America/New_York', 'param_11': '-5', 'param_12': None, 'param_13': '{\"id\": \"3610987\", \"gmt\": \"-5\", \"airport_id\": \"5\", \"iata_code\": \"AAF\", \"city_iata_code\": \"AAF\", \"icao_code\": \"KAAF\", \"country_iso2\": \"US\", \"geoname_id ... (43 characters truncated) ... gitude\": \"-84.98333\", \"airport_name\": \"Apalachicola Regional\", \"country_name\": \"United States\", \"phone_number\": null, \"timezone\": \"America/New_York\"}'}\n"
     ]
    },
    {
     "name": "stdout",
     "output_type": "stream",
     "text": [
      "2025-05-05 16:40:10,783 INFO sqlalchemy.engine.Engine INSERT INTO airports (iata_code, airport_name, icao_code, latitude, longitude, geoname_id, city_iata_code, country_name, country_iso2, timezone, gmt, phone_number, raw_payload) VALUES (%(iata_code)s, %(airport_name)s, %(icao_code)s, %(latitude)s, %(longitude)s, %(geoname_id)s, %(city_iata_code)s, %(country_name)s, %(country_iso2)s, %(timezone)s, %(gmt)s, %(phone_number)s, %(raw_payload)s::JSONB) ON CONFLICT (iata_code) DO UPDATE SET iata_code = %(param_1)s, airport_name = %(param_2)s, icao_code = %(param_3)s, latitude = %(param_4)s, longitude = %(param_5)s, geoname_id = %(param_6)s, city_iata_code = %(param_7)s, country_name = %(param_8)s, country_iso2 = %(param_9)s, timezone = %(param_10)s, gmt = %(param_11)s, phone_number = %(param_12)s, raw_payload = %(param_13)s::JSONB\n"
     ]
    },
    {
     "name": "stderr",
     "output_type": "stream",
     "text": [
      "2025-05-05 16:40:10,783 - sqlalchemy.engine.Engine - INFO - INSERT INTO airports (iata_code, airport_name, icao_code, latitude, longitude, geoname_id, city_iata_code, country_name, country_iso2, timezone, gmt, phone_number, raw_payload) VALUES (%(iata_code)s, %(airport_name)s, %(icao_code)s, %(latitude)s, %(longitude)s, %(geoname_id)s, %(city_iata_code)s, %(country_name)s, %(country_iso2)s, %(timezone)s, %(gmt)s, %(phone_number)s, %(raw_payload)s::JSONB) ON CONFLICT (iata_code) DO UPDATE SET iata_code = %(param_1)s, airport_name = %(param_2)s, icao_code = %(param_3)s, latitude = %(param_4)s, longitude = %(param_5)s, geoname_id = %(param_6)s, city_iata_code = %(param_7)s, country_name = %(param_8)s, country_iso2 = %(param_9)s, timezone = %(param_10)s, gmt = %(param_11)s, phone_number = %(param_12)s, raw_payload = %(param_13)s::JSONB\n"
     ]
    },
    {
     "name": "stdout",
     "output_type": "stream",
     "text": [
      "2025-05-05 16:40:10,785 INFO sqlalchemy.engine.Engine [no key 0.00229s] {'iata_code': 'AAG', 'airport_name': 'Arapoti', 'icao_code': 'SSYA', 'latitude': '-24.103611', 'longitude': '-49.79', 'geoname_id': '3471795', 'city_iata_code': 'AAG', 'country_name': 'Brazil', 'country_iso2': 'BR', 'timezone': 'America/Sao_Paulo', 'gmt': '-3', 'phone_number': None, 'raw_payload': '{\"id\": \"3610988\", \"gmt\": \"-3\", \"airport_id\": \"6\", \"iata_code\": \"AAG\", \"city_iata_code\": \"AAG\", \"icao_code\": \"SSYA\", \"country_iso2\": \"BR\", \"geoname_id ... (21 characters truncated) ... de\": \"-24.103611\", \"longitude\": \"-49.79\", \"airport_name\": \"Arapoti\", \"country_name\": \"Brazil\", \"phone_number\": null, \"timezone\": \"America/Sao_Paulo\"}', 'param_1': 'AAG', 'param_2': 'Arapoti', 'param_3': 'SSYA', 'param_4': '-24.103611', 'param_5': '-49.79', 'param_6': '3471795', 'param_7': 'AAG', 'param_8': 'Brazil', 'param_9': 'BR', 'param_10': 'America/Sao_Paulo', 'param_11': '-3', 'param_12': None, 'param_13': '{\"id\": \"3610988\", \"gmt\": \"-3\", \"airport_id\": \"6\", \"iata_code\": \"AAG\", \"city_iata_code\": \"AAG\", \"icao_code\": \"SSYA\", \"country_iso2\": \"BR\", \"geoname_id ... (21 characters truncated) ... de\": \"-24.103611\", \"longitude\": \"-49.79\", \"airport_name\": \"Arapoti\", \"country_name\": \"Brazil\", \"phone_number\": null, \"timezone\": \"America/Sao_Paulo\"}'}\n"
     ]
    },
    {
     "name": "stderr",
     "output_type": "stream",
     "text": [
      "2025-05-05 16:40:10,785 - sqlalchemy.engine.Engine - INFO - [no key 0.00229s] {'iata_code': 'AAG', 'airport_name': 'Arapoti', 'icao_code': 'SSYA', 'latitude': '-24.103611', 'longitude': '-49.79', 'geoname_id': '3471795', 'city_iata_code': 'AAG', 'country_name': 'Brazil', 'country_iso2': 'BR', 'timezone': 'America/Sao_Paulo', 'gmt': '-3', 'phone_number': None, 'raw_payload': '{\"id\": \"3610988\", \"gmt\": \"-3\", \"airport_id\": \"6\", \"iata_code\": \"AAG\", \"city_iata_code\": \"AAG\", \"icao_code\": \"SSYA\", \"country_iso2\": \"BR\", \"geoname_id ... (21 characters truncated) ... de\": \"-24.103611\", \"longitude\": \"-49.79\", \"airport_name\": \"Arapoti\", \"country_name\": \"Brazil\", \"phone_number\": null, \"timezone\": \"America/Sao_Paulo\"}', 'param_1': 'AAG', 'param_2': 'Arapoti', 'param_3': 'SSYA', 'param_4': '-24.103611', 'param_5': '-49.79', 'param_6': '3471795', 'param_7': 'AAG', 'param_8': 'Brazil', 'param_9': 'BR', 'param_10': 'America/Sao_Paulo', 'param_11': '-3', 'param_12': None, 'param_13': '{\"id\": \"3610988\", \"gmt\": \"-3\", \"airport_id\": \"6\", \"iata_code\": \"AAG\", \"city_iata_code\": \"AAG\", \"icao_code\": \"SSYA\", \"country_iso2\": \"BR\", \"geoname_id ... (21 characters truncated) ... de\": \"-24.103611\", \"longitude\": \"-49.79\", \"airport_name\": \"Arapoti\", \"country_name\": \"Brazil\", \"phone_number\": null, \"timezone\": \"America/Sao_Paulo\"}'}\n"
     ]
    },
    {
     "name": "stdout",
     "output_type": "stream",
     "text": [
      "2025-05-05 16:40:10,790 INFO sqlalchemy.engine.Engine INSERT INTO airports (iata_code, airport_name, icao_code, latitude, longitude, geoname_id, city_iata_code, country_name, country_iso2, timezone, gmt, phone_number, raw_payload) VALUES (%(iata_code)s, %(airport_name)s, %(icao_code)s, %(latitude)s, %(longitude)s, %(geoname_id)s, %(city_iata_code)s, %(country_name)s, %(country_iso2)s, %(timezone)s, %(gmt)s, %(phone_number)s, %(raw_payload)s::JSONB) ON CONFLICT (iata_code) DO UPDATE SET iata_code = %(param_1)s, airport_name = %(param_2)s, icao_code = %(param_3)s, latitude = %(param_4)s, longitude = %(param_5)s, geoname_id = %(param_6)s, city_iata_code = %(param_7)s, country_name = %(param_8)s, country_iso2 = %(param_9)s, timezone = %(param_10)s, gmt = %(param_11)s, phone_number = %(param_12)s, raw_payload = %(param_13)s::JSONB\n"
     ]
    },
    {
     "name": "stderr",
     "output_type": "stream",
     "text": [
      "2025-05-05 16:40:10,790 - sqlalchemy.engine.Engine - INFO - INSERT INTO airports (iata_code, airport_name, icao_code, latitude, longitude, geoname_id, city_iata_code, country_name, country_iso2, timezone, gmt, phone_number, raw_payload) VALUES (%(iata_code)s, %(airport_name)s, %(icao_code)s, %(latitude)s, %(longitude)s, %(geoname_id)s, %(city_iata_code)s, %(country_name)s, %(country_iso2)s, %(timezone)s, %(gmt)s, %(phone_number)s, %(raw_payload)s::JSONB) ON CONFLICT (iata_code) DO UPDATE SET iata_code = %(param_1)s, airport_name = %(param_2)s, icao_code = %(param_3)s, latitude = %(param_4)s, longitude = %(param_5)s, geoname_id = %(param_6)s, city_iata_code = %(param_7)s, country_name = %(param_8)s, country_iso2 = %(param_9)s, timezone = %(param_10)s, gmt = %(param_11)s, phone_number = %(param_12)s, raw_payload = %(param_13)s::JSONB\n"
     ]
    },
    {
     "name": "stdout",
     "output_type": "stream",
     "text": [
      "2025-05-05 16:40:10,791 INFO sqlalchemy.engine.Engine [no key 0.00178s] {'iata_code': 'AAH', 'airport_name': 'Aachen/Merzbruck', 'icao_code': 'EDKA', 'latitude': '50.75', 'longitude': '6.133333', 'geoname_id': '3207669', 'city_iata_code': 'AAH', 'country_name': 'Germany', 'country_iso2': 'DE', 'timezone': 'Europe/Berlin', 'gmt': '1', 'phone_number': None, 'raw_payload': '{\"id\": \"3610989\", \"gmt\": \"1\", \"airport_id\": \"7\", \"iata_code\": \"AAH\", \"city_iata_code\": \"AAH\", \"icao_code\": \"EDKA\", \"country_iso2\": \"DE\", \"geoname_id\" ... (23 characters truncated) ... : \"50.75\", \"longitude\": \"6.133333\", \"airport_name\": \"Aachen/Merzbruck\", \"country_name\": \"Germany\", \"phone_number\": null, \"timezone\": \"Europe/Berlin\"}', 'param_1': 'AAH', 'param_2': 'Aachen/Merzbruck', 'param_3': 'EDKA', 'param_4': '50.75', 'param_5': '6.133333', 'param_6': '3207669', 'param_7': 'AAH', 'param_8': 'Germany', 'param_9': 'DE', 'param_10': 'Europe/Berlin', 'param_11': '1', 'param_12': None, 'param_13': '{\"id\": \"3610989\", \"gmt\": \"1\", \"airport_id\": \"7\", \"iata_code\": \"AAH\", \"city_iata_code\": \"AAH\", \"icao_code\": \"EDKA\", \"country_iso2\": \"DE\", \"geoname_id\" ... (23 characters truncated) ... : \"50.75\", \"longitude\": \"6.133333\", \"airport_name\": \"Aachen/Merzbruck\", \"country_name\": \"Germany\", \"phone_number\": null, \"timezone\": \"Europe/Berlin\"}'}\n"
     ]
    },
    {
     "name": "stderr",
     "output_type": "stream",
     "text": [
      "2025-05-05 16:40:10,791 - sqlalchemy.engine.Engine - INFO - [no key 0.00178s] {'iata_code': 'AAH', 'airport_name': 'Aachen/Merzbruck', 'icao_code': 'EDKA', 'latitude': '50.75', 'longitude': '6.133333', 'geoname_id': '3207669', 'city_iata_code': 'AAH', 'country_name': 'Germany', 'country_iso2': 'DE', 'timezone': 'Europe/Berlin', 'gmt': '1', 'phone_number': None, 'raw_payload': '{\"id\": \"3610989\", \"gmt\": \"1\", \"airport_id\": \"7\", \"iata_code\": \"AAH\", \"city_iata_code\": \"AAH\", \"icao_code\": \"EDKA\", \"country_iso2\": \"DE\", \"geoname_id\" ... (23 characters truncated) ... : \"50.75\", \"longitude\": \"6.133333\", \"airport_name\": \"Aachen/Merzbruck\", \"country_name\": \"Germany\", \"phone_number\": null, \"timezone\": \"Europe/Berlin\"}', 'param_1': 'AAH', 'param_2': 'Aachen/Merzbruck', 'param_3': 'EDKA', 'param_4': '50.75', 'param_5': '6.133333', 'param_6': '3207669', 'param_7': 'AAH', 'param_8': 'Germany', 'param_9': 'DE', 'param_10': 'Europe/Berlin', 'param_11': '1', 'param_12': None, 'param_13': '{\"id\": \"3610989\", \"gmt\": \"1\", \"airport_id\": \"7\", \"iata_code\": \"AAH\", \"city_iata_code\": \"AAH\", \"icao_code\": \"EDKA\", \"country_iso2\": \"DE\", \"geoname_id\" ... (23 characters truncated) ... : \"50.75\", \"longitude\": \"6.133333\", \"airport_name\": \"Aachen/Merzbruck\", \"country_name\": \"Germany\", \"phone_number\": null, \"timezone\": \"Europe/Berlin\"}'}\n"
     ]
    },
    {
     "name": "stdout",
     "output_type": "stream",
     "text": [
      "2025-05-05 16:40:10,794 INFO sqlalchemy.engine.Engine INSERT INTO airports (iata_code, airport_name, icao_code, latitude, longitude, geoname_id, city_iata_code, country_name, country_iso2, timezone, gmt, phone_number, raw_payload) VALUES (%(iata_code)s, %(airport_name)s, %(icao_code)s, %(latitude)s, %(longitude)s, %(geoname_id)s, %(city_iata_code)s, %(country_name)s, %(country_iso2)s, %(timezone)s, %(gmt)s, %(phone_number)s, %(raw_payload)s::JSONB) ON CONFLICT (iata_code) DO UPDATE SET iata_code = %(param_1)s, airport_name = %(param_2)s, icao_code = %(param_3)s, latitude = %(param_4)s, longitude = %(param_5)s, geoname_id = %(param_6)s, city_iata_code = %(param_7)s, country_name = %(param_8)s, country_iso2 = %(param_9)s, timezone = %(param_10)s, gmt = %(param_11)s, phone_number = %(param_12)s, raw_payload = %(param_13)s::JSONB\n"
     ]
    },
    {
     "name": "stderr",
     "output_type": "stream",
     "text": [
      "2025-05-05 16:40:10,794 - sqlalchemy.engine.Engine - INFO - INSERT INTO airports (iata_code, airport_name, icao_code, latitude, longitude, geoname_id, city_iata_code, country_name, country_iso2, timezone, gmt, phone_number, raw_payload) VALUES (%(iata_code)s, %(airport_name)s, %(icao_code)s, %(latitude)s, %(longitude)s, %(geoname_id)s, %(city_iata_code)s, %(country_name)s, %(country_iso2)s, %(timezone)s, %(gmt)s, %(phone_number)s, %(raw_payload)s::JSONB) ON CONFLICT (iata_code) DO UPDATE SET iata_code = %(param_1)s, airport_name = %(param_2)s, icao_code = %(param_3)s, latitude = %(param_4)s, longitude = %(param_5)s, geoname_id = %(param_6)s, city_iata_code = %(param_7)s, country_name = %(param_8)s, country_iso2 = %(param_9)s, timezone = %(param_10)s, gmt = %(param_11)s, phone_number = %(param_12)s, raw_payload = %(param_13)s::JSONB\n"
     ]
    },
    {
     "name": "stdout",
     "output_type": "stream",
     "text": [
      "2025-05-05 16:40:10,796 INFO sqlalchemy.engine.Engine [no key 0.00150s] {'iata_code': 'AAI', 'airport_name': 'Arraias', 'icao_code': 'SWRA', 'latitude': '-12.916667', 'longitude': '-46.933334', 'geoname_id': '7668483', 'city_iata_code': 'AAI', 'country_name': 'Brazil', 'country_iso2': 'BR', 'timezone': 'America/Araguaina', 'gmt': '-3', 'phone_number': None, 'raw_payload': '{\"id\": \"3610990\", \"gmt\": \"-3\", \"airport_id\": \"8\", \"iata_code\": \"AAI\", \"city_iata_code\": \"AAI\", \"icao_code\": \"SWRA\", \"country_iso2\": \"BR\", \"geoname_id ... (25 characters truncated) ...  \"-12.916667\", \"longitude\": \"-46.933334\", \"airport_name\": \"Arraias\", \"country_name\": \"Brazil\", \"phone_number\": null, \"timezone\": \"America/Araguaina\"}', 'param_1': 'AAI', 'param_2': 'Arraias', 'param_3': 'SWRA', 'param_4': '-12.916667', 'param_5': '-46.933334', 'param_6': '7668483', 'param_7': 'AAI', 'param_8': 'Brazil', 'param_9': 'BR', 'param_10': 'America/Araguaina', 'param_11': '-3', 'param_12': None, 'param_13': '{\"id\": \"3610990\", \"gmt\": \"-3\", \"airport_id\": \"8\", \"iata_code\": \"AAI\", \"city_iata_code\": \"AAI\", \"icao_code\": \"SWRA\", \"country_iso2\": \"BR\", \"geoname_id ... (25 characters truncated) ...  \"-12.916667\", \"longitude\": \"-46.933334\", \"airport_name\": \"Arraias\", \"country_name\": \"Brazil\", \"phone_number\": null, \"timezone\": \"America/Araguaina\"}'}\n"
     ]
    },
    {
     "name": "stderr",
     "output_type": "stream",
     "text": [
      "2025-05-05 16:40:10,796 - sqlalchemy.engine.Engine - INFO - [no key 0.00150s] {'iata_code': 'AAI', 'airport_name': 'Arraias', 'icao_code': 'SWRA', 'latitude': '-12.916667', 'longitude': '-46.933334', 'geoname_id': '7668483', 'city_iata_code': 'AAI', 'country_name': 'Brazil', 'country_iso2': 'BR', 'timezone': 'America/Araguaina', 'gmt': '-3', 'phone_number': None, 'raw_payload': '{\"id\": \"3610990\", \"gmt\": \"-3\", \"airport_id\": \"8\", \"iata_code\": \"AAI\", \"city_iata_code\": \"AAI\", \"icao_code\": \"SWRA\", \"country_iso2\": \"BR\", \"geoname_id ... (25 characters truncated) ...  \"-12.916667\", \"longitude\": \"-46.933334\", \"airport_name\": \"Arraias\", \"country_name\": \"Brazil\", \"phone_number\": null, \"timezone\": \"America/Araguaina\"}', 'param_1': 'AAI', 'param_2': 'Arraias', 'param_3': 'SWRA', 'param_4': '-12.916667', 'param_5': '-46.933334', 'param_6': '7668483', 'param_7': 'AAI', 'param_8': 'Brazil', 'param_9': 'BR', 'param_10': 'America/Araguaina', 'param_11': '-3', 'param_12': None, 'param_13': '{\"id\": \"3610990\", \"gmt\": \"-3\", \"airport_id\": \"8\", \"iata_code\": \"AAI\", \"city_iata_code\": \"AAI\", \"icao_code\": \"SWRA\", \"country_iso2\": \"BR\", \"geoname_id ... (25 characters truncated) ...  \"-12.916667\", \"longitude\": \"-46.933334\", \"airport_name\": \"Arraias\", \"country_name\": \"Brazil\", \"phone_number\": null, \"timezone\": \"America/Araguaina\"}'}\n"
     ]
    },
    {
     "name": "stdout",
     "output_type": "stream",
     "text": [
      "2025-05-05 16:40:10,798 INFO sqlalchemy.engine.Engine INSERT INTO airports (iata_code, airport_name, icao_code, latitude, longitude, geoname_id, city_iata_code, country_name, country_iso2, timezone, gmt, phone_number, raw_payload) VALUES (%(iata_code)s, %(airport_name)s, %(icao_code)s, %(latitude)s, %(longitude)s, %(geoname_id)s, %(city_iata_code)s, %(country_name)s, %(country_iso2)s, %(timezone)s, %(gmt)s, %(phone_number)s, %(raw_payload)s::JSONB) ON CONFLICT (iata_code) DO UPDATE SET iata_code = %(param_1)s, airport_name = %(param_2)s, icao_code = %(param_3)s, latitude = %(param_4)s, longitude = %(param_5)s, geoname_id = %(param_6)s, city_iata_code = %(param_7)s, country_name = %(param_8)s, country_iso2 = %(param_9)s, timezone = %(param_10)s, gmt = %(param_11)s, phone_number = %(param_12)s, raw_payload = %(param_13)s::JSONB\n"
     ]
    },
    {
     "name": "stderr",
     "output_type": "stream",
     "text": [
      "2025-05-05 16:40:10,798 - sqlalchemy.engine.Engine - INFO - INSERT INTO airports (iata_code, airport_name, icao_code, latitude, longitude, geoname_id, city_iata_code, country_name, country_iso2, timezone, gmt, phone_number, raw_payload) VALUES (%(iata_code)s, %(airport_name)s, %(icao_code)s, %(latitude)s, %(longitude)s, %(geoname_id)s, %(city_iata_code)s, %(country_name)s, %(country_iso2)s, %(timezone)s, %(gmt)s, %(phone_number)s, %(raw_payload)s::JSONB) ON CONFLICT (iata_code) DO UPDATE SET iata_code = %(param_1)s, airport_name = %(param_2)s, icao_code = %(param_3)s, latitude = %(param_4)s, longitude = %(param_5)s, geoname_id = %(param_6)s, city_iata_code = %(param_7)s, country_name = %(param_8)s, country_iso2 = %(param_9)s, timezone = %(param_10)s, gmt = %(param_11)s, phone_number = %(param_12)s, raw_payload = %(param_13)s::JSONB\n"
     ]
    },
    {
     "name": "stdout",
     "output_type": "stream",
     "text": [
      "2025-05-05 16:40:10,799 INFO sqlalchemy.engine.Engine [no key 0.00076s] {'iata_code': 'AAK', 'airport_name': 'Aranuka', 'icao_code': 'NGUK', 'latitude': '0.166667', 'longitude': '173.58333', 'geoname_id': '7521791', 'city_iata_code': 'AAK', 'country_name': 'Kiribati', 'country_iso2': 'KI', 'timezone': 'Pacific/Tarawa', 'gmt': '12', 'phone_number': None, 'raw_payload': '{\"id\": \"3610992\", \"gmt\": \"12\", \"airport_id\": \"10\", \"iata_code\": \"AAK\", \"city_iata_code\": \"AAK\", \"icao_code\": \"NGUK\", \"country_iso2\": \"KI\", \"geoname_i ... (22 characters truncated) ... de\": \"0.166667\", \"longitude\": \"173.58333\", \"airport_name\": \"Aranuka\", \"country_name\": \"Kiribati\", \"phone_number\": null, \"timezone\": \"Pacific/Tarawa\"}', 'param_1': 'AAK', 'param_2': 'Aranuka', 'param_3': 'NGUK', 'param_4': '0.166667', 'param_5': '173.58333', 'param_6': '7521791', 'param_7': 'AAK', 'param_8': 'Kiribati', 'param_9': 'KI', 'param_10': 'Pacific/Tarawa', 'param_11': '12', 'param_12': None, 'param_13': '{\"id\": \"3610992\", \"gmt\": \"12\", \"airport_id\": \"10\", \"iata_code\": \"AAK\", \"city_iata_code\": \"AAK\", \"icao_code\": \"NGUK\", \"country_iso2\": \"KI\", \"geoname_i ... (22 characters truncated) ... de\": \"0.166667\", \"longitude\": \"173.58333\", \"airport_name\": \"Aranuka\", \"country_name\": \"Kiribati\", \"phone_number\": null, \"timezone\": \"Pacific/Tarawa\"}'}\n"
     ]
    },
    {
     "name": "stderr",
     "output_type": "stream",
     "text": [
      "2025-05-05 16:40:10,799 - sqlalchemy.engine.Engine - INFO - [no key 0.00076s] {'iata_code': 'AAK', 'airport_name': 'Aranuka', 'icao_code': 'NGUK', 'latitude': '0.166667', 'longitude': '173.58333', 'geoname_id': '7521791', 'city_iata_code': 'AAK', 'country_name': 'Kiribati', 'country_iso2': 'KI', 'timezone': 'Pacific/Tarawa', 'gmt': '12', 'phone_number': None, 'raw_payload': '{\"id\": \"3610992\", \"gmt\": \"12\", \"airport_id\": \"10\", \"iata_code\": \"AAK\", \"city_iata_code\": \"AAK\", \"icao_code\": \"NGUK\", \"country_iso2\": \"KI\", \"geoname_i ... (22 characters truncated) ... de\": \"0.166667\", \"longitude\": \"173.58333\", \"airport_name\": \"Aranuka\", \"country_name\": \"Kiribati\", \"phone_number\": null, \"timezone\": \"Pacific/Tarawa\"}', 'param_1': 'AAK', 'param_2': 'Aranuka', 'param_3': 'NGUK', 'param_4': '0.166667', 'param_5': '173.58333', 'param_6': '7521791', 'param_7': 'AAK', 'param_8': 'Kiribati', 'param_9': 'KI', 'param_10': 'Pacific/Tarawa', 'param_11': '12', 'param_12': None, 'param_13': '{\"id\": \"3610992\", \"gmt\": \"12\", \"airport_id\": \"10\", \"iata_code\": \"AAK\", \"city_iata_code\": \"AAK\", \"icao_code\": \"NGUK\", \"country_iso2\": \"KI\", \"geoname_i ... (22 characters truncated) ... de\": \"0.166667\", \"longitude\": \"173.58333\", \"airport_name\": \"Aranuka\", \"country_name\": \"Kiribati\", \"phone_number\": null, \"timezone\": \"Pacific/Tarawa\"}'}\n"
     ]
    },
    {
     "name": "stdout",
     "output_type": "stream",
     "text": [
      "2025-05-05 16:40:10,801 INFO sqlalchemy.engine.Engine INSERT INTO airports (iata_code, airport_name, icao_code, latitude, longitude, geoname_id, city_iata_code, country_name, country_iso2, timezone, gmt, phone_number, raw_payload) VALUES (%(iata_code)s, %(airport_name)s, %(icao_code)s, %(latitude)s, %(longitude)s, %(geoname_id)s, %(city_iata_code)s, %(country_name)s, %(country_iso2)s, %(timezone)s, %(gmt)s, %(phone_number)s, %(raw_payload)s::JSONB) ON CONFLICT (iata_code) DO UPDATE SET iata_code = %(param_1)s, airport_name = %(param_2)s, icao_code = %(param_3)s, latitude = %(param_4)s, longitude = %(param_5)s, geoname_id = %(param_6)s, city_iata_code = %(param_7)s, country_name = %(param_8)s, country_iso2 = %(param_9)s, timezone = %(param_10)s, gmt = %(param_11)s, phone_number = %(param_12)s, raw_payload = %(param_13)s::JSONB\n"
     ]
    },
    {
     "name": "stderr",
     "output_type": "stream",
     "text": [
      "2025-05-05 16:40:10,801 - sqlalchemy.engine.Engine - INFO - INSERT INTO airports (iata_code, airport_name, icao_code, latitude, longitude, geoname_id, city_iata_code, country_name, country_iso2, timezone, gmt, phone_number, raw_payload) VALUES (%(iata_code)s, %(airport_name)s, %(icao_code)s, %(latitude)s, %(longitude)s, %(geoname_id)s, %(city_iata_code)s, %(country_name)s, %(country_iso2)s, %(timezone)s, %(gmt)s, %(phone_number)s, %(raw_payload)s::JSONB) ON CONFLICT (iata_code) DO UPDATE SET iata_code = %(param_1)s, airport_name = %(param_2)s, icao_code = %(param_3)s, latitude = %(param_4)s, longitude = %(param_5)s, geoname_id = %(param_6)s, city_iata_code = %(param_7)s, country_name = %(param_8)s, country_iso2 = %(param_9)s, timezone = %(param_10)s, gmt = %(param_11)s, phone_number = %(param_12)s, raw_payload = %(param_13)s::JSONB\n"
     ]
    },
    {
     "name": "stdout",
     "output_type": "stream",
     "text": [
      "2025-05-05 16:40:10,802 INFO sqlalchemy.engine.Engine [no key 0.00077s] {'iata_code': 'AAL', 'airport_name': 'Aalborg', 'icao_code': 'EKYT', 'latitude': '57.08655', 'longitude': '9.872241', 'geoname_id': '2624887', 'city_iata_code': 'AAL', 'country_name': 'Denmark', 'country_iso2': 'DK', 'timezone': 'Europe/Copenhagen', 'gmt': '1', 'phone_number': None, 'raw_payload': '{\"id\": \"3610993\", \"gmt\": \"1\", \"airport_id\": \"11\", \"iata_code\": \"AAL\", \"city_iata_code\": \"AAL\", \"icao_code\": \"EKYT\", \"country_iso2\": \"DK\", \"geoname_id ... (22 characters truncated) ... e\": \"57.08655\", \"longitude\": \"9.872241\", \"airport_name\": \"Aalborg\", \"country_name\": \"Denmark\", \"phone_number\": null, \"timezone\": \"Europe/Copenhagen\"}', 'param_1': 'AAL', 'param_2': 'Aalborg', 'param_3': 'EKYT', 'param_4': '57.08655', 'param_5': '9.872241', 'param_6': '2624887', 'param_7': 'AAL', 'param_8': 'Denmark', 'param_9': 'DK', 'param_10': 'Europe/Copenhagen', 'param_11': '1', 'param_12': None, 'param_13': '{\"id\": \"3610993\", \"gmt\": \"1\", \"airport_id\": \"11\", \"iata_code\": \"AAL\", \"city_iata_code\": \"AAL\", \"icao_code\": \"EKYT\", \"country_iso2\": \"DK\", \"geoname_id ... (22 characters truncated) ... e\": \"57.08655\", \"longitude\": \"9.872241\", \"airport_name\": \"Aalborg\", \"country_name\": \"Denmark\", \"phone_number\": null, \"timezone\": \"Europe/Copenhagen\"}'}\n"
     ]
    },
    {
     "name": "stderr",
     "output_type": "stream",
     "text": [
      "2025-05-05 16:40:10,802 - sqlalchemy.engine.Engine - INFO - [no key 0.00077s] {'iata_code': 'AAL', 'airport_name': 'Aalborg', 'icao_code': 'EKYT', 'latitude': '57.08655', 'longitude': '9.872241', 'geoname_id': '2624887', 'city_iata_code': 'AAL', 'country_name': 'Denmark', 'country_iso2': 'DK', 'timezone': 'Europe/Copenhagen', 'gmt': '1', 'phone_number': None, 'raw_payload': '{\"id\": \"3610993\", \"gmt\": \"1\", \"airport_id\": \"11\", \"iata_code\": \"AAL\", \"city_iata_code\": \"AAL\", \"icao_code\": \"EKYT\", \"country_iso2\": \"DK\", \"geoname_id ... (22 characters truncated) ... e\": \"57.08655\", \"longitude\": \"9.872241\", \"airport_name\": \"Aalborg\", \"country_name\": \"Denmark\", \"phone_number\": null, \"timezone\": \"Europe/Copenhagen\"}', 'param_1': 'AAL', 'param_2': 'Aalborg', 'param_3': 'EKYT', 'param_4': '57.08655', 'param_5': '9.872241', 'param_6': '2624887', 'param_7': 'AAL', 'param_8': 'Denmark', 'param_9': 'DK', 'param_10': 'Europe/Copenhagen', 'param_11': '1', 'param_12': None, 'param_13': '{\"id\": \"3610993\", \"gmt\": \"1\", \"airport_id\": \"11\", \"iata_code\": \"AAL\", \"city_iata_code\": \"AAL\", \"icao_code\": \"EKYT\", \"country_iso2\": \"DK\", \"geoname_id ... (22 characters truncated) ... e\": \"57.08655\", \"longitude\": \"9.872241\", \"airport_name\": \"Aalborg\", \"country_name\": \"Denmark\", \"phone_number\": null, \"timezone\": \"Europe/Copenhagen\"}'}\n"
     ]
    },
    {
     "name": "stdout",
     "output_type": "stream",
     "text": [
      "2025-05-05 16:40:10,804 INFO sqlalchemy.engine.Engine COMMIT\n"
     ]
    },
    {
     "name": "stderr",
     "output_type": "stream",
     "text": [
      "2025-05-05 16:40:10,804 - sqlalchemy.engine.Engine - INFO - COMMIT\n",
      "2025-05-05 16:40:10,806 - scripts.flight_data_processor - INFO - Processed 10 airport records\n"
     ]
    },
    {
     "name": "stdout",
     "output_type": "stream",
     "text": [
      "Batch processed.\n",
      "Waiting before next call...\n",
      "-- Airports Call 2/3 (Offset: 10) --\n",
      "API call successful. Fetched 10 records.\n",
      "Processing batch...\n",
      "2025-05-05 16:40:13,169 INFO sqlalchemy.engine.Engine BEGIN (implicit)\n"
     ]
    },
    {
     "name": "stderr",
     "output_type": "stream",
     "text": [
      "2025-05-05 16:40:13,169 - sqlalchemy.engine.Engine - INFO - BEGIN (implicit)\n"
     ]
    },
    {
     "name": "stdout",
     "output_type": "stream",
     "text": [
      "2025-05-05 16:40:13,171 INFO sqlalchemy.engine.Engine INSERT INTO airports (iata_code, airport_name, icao_code, latitude, longitude, geoname_id, city_iata_code, country_name, country_iso2, timezone, gmt, phone_number, raw_payload) VALUES (%(iata_code)s, %(airport_name)s, %(icao_code)s, %(latitude)s, %(longitude)s, %(geoname_id)s, %(city_iata_code)s, %(country_name)s, %(country_iso2)s, %(timezone)s, %(gmt)s, %(phone_number)s, %(raw_payload)s::JSONB) ON CONFLICT (iata_code) DO UPDATE SET iata_code = %(param_1)s, airport_name = %(param_2)s, icao_code = %(param_3)s, latitude = %(param_4)s, longitude = %(param_5)s, geoname_id = %(param_6)s, city_iata_code = %(param_7)s, country_name = %(param_8)s, country_iso2 = %(param_9)s, timezone = %(param_10)s, gmt = %(param_11)s, phone_number = %(param_12)s, raw_payload = %(param_13)s::JSONB\n"
     ]
    },
    {
     "name": "stderr",
     "output_type": "stream",
     "text": [
      "2025-05-05 16:40:13,171 - sqlalchemy.engine.Engine - INFO - INSERT INTO airports (iata_code, airport_name, icao_code, latitude, longitude, geoname_id, city_iata_code, country_name, country_iso2, timezone, gmt, phone_number, raw_payload) VALUES (%(iata_code)s, %(airport_name)s, %(icao_code)s, %(latitude)s, %(longitude)s, %(geoname_id)s, %(city_iata_code)s, %(country_name)s, %(country_iso2)s, %(timezone)s, %(gmt)s, %(phone_number)s, %(raw_payload)s::JSONB) ON CONFLICT (iata_code) DO UPDATE SET iata_code = %(param_1)s, airport_name = %(param_2)s, icao_code = %(param_3)s, latitude = %(param_4)s, longitude = %(param_5)s, geoname_id = %(param_6)s, city_iata_code = %(param_7)s, country_name = %(param_8)s, country_iso2 = %(param_9)s, timezone = %(param_10)s, gmt = %(param_11)s, phone_number = %(param_12)s, raw_payload = %(param_13)s::JSONB\n"
     ]
    },
    {
     "name": "stdout",
     "output_type": "stream",
     "text": [
      "2025-05-05 16:40:13,172 INFO sqlalchemy.engine.Engine [no key 0.00114s] {'iata_code': 'AAM', 'airport_name': 'Mala Mala', 'icao_code': 'FAMD', 'latitude': '-24.8', 'longitude': '31.533333', 'geoname_id': '7668229', 'city_iata_code': 'AAM', 'country_name': 'South Africa', 'country_iso2': 'ZA', 'timezone': 'Africa/Johannesburg', 'gmt': '2', 'phone_number': None, 'raw_payload': '{\"id\": \"3610994\", \"gmt\": \"2\", \"airport_id\": \"12\", \"iata_code\": \"AAM\", \"city_iata_code\": \"AAM\", \"icao_code\": \"FAMD\", \"country_iso2\": \"ZA\", \"geoname_id ... (29 characters truncated) ... 4.8\", \"longitude\": \"31.533333\", \"airport_name\": \"Mala Mala\", \"country_name\": \"South Africa\", \"phone_number\": null, \"timezone\": \"Africa/Johannesburg\"}', 'param_1': 'AAM', 'param_2': 'Mala Mala', 'param_3': 'FAMD', 'param_4': '-24.8', 'param_5': '31.533333', 'param_6': '7668229', 'param_7': 'AAM', 'param_8': 'South Africa', 'param_9': 'ZA', 'param_10': 'Africa/Johannesburg', 'param_11': '2', 'param_12': None, 'param_13': '{\"id\": \"3610994\", \"gmt\": \"2\", \"airport_id\": \"12\", \"iata_code\": \"AAM\", \"city_iata_code\": \"AAM\", \"icao_code\": \"FAMD\", \"country_iso2\": \"ZA\", \"geoname_id ... (29 characters truncated) ... 4.8\", \"longitude\": \"31.533333\", \"airport_name\": \"Mala Mala\", \"country_name\": \"South Africa\", \"phone_number\": null, \"timezone\": \"Africa/Johannesburg\"}'}\n"
     ]
    },
    {
     "name": "stderr",
     "output_type": "stream",
     "text": [
      "2025-05-05 16:40:13,172 - sqlalchemy.engine.Engine - INFO - [no key 0.00114s] {'iata_code': 'AAM', 'airport_name': 'Mala Mala', 'icao_code': 'FAMD', 'latitude': '-24.8', 'longitude': '31.533333', 'geoname_id': '7668229', 'city_iata_code': 'AAM', 'country_name': 'South Africa', 'country_iso2': 'ZA', 'timezone': 'Africa/Johannesburg', 'gmt': '2', 'phone_number': None, 'raw_payload': '{\"id\": \"3610994\", \"gmt\": \"2\", \"airport_id\": \"12\", \"iata_code\": \"AAM\", \"city_iata_code\": \"AAM\", \"icao_code\": \"FAMD\", \"country_iso2\": \"ZA\", \"geoname_id ... (29 characters truncated) ... 4.8\", \"longitude\": \"31.533333\", \"airport_name\": \"Mala Mala\", \"country_name\": \"South Africa\", \"phone_number\": null, \"timezone\": \"Africa/Johannesburg\"}', 'param_1': 'AAM', 'param_2': 'Mala Mala', 'param_3': 'FAMD', 'param_4': '-24.8', 'param_5': '31.533333', 'param_6': '7668229', 'param_7': 'AAM', 'param_8': 'South Africa', 'param_9': 'ZA', 'param_10': 'Africa/Johannesburg', 'param_11': '2', 'param_12': None, 'param_13': '{\"id\": \"3610994\", \"gmt\": \"2\", \"airport_id\": \"12\", \"iata_code\": \"AAM\", \"city_iata_code\": \"AAM\", \"icao_code\": \"FAMD\", \"country_iso2\": \"ZA\", \"geoname_id ... (29 characters truncated) ... 4.8\", \"longitude\": \"31.533333\", \"airport_name\": \"Mala Mala\", \"country_name\": \"South Africa\", \"phone_number\": null, \"timezone\": \"Africa/Johannesburg\"}'}\n"
     ]
    },
    {
     "name": "stdout",
     "output_type": "stream",
     "text": [
      "2025-05-05 16:40:13,176 INFO sqlalchemy.engine.Engine INSERT INTO airports (iata_code, airport_name, icao_code, latitude, longitude, geoname_id, city_iata_code, country_name, country_iso2, timezone, gmt, phone_number, raw_payload) VALUES (%(iata_code)s, %(airport_name)s, %(icao_code)s, %(latitude)s, %(longitude)s, %(geoname_id)s, %(city_iata_code)s, %(country_name)s, %(country_iso2)s, %(timezone)s, %(gmt)s, %(phone_number)s, %(raw_payload)s::JSONB) ON CONFLICT (iata_code) DO UPDATE SET iata_code = %(param_1)s, airport_name = %(param_2)s, icao_code = %(param_3)s, latitude = %(param_4)s, longitude = %(param_5)s, geoname_id = %(param_6)s, city_iata_code = %(param_7)s, country_name = %(param_8)s, country_iso2 = %(param_9)s, timezone = %(param_10)s, gmt = %(param_11)s, phone_number = %(param_12)s, raw_payload = %(param_13)s::JSONB\n"
     ]
    },
    {
     "name": "stderr",
     "output_type": "stream",
     "text": [
      "2025-05-05 16:40:13,176 - sqlalchemy.engine.Engine - INFO - INSERT INTO airports (iata_code, airport_name, icao_code, latitude, longitude, geoname_id, city_iata_code, country_name, country_iso2, timezone, gmt, phone_number, raw_payload) VALUES (%(iata_code)s, %(airport_name)s, %(icao_code)s, %(latitude)s, %(longitude)s, %(geoname_id)s, %(city_iata_code)s, %(country_name)s, %(country_iso2)s, %(timezone)s, %(gmt)s, %(phone_number)s, %(raw_payload)s::JSONB) ON CONFLICT (iata_code) DO UPDATE SET iata_code = %(param_1)s, airport_name = %(param_2)s, icao_code = %(param_3)s, latitude = %(param_4)s, longitude = %(param_5)s, geoname_id = %(param_6)s, city_iata_code = %(param_7)s, country_name = %(param_8)s, country_iso2 = %(param_9)s, timezone = %(param_10)s, gmt = %(param_11)s, phone_number = %(param_12)s, raw_payload = %(param_13)s::JSONB\n"
     ]
    },
    {
     "name": "stdout",
     "output_type": "stream",
     "text": [
      "2025-05-05 16:40:13,176 INFO sqlalchemy.engine.Engine [no key 0.00069s] {'iata_code': 'AAN', 'airport_name': 'Al Ain', 'icao_code': 'OMAL', 'latitude': '24.260231', 'longitude': '55.616627', 'geoname_id': '6300095', 'city_iata_code': 'AAN', 'country_name': 'United Arab Emirates', 'country_iso2': 'AE', 'timezone': 'Asia/Dubai', 'gmt': '4', 'phone_number': None, 'raw_payload': '{\"id\": \"3610995\", \"gmt\": \"4\", \"airport_id\": \"13\", \"iata_code\": \"AAN\", \"city_iata_code\": \"AAN\", \"icao_code\": \"OMAL\", \"country_iso2\": \"AE\", \"geoname_id ... (29 characters truncated) ... .260231\", \"longitude\": \"55.616627\", \"airport_name\": \"Al Ain\", \"country_name\": \"United Arab Emirates\", \"phone_number\": null, \"timezone\": \"Asia/Dubai\"}', 'param_1': 'AAN', 'param_2': 'Al Ain', 'param_3': 'OMAL', 'param_4': '24.260231', 'param_5': '55.616627', 'param_6': '6300095', 'param_7': 'AAN', 'param_8': 'United Arab Emirates', 'param_9': 'AE', 'param_10': 'Asia/Dubai', 'param_11': '4', 'param_12': None, 'param_13': '{\"id\": \"3610995\", \"gmt\": \"4\", \"airport_id\": \"13\", \"iata_code\": \"AAN\", \"city_iata_code\": \"AAN\", \"icao_code\": \"OMAL\", \"country_iso2\": \"AE\", \"geoname_id ... (29 characters truncated) ... .260231\", \"longitude\": \"55.616627\", \"airport_name\": \"Al Ain\", \"country_name\": \"United Arab Emirates\", \"phone_number\": null, \"timezone\": \"Asia/Dubai\"}'}\n"
     ]
    },
    {
     "name": "stderr",
     "output_type": "stream",
     "text": [
      "2025-05-05 16:40:13,176 - sqlalchemy.engine.Engine - INFO - [no key 0.00069s] {'iata_code': 'AAN', 'airport_name': 'Al Ain', 'icao_code': 'OMAL', 'latitude': '24.260231', 'longitude': '55.616627', 'geoname_id': '6300095', 'city_iata_code': 'AAN', 'country_name': 'United Arab Emirates', 'country_iso2': 'AE', 'timezone': 'Asia/Dubai', 'gmt': '4', 'phone_number': None, 'raw_payload': '{\"id\": \"3610995\", \"gmt\": \"4\", \"airport_id\": \"13\", \"iata_code\": \"AAN\", \"city_iata_code\": \"AAN\", \"icao_code\": \"OMAL\", \"country_iso2\": \"AE\", \"geoname_id ... (29 characters truncated) ... .260231\", \"longitude\": \"55.616627\", \"airport_name\": \"Al Ain\", \"country_name\": \"United Arab Emirates\", \"phone_number\": null, \"timezone\": \"Asia/Dubai\"}', 'param_1': 'AAN', 'param_2': 'Al Ain', 'param_3': 'OMAL', 'param_4': '24.260231', 'param_5': '55.616627', 'param_6': '6300095', 'param_7': 'AAN', 'param_8': 'United Arab Emirates', 'param_9': 'AE', 'param_10': 'Asia/Dubai', 'param_11': '4', 'param_12': None, 'param_13': '{\"id\": \"3610995\", \"gmt\": \"4\", \"airport_id\": \"13\", \"iata_code\": \"AAN\", \"city_iata_code\": \"AAN\", \"icao_code\": \"OMAL\", \"country_iso2\": \"AE\", \"geoname_id ... (29 characters truncated) ... .260231\", \"longitude\": \"55.616627\", \"airport_name\": \"Al Ain\", \"country_name\": \"United Arab Emirates\", \"phone_number\": null, \"timezone\": \"Asia/Dubai\"}'}\n"
     ]
    },
    {
     "name": "stdout",
     "output_type": "stream",
     "text": [
      "2025-05-05 16:40:13,181 INFO sqlalchemy.engine.Engine INSERT INTO airports (iata_code, airport_name, icao_code, latitude, longitude, geoname_id, city_iata_code, country_name, country_iso2, timezone, gmt, phone_number, raw_payload) VALUES (%(iata_code)s, %(airport_name)s, %(icao_code)s, %(latitude)s, %(longitude)s, %(geoname_id)s, %(city_iata_code)s, %(country_name)s, %(country_iso2)s, %(timezone)s, %(gmt)s, %(phone_number)s, %(raw_payload)s::JSONB) ON CONFLICT (iata_code) DO UPDATE SET iata_code = %(param_1)s, airport_name = %(param_2)s, icao_code = %(param_3)s, latitude = %(param_4)s, longitude = %(param_5)s, geoname_id = %(param_6)s, city_iata_code = %(param_7)s, country_name = %(param_8)s, country_iso2 = %(param_9)s, timezone = %(param_10)s, gmt = %(param_11)s, phone_number = %(param_12)s, raw_payload = %(param_13)s::JSONB\n"
     ]
    },
    {
     "name": "stderr",
     "output_type": "stream",
     "text": [
      "2025-05-05 16:40:13,181 - sqlalchemy.engine.Engine - INFO - INSERT INTO airports (iata_code, airport_name, icao_code, latitude, longitude, geoname_id, city_iata_code, country_name, country_iso2, timezone, gmt, phone_number, raw_payload) VALUES (%(iata_code)s, %(airport_name)s, %(icao_code)s, %(latitude)s, %(longitude)s, %(geoname_id)s, %(city_iata_code)s, %(country_name)s, %(country_iso2)s, %(timezone)s, %(gmt)s, %(phone_number)s, %(raw_payload)s::JSONB) ON CONFLICT (iata_code) DO UPDATE SET iata_code = %(param_1)s, airport_name = %(param_2)s, icao_code = %(param_3)s, latitude = %(param_4)s, longitude = %(param_5)s, geoname_id = %(param_6)s, city_iata_code = %(param_7)s, country_name = %(param_8)s, country_iso2 = %(param_9)s, timezone = %(param_10)s, gmt = %(param_11)s, phone_number = %(param_12)s, raw_payload = %(param_13)s::JSONB\n"
     ]
    },
    {
     "name": "stdout",
     "output_type": "stream",
     "text": [
      "2025-05-05 16:40:13,182 INFO sqlalchemy.engine.Engine [no key 0.00114s] {'iata_code': 'AAQ', 'airport_name': 'Anapa', 'icao_code': 'URKA', 'latitude': '44.9', 'longitude': '37.316666', 'geoname_id': '6300989', 'city_iata_code': 'AAQ', 'country_name': 'Russia', 'country_iso2': 'RU', 'timezone': 'Europe/Moscow', 'gmt': '3', 'phone_number': None, 'raw_payload': '{\"id\": \"3610997\", \"gmt\": \"3\", \"airport_id\": \"15\", \"iata_code\": \"AAQ\", \"city_iata_code\": \"AAQ\", \"icao_code\": \"URKA\", \"country_iso2\": \"RU\", \"geoname_id ... (12 characters truncated) ... , \"latitude\": \"44.9\", \"longitude\": \"37.316666\", \"airport_name\": \"Anapa\", \"country_name\": \"Russia\", \"phone_number\": null, \"timezone\": \"Europe/Moscow\"}', 'param_1': 'AAQ', 'param_2': 'Anapa', 'param_3': 'URKA', 'param_4': '44.9', 'param_5': '37.316666', 'param_6': '6300989', 'param_7': 'AAQ', 'param_8': 'Russia', 'param_9': 'RU', 'param_10': 'Europe/Moscow', 'param_11': '3', 'param_12': None, 'param_13': '{\"id\": \"3610997\", \"gmt\": \"3\", \"airport_id\": \"15\", \"iata_code\": \"AAQ\", \"city_iata_code\": \"AAQ\", \"icao_code\": \"URKA\", \"country_iso2\": \"RU\", \"geoname_id ... (12 characters truncated) ... , \"latitude\": \"44.9\", \"longitude\": \"37.316666\", \"airport_name\": \"Anapa\", \"country_name\": \"Russia\", \"phone_number\": null, \"timezone\": \"Europe/Moscow\"}'}\n"
     ]
    },
    {
     "name": "stderr",
     "output_type": "stream",
     "text": [
      "2025-05-05 16:40:13,182 - sqlalchemy.engine.Engine - INFO - [no key 0.00114s] {'iata_code': 'AAQ', 'airport_name': 'Anapa', 'icao_code': 'URKA', 'latitude': '44.9', 'longitude': '37.316666', 'geoname_id': '6300989', 'city_iata_code': 'AAQ', 'country_name': 'Russia', 'country_iso2': 'RU', 'timezone': 'Europe/Moscow', 'gmt': '3', 'phone_number': None, 'raw_payload': '{\"id\": \"3610997\", \"gmt\": \"3\", \"airport_id\": \"15\", \"iata_code\": \"AAQ\", \"city_iata_code\": \"AAQ\", \"icao_code\": \"URKA\", \"country_iso2\": \"RU\", \"geoname_id ... (12 characters truncated) ... , \"latitude\": \"44.9\", \"longitude\": \"37.316666\", \"airport_name\": \"Anapa\", \"country_name\": \"Russia\", \"phone_number\": null, \"timezone\": \"Europe/Moscow\"}', 'param_1': 'AAQ', 'param_2': 'Anapa', 'param_3': 'URKA', 'param_4': '44.9', 'param_5': '37.316666', 'param_6': '6300989', 'param_7': 'AAQ', 'param_8': 'Russia', 'param_9': 'RU', 'param_10': 'Europe/Moscow', 'param_11': '3', 'param_12': None, 'param_13': '{\"id\": \"3610997\", \"gmt\": \"3\", \"airport_id\": \"15\", \"iata_code\": \"AAQ\", \"city_iata_code\": \"AAQ\", \"icao_code\": \"URKA\", \"country_iso2\": \"RU\", \"geoname_id ... (12 characters truncated) ... , \"latitude\": \"44.9\", \"longitude\": \"37.316666\", \"airport_name\": \"Anapa\", \"country_name\": \"Russia\", \"phone_number\": null, \"timezone\": \"Europe/Moscow\"}'}\n"
     ]
    },
    {
     "name": "stdout",
     "output_type": "stream",
     "text": [
      "2025-05-05 16:40:13,185 INFO sqlalchemy.engine.Engine INSERT INTO airports (iata_code, airport_name, icao_code, latitude, longitude, geoname_id, city_iata_code, country_name, country_iso2, timezone, gmt, phone_number, raw_payload) VALUES (%(iata_code)s, %(airport_name)s, %(icao_code)s, %(latitude)s, %(longitude)s, %(geoname_id)s, %(city_iata_code)s, %(country_name)s, %(country_iso2)s, %(timezone)s, %(gmt)s, %(phone_number)s, %(raw_payload)s::JSONB) ON CONFLICT (iata_code) DO UPDATE SET iata_code = %(param_1)s, airport_name = %(param_2)s, icao_code = %(param_3)s, latitude = %(param_4)s, longitude = %(param_5)s, geoname_id = %(param_6)s, city_iata_code = %(param_7)s, country_name = %(param_8)s, country_iso2 = %(param_9)s, timezone = %(param_10)s, gmt = %(param_11)s, phone_number = %(param_12)s, raw_payload = %(param_13)s::JSONB\n"
     ]
    },
    {
     "name": "stderr",
     "output_type": "stream",
     "text": [
      "2025-05-05 16:40:13,185 - sqlalchemy.engine.Engine - INFO - INSERT INTO airports (iata_code, airport_name, icao_code, latitude, longitude, geoname_id, city_iata_code, country_name, country_iso2, timezone, gmt, phone_number, raw_payload) VALUES (%(iata_code)s, %(airport_name)s, %(icao_code)s, %(latitude)s, %(longitude)s, %(geoname_id)s, %(city_iata_code)s, %(country_name)s, %(country_iso2)s, %(timezone)s, %(gmt)s, %(phone_number)s, %(raw_payload)s::JSONB) ON CONFLICT (iata_code) DO UPDATE SET iata_code = %(param_1)s, airport_name = %(param_2)s, icao_code = %(param_3)s, latitude = %(param_4)s, longitude = %(param_5)s, geoname_id = %(param_6)s, city_iata_code = %(param_7)s, country_name = %(param_8)s, country_iso2 = %(param_9)s, timezone = %(param_10)s, gmt = %(param_11)s, phone_number = %(param_12)s, raw_payload = %(param_13)s::JSONB\n"
     ]
    },
    {
     "name": "stdout",
     "output_type": "stream",
     "text": [
      "2025-05-05 16:40:13,186 INFO sqlalchemy.engine.Engine [no key 0.00177s] {'iata_code': 'AAR', 'airport_name': 'Aarhus Airport', 'icao_code': 'EKAH', 'latitude': '56.30823', 'longitude': '10.626351', 'geoname_id': '2611665', 'city_iata_code': 'AAR', 'country_name': 'Denmark', 'country_iso2': 'DK', 'timezone': 'Europe/Copenhagen', 'gmt': '1', 'phone_number': None, 'raw_payload': '{\"id\": \"3610998\", \"gmt\": \"1\", \"airport_id\": \"16\", \"iata_code\": \"AAR\", \"city_iata_code\": \"AAR\", \"icao_code\": \"EKAH\", \"country_iso2\": \"DK\", \"geoname_id ... (30 characters truncated) ... 30823\", \"longitude\": \"10.626351\", \"airport_name\": \"Aarhus Airport\", \"country_name\": \"Denmark\", \"phone_number\": null, \"timezone\": \"Europe/Copenhagen\"}', 'param_1': 'AAR', 'param_2': 'Aarhus Airport', 'param_3': 'EKAH', 'param_4': '56.30823', 'param_5': '10.626351', 'param_6': '2611665', 'param_7': 'AAR', 'param_8': 'Denmark', 'param_9': 'DK', 'param_10': 'Europe/Copenhagen', 'param_11': '1', 'param_12': None, 'param_13': '{\"id\": \"3610998\", \"gmt\": \"1\", \"airport_id\": \"16\", \"iata_code\": \"AAR\", \"city_iata_code\": \"AAR\", \"icao_code\": \"EKAH\", \"country_iso2\": \"DK\", \"geoname_id ... (30 characters truncated) ... 30823\", \"longitude\": \"10.626351\", \"airport_name\": \"Aarhus Airport\", \"country_name\": \"Denmark\", \"phone_number\": null, \"timezone\": \"Europe/Copenhagen\"}'}\n"
     ]
    },
    {
     "name": "stderr",
     "output_type": "stream",
     "text": [
      "2025-05-05 16:40:13,186 - sqlalchemy.engine.Engine - INFO - [no key 0.00177s] {'iata_code': 'AAR', 'airport_name': 'Aarhus Airport', 'icao_code': 'EKAH', 'latitude': '56.30823', 'longitude': '10.626351', 'geoname_id': '2611665', 'city_iata_code': 'AAR', 'country_name': 'Denmark', 'country_iso2': 'DK', 'timezone': 'Europe/Copenhagen', 'gmt': '1', 'phone_number': None, 'raw_payload': '{\"id\": \"3610998\", \"gmt\": \"1\", \"airport_id\": \"16\", \"iata_code\": \"AAR\", \"city_iata_code\": \"AAR\", \"icao_code\": \"EKAH\", \"country_iso2\": \"DK\", \"geoname_id ... (30 characters truncated) ... 30823\", \"longitude\": \"10.626351\", \"airport_name\": \"Aarhus Airport\", \"country_name\": \"Denmark\", \"phone_number\": null, \"timezone\": \"Europe/Copenhagen\"}', 'param_1': 'AAR', 'param_2': 'Aarhus Airport', 'param_3': 'EKAH', 'param_4': '56.30823', 'param_5': '10.626351', 'param_6': '2611665', 'param_7': 'AAR', 'param_8': 'Denmark', 'param_9': 'DK', 'param_10': 'Europe/Copenhagen', 'param_11': '1', 'param_12': None, 'param_13': '{\"id\": \"3610998\", \"gmt\": \"1\", \"airport_id\": \"16\", \"iata_code\": \"AAR\", \"city_iata_code\": \"AAR\", \"icao_code\": \"EKAH\", \"country_iso2\": \"DK\", \"geoname_id ... (30 characters truncated) ... 30823\", \"longitude\": \"10.626351\", \"airport_name\": \"Aarhus Airport\", \"country_name\": \"Denmark\", \"phone_number\": null, \"timezone\": \"Europe/Copenhagen\"}'}\n"
     ]
    },
    {
     "name": "stdout",
     "output_type": "stream",
     "text": [
      "2025-05-05 16:40:13,191 INFO sqlalchemy.engine.Engine INSERT INTO airports (iata_code, airport_name, icao_code, latitude, longitude, geoname_id, city_iata_code, country_name, country_iso2, timezone, gmt, phone_number, raw_payload) VALUES (%(iata_code)s, %(airport_name)s, %(icao_code)s, %(latitude)s, %(longitude)s, %(geoname_id)s, %(city_iata_code)s, %(country_name)s, %(country_iso2)s, %(timezone)s, %(gmt)s, %(phone_number)s, %(raw_payload)s::JSONB) ON CONFLICT (iata_code) DO UPDATE SET iata_code = %(param_1)s, airport_name = %(param_2)s, icao_code = %(param_3)s, latitude = %(param_4)s, longitude = %(param_5)s, geoname_id = %(param_6)s, city_iata_code = %(param_7)s, country_name = %(param_8)s, country_iso2 = %(param_9)s, timezone = %(param_10)s, gmt = %(param_11)s, phone_number = %(param_12)s, raw_payload = %(param_13)s::JSONB\n"
     ]
    },
    {
     "name": "stderr",
     "output_type": "stream",
     "text": [
      "2025-05-05 16:40:13,191 - sqlalchemy.engine.Engine - INFO - INSERT INTO airports (iata_code, airport_name, icao_code, latitude, longitude, geoname_id, city_iata_code, country_name, country_iso2, timezone, gmt, phone_number, raw_payload) VALUES (%(iata_code)s, %(airport_name)s, %(icao_code)s, %(latitude)s, %(longitude)s, %(geoname_id)s, %(city_iata_code)s, %(country_name)s, %(country_iso2)s, %(timezone)s, %(gmt)s, %(phone_number)s, %(raw_payload)s::JSONB) ON CONFLICT (iata_code) DO UPDATE SET iata_code = %(param_1)s, airport_name = %(param_2)s, icao_code = %(param_3)s, latitude = %(param_4)s, longitude = %(param_5)s, geoname_id = %(param_6)s, city_iata_code = %(param_7)s, country_name = %(param_8)s, country_iso2 = %(param_9)s, timezone = %(param_10)s, gmt = %(param_11)s, phone_number = %(param_12)s, raw_payload = %(param_13)s::JSONB\n"
     ]
    },
    {
     "name": "stdout",
     "output_type": "stream",
     "text": [
      "2025-05-05 16:40:13,192 INFO sqlalchemy.engine.Engine [no key 0.00146s] {'iata_code': 'AAT', 'airport_name': 'Altay', 'icao_code': 'ZWAT', 'latitude': '47.750362', 'longitude': '88.08444', 'geoname_id': '7910421', 'city_iata_code': 'AAT', 'country_name': 'China', 'country_iso2': 'CN', 'timezone': 'Asia/Shanghai', 'gmt': '8', 'phone_number': None, 'raw_payload': '{\"id\": \"3611000\", \"gmt\": \"8\", \"airport_id\": \"18\", \"iata_code\": \"AAT\", \"city_iata_code\": \"AAT\", \"icao_code\": \"ZWAT\", \"country_iso2\": \"CN\", \"geoname_id ... (15 characters truncated) ... latitude\": \"47.750362\", \"longitude\": \"88.08444\", \"airport_name\": \"Altay\", \"country_name\": \"China\", \"phone_number\": null, \"timezone\": \"Asia/Shanghai\"}', 'param_1': 'AAT', 'param_2': 'Altay', 'param_3': 'ZWAT', 'param_4': '47.750362', 'param_5': '88.08444', 'param_6': '7910421', 'param_7': 'AAT', 'param_8': 'China', 'param_9': 'CN', 'param_10': 'Asia/Shanghai', 'param_11': '8', 'param_12': None, 'param_13': '{\"id\": \"3611000\", \"gmt\": \"8\", \"airport_id\": \"18\", \"iata_code\": \"AAT\", \"city_iata_code\": \"AAT\", \"icao_code\": \"ZWAT\", \"country_iso2\": \"CN\", \"geoname_id ... (15 characters truncated) ... latitude\": \"47.750362\", \"longitude\": \"88.08444\", \"airport_name\": \"Altay\", \"country_name\": \"China\", \"phone_number\": null, \"timezone\": \"Asia/Shanghai\"}'}\n"
     ]
    },
    {
     "name": "stderr",
     "output_type": "stream",
     "text": [
      "2025-05-05 16:40:13,192 - sqlalchemy.engine.Engine - INFO - [no key 0.00146s] {'iata_code': 'AAT', 'airport_name': 'Altay', 'icao_code': 'ZWAT', 'latitude': '47.750362', 'longitude': '88.08444', 'geoname_id': '7910421', 'city_iata_code': 'AAT', 'country_name': 'China', 'country_iso2': 'CN', 'timezone': 'Asia/Shanghai', 'gmt': '8', 'phone_number': None, 'raw_payload': '{\"id\": \"3611000\", \"gmt\": \"8\", \"airport_id\": \"18\", \"iata_code\": \"AAT\", \"city_iata_code\": \"AAT\", \"icao_code\": \"ZWAT\", \"country_iso2\": \"CN\", \"geoname_id ... (15 characters truncated) ... latitude\": \"47.750362\", \"longitude\": \"88.08444\", \"airport_name\": \"Altay\", \"country_name\": \"China\", \"phone_number\": null, \"timezone\": \"Asia/Shanghai\"}', 'param_1': 'AAT', 'param_2': 'Altay', 'param_3': 'ZWAT', 'param_4': '47.750362', 'param_5': '88.08444', 'param_6': '7910421', 'param_7': 'AAT', 'param_8': 'China', 'param_9': 'CN', 'param_10': 'Asia/Shanghai', 'param_11': '8', 'param_12': None, 'param_13': '{\"id\": \"3611000\", \"gmt\": \"8\", \"airport_id\": \"18\", \"iata_code\": \"AAT\", \"city_iata_code\": \"AAT\", \"icao_code\": \"ZWAT\", \"country_iso2\": \"CN\", \"geoname_id ... (15 characters truncated) ... latitude\": \"47.750362\", \"longitude\": \"88.08444\", \"airport_name\": \"Altay\", \"country_name\": \"China\", \"phone_number\": null, \"timezone\": \"Asia/Shanghai\"}'}\n"
     ]
    },
    {
     "name": "stdout",
     "output_type": "stream",
     "text": [
      "2025-05-05 16:40:13,197 INFO sqlalchemy.engine.Engine INSERT INTO airports (iata_code, airport_name, icao_code, latitude, longitude, geoname_id, city_iata_code, country_name, country_iso2, timezone, gmt, phone_number, raw_payload) VALUES (%(iata_code)s, %(airport_name)s, %(icao_code)s, %(latitude)s, %(longitude)s, %(geoname_id)s, %(city_iata_code)s, %(country_name)s, %(country_iso2)s, %(timezone)s, %(gmt)s, %(phone_number)s, %(raw_payload)s::JSONB) ON CONFLICT (iata_code) DO UPDATE SET iata_code = %(param_1)s, airport_name = %(param_2)s, icao_code = %(param_3)s, latitude = %(param_4)s, longitude = %(param_5)s, geoname_id = %(param_6)s, city_iata_code = %(param_7)s, country_name = %(param_8)s, country_iso2 = %(param_9)s, timezone = %(param_10)s, gmt = %(param_11)s, phone_number = %(param_12)s, raw_payload = %(param_13)s::JSONB\n"
     ]
    },
    {
     "name": "stderr",
     "output_type": "stream",
     "text": [
      "2025-05-05 16:40:13,197 - sqlalchemy.engine.Engine - INFO - INSERT INTO airports (iata_code, airport_name, icao_code, latitude, longitude, geoname_id, city_iata_code, country_name, country_iso2, timezone, gmt, phone_number, raw_payload) VALUES (%(iata_code)s, %(airport_name)s, %(icao_code)s, %(latitude)s, %(longitude)s, %(geoname_id)s, %(city_iata_code)s, %(country_name)s, %(country_iso2)s, %(timezone)s, %(gmt)s, %(phone_number)s, %(raw_payload)s::JSONB) ON CONFLICT (iata_code) DO UPDATE SET iata_code = %(param_1)s, airport_name = %(param_2)s, icao_code = %(param_3)s, latitude = %(param_4)s, longitude = %(param_5)s, geoname_id = %(param_6)s, city_iata_code = %(param_7)s, country_name = %(param_8)s, country_iso2 = %(param_9)s, timezone = %(param_10)s, gmt = %(param_11)s, phone_number = %(param_12)s, raw_payload = %(param_13)s::JSONB\n"
     ]
    },
    {
     "name": "stdout",
     "output_type": "stream",
     "text": [
      "2025-05-05 16:40:13,198 INFO sqlalchemy.engine.Engine [no key 0.00200s] {'iata_code': 'AAX', 'airport_name': 'Araxa', 'icao_code': 'SBAX', 'latitude': '-19.568056', 'longitude': '-46.92917', 'geoname_id': '7668431', 'city_iata_code': 'AAX', 'country_name': 'Brazil', 'country_iso2': 'BR', 'timezone': 'America/Sao_Paulo', 'gmt': '-3', 'phone_number': None, 'raw_payload': '{\"id\": \"3611004\", \"gmt\": \"-3\", \"airport_id\": \"22\", \"iata_code\": \"AAX\", \"city_iata_code\": \"AAX\", \"icao_code\": \"SBAX\", \"country_iso2\": \"BR\", \"geoname_i ... (23 characters truncated) ... e\": \"-19.568056\", \"longitude\": \"-46.92917\", \"airport_name\": \"Araxa\", \"country_name\": \"Brazil\", \"phone_number\": null, \"timezone\": \"America/Sao_Paulo\"}', 'param_1': 'AAX', 'param_2': 'Araxa', 'param_3': 'SBAX', 'param_4': '-19.568056', 'param_5': '-46.92917', 'param_6': '7668431', 'param_7': 'AAX', 'param_8': 'Brazil', 'param_9': 'BR', 'param_10': 'America/Sao_Paulo', 'param_11': '-3', 'param_12': None, 'param_13': '{\"id\": \"3611004\", \"gmt\": \"-3\", \"airport_id\": \"22\", \"iata_code\": \"AAX\", \"city_iata_code\": \"AAX\", \"icao_code\": \"SBAX\", \"country_iso2\": \"BR\", \"geoname_i ... (23 characters truncated) ... e\": \"-19.568056\", \"longitude\": \"-46.92917\", \"airport_name\": \"Araxa\", \"country_name\": \"Brazil\", \"phone_number\": null, \"timezone\": \"America/Sao_Paulo\"}'}\n"
     ]
    },
    {
     "name": "stderr",
     "output_type": "stream",
     "text": [
      "2025-05-05 16:40:13,198 - sqlalchemy.engine.Engine - INFO - [no key 0.00200s] {'iata_code': 'AAX', 'airport_name': 'Araxa', 'icao_code': 'SBAX', 'latitude': '-19.568056', 'longitude': '-46.92917', 'geoname_id': '7668431', 'city_iata_code': 'AAX', 'country_name': 'Brazil', 'country_iso2': 'BR', 'timezone': 'America/Sao_Paulo', 'gmt': '-3', 'phone_number': None, 'raw_payload': '{\"id\": \"3611004\", \"gmt\": \"-3\", \"airport_id\": \"22\", \"iata_code\": \"AAX\", \"city_iata_code\": \"AAX\", \"icao_code\": \"SBAX\", \"country_iso2\": \"BR\", \"geoname_i ... (23 characters truncated) ... e\": \"-19.568056\", \"longitude\": \"-46.92917\", \"airport_name\": \"Araxa\", \"country_name\": \"Brazil\", \"phone_number\": null, \"timezone\": \"America/Sao_Paulo\"}', 'param_1': 'AAX', 'param_2': 'Araxa', 'param_3': 'SBAX', 'param_4': '-19.568056', 'param_5': '-46.92917', 'param_6': '7668431', 'param_7': 'AAX', 'param_8': 'Brazil', 'param_9': 'BR', 'param_10': 'America/Sao_Paulo', 'param_11': '-3', 'param_12': None, 'param_13': '{\"id\": \"3611004\", \"gmt\": \"-3\", \"airport_id\": \"22\", \"iata_code\": \"AAX\", \"city_iata_code\": \"AAX\", \"icao_code\": \"SBAX\", \"country_iso2\": \"BR\", \"geoname_i ... (23 characters truncated) ... e\": \"-19.568056\", \"longitude\": \"-46.92917\", \"airport_name\": \"Araxa\", \"country_name\": \"Brazil\", \"phone_number\": null, \"timezone\": \"America/Sao_Paulo\"}'}\n"
     ]
    },
    {
     "name": "stdout",
     "output_type": "stream",
     "text": [
      "2025-05-05 16:40:13,202 INFO sqlalchemy.engine.Engine INSERT INTO airports (iata_code, airport_name, icao_code, latitude, longitude, geoname_id, city_iata_code, country_name, country_iso2, timezone, gmt, phone_number, raw_payload) VALUES (%(iata_code)s, %(airport_name)s, %(icao_code)s, %(latitude)s, %(longitude)s, %(geoname_id)s, %(city_iata_code)s, %(country_name)s, %(country_iso2)s, %(timezone)s, %(gmt)s, %(phone_number)s, %(raw_payload)s::JSONB) ON CONFLICT (iata_code) DO UPDATE SET iata_code = %(param_1)s, airport_name = %(param_2)s, icao_code = %(param_3)s, latitude = %(param_4)s, longitude = %(param_5)s, geoname_id = %(param_6)s, city_iata_code = %(param_7)s, country_name = %(param_8)s, country_iso2 = %(param_9)s, timezone = %(param_10)s, gmt = %(param_11)s, phone_number = %(param_12)s, raw_payload = %(param_13)s::JSONB\n"
     ]
    },
    {
     "name": "stderr",
     "output_type": "stream",
     "text": [
      "2025-05-05 16:40:13,202 - sqlalchemy.engine.Engine - INFO - INSERT INTO airports (iata_code, airport_name, icao_code, latitude, longitude, geoname_id, city_iata_code, country_name, country_iso2, timezone, gmt, phone_number, raw_payload) VALUES (%(iata_code)s, %(airport_name)s, %(icao_code)s, %(latitude)s, %(longitude)s, %(geoname_id)s, %(city_iata_code)s, %(country_name)s, %(country_iso2)s, %(timezone)s, %(gmt)s, %(phone_number)s, %(raw_payload)s::JSONB) ON CONFLICT (iata_code) DO UPDATE SET iata_code = %(param_1)s, airport_name = %(param_2)s, icao_code = %(param_3)s, latitude = %(param_4)s, longitude = %(param_5)s, geoname_id = %(param_6)s, city_iata_code = %(param_7)s, country_name = %(param_8)s, country_iso2 = %(param_9)s, timezone = %(param_10)s, gmt = %(param_11)s, phone_number = %(param_12)s, raw_payload = %(param_13)s::JSONB\n"
     ]
    },
    {
     "name": "stdout",
     "output_type": "stream",
     "text": [
      "2025-05-05 16:40:13,203 INFO sqlalchemy.engine.Engine [no key 0.00107s] {'iata_code': 'AAY', 'airport_name': 'Al Ghaydah', 'icao_code': 'OYGD', 'latitude': '16.19596', 'longitude': '52.173256', 'geoname_id': '7668412', 'city_iata_code': 'AAY', 'country_name': 'Yemen', 'country_iso2': 'YE', 'timezone': 'Asia/Aden', 'gmt': '3', 'phone_number': None, 'raw_payload': '{\"id\": \"3611005\", \"gmt\": \"3\", \"airport_id\": \"23\", \"iata_code\": \"AAY\", \"city_iata_code\": \"AAY\", \"icao_code\": \"OYGD\", \"country_iso2\": \"YE\", \"geoname_id ... (16 characters truncated) ... atitude\": \"16.19596\", \"longitude\": \"52.173256\", \"airport_name\": \"Al Ghaydah\", \"country_name\": \"Yemen\", \"phone_number\": null, \"timezone\": \"Asia/Aden\"}', 'param_1': 'AAY', 'param_2': 'Al Ghaydah', 'param_3': 'OYGD', 'param_4': '16.19596', 'param_5': '52.173256', 'param_6': '7668412', 'param_7': 'AAY', 'param_8': 'Yemen', 'param_9': 'YE', 'param_10': 'Asia/Aden', 'param_11': '3', 'param_12': None, 'param_13': '{\"id\": \"3611005\", \"gmt\": \"3\", \"airport_id\": \"23\", \"iata_code\": \"AAY\", \"city_iata_code\": \"AAY\", \"icao_code\": \"OYGD\", \"country_iso2\": \"YE\", \"geoname_id ... (16 characters truncated) ... atitude\": \"16.19596\", \"longitude\": \"52.173256\", \"airport_name\": \"Al Ghaydah\", \"country_name\": \"Yemen\", \"phone_number\": null, \"timezone\": \"Asia/Aden\"}'}\n"
     ]
    },
    {
     "name": "stderr",
     "output_type": "stream",
     "text": [
      "2025-05-05 16:40:13,203 - sqlalchemy.engine.Engine - INFO - [no key 0.00107s] {'iata_code': 'AAY', 'airport_name': 'Al Ghaydah', 'icao_code': 'OYGD', 'latitude': '16.19596', 'longitude': '52.173256', 'geoname_id': '7668412', 'city_iata_code': 'AAY', 'country_name': 'Yemen', 'country_iso2': 'YE', 'timezone': 'Asia/Aden', 'gmt': '3', 'phone_number': None, 'raw_payload': '{\"id\": \"3611005\", \"gmt\": \"3\", \"airport_id\": \"23\", \"iata_code\": \"AAY\", \"city_iata_code\": \"AAY\", \"icao_code\": \"OYGD\", \"country_iso2\": \"YE\", \"geoname_id ... (16 characters truncated) ... atitude\": \"16.19596\", \"longitude\": \"52.173256\", \"airport_name\": \"Al Ghaydah\", \"country_name\": \"Yemen\", \"phone_number\": null, \"timezone\": \"Asia/Aden\"}', 'param_1': 'AAY', 'param_2': 'Al Ghaydah', 'param_3': 'OYGD', 'param_4': '16.19596', 'param_5': '52.173256', 'param_6': '7668412', 'param_7': 'AAY', 'param_8': 'Yemen', 'param_9': 'YE', 'param_10': 'Asia/Aden', 'param_11': '3', 'param_12': None, 'param_13': '{\"id\": \"3611005\", \"gmt\": \"3\", \"airport_id\": \"23\", \"iata_code\": \"AAY\", \"city_iata_code\": \"AAY\", \"icao_code\": \"OYGD\", \"country_iso2\": \"YE\", \"geoname_id ... (16 characters truncated) ... atitude\": \"16.19596\", \"longitude\": \"52.173256\", \"airport_name\": \"Al Ghaydah\", \"country_name\": \"Yemen\", \"phone_number\": null, \"timezone\": \"Asia/Aden\"}'}\n"
     ]
    },
    {
     "name": "stdout",
     "output_type": "stream",
     "text": [
      "2025-05-05 16:40:13,207 INFO sqlalchemy.engine.Engine INSERT INTO airports (iata_code, airport_name, icao_code, latitude, longitude, geoname_id, city_iata_code, country_name, country_iso2, timezone, gmt, phone_number, raw_payload) VALUES (%(iata_code)s, %(airport_name)s, %(icao_code)s, %(latitude)s, %(longitude)s, %(geoname_id)s, %(city_iata_code)s, %(country_name)s, %(country_iso2)s, %(timezone)s, %(gmt)s, %(phone_number)s, %(raw_payload)s::JSONB) ON CONFLICT (iata_code) DO UPDATE SET iata_code = %(param_1)s, airport_name = %(param_2)s, icao_code = %(param_3)s, latitude = %(param_4)s, longitude = %(param_5)s, geoname_id = %(param_6)s, city_iata_code = %(param_7)s, country_name = %(param_8)s, country_iso2 = %(param_9)s, timezone = %(param_10)s, gmt = %(param_11)s, phone_number = %(param_12)s, raw_payload = %(param_13)s::JSONB\n"
     ]
    },
    {
     "name": "stderr",
     "output_type": "stream",
     "text": [
      "2025-05-05 16:40:13,207 - sqlalchemy.engine.Engine - INFO - INSERT INTO airports (iata_code, airport_name, icao_code, latitude, longitude, geoname_id, city_iata_code, country_name, country_iso2, timezone, gmt, phone_number, raw_payload) VALUES (%(iata_code)s, %(airport_name)s, %(icao_code)s, %(latitude)s, %(longitude)s, %(geoname_id)s, %(city_iata_code)s, %(country_name)s, %(country_iso2)s, %(timezone)s, %(gmt)s, %(phone_number)s, %(raw_payload)s::JSONB) ON CONFLICT (iata_code) DO UPDATE SET iata_code = %(param_1)s, airport_name = %(param_2)s, icao_code = %(param_3)s, latitude = %(param_4)s, longitude = %(param_5)s, geoname_id = %(param_6)s, city_iata_code = %(param_7)s, country_name = %(param_8)s, country_iso2 = %(param_9)s, timezone = %(param_10)s, gmt = %(param_11)s, phone_number = %(param_12)s, raw_payload = %(param_13)s::JSONB\n"
     ]
    },
    {
     "name": "stdout",
     "output_type": "stream",
     "text": [
      "2025-05-05 16:40:13,208 INFO sqlalchemy.engine.Engine [no key 0.00112s] {'iata_code': 'AAZ', 'airport_name': 'Quetzaltenango', 'icao_code': 'MGQZ', 'latitude': '14.87', 'longitude': '-91.5', 'geoname_id': '6299804', 'city_iata_code': 'AAZ', 'country_name': 'Guatemala', 'country_iso2': 'GT', 'timezone': 'America/Guatemala', 'gmt': '-6', 'phone_number': None, 'raw_payload': '{\"id\": \"3611006\", \"gmt\": \"-6\", \"airport_id\": \"24\", \"iata_code\": \"AAZ\", \"city_iata_code\": \"AAZ\", \"icao_code\": \"MGQZ\", \"country_iso2\": \"GT\", \"geoname_i ... (26 characters truncated) ...  \"14.87\", \"longitude\": \"-91.5\", \"airport_name\": \"Quetzaltenango\", \"country_name\": \"Guatemala\", \"phone_number\": null, \"timezone\": \"America/Guatemala\"}', 'param_1': 'AAZ', 'param_2': 'Quetzaltenango', 'param_3': 'MGQZ', 'param_4': '14.87', 'param_5': '-91.5', 'param_6': '6299804', 'param_7': 'AAZ', 'param_8': 'Guatemala', 'param_9': 'GT', 'param_10': 'America/Guatemala', 'param_11': '-6', 'param_12': None, 'param_13': '{\"id\": \"3611006\", \"gmt\": \"-6\", \"airport_id\": \"24\", \"iata_code\": \"AAZ\", \"city_iata_code\": \"AAZ\", \"icao_code\": \"MGQZ\", \"country_iso2\": \"GT\", \"geoname_i ... (26 characters truncated) ...  \"14.87\", \"longitude\": \"-91.5\", \"airport_name\": \"Quetzaltenango\", \"country_name\": \"Guatemala\", \"phone_number\": null, \"timezone\": \"America/Guatemala\"}'}\n"
     ]
    },
    {
     "name": "stderr",
     "output_type": "stream",
     "text": [
      "2025-05-05 16:40:13,208 - sqlalchemy.engine.Engine - INFO - [no key 0.00112s] {'iata_code': 'AAZ', 'airport_name': 'Quetzaltenango', 'icao_code': 'MGQZ', 'latitude': '14.87', 'longitude': '-91.5', 'geoname_id': '6299804', 'city_iata_code': 'AAZ', 'country_name': 'Guatemala', 'country_iso2': 'GT', 'timezone': 'America/Guatemala', 'gmt': '-6', 'phone_number': None, 'raw_payload': '{\"id\": \"3611006\", \"gmt\": \"-6\", \"airport_id\": \"24\", \"iata_code\": \"AAZ\", \"city_iata_code\": \"AAZ\", \"icao_code\": \"MGQZ\", \"country_iso2\": \"GT\", \"geoname_i ... (26 characters truncated) ...  \"14.87\", \"longitude\": \"-91.5\", \"airport_name\": \"Quetzaltenango\", \"country_name\": \"Guatemala\", \"phone_number\": null, \"timezone\": \"America/Guatemala\"}', 'param_1': 'AAZ', 'param_2': 'Quetzaltenango', 'param_3': 'MGQZ', 'param_4': '14.87', 'param_5': '-91.5', 'param_6': '6299804', 'param_7': 'AAZ', 'param_8': 'Guatemala', 'param_9': 'GT', 'param_10': 'America/Guatemala', 'param_11': '-6', 'param_12': None, 'param_13': '{\"id\": \"3611006\", \"gmt\": \"-6\", \"airport_id\": \"24\", \"iata_code\": \"AAZ\", \"city_iata_code\": \"AAZ\", \"icao_code\": \"MGQZ\", \"country_iso2\": \"GT\", \"geoname_i ... (26 characters truncated) ...  \"14.87\", \"longitude\": \"-91.5\", \"airport_name\": \"Quetzaltenango\", \"country_name\": \"Guatemala\", \"phone_number\": null, \"timezone\": \"America/Guatemala\"}'}\n"
     ]
    },
    {
     "name": "stdout",
     "output_type": "stream",
     "text": [
      "2025-05-05 16:40:13,210 INFO sqlalchemy.engine.Engine INSERT INTO airports (iata_code, airport_name, icao_code, latitude, longitude, geoname_id, city_iata_code, country_name, country_iso2, timezone, gmt, phone_number, raw_payload) VALUES (%(iata_code)s, %(airport_name)s, %(icao_code)s, %(latitude)s, %(longitude)s, %(geoname_id)s, %(city_iata_code)s, %(country_name)s, %(country_iso2)s, %(timezone)s, %(gmt)s, %(phone_number)s, %(raw_payload)s::JSONB) ON CONFLICT (iata_code) DO UPDATE SET iata_code = %(param_1)s, airport_name = %(param_2)s, icao_code = %(param_3)s, latitude = %(param_4)s, longitude = %(param_5)s, geoname_id = %(param_6)s, city_iata_code = %(param_7)s, country_name = %(param_8)s, country_iso2 = %(param_9)s, timezone = %(param_10)s, gmt = %(param_11)s, phone_number = %(param_12)s, raw_payload = %(param_13)s::JSONB\n"
     ]
    },
    {
     "name": "stderr",
     "output_type": "stream",
     "text": [
      "2025-05-05 16:40:13,210 - sqlalchemy.engine.Engine - INFO - INSERT INTO airports (iata_code, airport_name, icao_code, latitude, longitude, geoname_id, city_iata_code, country_name, country_iso2, timezone, gmt, phone_number, raw_payload) VALUES (%(iata_code)s, %(airport_name)s, %(icao_code)s, %(latitude)s, %(longitude)s, %(geoname_id)s, %(city_iata_code)s, %(country_name)s, %(country_iso2)s, %(timezone)s, %(gmt)s, %(phone_number)s, %(raw_payload)s::JSONB) ON CONFLICT (iata_code) DO UPDATE SET iata_code = %(param_1)s, airport_name = %(param_2)s, icao_code = %(param_3)s, latitude = %(param_4)s, longitude = %(param_5)s, geoname_id = %(param_6)s, city_iata_code = %(param_7)s, country_name = %(param_8)s, country_iso2 = %(param_9)s, timezone = %(param_10)s, gmt = %(param_11)s, phone_number = %(param_12)s, raw_payload = %(param_13)s::JSONB\n"
     ]
    },
    {
     "name": "stdout",
     "output_type": "stream",
     "text": [
      "2025-05-05 16:40:13,212 INFO sqlalchemy.engine.Engine [no key 0.00152s] {'iata_code': 'ABA', 'airport_name': 'Abakan', 'icao_code': 'UNAA', 'latitude': '53.716667', 'longitude': '91.5', 'geoname_id': '6300982', 'city_iata_code': 'ABA', 'country_name': 'Russia', 'country_iso2': 'RU', 'timezone': 'Asia/Krasnoyarsk', 'gmt': '7', 'phone_number': None, 'raw_payload': '{\"id\": \"3611007\", \"gmt\": \"7\", \"airport_id\": \"25\", \"iata_code\": \"ABA\", \"city_iata_code\": \"ABA\", \"icao_code\": \"UNAA\", \"country_iso2\": \"RU\", \"geoname_id ... (16 characters truncated) ... atitude\": \"53.716667\", \"longitude\": \"91.5\", \"airport_name\": \"Abakan\", \"country_name\": \"Russia\", \"phone_number\": null, \"timezone\": \"Asia/Krasnoyarsk\"}', 'param_1': 'ABA', 'param_2': 'Abakan', 'param_3': 'UNAA', 'param_4': '53.716667', 'param_5': '91.5', 'param_6': '6300982', 'param_7': 'ABA', 'param_8': 'Russia', 'param_9': 'RU', 'param_10': 'Asia/Krasnoyarsk', 'param_11': '7', 'param_12': None, 'param_13': '{\"id\": \"3611007\", \"gmt\": \"7\", \"airport_id\": \"25\", \"iata_code\": \"ABA\", \"city_iata_code\": \"ABA\", \"icao_code\": \"UNAA\", \"country_iso2\": \"RU\", \"geoname_id ... (16 characters truncated) ... atitude\": \"53.716667\", \"longitude\": \"91.5\", \"airport_name\": \"Abakan\", \"country_name\": \"Russia\", \"phone_number\": null, \"timezone\": \"Asia/Krasnoyarsk\"}'}\n"
     ]
    },
    {
     "name": "stderr",
     "output_type": "stream",
     "text": [
      "2025-05-05 16:40:13,212 - sqlalchemy.engine.Engine - INFO - [no key 0.00152s] {'iata_code': 'ABA', 'airport_name': 'Abakan', 'icao_code': 'UNAA', 'latitude': '53.716667', 'longitude': '91.5', 'geoname_id': '6300982', 'city_iata_code': 'ABA', 'country_name': 'Russia', 'country_iso2': 'RU', 'timezone': 'Asia/Krasnoyarsk', 'gmt': '7', 'phone_number': None, 'raw_payload': '{\"id\": \"3611007\", \"gmt\": \"7\", \"airport_id\": \"25\", \"iata_code\": \"ABA\", \"city_iata_code\": \"ABA\", \"icao_code\": \"UNAA\", \"country_iso2\": \"RU\", \"geoname_id ... (16 characters truncated) ... atitude\": \"53.716667\", \"longitude\": \"91.5\", \"airport_name\": \"Abakan\", \"country_name\": \"Russia\", \"phone_number\": null, \"timezone\": \"Asia/Krasnoyarsk\"}', 'param_1': 'ABA', 'param_2': 'Abakan', 'param_3': 'UNAA', 'param_4': '53.716667', 'param_5': '91.5', 'param_6': '6300982', 'param_7': 'ABA', 'param_8': 'Russia', 'param_9': 'RU', 'param_10': 'Asia/Krasnoyarsk', 'param_11': '7', 'param_12': None, 'param_13': '{\"id\": \"3611007\", \"gmt\": \"7\", \"airport_id\": \"25\", \"iata_code\": \"ABA\", \"city_iata_code\": \"ABA\", \"icao_code\": \"UNAA\", \"country_iso2\": \"RU\", \"geoname_id ... (16 characters truncated) ... atitude\": \"53.716667\", \"longitude\": \"91.5\", \"airport_name\": \"Abakan\", \"country_name\": \"Russia\", \"phone_number\": null, \"timezone\": \"Asia/Krasnoyarsk\"}'}\n"
     ]
    },
    {
     "name": "stdout",
     "output_type": "stream",
     "text": [
      "2025-05-05 16:40:13,215 INFO sqlalchemy.engine.Engine INSERT INTO airports (iata_code, airport_name, icao_code, latitude, longitude, geoname_id, city_iata_code, country_name, country_iso2, timezone, gmt, phone_number, raw_payload) VALUES (%(iata_code)s, %(airport_name)s, %(icao_code)s, %(latitude)s, %(longitude)s, %(geoname_id)s, %(city_iata_code)s, %(country_name)s, %(country_iso2)s, %(timezone)s, %(gmt)s, %(phone_number)s, %(raw_payload)s::JSONB) ON CONFLICT (iata_code) DO UPDATE SET iata_code = %(param_1)s, airport_name = %(param_2)s, icao_code = %(param_3)s, latitude = %(param_4)s, longitude = %(param_5)s, geoname_id = %(param_6)s, city_iata_code = %(param_7)s, country_name = %(param_8)s, country_iso2 = %(param_9)s, timezone = %(param_10)s, gmt = %(param_11)s, phone_number = %(param_12)s, raw_payload = %(param_13)s::JSONB\n"
     ]
    },
    {
     "name": "stderr",
     "output_type": "stream",
     "text": [
      "2025-05-05 16:40:13,215 - sqlalchemy.engine.Engine - INFO - INSERT INTO airports (iata_code, airport_name, icao_code, latitude, longitude, geoname_id, city_iata_code, country_name, country_iso2, timezone, gmt, phone_number, raw_payload) VALUES (%(iata_code)s, %(airport_name)s, %(icao_code)s, %(latitude)s, %(longitude)s, %(geoname_id)s, %(city_iata_code)s, %(country_name)s, %(country_iso2)s, %(timezone)s, %(gmt)s, %(phone_number)s, %(raw_payload)s::JSONB) ON CONFLICT (iata_code) DO UPDATE SET iata_code = %(param_1)s, airport_name = %(param_2)s, icao_code = %(param_3)s, latitude = %(param_4)s, longitude = %(param_5)s, geoname_id = %(param_6)s, city_iata_code = %(param_7)s, country_name = %(param_8)s, country_iso2 = %(param_9)s, timezone = %(param_10)s, gmt = %(param_11)s, phone_number = %(param_12)s, raw_payload = %(param_13)s::JSONB\n"
     ]
    },
    {
     "name": "stdout",
     "output_type": "stream",
     "text": [
      "2025-05-05 16:40:13,215 INFO sqlalchemy.engine.Engine [no key 0.00056s] {'iata_code': 'ABB', 'airport_name': 'Asaba International', 'icao_code': 'DNAS', 'latitude': '6.203333', 'longitude': '6.65888', 'geoname_id': '7668214', 'city_iata_code': 'ABB', 'country_name': 'Nigeria', 'country_iso2': 'NG', 'timezone': 'Africa/Lagos', 'gmt': '1', 'phone_number': None, 'raw_payload': '{\"id\": \"3611008\", \"gmt\": \"1\", \"airport_id\": \"26\", \"iata_code\": \"ABB\", \"city_iata_code\": \"ABB\", \"icao_code\": \"DNAS\", \"country_iso2\": \"NG\", \"geoname_id ... (28 characters truncated) ... .203333\", \"longitude\": \"6.65888\", \"airport_name\": \"Asaba International\", \"country_name\": \"Nigeria\", \"phone_number\": null, \"timezone\": \"Africa/Lagos\"}', 'param_1': 'ABB', 'param_2': 'Asaba International', 'param_3': 'DNAS', 'param_4': '6.203333', 'param_5': '6.65888', 'param_6': '7668214', 'param_7': 'ABB', 'param_8': 'Nigeria', 'param_9': 'NG', 'param_10': 'Africa/Lagos', 'param_11': '1', 'param_12': None, 'param_13': '{\"id\": \"3611008\", \"gmt\": \"1\", \"airport_id\": \"26\", \"iata_code\": \"ABB\", \"city_iata_code\": \"ABB\", \"icao_code\": \"DNAS\", \"country_iso2\": \"NG\", \"geoname_id ... (28 characters truncated) ... .203333\", \"longitude\": \"6.65888\", \"airport_name\": \"Asaba International\", \"country_name\": \"Nigeria\", \"phone_number\": null, \"timezone\": \"Africa/Lagos\"}'}\n"
     ]
    },
    {
     "name": "stderr",
     "output_type": "stream",
     "text": [
      "2025-05-05 16:40:13,215 - sqlalchemy.engine.Engine - INFO - [no key 0.00056s] {'iata_code': 'ABB', 'airport_name': 'Asaba International', 'icao_code': 'DNAS', 'latitude': '6.203333', 'longitude': '6.65888', 'geoname_id': '7668214', 'city_iata_code': 'ABB', 'country_name': 'Nigeria', 'country_iso2': 'NG', 'timezone': 'Africa/Lagos', 'gmt': '1', 'phone_number': None, 'raw_payload': '{\"id\": \"3611008\", \"gmt\": \"1\", \"airport_id\": \"26\", \"iata_code\": \"ABB\", \"city_iata_code\": \"ABB\", \"icao_code\": \"DNAS\", \"country_iso2\": \"NG\", \"geoname_id ... (28 characters truncated) ... .203333\", \"longitude\": \"6.65888\", \"airport_name\": \"Asaba International\", \"country_name\": \"Nigeria\", \"phone_number\": null, \"timezone\": \"Africa/Lagos\"}', 'param_1': 'ABB', 'param_2': 'Asaba International', 'param_3': 'DNAS', 'param_4': '6.203333', 'param_5': '6.65888', 'param_6': '7668214', 'param_7': 'ABB', 'param_8': 'Nigeria', 'param_9': 'NG', 'param_10': 'Africa/Lagos', 'param_11': '1', 'param_12': None, 'param_13': '{\"id\": \"3611008\", \"gmt\": \"1\", \"airport_id\": \"26\", \"iata_code\": \"ABB\", \"city_iata_code\": \"ABB\", \"icao_code\": \"DNAS\", \"country_iso2\": \"NG\", \"geoname_id ... (28 characters truncated) ... .203333\", \"longitude\": \"6.65888\", \"airport_name\": \"Asaba International\", \"country_name\": \"Nigeria\", \"phone_number\": null, \"timezone\": \"Africa/Lagos\"}'}\n"
     ]
    },
    {
     "name": "stdout",
     "output_type": "stream",
     "text": [
      "2025-05-05 16:40:13,216 INFO sqlalchemy.engine.Engine COMMIT\n"
     ]
    },
    {
     "name": "stderr",
     "output_type": "stream",
     "text": [
      "2025-05-05 16:40:13,216 - sqlalchemy.engine.Engine - INFO - COMMIT\n",
      "2025-05-05 16:40:13,219 - scripts.flight_data_processor - INFO - Processed 10 airport records\n"
     ]
    },
    {
     "name": "stdout",
     "output_type": "stream",
     "text": [
      "Batch processed.\n",
      "Waiting before next call...\n",
      "-- Airports Call 3/3 (Offset: 20) --\n",
      "API call successful. Fetched 10 records.\n",
      "Processing batch...\n",
      "2025-05-05 16:40:15,578 INFO sqlalchemy.engine.Engine BEGIN (implicit)\n"
     ]
    },
    {
     "name": "stderr",
     "output_type": "stream",
     "text": [
      "2025-05-05 16:40:15,578 - sqlalchemy.engine.Engine - INFO - BEGIN (implicit)\n"
     ]
    },
    {
     "name": "stdout",
     "output_type": "stream",
     "text": [
      "2025-05-05 16:40:15,581 INFO sqlalchemy.engine.Engine INSERT INTO airports (iata_code, airport_name, icao_code, latitude, longitude, geoname_id, city_iata_code, country_name, country_iso2, timezone, gmt, phone_number, raw_payload) VALUES (%(iata_code)s, %(airport_name)s, %(icao_code)s, %(latitude)s, %(longitude)s, %(geoname_id)s, %(city_iata_code)s, %(country_name)s, %(country_iso2)s, %(timezone)s, %(gmt)s, %(phone_number)s, %(raw_payload)s::JSONB) ON CONFLICT (iata_code) DO UPDATE SET iata_code = %(param_1)s, airport_name = %(param_2)s, icao_code = %(param_3)s, latitude = %(param_4)s, longitude = %(param_5)s, geoname_id = %(param_6)s, city_iata_code = %(param_7)s, country_name = %(param_8)s, country_iso2 = %(param_9)s, timezone = %(param_10)s, gmt = %(param_11)s, phone_number = %(param_12)s, raw_payload = %(param_13)s::JSONB\n"
     ]
    },
    {
     "name": "stderr",
     "output_type": "stream",
     "text": [
      "2025-05-05 16:40:15,581 - sqlalchemy.engine.Engine - INFO - INSERT INTO airports (iata_code, airport_name, icao_code, latitude, longitude, geoname_id, city_iata_code, country_name, country_iso2, timezone, gmt, phone_number, raw_payload) VALUES (%(iata_code)s, %(airport_name)s, %(icao_code)s, %(latitude)s, %(longitude)s, %(geoname_id)s, %(city_iata_code)s, %(country_name)s, %(country_iso2)s, %(timezone)s, %(gmt)s, %(phone_number)s, %(raw_payload)s::JSONB) ON CONFLICT (iata_code) DO UPDATE SET iata_code = %(param_1)s, airport_name = %(param_2)s, icao_code = %(param_3)s, latitude = %(param_4)s, longitude = %(param_5)s, geoname_id = %(param_6)s, city_iata_code = %(param_7)s, country_name = %(param_8)s, country_iso2 = %(param_9)s, timezone = %(param_10)s, gmt = %(param_11)s, phone_number = %(param_12)s, raw_payload = %(param_13)s::JSONB\n"
     ]
    },
    {
     "name": "stdout",
     "output_type": "stream",
     "text": [
      "2025-05-05 16:40:15,583 INFO sqlalchemy.engine.Engine [no key 0.00157s] {'iata_code': 'ABC', 'airport_name': 'Los Llanos', 'icao_code': 'LEAB', 'latitude': '38.948334', 'longitude': '-1.863333', 'geoname_id': '6299323', 'city_iata_code': 'ABC', 'country_name': 'Spain', 'country_iso2': 'ES', 'timezone': 'Europe/Madrid', 'gmt': '1', 'phone_number': None, 'raw_payload': '{\"id\": \"3611009\", \"gmt\": \"1\", \"airport_id\": \"27\", \"iata_code\": \"ABC\", \"city_iata_code\": \"ABC\", \"icao_code\": \"LEAB\", \"country_iso2\": \"ES\", \"geoname_id ... (21 characters truncated) ... de\": \"38.948334\", \"longitude\": \"-1.863333\", \"airport_name\": \"Los Llanos\", \"country_name\": \"Spain\", \"phone_number\": null, \"timezone\": \"Europe/Madrid\"}', 'param_1': 'ABC', 'param_2': 'Los Llanos', 'param_3': 'LEAB', 'param_4': '38.948334', 'param_5': '-1.863333', 'param_6': '6299323', 'param_7': 'ABC', 'param_8': 'Spain', 'param_9': 'ES', 'param_10': 'Europe/Madrid', 'param_11': '1', 'param_12': None, 'param_13': '{\"id\": \"3611009\", \"gmt\": \"1\", \"airport_id\": \"27\", \"iata_code\": \"ABC\", \"city_iata_code\": \"ABC\", \"icao_code\": \"LEAB\", \"country_iso2\": \"ES\", \"geoname_id ... (21 characters truncated) ... de\": \"38.948334\", \"longitude\": \"-1.863333\", \"airport_name\": \"Los Llanos\", \"country_name\": \"Spain\", \"phone_number\": null, \"timezone\": \"Europe/Madrid\"}'}\n"
     ]
    },
    {
     "name": "stderr",
     "output_type": "stream",
     "text": [
      "2025-05-05 16:40:15,583 - sqlalchemy.engine.Engine - INFO - [no key 0.00157s] {'iata_code': 'ABC', 'airport_name': 'Los Llanos', 'icao_code': 'LEAB', 'latitude': '38.948334', 'longitude': '-1.863333', 'geoname_id': '6299323', 'city_iata_code': 'ABC', 'country_name': 'Spain', 'country_iso2': 'ES', 'timezone': 'Europe/Madrid', 'gmt': '1', 'phone_number': None, 'raw_payload': '{\"id\": \"3611009\", \"gmt\": \"1\", \"airport_id\": \"27\", \"iata_code\": \"ABC\", \"city_iata_code\": \"ABC\", \"icao_code\": \"LEAB\", \"country_iso2\": \"ES\", \"geoname_id ... (21 characters truncated) ... de\": \"38.948334\", \"longitude\": \"-1.863333\", \"airport_name\": \"Los Llanos\", \"country_name\": \"Spain\", \"phone_number\": null, \"timezone\": \"Europe/Madrid\"}', 'param_1': 'ABC', 'param_2': 'Los Llanos', 'param_3': 'LEAB', 'param_4': '38.948334', 'param_5': '-1.863333', 'param_6': '6299323', 'param_7': 'ABC', 'param_8': 'Spain', 'param_9': 'ES', 'param_10': 'Europe/Madrid', 'param_11': '1', 'param_12': None, 'param_13': '{\"id\": \"3611009\", \"gmt\": \"1\", \"airport_id\": \"27\", \"iata_code\": \"ABC\", \"city_iata_code\": \"ABC\", \"icao_code\": \"LEAB\", \"country_iso2\": \"ES\", \"geoname_id ... (21 characters truncated) ... de\": \"38.948334\", \"longitude\": \"-1.863333\", \"airport_name\": \"Los Llanos\", \"country_name\": \"Spain\", \"phone_number\": null, \"timezone\": \"Europe/Madrid\"}'}\n"
     ]
    },
    {
     "name": "stdout",
     "output_type": "stream",
     "text": [
      "2025-05-05 16:40:15,587 INFO sqlalchemy.engine.Engine INSERT INTO airports (iata_code, airport_name, icao_code, latitude, longitude, geoname_id, city_iata_code, country_name, country_iso2, timezone, gmt, phone_number, raw_payload) VALUES (%(iata_code)s, %(airport_name)s, %(icao_code)s, %(latitude)s, %(longitude)s, %(geoname_id)s, %(city_iata_code)s, %(country_name)s, %(country_iso2)s, %(timezone)s, %(gmt)s, %(phone_number)s, %(raw_payload)s::JSONB) ON CONFLICT (iata_code) DO UPDATE SET iata_code = %(param_1)s, airport_name = %(param_2)s, icao_code = %(param_3)s, latitude = %(param_4)s, longitude = %(param_5)s, geoname_id = %(param_6)s, city_iata_code = %(param_7)s, country_name = %(param_8)s, country_iso2 = %(param_9)s, timezone = %(param_10)s, gmt = %(param_11)s, phone_number = %(param_12)s, raw_payload = %(param_13)s::JSONB\n"
     ]
    },
    {
     "name": "stderr",
     "output_type": "stream",
     "text": [
      "2025-05-05 16:40:15,587 - sqlalchemy.engine.Engine - INFO - INSERT INTO airports (iata_code, airport_name, icao_code, latitude, longitude, geoname_id, city_iata_code, country_name, country_iso2, timezone, gmt, phone_number, raw_payload) VALUES (%(iata_code)s, %(airport_name)s, %(icao_code)s, %(latitude)s, %(longitude)s, %(geoname_id)s, %(city_iata_code)s, %(country_name)s, %(country_iso2)s, %(timezone)s, %(gmt)s, %(phone_number)s, %(raw_payload)s::JSONB) ON CONFLICT (iata_code) DO UPDATE SET iata_code = %(param_1)s, airport_name = %(param_2)s, icao_code = %(param_3)s, latitude = %(param_4)s, longitude = %(param_5)s, geoname_id = %(param_6)s, city_iata_code = %(param_7)s, country_name = %(param_8)s, country_iso2 = %(param_9)s, timezone = %(param_10)s, gmt = %(param_11)s, phone_number = %(param_12)s, raw_payload = %(param_13)s::JSONB\n"
     ]
    },
    {
     "name": "stdout",
     "output_type": "stream",
     "text": [
      "2025-05-05 16:40:15,589 INFO sqlalchemy.engine.Engine [no key 0.00169s] {'iata_code': 'ABD', 'airport_name': 'Abadan', 'icao_code': 'OIAA', 'latitude': '30.363905', 'longitude': '48.226597', 'geoname_id': '6300034', 'city_iata_code': 'ABD', 'country_name': 'Iran', 'country_iso2': 'IR', 'timezone': 'Asia/Tehran', 'gmt': '3.30', 'phone_number': None, 'raw_payload': '{\"id\": \"3611010\", \"gmt\": \"3.30\", \"airport_id\": \"28\", \"iata_code\": \"ABD\", \"city_iata_code\": \"ABD\", \"icao_code\": \"OIAA\", \"country_iso2\": \"IR\", \"geoname ... (17 characters truncated) ... \"latitude\": \"30.363905\", \"longitude\": \"48.226597\", \"airport_name\": \"Abadan\", \"country_name\": \"Iran\", \"phone_number\": null, \"timezone\": \"Asia/Tehran\"}', 'param_1': 'ABD', 'param_2': 'Abadan', 'param_3': 'OIAA', 'param_4': '30.363905', 'param_5': '48.226597', 'param_6': '6300034', 'param_7': 'ABD', 'param_8': 'Iran', 'param_9': 'IR', 'param_10': 'Asia/Tehran', 'param_11': '3.30', 'param_12': None, 'param_13': '{\"id\": \"3611010\", \"gmt\": \"3.30\", \"airport_id\": \"28\", \"iata_code\": \"ABD\", \"city_iata_code\": \"ABD\", \"icao_code\": \"OIAA\", \"country_iso2\": \"IR\", \"geoname ... (17 characters truncated) ... \"latitude\": \"30.363905\", \"longitude\": \"48.226597\", \"airport_name\": \"Abadan\", \"country_name\": \"Iran\", \"phone_number\": null, \"timezone\": \"Asia/Tehran\"}'}\n"
     ]
    },
    {
     "name": "stderr",
     "output_type": "stream",
     "text": [
      "2025-05-05 16:40:15,589 - sqlalchemy.engine.Engine - INFO - [no key 0.00169s] {'iata_code': 'ABD', 'airport_name': 'Abadan', 'icao_code': 'OIAA', 'latitude': '30.363905', 'longitude': '48.226597', 'geoname_id': '6300034', 'city_iata_code': 'ABD', 'country_name': 'Iran', 'country_iso2': 'IR', 'timezone': 'Asia/Tehran', 'gmt': '3.30', 'phone_number': None, 'raw_payload': '{\"id\": \"3611010\", \"gmt\": \"3.30\", \"airport_id\": \"28\", \"iata_code\": \"ABD\", \"city_iata_code\": \"ABD\", \"icao_code\": \"OIAA\", \"country_iso2\": \"IR\", \"geoname ... (17 characters truncated) ... \"latitude\": \"30.363905\", \"longitude\": \"48.226597\", \"airport_name\": \"Abadan\", \"country_name\": \"Iran\", \"phone_number\": null, \"timezone\": \"Asia/Tehran\"}', 'param_1': 'ABD', 'param_2': 'Abadan', 'param_3': 'OIAA', 'param_4': '30.363905', 'param_5': '48.226597', 'param_6': '6300034', 'param_7': 'ABD', 'param_8': 'Iran', 'param_9': 'IR', 'param_10': 'Asia/Tehran', 'param_11': '3.30', 'param_12': None, 'param_13': '{\"id\": \"3611010\", \"gmt\": \"3.30\", \"airport_id\": \"28\", \"iata_code\": \"ABD\", \"city_iata_code\": \"ABD\", \"icao_code\": \"OIAA\", \"country_iso2\": \"IR\", \"geoname ... (17 characters truncated) ... \"latitude\": \"30.363905\", \"longitude\": \"48.226597\", \"airport_name\": \"Abadan\", \"country_name\": \"Iran\", \"phone_number\": null, \"timezone\": \"Asia/Tehran\"}'}\n"
     ]
    },
    {
     "name": "stdout",
     "output_type": "stream",
     "text": [
      "2025-05-05 16:40:15,595 INFO sqlalchemy.engine.Engine INSERT INTO airports (iata_code, airport_name, icao_code, latitude, longitude, geoname_id, city_iata_code, country_name, country_iso2, timezone, gmt, phone_number, raw_payload) VALUES (%(iata_code)s, %(airport_name)s, %(icao_code)s, %(latitude)s, %(longitude)s, %(geoname_id)s, %(city_iata_code)s, %(country_name)s, %(country_iso2)s, %(timezone)s, %(gmt)s, %(phone_number)s, %(raw_payload)s::JSONB) ON CONFLICT (iata_code) DO UPDATE SET iata_code = %(param_1)s, airport_name = %(param_2)s, icao_code = %(param_3)s, latitude = %(param_4)s, longitude = %(param_5)s, geoname_id = %(param_6)s, city_iata_code = %(param_7)s, country_name = %(param_8)s, country_iso2 = %(param_9)s, timezone = %(param_10)s, gmt = %(param_11)s, phone_number = %(param_12)s, raw_payload = %(param_13)s::JSONB\n"
     ]
    },
    {
     "name": "stderr",
     "output_type": "stream",
     "text": [
      "2025-05-05 16:40:15,595 - sqlalchemy.engine.Engine - INFO - INSERT INTO airports (iata_code, airport_name, icao_code, latitude, longitude, geoname_id, city_iata_code, country_name, country_iso2, timezone, gmt, phone_number, raw_payload) VALUES (%(iata_code)s, %(airport_name)s, %(icao_code)s, %(latitude)s, %(longitude)s, %(geoname_id)s, %(city_iata_code)s, %(country_name)s, %(country_iso2)s, %(timezone)s, %(gmt)s, %(phone_number)s, %(raw_payload)s::JSONB) ON CONFLICT (iata_code) DO UPDATE SET iata_code = %(param_1)s, airport_name = %(param_2)s, icao_code = %(param_3)s, latitude = %(param_4)s, longitude = %(param_5)s, geoname_id = %(param_6)s, city_iata_code = %(param_7)s, country_name = %(param_8)s, country_iso2 = %(param_9)s, timezone = %(param_10)s, gmt = %(param_11)s, phone_number = %(param_12)s, raw_payload = %(param_13)s::JSONB\n"
     ]
    },
    {
     "name": "stdout",
     "output_type": "stream",
     "text": [
      "2025-05-05 16:40:15,596 INFO sqlalchemy.engine.Engine [no key 0.00215s] {'iata_code': 'ABE', 'airport_name': 'Lehigh Valley International', 'icao_code': 'KABE', 'latitude': '40.651573', 'longitude': '-75.434364', 'geoname_id': '5200013', 'city_iata_code': 'ABE', 'country_name': 'United States', 'country_iso2': 'US', 'timezone': 'America/New_York', 'gmt': '-5', 'phone_number': None, 'raw_payload': '{\"id\": \"3611011\", \"gmt\": \"-5\", \"airport_id\": \"29\", \"iata_code\": \"ABE\", \"city_iata_code\": \"ABE\", \"icao_code\": \"KABE\", \"country_iso2\": \"US\", \"geoname_i ... (51 characters truncated) ... : \"-75.434364\", \"airport_name\": \"Lehigh Valley International\", \"country_name\": \"United States\", \"phone_number\": null, \"timezone\": \"America/New_York\"}', 'param_1': 'ABE', 'param_2': 'Lehigh Valley International', 'param_3': 'KABE', 'param_4': '40.651573', 'param_5': '-75.434364', 'param_6': '5200013', 'param_7': 'ABE', 'param_8': 'United States', 'param_9': 'US', 'param_10': 'America/New_York', 'param_11': '-5', 'param_12': None, 'param_13': '{\"id\": \"3611011\", \"gmt\": \"-5\", \"airport_id\": \"29\", \"iata_code\": \"ABE\", \"city_iata_code\": \"ABE\", \"icao_code\": \"KABE\", \"country_iso2\": \"US\", \"geoname_i ... (51 characters truncated) ... : \"-75.434364\", \"airport_name\": \"Lehigh Valley International\", \"country_name\": \"United States\", \"phone_number\": null, \"timezone\": \"America/New_York\"}'}\n"
     ]
    },
    {
     "name": "stderr",
     "output_type": "stream",
     "text": [
      "2025-05-05 16:40:15,596 - sqlalchemy.engine.Engine - INFO - [no key 0.00215s] {'iata_code': 'ABE', 'airport_name': 'Lehigh Valley International', 'icao_code': 'KABE', 'latitude': '40.651573', 'longitude': '-75.434364', 'geoname_id': '5200013', 'city_iata_code': 'ABE', 'country_name': 'United States', 'country_iso2': 'US', 'timezone': 'America/New_York', 'gmt': '-5', 'phone_number': None, 'raw_payload': '{\"id\": \"3611011\", \"gmt\": \"-5\", \"airport_id\": \"29\", \"iata_code\": \"ABE\", \"city_iata_code\": \"ABE\", \"icao_code\": \"KABE\", \"country_iso2\": \"US\", \"geoname_i ... (51 characters truncated) ... : \"-75.434364\", \"airport_name\": \"Lehigh Valley International\", \"country_name\": \"United States\", \"phone_number\": null, \"timezone\": \"America/New_York\"}', 'param_1': 'ABE', 'param_2': 'Lehigh Valley International', 'param_3': 'KABE', 'param_4': '40.651573', 'param_5': '-75.434364', 'param_6': '5200013', 'param_7': 'ABE', 'param_8': 'United States', 'param_9': 'US', 'param_10': 'America/New_York', 'param_11': '-5', 'param_12': None, 'param_13': '{\"id\": \"3611011\", \"gmt\": \"-5\", \"airport_id\": \"29\", \"iata_code\": \"ABE\", \"city_iata_code\": \"ABE\", \"icao_code\": \"KABE\", \"country_iso2\": \"US\", \"geoname_i ... (51 characters truncated) ... : \"-75.434364\", \"airport_name\": \"Lehigh Valley International\", \"country_name\": \"United States\", \"phone_number\": null, \"timezone\": \"America/New_York\"}'}\n"
     ]
    },
    {
     "name": "stdout",
     "output_type": "stream",
     "text": [
      "2025-05-05 16:40:15,601 INFO sqlalchemy.engine.Engine INSERT INTO airports (iata_code, airport_name, icao_code, latitude, longitude, geoname_id, city_iata_code, country_name, country_iso2, timezone, gmt, phone_number, raw_payload) VALUES (%(iata_code)s, %(airport_name)s, %(icao_code)s, %(latitude)s, %(longitude)s, %(geoname_id)s, %(city_iata_code)s, %(country_name)s, %(country_iso2)s, %(timezone)s, %(gmt)s, %(phone_number)s, %(raw_payload)s::JSONB) ON CONFLICT (iata_code) DO UPDATE SET iata_code = %(param_1)s, airport_name = %(param_2)s, icao_code = %(param_3)s, latitude = %(param_4)s, longitude = %(param_5)s, geoname_id = %(param_6)s, city_iata_code = %(param_7)s, country_name = %(param_8)s, country_iso2 = %(param_9)s, timezone = %(param_10)s, gmt = %(param_11)s, phone_number = %(param_12)s, raw_payload = %(param_13)s::JSONB\n"
     ]
    },
    {
     "name": "stderr",
     "output_type": "stream",
     "text": [
      "2025-05-05 16:40:15,601 - sqlalchemy.engine.Engine - INFO - INSERT INTO airports (iata_code, airport_name, icao_code, latitude, longitude, geoname_id, city_iata_code, country_name, country_iso2, timezone, gmt, phone_number, raw_payload) VALUES (%(iata_code)s, %(airport_name)s, %(icao_code)s, %(latitude)s, %(longitude)s, %(geoname_id)s, %(city_iata_code)s, %(country_name)s, %(country_iso2)s, %(timezone)s, %(gmt)s, %(phone_number)s, %(raw_payload)s::JSONB) ON CONFLICT (iata_code) DO UPDATE SET iata_code = %(param_1)s, airport_name = %(param_2)s, icao_code = %(param_3)s, latitude = %(param_4)s, longitude = %(param_5)s, geoname_id = %(param_6)s, city_iata_code = %(param_7)s, country_name = %(param_8)s, country_iso2 = %(param_9)s, timezone = %(param_10)s, gmt = %(param_11)s, phone_number = %(param_12)s, raw_payload = %(param_13)s::JSONB\n"
     ]
    },
    {
     "name": "stdout",
     "output_type": "stream",
     "text": [
      "2025-05-05 16:40:15,602 INFO sqlalchemy.engine.Engine [no key 0.00170s] {'iata_code': 'ABH', 'airport_name': 'Alpha', 'icao_code': 'YAPH', 'latitude': '-23.65', 'longitude': '146.63333', 'geoname_id': '7668679', 'city_iata_code': 'ABH', 'country_name': 'Australia', 'country_iso2': 'AU', 'timezone': 'Australia/Brisbane', 'gmt': '10', 'phone_number': None, 'raw_payload': '{\"id\": \"3611014\", \"gmt\": \"10\", \"airport_id\": \"32\", \"iata_code\": \"ABH\", \"city_iata_code\": \"ABH\", \"icao_code\": \"YAPH\", \"country_iso2\": \"AU\", \"geoname_i ... (23 characters truncated) ... e\": \"-23.65\", \"longitude\": \"146.63333\", \"airport_name\": \"Alpha\", \"country_name\": \"Australia\", \"phone_number\": null, \"timezone\": \"Australia/Brisbane\"}', 'param_1': 'ABH', 'param_2': 'Alpha', 'param_3': 'YAPH', 'param_4': '-23.65', 'param_5': '146.63333', 'param_6': '7668679', 'param_7': 'ABH', 'param_8': 'Australia', 'param_9': 'AU', 'param_10': 'Australia/Brisbane', 'param_11': '10', 'param_12': None, 'param_13': '{\"id\": \"3611014\", \"gmt\": \"10\", \"airport_id\": \"32\", \"iata_code\": \"ABH\", \"city_iata_code\": \"ABH\", \"icao_code\": \"YAPH\", \"country_iso2\": \"AU\", \"geoname_i ... (23 characters truncated) ... e\": \"-23.65\", \"longitude\": \"146.63333\", \"airport_name\": \"Alpha\", \"country_name\": \"Australia\", \"phone_number\": null, \"timezone\": \"Australia/Brisbane\"}'}\n"
     ]
    },
    {
     "name": "stderr",
     "output_type": "stream",
     "text": [
      "2025-05-05 16:40:15,602 - sqlalchemy.engine.Engine - INFO - [no key 0.00170s] {'iata_code': 'ABH', 'airport_name': 'Alpha', 'icao_code': 'YAPH', 'latitude': '-23.65', 'longitude': '146.63333', 'geoname_id': '7668679', 'city_iata_code': 'ABH', 'country_name': 'Australia', 'country_iso2': 'AU', 'timezone': 'Australia/Brisbane', 'gmt': '10', 'phone_number': None, 'raw_payload': '{\"id\": \"3611014\", \"gmt\": \"10\", \"airport_id\": \"32\", \"iata_code\": \"ABH\", \"city_iata_code\": \"ABH\", \"icao_code\": \"YAPH\", \"country_iso2\": \"AU\", \"geoname_i ... (23 characters truncated) ... e\": \"-23.65\", \"longitude\": \"146.63333\", \"airport_name\": \"Alpha\", \"country_name\": \"Australia\", \"phone_number\": null, \"timezone\": \"Australia/Brisbane\"}', 'param_1': 'ABH', 'param_2': 'Alpha', 'param_3': 'YAPH', 'param_4': '-23.65', 'param_5': '146.63333', 'param_6': '7668679', 'param_7': 'ABH', 'param_8': 'Australia', 'param_9': 'AU', 'param_10': 'Australia/Brisbane', 'param_11': '10', 'param_12': None, 'param_13': '{\"id\": \"3611014\", \"gmt\": \"10\", \"airport_id\": \"32\", \"iata_code\": \"ABH\", \"city_iata_code\": \"ABH\", \"icao_code\": \"YAPH\", \"country_iso2\": \"AU\", \"geoname_i ... (23 characters truncated) ... e\": \"-23.65\", \"longitude\": \"146.63333\", \"airport_name\": \"Alpha\", \"country_name\": \"Australia\", \"phone_number\": null, \"timezone\": \"Australia/Brisbane\"}'}\n"
     ]
    },
    {
     "name": "stdout",
     "output_type": "stream",
     "text": [
      "2025-05-05 16:40:15,611 INFO sqlalchemy.engine.Engine INSERT INTO airports (iata_code, airport_name, icao_code, latitude, longitude, geoname_id, city_iata_code, country_name, country_iso2, timezone, gmt, phone_number, raw_payload) VALUES (%(iata_code)s, %(airport_name)s, %(icao_code)s, %(latitude)s, %(longitude)s, %(geoname_id)s, %(city_iata_code)s, %(country_name)s, %(country_iso2)s, %(timezone)s, %(gmt)s, %(phone_number)s, %(raw_payload)s::JSONB) ON CONFLICT (iata_code) DO UPDATE SET iata_code = %(param_1)s, airport_name = %(param_2)s, icao_code = %(param_3)s, latitude = %(param_4)s, longitude = %(param_5)s, geoname_id = %(param_6)s, city_iata_code = %(param_7)s, country_name = %(param_8)s, country_iso2 = %(param_9)s, timezone = %(param_10)s, gmt = %(param_11)s, phone_number = %(param_12)s, raw_payload = %(param_13)s::JSONB\n"
     ]
    },
    {
     "name": "stderr",
     "output_type": "stream",
     "text": [
      "2025-05-05 16:40:15,611 - sqlalchemy.engine.Engine - INFO - INSERT INTO airports (iata_code, airport_name, icao_code, latitude, longitude, geoname_id, city_iata_code, country_name, country_iso2, timezone, gmt, phone_number, raw_payload) VALUES (%(iata_code)s, %(airport_name)s, %(icao_code)s, %(latitude)s, %(longitude)s, %(geoname_id)s, %(city_iata_code)s, %(country_name)s, %(country_iso2)s, %(timezone)s, %(gmt)s, %(phone_number)s, %(raw_payload)s::JSONB) ON CONFLICT (iata_code) DO UPDATE SET iata_code = %(param_1)s, airport_name = %(param_2)s, icao_code = %(param_3)s, latitude = %(param_4)s, longitude = %(param_5)s, geoname_id = %(param_6)s, city_iata_code = %(param_7)s, country_name = %(param_8)s, country_iso2 = %(param_9)s, timezone = %(param_10)s, gmt = %(param_11)s, phone_number = %(param_12)s, raw_payload = %(param_13)s::JSONB\n"
     ]
    },
    {
     "name": "stdout",
     "output_type": "stream",
     "text": [
      "2025-05-05 16:40:15,613 INFO sqlalchemy.engine.Engine [no key 0.00183s] {'iata_code': 'ABI', 'airport_name': 'Municipal', 'icao_code': 'KABI', 'latitude': '32.409443', 'longitude': '-99.679726', 'geoname_id': '4669647', 'city_iata_code': 'ABI', 'country_name': 'United States', 'country_iso2': 'US', 'timezone': 'America/Chicago', 'gmt': '-6', 'phone_number': None, 'raw_payload': '{\"id\": \"3611015\", \"gmt\": \"-6\", \"airport_id\": \"33\", \"iata_code\": \"ABI\", \"city_iata_code\": \"ABI\", \"icao_code\": \"KABI\", \"country_iso2\": \"US\", \"geoname_i ... (32 characters truncated) ... 09443\", \"longitude\": \"-99.679726\", \"airport_name\": \"Municipal\", \"country_name\": \"United States\", \"phone_number\": null, \"timezone\": \"America/Chicago\"}', 'param_1': 'ABI', 'param_2': 'Municipal', 'param_3': 'KABI', 'param_4': '32.409443', 'param_5': '-99.679726', 'param_6': '4669647', 'param_7': 'ABI', 'param_8': 'United States', 'param_9': 'US', 'param_10': 'America/Chicago', 'param_11': '-6', 'param_12': None, 'param_13': '{\"id\": \"3611015\", \"gmt\": \"-6\", \"airport_id\": \"33\", \"iata_code\": \"ABI\", \"city_iata_code\": \"ABI\", \"icao_code\": \"KABI\", \"country_iso2\": \"US\", \"geoname_i ... (32 characters truncated) ... 09443\", \"longitude\": \"-99.679726\", \"airport_name\": \"Municipal\", \"country_name\": \"United States\", \"phone_number\": null, \"timezone\": \"America/Chicago\"}'}\n"
     ]
    },
    {
     "name": "stderr",
     "output_type": "stream",
     "text": [
      "2025-05-05 16:40:15,613 - sqlalchemy.engine.Engine - INFO - [no key 0.00183s] {'iata_code': 'ABI', 'airport_name': 'Municipal', 'icao_code': 'KABI', 'latitude': '32.409443', 'longitude': '-99.679726', 'geoname_id': '4669647', 'city_iata_code': 'ABI', 'country_name': 'United States', 'country_iso2': 'US', 'timezone': 'America/Chicago', 'gmt': '-6', 'phone_number': None, 'raw_payload': '{\"id\": \"3611015\", \"gmt\": \"-6\", \"airport_id\": \"33\", \"iata_code\": \"ABI\", \"city_iata_code\": \"ABI\", \"icao_code\": \"KABI\", \"country_iso2\": \"US\", \"geoname_i ... (32 characters truncated) ... 09443\", \"longitude\": \"-99.679726\", \"airport_name\": \"Municipal\", \"country_name\": \"United States\", \"phone_number\": null, \"timezone\": \"America/Chicago\"}', 'param_1': 'ABI', 'param_2': 'Municipal', 'param_3': 'KABI', 'param_4': '32.409443', 'param_5': '-99.679726', 'param_6': '4669647', 'param_7': 'ABI', 'param_8': 'United States', 'param_9': 'US', 'param_10': 'America/Chicago', 'param_11': '-6', 'param_12': None, 'param_13': '{\"id\": \"3611015\", \"gmt\": \"-6\", \"airport_id\": \"33\", \"iata_code\": \"ABI\", \"city_iata_code\": \"ABI\", \"icao_code\": \"KABI\", \"country_iso2\": \"US\", \"geoname_i ... (32 characters truncated) ... 09443\", \"longitude\": \"-99.679726\", \"airport_name\": \"Municipal\", \"country_name\": \"United States\", \"phone_number\": null, \"timezone\": \"America/Chicago\"}'}\n"
     ]
    },
    {
     "name": "stdout",
     "output_type": "stream",
     "text": [
      "2025-05-05 16:40:15,617 INFO sqlalchemy.engine.Engine INSERT INTO airports (iata_code, airport_name, icao_code, latitude, longitude, geoname_id, city_iata_code, country_name, country_iso2, timezone, gmt, phone_number, raw_payload) VALUES (%(iata_code)s, %(airport_name)s, %(icao_code)s, %(latitude)s, %(longitude)s, %(geoname_id)s, %(city_iata_code)s, %(country_name)s, %(country_iso2)s, %(timezone)s, %(gmt)s, %(phone_number)s, %(raw_payload)s::JSONB) ON CONFLICT (iata_code) DO UPDATE SET iata_code = %(param_1)s, airport_name = %(param_2)s, icao_code = %(param_3)s, latitude = %(param_4)s, longitude = %(param_5)s, geoname_id = %(param_6)s, city_iata_code = %(param_7)s, country_name = %(param_8)s, country_iso2 = %(param_9)s, timezone = %(param_10)s, gmt = %(param_11)s, phone_number = %(param_12)s, raw_payload = %(param_13)s::JSONB\n"
     ]
    },
    {
     "name": "stderr",
     "output_type": "stream",
     "text": [
      "2025-05-05 16:40:15,617 - sqlalchemy.engine.Engine - INFO - INSERT INTO airports (iata_code, airport_name, icao_code, latitude, longitude, geoname_id, city_iata_code, country_name, country_iso2, timezone, gmt, phone_number, raw_payload) VALUES (%(iata_code)s, %(airport_name)s, %(icao_code)s, %(latitude)s, %(longitude)s, %(geoname_id)s, %(city_iata_code)s, %(country_name)s, %(country_iso2)s, %(timezone)s, %(gmt)s, %(phone_number)s, %(raw_payload)s::JSONB) ON CONFLICT (iata_code) DO UPDATE SET iata_code = %(param_1)s, airport_name = %(param_2)s, icao_code = %(param_3)s, latitude = %(param_4)s, longitude = %(param_5)s, geoname_id = %(param_6)s, city_iata_code = %(param_7)s, country_name = %(param_8)s, country_iso2 = %(param_9)s, timezone = %(param_10)s, gmt = %(param_11)s, phone_number = %(param_12)s, raw_payload = %(param_13)s::JSONB\n"
     ]
    },
    {
     "name": "stdout",
     "output_type": "stream",
     "text": [
      "2025-05-05 16:40:15,618 INFO sqlalchemy.engine.Engine [no key 0.00188s] {'iata_code': 'ABJ', 'airport_name': 'Felix Houphouet Boigny', 'icao_code': 'DIAP', 'latitude': '5.254879', 'longitude': '-3.933015', 'geoname_id': '6296433', 'city_iata_code': 'ABJ', 'country_name': None, 'country_iso2': 'CI', 'timezone': 'Africa/Abidjan', 'gmt': None, 'phone_number': None, 'raw_payload': '{\"id\": \"3611016\", \"gmt\": null, \"airport_id\": \"34\", \"iata_code\": \"ABJ\", \"city_iata_code\": \"ABJ\", \"icao_code\": \"DIAP\", \"country_iso2\": \"CI\", \"geoname_i ... (31 characters truncated) ... 54879\", \"longitude\": \"-3.933015\", \"airport_name\": \"Felix Houphouet Boigny\", \"country_name\": null, \"phone_number\": null, \"timezone\": \"Africa/Abidjan\"}', 'param_1': 'ABJ', 'param_2': 'Felix Houphouet Boigny', 'param_3': 'DIAP', 'param_4': '5.254879', 'param_5': '-3.933015', 'param_6': '6296433', 'param_7': 'ABJ', 'param_8': None, 'param_9': 'CI', 'param_10': 'Africa/Abidjan', 'param_11': None, 'param_12': None, 'param_13': '{\"id\": \"3611016\", \"gmt\": null, \"airport_id\": \"34\", \"iata_code\": \"ABJ\", \"city_iata_code\": \"ABJ\", \"icao_code\": \"DIAP\", \"country_iso2\": \"CI\", \"geoname_i ... (31 characters truncated) ... 54879\", \"longitude\": \"-3.933015\", \"airport_name\": \"Felix Houphouet Boigny\", \"country_name\": null, \"phone_number\": null, \"timezone\": \"Africa/Abidjan\"}'}\n"
     ]
    },
    {
     "name": "stderr",
     "output_type": "stream",
     "text": [
      "2025-05-05 16:40:15,618 - sqlalchemy.engine.Engine - INFO - [no key 0.00188s] {'iata_code': 'ABJ', 'airport_name': 'Felix Houphouet Boigny', 'icao_code': 'DIAP', 'latitude': '5.254879', 'longitude': '-3.933015', 'geoname_id': '6296433', 'city_iata_code': 'ABJ', 'country_name': None, 'country_iso2': 'CI', 'timezone': 'Africa/Abidjan', 'gmt': None, 'phone_number': None, 'raw_payload': '{\"id\": \"3611016\", \"gmt\": null, \"airport_id\": \"34\", \"iata_code\": \"ABJ\", \"city_iata_code\": \"ABJ\", \"icao_code\": \"DIAP\", \"country_iso2\": \"CI\", \"geoname_i ... (31 characters truncated) ... 54879\", \"longitude\": \"-3.933015\", \"airport_name\": \"Felix Houphouet Boigny\", \"country_name\": null, \"phone_number\": null, \"timezone\": \"Africa/Abidjan\"}', 'param_1': 'ABJ', 'param_2': 'Felix Houphouet Boigny', 'param_3': 'DIAP', 'param_4': '5.254879', 'param_5': '-3.933015', 'param_6': '6296433', 'param_7': 'ABJ', 'param_8': None, 'param_9': 'CI', 'param_10': 'Africa/Abidjan', 'param_11': None, 'param_12': None, 'param_13': '{\"id\": \"3611016\", \"gmt\": null, \"airport_id\": \"34\", \"iata_code\": \"ABJ\", \"city_iata_code\": \"ABJ\", \"icao_code\": \"DIAP\", \"country_iso2\": \"CI\", \"geoname_i ... (31 characters truncated) ... 54879\", \"longitude\": \"-3.933015\", \"airport_name\": \"Felix Houphouet Boigny\", \"country_name\": null, \"phone_number\": null, \"timezone\": \"Africa/Abidjan\"}'}\n"
     ]
    },
    {
     "name": "stdout",
     "output_type": "stream",
     "text": [
      "2025-05-05 16:40:15,624 INFO sqlalchemy.engine.Engine INSERT INTO airports (iata_code, airport_name, icao_code, latitude, longitude, geoname_id, city_iata_code, country_name, country_iso2, timezone, gmt, phone_number, raw_payload) VALUES (%(iata_code)s, %(airport_name)s, %(icao_code)s, %(latitude)s, %(longitude)s, %(geoname_id)s, %(city_iata_code)s, %(country_name)s, %(country_iso2)s, %(timezone)s, %(gmt)s, %(phone_number)s, %(raw_payload)s::JSONB) ON CONFLICT (iata_code) DO UPDATE SET iata_code = %(param_1)s, airport_name = %(param_2)s, icao_code = %(param_3)s, latitude = %(param_4)s, longitude = %(param_5)s, geoname_id = %(param_6)s, city_iata_code = %(param_7)s, country_name = %(param_8)s, country_iso2 = %(param_9)s, timezone = %(param_10)s, gmt = %(param_11)s, phone_number = %(param_12)s, raw_payload = %(param_13)s::JSONB\n"
     ]
    },
    {
     "name": "stderr",
     "output_type": "stream",
     "text": [
      "2025-05-05 16:40:15,624 - sqlalchemy.engine.Engine - INFO - INSERT INTO airports (iata_code, airport_name, icao_code, latitude, longitude, geoname_id, city_iata_code, country_name, country_iso2, timezone, gmt, phone_number, raw_payload) VALUES (%(iata_code)s, %(airport_name)s, %(icao_code)s, %(latitude)s, %(longitude)s, %(geoname_id)s, %(city_iata_code)s, %(country_name)s, %(country_iso2)s, %(timezone)s, %(gmt)s, %(phone_number)s, %(raw_payload)s::JSONB) ON CONFLICT (iata_code) DO UPDATE SET iata_code = %(param_1)s, airport_name = %(param_2)s, icao_code = %(param_3)s, latitude = %(param_4)s, longitude = %(param_5)s, geoname_id = %(param_6)s, city_iata_code = %(param_7)s, country_name = %(param_8)s, country_iso2 = %(param_9)s, timezone = %(param_10)s, gmt = %(param_11)s, phone_number = %(param_12)s, raw_payload = %(param_13)s::JSONB\n"
     ]
    },
    {
     "name": "stdout",
     "output_type": "stream",
     "text": [
      "2025-05-05 16:40:15,625 INFO sqlalchemy.engine.Engine [no key 0.00094s] {'iata_code': 'ABK', 'airport_name': 'Kabri Dar', 'icao_code': 'HADK', 'latitude': '6.733889', 'longitude': '44.26611', 'geoname_id': '6297274', 'city_iata_code': 'ABK', 'country_name': 'Ethiopia', 'country_iso2': 'ET', 'timezone': 'Africa/Addis_Ababa', 'gmt': '3', 'phone_number': None, 'raw_payload': '{\"id\": \"3611017\", \"gmt\": \"3\", \"airport_id\": \"35\", \"iata_code\": \"ABK\", \"city_iata_code\": \"ABK\", \"icao_code\": \"HADK\", \"country_iso2\": \"ET\", \"geoname_id ... (26 characters truncated) ... \"6.733889\", \"longitude\": \"44.26611\", \"airport_name\": \"Kabri Dar\", \"country_name\": \"Ethiopia\", \"phone_number\": null, \"timezone\": \"Africa/Addis_Ababa\"}', 'param_1': 'ABK', 'param_2': 'Kabri Dar', 'param_3': 'HADK', 'param_4': '6.733889', 'param_5': '44.26611', 'param_6': '6297274', 'param_7': 'ABK', 'param_8': 'Ethiopia', 'param_9': 'ET', 'param_10': 'Africa/Addis_Ababa', 'param_11': '3', 'param_12': None, 'param_13': '{\"id\": \"3611017\", \"gmt\": \"3\", \"airport_id\": \"35\", \"iata_code\": \"ABK\", \"city_iata_code\": \"ABK\", \"icao_code\": \"HADK\", \"country_iso2\": \"ET\", \"geoname_id ... (26 characters truncated) ... \"6.733889\", \"longitude\": \"44.26611\", \"airport_name\": \"Kabri Dar\", \"country_name\": \"Ethiopia\", \"phone_number\": null, \"timezone\": \"Africa/Addis_Ababa\"}'}\n"
     ]
    },
    {
     "name": "stderr",
     "output_type": "stream",
     "text": [
      "2025-05-05 16:40:15,625 - sqlalchemy.engine.Engine - INFO - [no key 0.00094s] {'iata_code': 'ABK', 'airport_name': 'Kabri Dar', 'icao_code': 'HADK', 'latitude': '6.733889', 'longitude': '44.26611', 'geoname_id': '6297274', 'city_iata_code': 'ABK', 'country_name': 'Ethiopia', 'country_iso2': 'ET', 'timezone': 'Africa/Addis_Ababa', 'gmt': '3', 'phone_number': None, 'raw_payload': '{\"id\": \"3611017\", \"gmt\": \"3\", \"airport_id\": \"35\", \"iata_code\": \"ABK\", \"city_iata_code\": \"ABK\", \"icao_code\": \"HADK\", \"country_iso2\": \"ET\", \"geoname_id ... (26 characters truncated) ... \"6.733889\", \"longitude\": \"44.26611\", \"airport_name\": \"Kabri Dar\", \"country_name\": \"Ethiopia\", \"phone_number\": null, \"timezone\": \"Africa/Addis_Ababa\"}', 'param_1': 'ABK', 'param_2': 'Kabri Dar', 'param_3': 'HADK', 'param_4': '6.733889', 'param_5': '44.26611', 'param_6': '6297274', 'param_7': 'ABK', 'param_8': 'Ethiopia', 'param_9': 'ET', 'param_10': 'Africa/Addis_Ababa', 'param_11': '3', 'param_12': None, 'param_13': '{\"id\": \"3611017\", \"gmt\": \"3\", \"airport_id\": \"35\", \"iata_code\": \"ABK\", \"city_iata_code\": \"ABK\", \"icao_code\": \"HADK\", \"country_iso2\": \"ET\", \"geoname_id ... (26 characters truncated) ... \"6.733889\", \"longitude\": \"44.26611\", \"airport_name\": \"Kabri Dar\", \"country_name\": \"Ethiopia\", \"phone_number\": null, \"timezone\": \"Africa/Addis_Ababa\"}'}\n"
     ]
    },
    {
     "name": "stdout",
     "output_type": "stream",
     "text": [
      "2025-05-05 16:40:15,627 INFO sqlalchemy.engine.Engine INSERT INTO airports (iata_code, airport_name, icao_code, latitude, longitude, geoname_id, city_iata_code, country_name, country_iso2, timezone, gmt, phone_number, raw_payload) VALUES (%(iata_code)s, %(airport_name)s, %(icao_code)s, %(latitude)s, %(longitude)s, %(geoname_id)s, %(city_iata_code)s, %(country_name)s, %(country_iso2)s, %(timezone)s, %(gmt)s, %(phone_number)s, %(raw_payload)s::JSONB) ON CONFLICT (iata_code) DO UPDATE SET iata_code = %(param_1)s, airport_name = %(param_2)s, icao_code = %(param_3)s, latitude = %(param_4)s, longitude = %(param_5)s, geoname_id = %(param_6)s, city_iata_code = %(param_7)s, country_name = %(param_8)s, country_iso2 = %(param_9)s, timezone = %(param_10)s, gmt = %(param_11)s, phone_number = %(param_12)s, raw_payload = %(param_13)s::JSONB\n"
     ]
    },
    {
     "name": "stderr",
     "output_type": "stream",
     "text": [
      "2025-05-05 16:40:15,627 - sqlalchemy.engine.Engine - INFO - INSERT INTO airports (iata_code, airport_name, icao_code, latitude, longitude, geoname_id, city_iata_code, country_name, country_iso2, timezone, gmt, phone_number, raw_payload) VALUES (%(iata_code)s, %(airport_name)s, %(icao_code)s, %(latitude)s, %(longitude)s, %(geoname_id)s, %(city_iata_code)s, %(country_name)s, %(country_iso2)s, %(timezone)s, %(gmt)s, %(phone_number)s, %(raw_payload)s::JSONB) ON CONFLICT (iata_code) DO UPDATE SET iata_code = %(param_1)s, airport_name = %(param_2)s, icao_code = %(param_3)s, latitude = %(param_4)s, longitude = %(param_5)s, geoname_id = %(param_6)s, city_iata_code = %(param_7)s, country_name = %(param_8)s, country_iso2 = %(param_9)s, timezone = %(param_10)s, gmt = %(param_11)s, phone_number = %(param_12)s, raw_payload = %(param_13)s::JSONB\n"
     ]
    },
    {
     "name": "stdout",
     "output_type": "stream",
     "text": [
      "2025-05-05 16:40:15,627 INFO sqlalchemy.engine.Engine [no key 0.00058s] {'iata_code': 'ABL', 'airport_name': 'Ambler', 'icao_code': 'PAFM', 'latitude': '67.0875', 'longitude': '-157.84584', 'geoname_id': '5879298', 'city_iata_code': 'ABL', 'country_name': 'United States', 'country_iso2': 'US', 'timezone': 'America/Anchorage', 'gmt': '-9', 'phone_number': None, 'raw_payload': '{\"id\": \"3611018\", \"gmt\": \"-9\", \"airport_id\": \"36\", \"iata_code\": \"ABL\", \"city_iata_code\": \"ABL\", \"icao_code\": \"PAFM\", \"country_iso2\": \"US\", \"geoname_i ... (29 characters truncated) ... 7.0875\", \"longitude\": \"-157.84584\", \"airport_name\": \"Ambler\", \"country_name\": \"United States\", \"phone_number\": null, \"timezone\": \"America/Anchorage\"}', 'param_1': 'ABL', 'param_2': 'Ambler', 'param_3': 'PAFM', 'param_4': '67.0875', 'param_5': '-157.84584', 'param_6': '5879298', 'param_7': 'ABL', 'param_8': 'United States', 'param_9': 'US', 'param_10': 'America/Anchorage', 'param_11': '-9', 'param_12': None, 'param_13': '{\"id\": \"3611018\", \"gmt\": \"-9\", \"airport_id\": \"36\", \"iata_code\": \"ABL\", \"city_iata_code\": \"ABL\", \"icao_code\": \"PAFM\", \"country_iso2\": \"US\", \"geoname_i ... (29 characters truncated) ... 7.0875\", \"longitude\": \"-157.84584\", \"airport_name\": \"Ambler\", \"country_name\": \"United States\", \"phone_number\": null, \"timezone\": \"America/Anchorage\"}'}\n"
     ]
    },
    {
     "name": "stderr",
     "output_type": "stream",
     "text": [
      "2025-05-05 16:40:15,627 - sqlalchemy.engine.Engine - INFO - [no key 0.00058s] {'iata_code': 'ABL', 'airport_name': 'Ambler', 'icao_code': 'PAFM', 'latitude': '67.0875', 'longitude': '-157.84584', 'geoname_id': '5879298', 'city_iata_code': 'ABL', 'country_name': 'United States', 'country_iso2': 'US', 'timezone': 'America/Anchorage', 'gmt': '-9', 'phone_number': None, 'raw_payload': '{\"id\": \"3611018\", \"gmt\": \"-9\", \"airport_id\": \"36\", \"iata_code\": \"ABL\", \"city_iata_code\": \"ABL\", \"icao_code\": \"PAFM\", \"country_iso2\": \"US\", \"geoname_i ... (29 characters truncated) ... 7.0875\", \"longitude\": \"-157.84584\", \"airport_name\": \"Ambler\", \"country_name\": \"United States\", \"phone_number\": null, \"timezone\": \"America/Anchorage\"}', 'param_1': 'ABL', 'param_2': 'Ambler', 'param_3': 'PAFM', 'param_4': '67.0875', 'param_5': '-157.84584', 'param_6': '5879298', 'param_7': 'ABL', 'param_8': 'United States', 'param_9': 'US', 'param_10': 'America/Anchorage', 'param_11': '-9', 'param_12': None, 'param_13': '{\"id\": \"3611018\", \"gmt\": \"-9\", \"airport_id\": \"36\", \"iata_code\": \"ABL\", \"city_iata_code\": \"ABL\", \"icao_code\": \"PAFM\", \"country_iso2\": \"US\", \"geoname_i ... (29 characters truncated) ... 7.0875\", \"longitude\": \"-157.84584\", \"airport_name\": \"Ambler\", \"country_name\": \"United States\", \"phone_number\": null, \"timezone\": \"America/Anchorage\"}'}\n"
     ]
    },
    {
     "name": "stdout",
     "output_type": "stream",
     "text": [
      "2025-05-05 16:40:15,629 INFO sqlalchemy.engine.Engine INSERT INTO airports (iata_code, airport_name, icao_code, latitude, longitude, geoname_id, city_iata_code, country_name, country_iso2, timezone, gmt, phone_number, raw_payload) VALUES (%(iata_code)s, %(airport_name)s, %(icao_code)s, %(latitude)s, %(longitude)s, %(geoname_id)s, %(city_iata_code)s, %(country_name)s, %(country_iso2)s, %(timezone)s, %(gmt)s, %(phone_number)s, %(raw_payload)s::JSONB) ON CONFLICT (iata_code) DO UPDATE SET iata_code = %(param_1)s, airport_name = %(param_2)s, icao_code = %(param_3)s, latitude = %(param_4)s, longitude = %(param_5)s, geoname_id = %(param_6)s, city_iata_code = %(param_7)s, country_name = %(param_8)s, country_iso2 = %(param_9)s, timezone = %(param_10)s, gmt = %(param_11)s, phone_number = %(param_12)s, raw_payload = %(param_13)s::JSONB\n"
     ]
    },
    {
     "name": "stderr",
     "output_type": "stream",
     "text": [
      "2025-05-05 16:40:15,629 - sqlalchemy.engine.Engine - INFO - INSERT INTO airports (iata_code, airport_name, icao_code, latitude, longitude, geoname_id, city_iata_code, country_name, country_iso2, timezone, gmt, phone_number, raw_payload) VALUES (%(iata_code)s, %(airport_name)s, %(icao_code)s, %(latitude)s, %(longitude)s, %(geoname_id)s, %(city_iata_code)s, %(country_name)s, %(country_iso2)s, %(timezone)s, %(gmt)s, %(phone_number)s, %(raw_payload)s::JSONB) ON CONFLICT (iata_code) DO UPDATE SET iata_code = %(param_1)s, airport_name = %(param_2)s, icao_code = %(param_3)s, latitude = %(param_4)s, longitude = %(param_5)s, geoname_id = %(param_6)s, city_iata_code = %(param_7)s, country_name = %(param_8)s, country_iso2 = %(param_9)s, timezone = %(param_10)s, gmt = %(param_11)s, phone_number = %(param_12)s, raw_payload = %(param_13)s::JSONB\n"
     ]
    },
    {
     "name": "stdout",
     "output_type": "stream",
     "text": [
      "2025-05-05 16:40:15,630 INFO sqlalchemy.engine.Engine [no key 0.00112s] {'iata_code': 'ABM', 'airport_name': 'Bamaga Injinoo', 'icao_code': 'YBAM', 'latitude': '-10.942619', 'longitude': '142.45033', 'geoname_id': '7730800', 'city_iata_code': 'ABM', 'country_name': 'Australia', 'country_iso2': 'AU', 'timezone': 'Australia/Brisbane', 'gmt': '10', 'phone_number': None, 'raw_payload': '{\"id\": \"3611019\", \"gmt\": \"10\", \"airport_id\": \"37\", \"iata_code\": \"ABM\", \"city_iata_code\": \"ABM\", \"icao_code\": \"YBAM\", \"country_iso2\": \"AU\", \"geoname_i ... (36 characters truncated) ... 19\", \"longitude\": \"142.45033\", \"airport_name\": \"Bamaga Injinoo\", \"country_name\": \"Australia\", \"phone_number\": null, \"timezone\": \"Australia/Brisbane\"}', 'param_1': 'ABM', 'param_2': 'Bamaga Injinoo', 'param_3': 'YBAM', 'param_4': '-10.942619', 'param_5': '142.45033', 'param_6': '7730800', 'param_7': 'ABM', 'param_8': 'Australia', 'param_9': 'AU', 'param_10': 'Australia/Brisbane', 'param_11': '10', 'param_12': None, 'param_13': '{\"id\": \"3611019\", \"gmt\": \"10\", \"airport_id\": \"37\", \"iata_code\": \"ABM\", \"city_iata_code\": \"ABM\", \"icao_code\": \"YBAM\", \"country_iso2\": \"AU\", \"geoname_i ... (36 characters truncated) ... 19\", \"longitude\": \"142.45033\", \"airport_name\": \"Bamaga Injinoo\", \"country_name\": \"Australia\", \"phone_number\": null, \"timezone\": \"Australia/Brisbane\"}'}\n"
     ]
    },
    {
     "name": "stderr",
     "output_type": "stream",
     "text": [
      "2025-05-05 16:40:15,630 - sqlalchemy.engine.Engine - INFO - [no key 0.00112s] {'iata_code': 'ABM', 'airport_name': 'Bamaga Injinoo', 'icao_code': 'YBAM', 'latitude': '-10.942619', 'longitude': '142.45033', 'geoname_id': '7730800', 'city_iata_code': 'ABM', 'country_name': 'Australia', 'country_iso2': 'AU', 'timezone': 'Australia/Brisbane', 'gmt': '10', 'phone_number': None, 'raw_payload': '{\"id\": \"3611019\", \"gmt\": \"10\", \"airport_id\": \"37\", \"iata_code\": \"ABM\", \"city_iata_code\": \"ABM\", \"icao_code\": \"YBAM\", \"country_iso2\": \"AU\", \"geoname_i ... (36 characters truncated) ... 19\", \"longitude\": \"142.45033\", \"airport_name\": \"Bamaga Injinoo\", \"country_name\": \"Australia\", \"phone_number\": null, \"timezone\": \"Australia/Brisbane\"}', 'param_1': 'ABM', 'param_2': 'Bamaga Injinoo', 'param_3': 'YBAM', 'param_4': '-10.942619', 'param_5': '142.45033', 'param_6': '7730800', 'param_7': 'ABM', 'param_8': 'Australia', 'param_9': 'AU', 'param_10': 'Australia/Brisbane', 'param_11': '10', 'param_12': None, 'param_13': '{\"id\": \"3611019\", \"gmt\": \"10\", \"airport_id\": \"37\", \"iata_code\": \"ABM\", \"city_iata_code\": \"ABM\", \"icao_code\": \"YBAM\", \"country_iso2\": \"AU\", \"geoname_i ... (36 characters truncated) ... 19\", \"longitude\": \"142.45033\", \"airport_name\": \"Bamaga Injinoo\", \"country_name\": \"Australia\", \"phone_number\": null, \"timezone\": \"Australia/Brisbane\"}'}\n"
     ]
    },
    {
     "name": "stdout",
     "output_type": "stream",
     "text": [
      "2025-05-05 16:40:15,635 INFO sqlalchemy.engine.Engine INSERT INTO airports (iata_code, airport_name, icao_code, latitude, longitude, geoname_id, city_iata_code, country_name, country_iso2, timezone, gmt, phone_number, raw_payload) VALUES (%(iata_code)s, %(airport_name)s, %(icao_code)s, %(latitude)s, %(longitude)s, %(geoname_id)s, %(city_iata_code)s, %(country_name)s, %(country_iso2)s, %(timezone)s, %(gmt)s, %(phone_number)s, %(raw_payload)s::JSONB) ON CONFLICT (iata_code) DO UPDATE SET iata_code = %(param_1)s, airport_name = %(param_2)s, icao_code = %(param_3)s, latitude = %(param_4)s, longitude = %(param_5)s, geoname_id = %(param_6)s, city_iata_code = %(param_7)s, country_name = %(param_8)s, country_iso2 = %(param_9)s, timezone = %(param_10)s, gmt = %(param_11)s, phone_number = %(param_12)s, raw_payload = %(param_13)s::JSONB\n"
     ]
    },
    {
     "name": "stderr",
     "output_type": "stream",
     "text": [
      "2025-05-05 16:40:15,635 - sqlalchemy.engine.Engine - INFO - INSERT INTO airports (iata_code, airport_name, icao_code, latitude, longitude, geoname_id, city_iata_code, country_name, country_iso2, timezone, gmt, phone_number, raw_payload) VALUES (%(iata_code)s, %(airport_name)s, %(icao_code)s, %(latitude)s, %(longitude)s, %(geoname_id)s, %(city_iata_code)s, %(country_name)s, %(country_iso2)s, %(timezone)s, %(gmt)s, %(phone_number)s, %(raw_payload)s::JSONB) ON CONFLICT (iata_code) DO UPDATE SET iata_code = %(param_1)s, airport_name = %(param_2)s, icao_code = %(param_3)s, latitude = %(param_4)s, longitude = %(param_5)s, geoname_id = %(param_6)s, city_iata_code = %(param_7)s, country_name = %(param_8)s, country_iso2 = %(param_9)s, timezone = %(param_10)s, gmt = %(param_11)s, phone_number = %(param_12)s, raw_payload = %(param_13)s::JSONB\n"
     ]
    },
    {
     "name": "stdout",
     "output_type": "stream",
     "text": [
      "2025-05-05 16:40:15,636 INFO sqlalchemy.engine.Engine [no key 0.00084s] {'iata_code': 'ABO', 'airport_name': 'Aboisso', 'icao_code': 'DIAO', 'latitude': '5.433333', 'longitude': '-3.216667', 'geoname_id': '8260695', 'city_iata_code': 'ABO', 'country_name': None, 'country_iso2': 'CI', 'timezone': 'Africa/Abidjan', 'gmt': None, 'phone_number': None, 'raw_payload': '{\"id\": \"3611021\", \"gmt\": null, \"airport_id\": \"39\", \"iata_code\": \"ABO\", \"city_iata_code\": \"ABO\", \"icao_code\": \"DIAO\", \"country_iso2\": \"CI\", \"geoname_i ... (16 characters truncated) ... latitude\": \"5.433333\", \"longitude\": \"-3.216667\", \"airport_name\": \"Aboisso\", \"country_name\": null, \"phone_number\": null, \"timezone\": \"Africa/Abidjan\"}', 'param_1': 'ABO', 'param_2': 'Aboisso', 'param_3': 'DIAO', 'param_4': '5.433333', 'param_5': '-3.216667', 'param_6': '8260695', 'param_7': 'ABO', 'param_8': None, 'param_9': 'CI', 'param_10': 'Africa/Abidjan', 'param_11': None, 'param_12': None, 'param_13': '{\"id\": \"3611021\", \"gmt\": null, \"airport_id\": \"39\", \"iata_code\": \"ABO\", \"city_iata_code\": \"ABO\", \"icao_code\": \"DIAO\", \"country_iso2\": \"CI\", \"geoname_i ... (16 characters truncated) ... latitude\": \"5.433333\", \"longitude\": \"-3.216667\", \"airport_name\": \"Aboisso\", \"country_name\": null, \"phone_number\": null, \"timezone\": \"Africa/Abidjan\"}'}\n"
     ]
    },
    {
     "name": "stderr",
     "output_type": "stream",
     "text": [
      "2025-05-05 16:40:15,636 - sqlalchemy.engine.Engine - INFO - [no key 0.00084s] {'iata_code': 'ABO', 'airport_name': 'Aboisso', 'icao_code': 'DIAO', 'latitude': '5.433333', 'longitude': '-3.216667', 'geoname_id': '8260695', 'city_iata_code': 'ABO', 'country_name': None, 'country_iso2': 'CI', 'timezone': 'Africa/Abidjan', 'gmt': None, 'phone_number': None, 'raw_payload': '{\"id\": \"3611021\", \"gmt\": null, \"airport_id\": \"39\", \"iata_code\": \"ABO\", \"city_iata_code\": \"ABO\", \"icao_code\": \"DIAO\", \"country_iso2\": \"CI\", \"geoname_i ... (16 characters truncated) ... latitude\": \"5.433333\", \"longitude\": \"-3.216667\", \"airport_name\": \"Aboisso\", \"country_name\": null, \"phone_number\": null, \"timezone\": \"Africa/Abidjan\"}', 'param_1': 'ABO', 'param_2': 'Aboisso', 'param_3': 'DIAO', 'param_4': '5.433333', 'param_5': '-3.216667', 'param_6': '8260695', 'param_7': 'ABO', 'param_8': None, 'param_9': 'CI', 'param_10': 'Africa/Abidjan', 'param_11': None, 'param_12': None, 'param_13': '{\"id\": \"3611021\", \"gmt\": null, \"airport_id\": \"39\", \"iata_code\": \"ABO\", \"city_iata_code\": \"ABO\", \"icao_code\": \"DIAO\", \"country_iso2\": \"CI\", \"geoname_i ... (16 characters truncated) ... latitude\": \"5.433333\", \"longitude\": \"-3.216667\", \"airport_name\": \"Aboisso\", \"country_name\": null, \"phone_number\": null, \"timezone\": \"Africa/Abidjan\"}'}\n"
     ]
    },
    {
     "name": "stdout",
     "output_type": "stream",
     "text": [
      "2025-05-05 16:40:15,638 INFO sqlalchemy.engine.Engine COMMIT\n"
     ]
    },
    {
     "name": "stderr",
     "output_type": "stream",
     "text": [
      "2025-05-05 16:40:15,638 - sqlalchemy.engine.Engine - INFO - COMMIT\n",
      "2025-05-05 16:40:15,642 - scripts.flight_data_processor - INFO - Processed 10 airport records\n"
     ]
    },
    {
     "name": "stdout",
     "output_type": "stream",
     "text": [
      "Batch processed.\n",
      "Waiting before next call...\n",
      "[AIRPORTS] Finished testing. Fetched approx 30 records, processed approx 30.\n",
      "\n",
      "[ROUTES] Testing Endpoint...\n",
      "-- Routes Call 1/3 (Offset: 0) --\n"
     ]
    },
    {
     "name": "stderr",
     "output_type": "stream",
     "text": [
      "2025-05-05 16:40:18,031 - scripts.flight_data_processor - ERROR - Request failed (attempt 1/3): 403 Client Error: Forbidden for url: https://api.aviationstack.com/v1/routes?limit=10&offset=0&access_key=326d0f100b4be2a5f900ec713da1bafb\n",
      "2025-05-05 16:40:18,032 - scripts.flight_data_processor - INFO - Retrying in 2 seconds...\n",
      "2025-05-05 16:40:20,913 - scripts.flight_data_processor - ERROR - Request failed (attempt 2/3): 403 Client Error: Forbidden for url: https://api.aviationstack.com/v1/routes?limit=10&offset=0&access_key=326d0f100b4be2a5f900ec713da1bafb\n",
      "2025-05-05 16:40:20,914 - scripts.flight_data_processor - INFO - Retrying in 4 seconds...\n",
      "2025-05-05 16:40:25,805 - scripts.flight_data_processor - ERROR - Request failed (attempt 3/3): 403 Client Error: Forbidden for url: https://api.aviationstack.com/v1/routes?limit=10&offset=0&access_key=326d0f100b4be2a5f900ec713da1bafb\n",
      "2025-05-05 16:40:25,806 - scripts.flight_data_processor - ERROR - Max retries exceeded\n"
     ]
    },
    {
     "name": "stdout",
     "output_type": "stream",
     "text": [
      "Error during API call: 403 Client Error: Forbidden for url: https://api.aviationstack.com/v1/routes?limit=10&offset=0&access_key=326d0f100b4be2a5f900ec713da1bafb\n",
      "Waiting before next call...\n",
      "-- Routes Call 2/3 (Offset: 10) --\n"
     ]
    },
    {
     "name": "stderr",
     "output_type": "stream",
     "text": [
      "2025-05-05 16:40:28,173 - scripts.flight_data_processor - ERROR - Request failed (attempt 1/3): 403 Client Error: Forbidden for url: https://api.aviationstack.com/v1/routes?limit=10&offset=10&access_key=326d0f100b4be2a5f900ec713da1bafb\n",
      "2025-05-05 16:40:28,174 - scripts.flight_data_processor - INFO - Retrying in 2 seconds...\n",
      "2025-05-05 16:40:31,118 - scripts.flight_data_processor - ERROR - Request failed (attempt 2/3): 403 Client Error: Forbidden for url: https://api.aviationstack.com/v1/routes?limit=10&offset=10&access_key=326d0f100b4be2a5f900ec713da1bafb\n",
      "2025-05-05 16:40:31,119 - scripts.flight_data_processor - INFO - Retrying in 4 seconds...\n",
      "2025-05-05 16:40:36,035 - scripts.flight_data_processor - ERROR - Request failed (attempt 3/3): 403 Client Error: Forbidden for url: https://api.aviationstack.com/v1/routes?limit=10&offset=10&access_key=326d0f100b4be2a5f900ec713da1bafb\n",
      "2025-05-05 16:40:36,036 - scripts.flight_data_processor - ERROR - Max retries exceeded\n"
     ]
    },
    {
     "name": "stdout",
     "output_type": "stream",
     "text": [
      "Error during API call: 403 Client Error: Forbidden for url: https://api.aviationstack.com/v1/routes?limit=10&offset=10&access_key=326d0f100b4be2a5f900ec713da1bafb\n",
      "Waiting before next call...\n",
      "-- Routes Call 3/3 (Offset: 20) --\n"
     ]
    },
    {
     "name": "stderr",
     "output_type": "stream",
     "text": [
      "2025-05-05 16:40:38,492 - scripts.flight_data_processor - ERROR - Request failed (attempt 1/3): 403 Client Error: Forbidden for url: https://api.aviationstack.com/v1/routes?limit=10&offset=20&access_key=326d0f100b4be2a5f900ec713da1bafb\n",
      "2025-05-05 16:40:38,493 - scripts.flight_data_processor - INFO - Retrying in 2 seconds...\n",
      "2025-05-05 16:40:41,406 - scripts.flight_data_processor - ERROR - Request failed (attempt 2/3): 403 Client Error: Forbidden for url: https://api.aviationstack.com/v1/routes?limit=10&offset=20&access_key=326d0f100b4be2a5f900ec713da1bafb\n",
      "2025-05-05 16:40:41,407 - scripts.flight_data_processor - INFO - Retrying in 4 seconds...\n",
      "2025-05-05 16:40:46,283 - scripts.flight_data_processor - ERROR - Request failed (attempt 3/3): 403 Client Error: Forbidden for url: https://api.aviationstack.com/v1/routes?limit=10&offset=20&access_key=326d0f100b4be2a5f900ec713da1bafb\n",
      "2025-05-05 16:40:46,284 - scripts.flight_data_processor - ERROR - Max retries exceeded\n"
     ]
    },
    {
     "name": "stdout",
     "output_type": "stream",
     "text": [
      "Error during API call: 403 Client Error: Forbidden for url: https://api.aviationstack.com/v1/routes?limit=10&offset=20&access_key=326d0f100b4be2a5f900ec713da1bafb\n",
      "Waiting before next call...\n",
      "[ROUTES] Finished testing. Fetched approx 0 records, processed approx 0.\n",
      "\n",
      "--- TEST COMPLETED (Limited API Calls) ---\n",
      "Final database session closed.\n"
     ]
    }
   ],
   "source": [
    "# --- Test Parameters ---\n",
    "API_CALLS_PER_ENDPOINT = 3\n",
    "RESULTS_PER_CALL = 10 # Number of records to fetch per API call\n",
    "TEST_DATE = (datetime.now() - timedelta(days=2)).strftime(\"%Y-%m-%d\") # Use day before yesterday\n",
    "\n",
    "print(f\"--- Starting End-to-End Test ---\")\n",
    "print(f\"Testing with {API_CALLS_PER_ENDPOINT} API calls per endpoint.\")\n",
    "print(f\"Fetching {RESULTS_PER_CALL} results per call.\")\n",
    "print(f\"Using TEST_DATE = {TEST_DATE} for flights.\")\n",
    "\n",
    "# Ensure session is active (recreate if needed)\n",
    "# Note: process_*_data functions handle their own commits and potentially session closing.\n",
    "# We might need to reopen the session if one closes it unexpectedly.\n",
    "def get_session():\n",
    "    if not session.is_active:\n",
    "        print(\"Recreating database session...\")\n",
    "        NewSession = sessionmaker(bind=engine)\n",
    "        return NewSession()\n",
    "    return session\n",
    "\n",
    "current_session = get_session()\n",
    "\n",
    "try:\n",
    "    # --- Helper Function for Looped API Calls & Processing ---\n",
    "    def test_endpoint(endpoint_name, process_func, date=None):\n",
    "        print(f\"\\n[{endpoint_name.upper()}] Testing Endpoint...\")\n",
    "        all_data_for_endpoint = []\n",
    "        total_processed = 0\n",
    "        \n",
    "        for i in range(API_CALLS_PER_ENDPOINT):\n",
    "            offset = i * RESULTS_PER_CALL\n",
    "            print(f\"-- {endpoint_name} Call {i+1}/{API_CALLS_PER_ENDPOINT} (Offset: {offset}) --\")\n",
    "            \n",
    "            params = {\"limit\": RESULTS_PER_CALL, \"offset\": offset}\n",
    "            if date:\n",
    "                params[\"flight_date\"] = date\n",
    "                \n",
    "            # Make the API call\n",
    "            response_data = call_aviationstack(endpoint_name.lower(), params) # Use lower case for endpoint\n",
    "            \n",
    "            if response_data and \"error\" not in response_data:\n",
    "                batch_data = response_data.get(\"data\", [])\n",
    "                print(f\"API call successful. Fetched {len(batch_data)} records.\")\n",
    "                \n",
    "                if batch_data:\n",
    "                    all_data_for_endpoint.extend(batch_data)\n",
    "                    # Process this batch\n",
    "                    print(\"Processing batch...\")\n",
    "                    # Get a potentially fresh session if the previous process function closed it\n",
    "                    sess = get_session() \n",
    "                    # process_func should handle its own commit based on its implementation\n",
    "                    # If process_func returns count, capture it\n",
    "                    count = process_func(batch_data, sess) \n",
    "                    if isinstance(count, int): # process_flights_data returns count\n",
    "                         total_processed += count\n",
    "                    else: # Other process functions might not return count\n",
    "                         total_processed += len(batch_data) # Estimate processed\n",
    "                    print(\"Batch processed.\")\n",
    "                else:\n",
    "                    print(\"No more data found at this offset.\")\n",
    "                    # break # Optional: stop if API returns empty list early\n",
    "            else:\n",
    "                print(f\"Error during API call: {response_data.get('error', 'Unknown error')}\")\n",
    "                # break # Optional: stop if there's an error\n",
    "\n",
    "            # Delay between API calls\n",
    "            print(\"Waiting before next call...\")\n",
    "            time.sleep(1.5) # Be respectful of API limits\n",
    "\n",
    "        print(f\"[{endpoint_name.upper()}] Finished testing. Fetched approx {len(all_data_for_endpoint)} records, processed approx {total_processed}.\")\n",
    "        return all_data_for_endpoint\n",
    "\n",
    "    # --- Execute Tests for Each Endpoint ---\n",
    "    # test_endpoint(\"Airlines\", process_airlines_data)\n",
    "    # test_endpoint(\"Airports\", process_airports_data)\n",
    "    test_endpoint(\"Routes\", process_routes_data)\n",
    "    test_endpoint(\"Flights\", process_flights_data, date=TEST_DATE)\n",
    "\n",
    "except Exception as e:\n",
    "    print(f\"\\n--- TEST FAILED ---\")\n",
    "    print(f\"An error occurred during the test: {str(e)}\")\n",
    "    # Rollback might not be needed if process_func handles its transactions,\n",
    "    # but doesn't hurt if session is still active.\n",
    "    if current_session.is_active:\n",
    "         current_session.rollback()\n",
    "else:\n",
    "     print(f\"\\n--- TEST COMPLETED (Limited API Calls) ---\")\n",
    "finally:\n",
    "    # Ensure the session is closed at the very end\n",
    "    if 'current_session' in locals() and current_session.is_active:\n",
    "        current_session.close()\n",
    "        print(\"Final database session closed.\")\n",
    "    else:\n",
    "        print(\"Session was already closed.\")"
   ]
  },
  {
   "cell_type": "code",
   "execution_count": null,
   "id": "50930473",
   "metadata": {},
   "outputs": [],
   "source": []
  },
  {
   "cell_type": "markdown",
   "id": "91815466",
   "metadata": {},
   "source": [
    "## Verification\n",
    "\n",
    "Let's query the database to see if data was inserted/updated by the limited test calls. The counts might be small due to the limited calls."
   ]
  },
  {
   "cell_type": "code",
   "execution_count": 9,
   "id": "82444298",
   "metadata": {},
   "outputs": [
    {
     "name": "stdout",
     "output_type": "stream",
     "text": [
      "--- Verifying Data in Database ---\n",
      "\n",
      "-- Airlines Table (Sample) --\n"
     ]
    },
    {
     "data": {
      "text/html": [
       "<div>\n",
       "<style scoped>\n",
       "    .dataframe tbody tr th:only-of-type {\n",
       "        vertical-align: middle;\n",
       "    }\n",
       "\n",
       "    .dataframe tbody tr th {\n",
       "        vertical-align: top;\n",
       "    }\n",
       "\n",
       "    .dataframe thead th {\n",
       "        text-align: right;\n",
       "    }\n",
       "</style>\n",
       "<table border=\"1\" class=\"dataframe\">\n",
       "  <thead>\n",
       "    <tr style=\"text-align: right;\">\n",
       "      <th></th>\n",
       "      <th>id</th>\n",
       "      <th>iata_code</th>\n",
       "      <th>airline_id</th>\n",
       "      <th>icao_code</th>\n",
       "      <th>iata_prefix_accounting</th>\n",
       "      <th>airline_name</th>\n",
       "      <th>callsign</th>\n",
       "      <th>country_name</th>\n",
       "      <th>country_iso2</th>\n",
       "      <th>date_founded</th>\n",
       "      <th>hub_code</th>\n",
       "      <th>fleet_size</th>\n",
       "      <th>fleet_average_age</th>\n",
       "      <th>status</th>\n",
       "      <th>type</th>\n",
       "      <th>raw_payload</th>\n",
       "    </tr>\n",
       "  </thead>\n",
       "  <tbody>\n",
       "    <tr>\n",
       "      <th>0</th>\n",
       "      <td>4598187</td>\n",
       "      <td>02</td>\n",
       "      <td>737</td>\n",
       "      <td>CPB</td>\n",
       "      <td>None</td>\n",
       "      <td>Corporate Express</td>\n",
       "      <td>PENTA</td>\n",
       "      <td>Canada</td>\n",
       "      <td>CA</td>\n",
       "      <td>NaN</td>\n",
       "      <td>None</td>\n",
       "      <td>NaN</td>\n",
       "      <td>NaN</td>\n",
       "      <td>unknown</td>\n",
       "      <td>None</td>\n",
       "      <td>{'id': '4598187', 'type': None, 'status': 'unk...</td>\n",
       "    </tr>\n",
       "    <tr>\n",
       "      <th>1</th>\n",
       "      <td>4598188</td>\n",
       "      <td>0A</td>\n",
       "      <td>738</td>\n",
       "      <td>GNT</td>\n",
       "      <td>None</td>\n",
       "      <td>Amber Air</td>\n",
       "      <td>GINTA</td>\n",
       "      <td>Lithuania</td>\n",
       "      <td>LT</td>\n",
       "      <td>NaN</td>\n",
       "      <td>VNO</td>\n",
       "      <td>NaN</td>\n",
       "      <td>NaN</td>\n",
       "      <td>historical</td>\n",
       "      <td>scheduled</td>\n",
       "      <td>{'id': '4598188', 'type': 'scheduled', 'status...</td>\n",
       "    </tr>\n",
       "    <tr>\n",
       "      <th>2</th>\n",
       "      <td>4597731</td>\n",
       "      <td>0B</td>\n",
       "      <td>281</td>\n",
       "      <td>BMS</td>\n",
       "      <td>475</td>\n",
       "      <td>Blue Air</td>\n",
       "      <td>BLUE MESSENGER</td>\n",
       "      <td>Romania</td>\n",
       "      <td>RO</td>\n",
       "      <td>2004.0</td>\n",
       "      <td>OTP</td>\n",
       "      <td>15.0</td>\n",
       "      <td>23.6</td>\n",
       "      <td>active</td>\n",
       "      <td>scheduled</td>\n",
       "      <td>{'id': '4597731', 'type': 'scheduled', 'status...</td>\n",
       "    </tr>\n",
       "    <tr>\n",
       "      <th>3</th>\n",
       "      <td>4598189</td>\n",
       "      <td>0C*</td>\n",
       "      <td>739</td>\n",
       "      <td>None</td>\n",
       "      <td>None</td>\n",
       "      <td>IBL Aviation Ltd</td>\n",
       "      <td>None</td>\n",
       "      <td>Mauritius</td>\n",
       "      <td>MU</td>\n",
       "      <td>NaN</td>\n",
       "      <td>None</td>\n",
       "      <td>NaN</td>\n",
       "      <td>NaN</td>\n",
       "      <td>historical</td>\n",
       "      <td>None</td>\n",
       "      <td>{'id': '4598189', 'type': None, 'status': 'his...</td>\n",
       "    </tr>\n",
       "    <tr>\n",
       "      <th>4</th>\n",
       "      <td>4598190</td>\n",
       "      <td>0J</td>\n",
       "      <td>740</td>\n",
       "      <td>PJZ</td>\n",
       "      <td>254</td>\n",
       "      <td>Premium Jet</td>\n",
       "      <td>PRIMEJET</td>\n",
       "      <td>Switzerland</td>\n",
       "      <td>CH</td>\n",
       "      <td>NaN</td>\n",
       "      <td>ZRH</td>\n",
       "      <td>NaN</td>\n",
       "      <td>NaN</td>\n",
       "      <td>active</td>\n",
       "      <td>private</td>\n",
       "      <td>{'id': '4598190', 'type': 'private', 'status':...</td>\n",
       "    </tr>\n",
       "    <tr>\n",
       "      <th>5</th>\n",
       "      <td>4598191</td>\n",
       "      <td>0J*</td>\n",
       "      <td>741</td>\n",
       "      <td>JCS</td>\n",
       "      <td>None</td>\n",
       "      <td>Jetclub</td>\n",
       "      <td>JETCLUB</td>\n",
       "      <td>Switzerland</td>\n",
       "      <td>CH</td>\n",
       "      <td>NaN</td>\n",
       "      <td>ZRH</td>\n",
       "      <td>NaN</td>\n",
       "      <td>NaN</td>\n",
       "      <td>historical</td>\n",
       "      <td>scheduled,charter</td>\n",
       "      <td>{'id': '4598191', 'type': 'scheduled,charter',...</td>\n",
       "    </tr>\n",
       "    <tr>\n",
       "      <th>6</th>\n",
       "      <td>4598192</td>\n",
       "      <td>0K</td>\n",
       "      <td>742</td>\n",
       "      <td>KRT</td>\n",
       "      <td>None</td>\n",
       "      <td>Aircompany Kokshetau</td>\n",
       "      <td>KOKTA</td>\n",
       "      <td>Kazakhstan</td>\n",
       "      <td>KZ</td>\n",
       "      <td>NaN</td>\n",
       "      <td>KOV</td>\n",
       "      <td>NaN</td>\n",
       "      <td>NaN</td>\n",
       "      <td>historical</td>\n",
       "      <td>scheduled</td>\n",
       "      <td>{'id': '4598192', 'type': 'scheduled', 'status...</td>\n",
       "    </tr>\n",
       "    <tr>\n",
       "      <th>7</th>\n",
       "      <td>4598193</td>\n",
       "      <td>0P</td>\n",
       "      <td>743</td>\n",
       "      <td>PPC</td>\n",
       "      <td>840</td>\n",
       "      <td>Palau Asia Pacific Air</td>\n",
       "      <td>None</td>\n",
       "      <td>Palau</td>\n",
       "      <td>PW</td>\n",
       "      <td>NaN</td>\n",
       "      <td>ROR</td>\n",
       "      <td>NaN</td>\n",
       "      <td>NaN</td>\n",
       "      <td>historical</td>\n",
       "      <td>scheduled</td>\n",
       "      <td>{'id': '4598193', 'type': 'scheduled', 'status...</td>\n",
       "    </tr>\n",
       "    <tr>\n",
       "      <th>8</th>\n",
       "      <td>4598194</td>\n",
       "      <td>0Q</td>\n",
       "      <td>744</td>\n",
       "      <td>HYD</td>\n",
       "      <td>None</td>\n",
       "      <td>Hydro - Quebec</td>\n",
       "      <td>None</td>\n",
       "      <td>None</td>\n",
       "      <td>None</td>\n",
       "      <td>NaN</td>\n",
       "      <td>None</td>\n",
       "      <td>NaN</td>\n",
       "      <td>NaN</td>\n",
       "      <td>active</td>\n",
       "      <td>None</td>\n",
       "      <td>{'id': '4598194', 'type': None, 'status': 'act...</td>\n",
       "    </tr>\n",
       "    <tr>\n",
       "      <th>9</th>\n",
       "      <td>4598028</td>\n",
       "      <td>0Q*</td>\n",
       "      <td>578</td>\n",
       "      <td>HYD</td>\n",
       "      <td>None</td>\n",
       "      <td>Hydro-Quebec</td>\n",
       "      <td>HYDRO</td>\n",
       "      <td>Canada</td>\n",
       "      <td>CA</td>\n",
       "      <td>NaN</td>\n",
       "      <td>YUL</td>\n",
       "      <td>3.0</td>\n",
       "      <td>16.1</td>\n",
       "      <td>active</td>\n",
       "      <td>government</td>\n",
       "      <td>{'id': '4598028', 'type': 'government', 'statu...</td>\n",
       "    </tr>\n",
       "  </tbody>\n",
       "</table>\n",
       "</div>"
      ],
      "text/plain": [
       "        id iata_code airline_id icao_code iata_prefix_accounting  \\\n",
       "0  4598187        02        737       CPB                   None   \n",
       "1  4598188        0A        738       GNT                   None   \n",
       "2  4597731        0B        281       BMS                    475   \n",
       "3  4598189       0C*        739      None                   None   \n",
       "4  4598190        0J        740       PJZ                    254   \n",
       "5  4598191       0J*        741       JCS                   None   \n",
       "6  4598192        0K        742       KRT                   None   \n",
       "7  4598193        0P        743       PPC                    840   \n",
       "8  4598194        0Q        744       HYD                   None   \n",
       "9  4598028       0Q*        578       HYD                   None   \n",
       "\n",
       "             airline_name        callsign country_name country_iso2  \\\n",
       "0       Corporate Express           PENTA       Canada           CA   \n",
       "1               Amber Air           GINTA    Lithuania           LT   \n",
       "2                Blue Air  BLUE MESSENGER      Romania           RO   \n",
       "3        IBL Aviation Ltd            None    Mauritius           MU   \n",
       "4             Premium Jet        PRIMEJET  Switzerland           CH   \n",
       "5                 Jetclub         JETCLUB  Switzerland           CH   \n",
       "6    Aircompany Kokshetau           KOKTA   Kazakhstan           KZ   \n",
       "7  Palau Asia Pacific Air            None        Palau           PW   \n",
       "8          Hydro - Quebec            None         None         None   \n",
       "9            Hydro-Quebec           HYDRO       Canada           CA   \n",
       "\n",
       "   date_founded hub_code  fleet_size  fleet_average_age      status  \\\n",
       "0           NaN     None         NaN                NaN     unknown   \n",
       "1           NaN      VNO         NaN                NaN  historical   \n",
       "2        2004.0      OTP        15.0               23.6      active   \n",
       "3           NaN     None         NaN                NaN  historical   \n",
       "4           NaN      ZRH         NaN                NaN      active   \n",
       "5           NaN      ZRH         NaN                NaN  historical   \n",
       "6           NaN      KOV         NaN                NaN  historical   \n",
       "7           NaN      ROR         NaN                NaN  historical   \n",
       "8           NaN     None         NaN                NaN      active   \n",
       "9           NaN      YUL         3.0               16.1      active   \n",
       "\n",
       "                type                                        raw_payload  \n",
       "0               None  {'id': '4598187', 'type': None, 'status': 'unk...  \n",
       "1          scheduled  {'id': '4598188', 'type': 'scheduled', 'status...  \n",
       "2          scheduled  {'id': '4597731', 'type': 'scheduled', 'status...  \n",
       "3               None  {'id': '4598189', 'type': None, 'status': 'his...  \n",
       "4            private  {'id': '4598190', 'type': 'private', 'status':...  \n",
       "5  scheduled,charter  {'id': '4598191', 'type': 'scheduled,charter',...  \n",
       "6          scheduled  {'id': '4598192', 'type': 'scheduled', 'status...  \n",
       "7          scheduled  {'id': '4598193', 'type': 'scheduled', 'status...  \n",
       "8               None  {'id': '4598194', 'type': None, 'status': 'act...  \n",
       "9         government  {'id': '4598028', 'type': 'government', 'statu...  "
      ]
     },
     "metadata": {},
     "output_type": "display_data"
    },
    {
     "name": "stdout",
     "output_type": "stream",
     "text": [
      "\n",
      "-- Airports Table (Sample) --\n"
     ]
    },
    {
     "data": {
      "text/html": [
       "<div>\n",
       "<style scoped>\n",
       "    .dataframe tbody tr th:only-of-type {\n",
       "        vertical-align: middle;\n",
       "    }\n",
       "\n",
       "    .dataframe tbody tr th {\n",
       "        vertical-align: top;\n",
       "    }\n",
       "\n",
       "    .dataframe thead th {\n",
       "        text-align: right;\n",
       "    }\n",
       "</style>\n",
       "<table border=\"1\" class=\"dataframe\">\n",
       "  <thead>\n",
       "    <tr style=\"text-align: right;\">\n",
       "      <th></th>\n",
       "      <th>iata_code</th>\n",
       "      <th>airport_name</th>\n",
       "      <th>icao_code</th>\n",
       "      <th>latitude</th>\n",
       "      <th>longitude</th>\n",
       "      <th>geoname_id</th>\n",
       "      <th>city_iata_code</th>\n",
       "      <th>country_name</th>\n",
       "      <th>country_iso2</th>\n",
       "      <th>timezone</th>\n",
       "      <th>gmt</th>\n",
       "      <th>phone_number</th>\n",
       "      <th>raw_payload</th>\n",
       "    </tr>\n",
       "  </thead>\n",
       "  <tbody>\n",
       "    <tr>\n",
       "      <th>0</th>\n",
       "      <td>AAA</td>\n",
       "      <td>Anaa</td>\n",
       "      <td>NTGA</td>\n",
       "      <td>-17.050000</td>\n",
       "      <td>-145.416670</td>\n",
       "      <td>6947726</td>\n",
       "      <td>AAA</td>\n",
       "      <td>French Polynesia</td>\n",
       "      <td>PF</td>\n",
       "      <td>Pacific/Tahiti</td>\n",
       "      <td>-10</td>\n",
       "      <td>None</td>\n",
       "      <td>{'id': '3610983', 'gmt': '-10', 'latitude': '-...</td>\n",
       "    </tr>\n",
       "    <tr>\n",
       "      <th>1</th>\n",
       "      <td>AAB</td>\n",
       "      <td>Arrabury</td>\n",
       "      <td>YARY</td>\n",
       "      <td>-26.700000</td>\n",
       "      <td>141.041670</td>\n",
       "      <td>7730796</td>\n",
       "      <td>AAB</td>\n",
       "      <td>Australia</td>\n",
       "      <td>AU</td>\n",
       "      <td>Australia/Brisbane</td>\n",
       "      <td>10</td>\n",
       "      <td>None</td>\n",
       "      <td>{'id': '3610984', 'gmt': '10', 'latitude': '-2...</td>\n",
       "    </tr>\n",
       "    <tr>\n",
       "      <th>2</th>\n",
       "      <td>AAC</td>\n",
       "      <td>El Arish International Airport</td>\n",
       "      <td>HEAR</td>\n",
       "      <td>31.133333</td>\n",
       "      <td>33.750000</td>\n",
       "      <td>6297289</td>\n",
       "      <td>AAC</td>\n",
       "      <td>Egypt</td>\n",
       "      <td>EG</td>\n",
       "      <td>Africa/Cairo</td>\n",
       "      <td>2</td>\n",
       "      <td>None</td>\n",
       "      <td>{'id': '3610985', 'gmt': '2', 'latitude': '31....</td>\n",
       "    </tr>\n",
       "    <tr>\n",
       "      <th>3</th>\n",
       "      <td>AAE</td>\n",
       "      <td>Les Salines</td>\n",
       "      <td>DABB</td>\n",
       "      <td>36.821392</td>\n",
       "      <td>7.811857</td>\n",
       "      <td>2570559</td>\n",
       "      <td>AAE</td>\n",
       "      <td>None</td>\n",
       "      <td>DZ</td>\n",
       "      <td>Africa/Algiers</td>\n",
       "      <td>1</td>\n",
       "      <td>None</td>\n",
       "      <td>{'id': '3610986', 'gmt': '1', 'latitude': '36....</td>\n",
       "    </tr>\n",
       "    <tr>\n",
       "      <th>4</th>\n",
       "      <td>AAF</td>\n",
       "      <td>Apalachicola Regional</td>\n",
       "      <td>KAAF</td>\n",
       "      <td>29.733334</td>\n",
       "      <td>-84.983330</td>\n",
       "      <td>4146153</td>\n",
       "      <td>AAF</td>\n",
       "      <td>United States</td>\n",
       "      <td>US</td>\n",
       "      <td>America/New_York</td>\n",
       "      <td>-5</td>\n",
       "      <td>None</td>\n",
       "      <td>{'id': '3610987', 'gmt': '-5', 'latitude': '29...</td>\n",
       "    </tr>\n",
       "    <tr>\n",
       "      <th>5</th>\n",
       "      <td>AAG</td>\n",
       "      <td>Arapoti</td>\n",
       "      <td>SSYA</td>\n",
       "      <td>-24.103611</td>\n",
       "      <td>-49.790000</td>\n",
       "      <td>3471795</td>\n",
       "      <td>AAG</td>\n",
       "      <td>Brazil</td>\n",
       "      <td>BR</td>\n",
       "      <td>America/Sao_Paulo</td>\n",
       "      <td>-3</td>\n",
       "      <td>None</td>\n",
       "      <td>{'id': '3610988', 'gmt': '-3', 'latitude': '-2...</td>\n",
       "    </tr>\n",
       "    <tr>\n",
       "      <th>6</th>\n",
       "      <td>AAH</td>\n",
       "      <td>Aachen/Merzbruck</td>\n",
       "      <td>EDKA</td>\n",
       "      <td>50.750000</td>\n",
       "      <td>6.133333</td>\n",
       "      <td>3207669</td>\n",
       "      <td>AAH</td>\n",
       "      <td>Germany</td>\n",
       "      <td>DE</td>\n",
       "      <td>Europe/Berlin</td>\n",
       "      <td>1</td>\n",
       "      <td>None</td>\n",
       "      <td>{'id': '3610989', 'gmt': '1', 'latitude': '50....</td>\n",
       "    </tr>\n",
       "    <tr>\n",
       "      <th>7</th>\n",
       "      <td>AAI</td>\n",
       "      <td>Arraias</td>\n",
       "      <td>SWRA</td>\n",
       "      <td>-12.916667</td>\n",
       "      <td>-46.933334</td>\n",
       "      <td>7668483</td>\n",
       "      <td>AAI</td>\n",
       "      <td>Brazil</td>\n",
       "      <td>BR</td>\n",
       "      <td>America/Araguaina</td>\n",
       "      <td>-3</td>\n",
       "      <td>None</td>\n",
       "      <td>{'id': '3610990', 'gmt': '-3', 'latitude': '-1...</td>\n",
       "    </tr>\n",
       "    <tr>\n",
       "      <th>8</th>\n",
       "      <td>AAK</td>\n",
       "      <td>Aranuka</td>\n",
       "      <td>NGUK</td>\n",
       "      <td>0.166667</td>\n",
       "      <td>173.583330</td>\n",
       "      <td>7521791</td>\n",
       "      <td>AAK</td>\n",
       "      <td>Kiribati</td>\n",
       "      <td>KI</td>\n",
       "      <td>Pacific/Tarawa</td>\n",
       "      <td>12</td>\n",
       "      <td>None</td>\n",
       "      <td>{'id': '3610992', 'gmt': '12', 'latitude': '0....</td>\n",
       "    </tr>\n",
       "    <tr>\n",
       "      <th>9</th>\n",
       "      <td>AAL</td>\n",
       "      <td>Aalborg</td>\n",
       "      <td>EKYT</td>\n",
       "      <td>57.086550</td>\n",
       "      <td>9.872241</td>\n",
       "      <td>2624887</td>\n",
       "      <td>AAL</td>\n",
       "      <td>Denmark</td>\n",
       "      <td>DK</td>\n",
       "      <td>Europe/Copenhagen</td>\n",
       "      <td>1</td>\n",
       "      <td>None</td>\n",
       "      <td>{'id': '3610993', 'gmt': '1', 'latitude': '57....</td>\n",
       "    </tr>\n",
       "  </tbody>\n",
       "</table>\n",
       "</div>"
      ],
      "text/plain": [
       "  iata_code                    airport_name icao_code   latitude   longitude  \\\n",
       "0       AAA                            Anaa      NTGA -17.050000 -145.416670   \n",
       "1       AAB                        Arrabury      YARY -26.700000  141.041670   \n",
       "2       AAC  El Arish International Airport      HEAR  31.133333   33.750000   \n",
       "3       AAE                     Les Salines      DABB  36.821392    7.811857   \n",
       "4       AAF           Apalachicola Regional      KAAF  29.733334  -84.983330   \n",
       "5       AAG                         Arapoti      SSYA -24.103611  -49.790000   \n",
       "6       AAH                Aachen/Merzbruck      EDKA  50.750000    6.133333   \n",
       "7       AAI                         Arraias      SWRA -12.916667  -46.933334   \n",
       "8       AAK                         Aranuka      NGUK   0.166667  173.583330   \n",
       "9       AAL                         Aalborg      EKYT  57.086550    9.872241   \n",
       "\n",
       "  geoname_id city_iata_code      country_name country_iso2  \\\n",
       "0    6947726            AAA  French Polynesia           PF   \n",
       "1    7730796            AAB         Australia           AU   \n",
       "2    6297289            AAC             Egypt           EG   \n",
       "3    2570559            AAE              None           DZ   \n",
       "4    4146153            AAF     United States           US   \n",
       "5    3471795            AAG            Brazil           BR   \n",
       "6    3207669            AAH           Germany           DE   \n",
       "7    7668483            AAI            Brazil           BR   \n",
       "8    7521791            AAK          Kiribati           KI   \n",
       "9    2624887            AAL           Denmark           DK   \n",
       "\n",
       "             timezone  gmt phone_number  \\\n",
       "0      Pacific/Tahiti  -10         None   \n",
       "1  Australia/Brisbane   10         None   \n",
       "2        Africa/Cairo    2         None   \n",
       "3      Africa/Algiers    1         None   \n",
       "4    America/New_York   -5         None   \n",
       "5   America/Sao_Paulo   -3         None   \n",
       "6       Europe/Berlin    1         None   \n",
       "7   America/Araguaina   -3         None   \n",
       "8      Pacific/Tarawa   12         None   \n",
       "9   Europe/Copenhagen    1         None   \n",
       "\n",
       "                                         raw_payload  \n",
       "0  {'id': '3610983', 'gmt': '-10', 'latitude': '-...  \n",
       "1  {'id': '3610984', 'gmt': '10', 'latitude': '-2...  \n",
       "2  {'id': '3610985', 'gmt': '2', 'latitude': '31....  \n",
       "3  {'id': '3610986', 'gmt': '1', 'latitude': '36....  \n",
       "4  {'id': '3610987', 'gmt': '-5', 'latitude': '29...  \n",
       "5  {'id': '3610988', 'gmt': '-3', 'latitude': '-2...  \n",
       "6  {'id': '3610989', 'gmt': '1', 'latitude': '50....  \n",
       "7  {'id': '3610990', 'gmt': '-3', 'latitude': '-1...  \n",
       "8  {'id': '3610992', 'gmt': '12', 'latitude': '0....  \n",
       "9  {'id': '3610993', 'gmt': '1', 'latitude': '57....  "
      ]
     },
     "metadata": {},
     "output_type": "display_data"
    },
    {
     "name": "stdout",
     "output_type": "stream",
     "text": [
      "\n",
      "-- Routes Table (Sample) --\n"
     ]
    },
    {
     "data": {
      "text/html": [
       "<div>\n",
       "<style scoped>\n",
       "    .dataframe tbody tr th:only-of-type {\n",
       "        vertical-align: middle;\n",
       "    }\n",
       "\n",
       "    .dataframe tbody tr th {\n",
       "        vertical-align: top;\n",
       "    }\n",
       "\n",
       "    .dataframe thead th {\n",
       "        text-align: right;\n",
       "    }\n",
       "</style>\n",
       "<table border=\"1\" class=\"dataframe\">\n",
       "  <thead>\n",
       "    <tr style=\"text-align: right;\">\n",
       "      <th></th>\n",
       "      <th>airline_iata</th>\n",
       "      <th>flight_number</th>\n",
       "      <th>departure_iata</th>\n",
       "      <th>arrival_iata</th>\n",
       "    </tr>\n",
       "  </thead>\n",
       "  <tbody>\n",
       "    <tr>\n",
       "      <th>0</th>\n",
       "      <td>0B</td>\n",
       "      <td>101</td>\n",
       "      <td>OTP</td>\n",
       "      <td>TRN</td>\n",
       "    </tr>\n",
       "    <tr>\n",
       "      <th>1</th>\n",
       "      <td>0B</td>\n",
       "      <td>1015</td>\n",
       "      <td>OTP</td>\n",
       "      <td>FCO</td>\n",
       "    </tr>\n",
       "    <tr>\n",
       "      <th>2</th>\n",
       "      <td>0B</td>\n",
       "      <td>1016</td>\n",
       "      <td>FCO</td>\n",
       "      <td>OTP</td>\n",
       "    </tr>\n",
       "    <tr>\n",
       "      <th>3</th>\n",
       "      <td>0B</td>\n",
       "      <td>102</td>\n",
       "      <td>TRN</td>\n",
       "      <td>OTP</td>\n",
       "    </tr>\n",
       "    <tr>\n",
       "      <th>4</th>\n",
       "      <td>0B</td>\n",
       "      <td>103</td>\n",
       "      <td>OTP</td>\n",
       "      <td>MAD</td>\n",
       "    </tr>\n",
       "    <tr>\n",
       "      <th>5</th>\n",
       "      <td>0B</td>\n",
       "      <td>1038</td>\n",
       "      <td>LCA</td>\n",
       "      <td>OTP</td>\n",
       "    </tr>\n",
       "    <tr>\n",
       "      <th>6</th>\n",
       "      <td>0B</td>\n",
       "      <td>104</td>\n",
       "      <td>MAD</td>\n",
       "      <td>OTP</td>\n",
       "    </tr>\n",
       "    <tr>\n",
       "      <th>7</th>\n",
       "      <td>0B</td>\n",
       "      <td>105</td>\n",
       "      <td>OTP</td>\n",
       "      <td>BVA</td>\n",
       "    </tr>\n",
       "    <tr>\n",
       "      <th>8</th>\n",
       "      <td>0B</td>\n",
       "      <td>106</td>\n",
       "      <td>BVA</td>\n",
       "      <td>OTP</td>\n",
       "    </tr>\n",
       "    <tr>\n",
       "      <th>9</th>\n",
       "      <td>0B</td>\n",
       "      <td>107</td>\n",
       "      <td>OTP</td>\n",
       "      <td>BCN</td>\n",
       "    </tr>\n",
       "  </tbody>\n",
       "</table>\n",
       "</div>"
      ],
      "text/plain": [
       "  airline_iata flight_number departure_iata arrival_iata\n",
       "0           0B           101            OTP          TRN\n",
       "1           0B          1015            OTP          FCO\n",
       "2           0B          1016            FCO          OTP\n",
       "3           0B           102            TRN          OTP\n",
       "4           0B           103            OTP          MAD\n",
       "5           0B          1038            LCA          OTP\n",
       "6           0B           104            MAD          OTP\n",
       "7           0B           105            OTP          BVA\n",
       "8           0B           106            BVA          OTP\n",
       "9           0B           107            OTP          BCN"
      ]
     },
     "metadata": {},
     "output_type": "display_data"
    },
    {
     "name": "stdout",
     "output_type": "stream",
     "text": [
      "\n",
      "-- Flights Table (Sample)--\n",
      "No flights found in the table.\n",
      "\n",
      "-- Record Counts --\n",
      "Total records in airlines: 13143\n",
      "Total records in airports: 6710\n",
      "\n",
      "--- Verification Complete ---\n"
     ]
    }
   ],
   "source": [
    "# --- Verification ---\n",
    "print(\"--- Verifying Data in Database ---\")\n",
    "\n",
    "# Recreate engine if needed for query\n",
    "engine = create_engine(DB_URL) \n",
    "\n",
    "try:\n",
    "    print(\"\\n-- Airlines Table (Sample) --\")\n",
    "    #airlines_df = pd.read_sql(\"SELECT iata_code, airline_name, country_name FROM airlines ORDER BY iata_code LIMIT 10\", engine)\n",
    "    airlines_df = pd.read_sql(\"SELECT * FROM airlines ORDER BY iata_code LIMIT 10\", engine)\n",
    "    display(airlines_df)\n",
    "\n",
    "    print(\"\\n-- Airports Table (Sample) --\")\n",
    "    airports_df = pd.read_sql(\"SELECT * FROM airports ORDER BY iata_code LIMIT 10\", engine)\n",
    "    display(airports_df)\n",
    "    \n",
    "    print(\"\\n-- Routes Table (Sample) --\")\n",
    "    routes_df = pd.read_sql(\"SELECT airline_iata, flight_number, departure_iata, arrival_iata FROM routes LIMIT 10\", engine)\n",
    "    if not routes_df.empty:\n",
    "        display(routes_df)\n",
    "    else:\n",
    "        print(\"No routes found in the table (might be expected with limited test data).\")\n",
    "\n",
    "    print(f\"\\n-- Flights Table (Sample)--\")\n",
    "    flights_df = pd.read_sql(f\"SELECT flight_date, flight_status, airline_name, flight_iata, departure_iata, arrival_iata FROM flights LIMIT 10\", engine)\n",
    "    if not flights_df.empty:\n",
    "        display(flights_df)\n",
    "    else:\n",
    "        print(f\"No flights found in the table.\")\n",
    "        \n",
    "    # Add counts\n",
    "    print(\"\\n-- Record Counts --\")\n",
    "    #for table in ['airlines', 'airports', 'routes', 'flights']:\n",
    "    for table in ['airlines', 'airports']:\n",
    "        count = pd.read_sql(f\"SELECT COUNT(*) as count FROM {table}\", engine).iloc[0]['count']\n",
    "        print(f\"Total records in {table}: {count}\")\n",
    "\n",
    "\n",
    "except Exception as e:\n",
    "    print(f\"\\nError during verification query: {str(e)}\")\n",
    "\n",
    "print(\"\\n--- Verification Complete ---\")"
   ]
  },
  {
   "cell_type": "code",
   "execution_count": null,
   "id": "73b26a01",
   "metadata": {},
   "outputs": [],
   "source": []
  },
  {
   "cell_type": "code",
   "execution_count": null,
   "id": "b3542c3c",
   "metadata": {},
   "outputs": [],
   "source": []
  }
 ],
 "metadata": {
  "kernelspec": {
   "display_name": "Python (flight-delay-env)",
   "language": "python",
   "name": "flight-delay-env"
  },
  "language_info": {
   "codemirror_mode": {
    "name": "ipython",
    "version": 3
   },
   "file_extension": ".py",
   "mimetype": "text/x-python",
   "name": "python",
   "nbconvert_exporter": "python",
   "pygments_lexer": "ipython3",
   "version": "3.10.16"
  }
 },
 "nbformat": 4,
 "nbformat_minor": 5
}
